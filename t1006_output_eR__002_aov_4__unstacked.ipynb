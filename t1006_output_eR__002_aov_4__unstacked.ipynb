{
 "cells": [
  {
   "cell_type": "markdown",
   "metadata": {},
   "source": [
    "# Useful links"
   ]
  },
  {
   "cell_type": "markdown",
   "metadata": {},
   "source": [
    "- [ ] https://cran.r-project.org/web/packages/afex/vignettes/introduction-mixed-models.pdf\n",
    "- [ ] https://cran.r-project.org/web/packages/afex/afex.pdf\n",
    "- [ ] https://cran.r-project.org/web/packages/afex/index.html\n",
    "- [ ] https://cran.r-project.org/web/packages/afex/vignettes/afex_analysing_accuracy_data.html\n",
    "- [ ] https://cran.r-project.org/web/packages/afex/vignettes/afex_anova_example.html\n",
    "- [ ] https://cran.r-project.org/web/packages/afex/vignettes/afex_mixed_example.html\n",
    "- [ ] https://cran.r-project.org/web/packages/emmeans/vignettes/comparisons.html\n",
    "- [ ] https://cran.r-project.org/web/packages/emmeans/vignettes/messy-data.html\n",
    "- [ ] https://cran.r-project.org/web/packages/emmeans/vignettes/interactions.html\n",
    "- [ ] https://cran.r-project.org/web/packages/emmeans/vignettes/basics.html\n",
    "- [ ] https://cran.r-project.org/web/packages/afex/vignettes/afex_mixed_example.html"
   ]
  },
  {
   "cell_type": "markdown",
   "metadata": {},
   "source": [
    "- [ ] https://osf.io/nfwx7/"
   ]
  },
  {
   "cell_type": "markdown",
   "metadata": {},
   "source": [
    "- [ ] https://stats.stackexchange.com/questions/13166/rs-lmer-cheat-sheet"
   ]
  },
  {
   "cell_type": "markdown",
   "metadata": {},
   "source": [
    "- [ ] https://psu-psychology.github.io/r-bootcamp-2018/index.html\n",
    "- [ ] http://tysonbarrett.com/EDUC-6600/Resources/Example_Ch15_rmANOVA.html\n",
    "- [ ] http://singmann.org/anova-in-r-afex-may-be-the-solution-you-are-looking-for/\n",
    "- [ ] https://ademos.people.uic.edu/Chapter21.html\n",
    "- [ ] https://www.psychologie.uni-heidelberg.de/ae/meth/team/mertens/blog/anova_in_r_made_easy.nb.html\n",
    "- [ ] http://tysonbarrett.com/EDUC-6600/Resources/Example_Ch15_rmANOVA.html"
   ]
  },
  {
   "cell_type": "markdown",
   "metadata": {},
   "source": [
    "# Setup"
   ]
  },
  {
   "cell_type": "markdown",
   "metadata": {},
   "source": [
    "## Imports"
   ]
  },
  {
   "cell_type": "code",
   "execution_count": 7,
   "metadata": {},
   "outputs": [],
   "source": [
    "library(\"dplyr\")\n",
    "library(\"tidyr\")\n",
    "library(\"afex\")     # provides mixed() and attaches lme4 automatically.\n",
    "library(\"emmeans\")  # follow-up tests.\n",
    "library(\"multcomp\") # advanced control for multiple testing/Type 1 errors.\n",
    "library(\"ggplot2\")"
   ]
  },
  {
   "cell_type": "code",
   "execution_count": 8,
   "metadata": {},
   "outputs": [],
   "source": [
    "library(\"car\")\n",
    "require(\"lattice\")\n",
    "require(\"ez\")"
   ]
  },
  {
   "cell_type": "code",
   "execution_count": 9,
   "metadata": {},
   "outputs": [],
   "source": [
    "library(\"cowplot\")\n",
    "library(\"ggbeeswarm\")\n",
    "\n",
    "library(\"nortest\")"
   ]
  },
  {
   "cell_type": "code",
   "execution_count": 10,
   "metadata": {},
   "outputs": [],
   "source": [
    "# library(\"apa\")"
   ]
  },
  {
   "cell_type": "code",
   "execution_count": 11,
   "metadata": {},
   "outputs": [],
   "source": [
    "library(\"effectsize\")"
   ]
  },
  {
   "cell_type": "markdown",
   "metadata": {},
   "source": [
    "## Settings"
   ]
  },
  {
   "cell_type": "code",
   "execution_count": 12,
   "metadata": {},
   "outputs": [],
   "source": [
    "theme_set(theme_bw(base_size = 15) +\n",
    "            theme(legend.position=\"bottom\",\n",
    "                  panel.grid.major.x = element_blank()))"
   ]
  },
  {
   "cell_type": "code",
   "execution_count": 13,
   "metadata": {},
   "outputs": [],
   "source": [
    "options(width=120)"
   ]
  },
  {
   "cell_type": "markdown",
   "metadata": {},
   "source": [
    "## Session info"
   ]
  },
  {
   "cell_type": "code",
   "execution_count": 14,
   "metadata": {},
   "outputs": [
    {
     "data": {
      "text/plain": [
       "R version 3.6.3 (2020-02-29)\n",
       "Platform: x86_64-pc-linux-gnu (64-bit)\n",
       "Running under: Ubuntu 18.04.5 LTS\n",
       "\n",
       "Matrix products: default\n",
       "BLAS:   /usr/lib/x86_64-linux-gnu/openblas/libblas.so.3\n",
       "LAPACK: /usr/lib/x86_64-linux-gnu/libopenblasp-r0.2.20.so\n",
       "\n",
       "locale:\n",
       " [1] LC_CTYPE=en_US.UTF-8       LC_NUMERIC=C               LC_TIME=en_IL.UTF-8        LC_COLLATE=en_US.UTF-8    \n",
       " [5] LC_MONETARY=en_IL.UTF-8    LC_MESSAGES=en_US.UTF-8    LC_PAPER=en_IL.UTF-8       LC_NAME=C                 \n",
       " [9] LC_ADDRESS=C               LC_TELEPHONE=C             LC_MEASUREMENT=en_IL.UTF-8 LC_IDENTIFICATION=C       \n",
       "\n",
       "attached base packages:\n",
       "[1] stats     graphics  grDevices utils     datasets  methods   base     \n",
       "\n",
       "other attached packages:\n",
       " [1] effectsize_0.3.3 nortest_1.0-4    ggbeeswarm_0.6.0 cowplot_1.1.0    ez_4.4-0         lattice_0.20-41 \n",
       " [7] car_3.0-10       carData_3.0-4    ggplot2_3.3.2    multcomp_1.4-14  TH.data_1.0-10   MASS_7.3-53     \n",
       "[13] survival_3.2-7   mvtnorm_1.1-1    emmeans_1.5.1    afex_0.28-0      lme4_1.1-23      Matrix_1.2-18   \n",
       "[19] tidyr_1.1.2      dplyr_1.0.2     \n",
       "\n",
       "loaded via a namespace (and not attached):\n",
       " [1] jsonlite_1.7.1      splines_3.6.3       statmod_1.4.34      vipor_0.4.5         cellranger_1.1.0   \n",
       " [6] bayestestR_0.7.2    numDeriv_2016.8-1.1 pillar_1.4.6        glue_1.4.2          uuid_0.1-4         \n",
       "[11] digest_0.6.25       minqa_1.2.4         colorspace_1.4-1    sandwich_2.5-1      htmltools_0.5.0    \n",
       "[16] plyr_1.8.6          pkgconfig_2.0.3     haven_2.3.1         purrr_0.3.4         xtable_1.8-4       \n",
       "[21] scales_1.1.1        openxlsx_4.2.2      rio_0.5.16          tibble_3.0.3        mgcv_1.8-33        \n",
       "[26] generics_0.0.2      ellipsis_0.3.1      withr_2.3.0         repr_1.1.0          magrittr_1.5       \n",
       "[31] crayon_1.3.4        readxl_1.3.1        estimability_1.3    evaluate_0.14       nlme_3.1-149       \n",
       "[36] forcats_0.5.0       foreign_0.8-76      beeswarm_0.2.3      tools_3.6.3         data.table_1.13.0  \n",
       "[41] hms_0.5.3           lifecycle_0.2.0     stringr_1.4.0       munsell_0.5.0       zip_2.1.1          \n",
       "[46] compiler_3.6.3      rlang_0.4.8         grid_3.6.3          nloptr_1.2.2.2      parameters_0.8.6   \n",
       "[51] pbdZMQ_0.3-3        IRkernel_1.1.1.9000 base64enc_0.1-3     boot_1.3-25         gtable_0.3.0       \n",
       "[56] codetools_0.2-16    lmerTest_3.1-2      abind_1.4-5         curl_4.3            reshape2_1.4.4     \n",
       "[61] R6_2.4.1            zoo_1.8-8           insight_0.9.6       stringi_1.5.3       parallel_3.6.3     \n",
       "[66] IRdisplay_0.7.0     Rcpp_1.0.5          vctrs_0.3.4         tidyselect_1.1.0    coda_0.19-4        "
      ]
     },
     "metadata": {},
     "output_type": "display_data"
    }
   ],
   "source": [
    "sessionInfo()"
   ]
  },
  {
   "cell_type": "markdown",
   "metadata": {},
   "source": [
    "## Create output directory"
   ]
  },
  {
   "cell_type": "code",
   "execution_count": 15,
   "metadata": {},
   "outputs": [],
   "source": [
    "dir.create(\"data/t1007\",showWarnings = FALSE,recursive = TRUE)"
   ]
  },
  {
   "cell_type": "markdown",
   "metadata": {},
   "source": [
    "## Handy functions"
   ]
  },
  {
   "cell_type": "markdown",
   "metadata": {},
   "source": [
    "### Function for logging information BEFORE execution"
   ]
  },
  {
   "cell_type": "code",
   "execution_count": 16,
   "metadata": {},
   "outputs": [],
   "source": [
    "logging0 <- function(ifName,infoStr=\"\",data){\n",
    "    t0 <- Sys.time()\n",
    "    s0 <- gsub(\"\\\\s\",\"_\",t0)\n",
    "    s1 <- gsub(\"^.\",\"\",tempfile(\"\",\"\",\"\"))\n",
    "    s2 <- gsub(\"/t1006/\",\"/t1007/\",ifName)\n",
    "    ofName <- paste(paste(s2,\"\",s0,\"\",s1,infoStr,\"_nrow\",nrow(data),sep=\"_\"),\".RData\",sep=\"\")\n",
    "    lfName = paste(ofName ,\".LOG.txt\" ,sep=\"\" ,collapse = \"\")\n",
    "    log_msg <- toString(paste(\n",
    "        paste(\"logs0\" ,toString(lfName)     ,sep=\": \" ,collapse = \"\")\n",
    "      , paste(\"time0\" ,toString(Sys.time()) ,sep=\": \" ,collapse = \"\")\n",
    "      , paste(\"nrows\" ,toString(nrow(data))  ,sep=\": \" ,collapse = \"\")\n",
    "      , paste(\"ncols\" ,toString(ncol(data))  ,sep=\": \" ,collapse = \"\")\n",
    "      , paste(\"vList\" ,toString(ls())       ,sep=\": \" ,collapse = \"\")\n",
    "      , paste(\"oSave\" ,toString(ofName)     ,sep=\": \" ,collapse = \"\")        \n",
    "      , \"\\n\"\n",
    "      , sep=\"\\n\"))\n",
    "    cat(log_msg)\n",
    "    write(paste(log_msg) ,file=lfName ,append=TRUE)\n",
    "    return(list(\"ofName\"=ofName,\"lfName\"=lfName,\"t0\"=t0))\n",
    "}"
   ]
  },
  {
   "cell_type": "markdown",
   "metadata": {},
   "source": [
    "### Function for logging information AFTER execution"
   ]
  },
  {
   "cell_type": "code",
   "execution_count": 17,
   "metadata": {},
   "outputs": [],
   "source": [
    "logging1 <- function(lfName,t0){\n",
    "    t1 <- Sys.time()\n",
    "    d1 <- t1-t0\n",
    "    log_msg <- toString(paste(\n",
    "        paste(\"time1\" ,toString(Sys.time()) ,sep=\": \" ,collapse = \"\")\n",
    "      , paste(\"diff1\" ,capture.output(d1)   ,sep=\": \" ,collapse = \"\")\n",
    "      , \"\\n\"\n",
    "      , sep=\"\\n\"))\n",
    "    cat(log_msg)\n",
    "    write(paste(log_msg) ,file=lfName ,append=TRUE)\n",
    "    return(list(\"d1\" = d1))\n",
    "}"
   ]
  },
  {
   "cell_type": "markdown",
   "metadata": {},
   "source": [
    "### Function for displaying results in APA 6"
   ]
  },
  {
   "cell_type": "code",
   "execution_count": 18,
   "metadata": {},
   "outputs": [
    {
     "name": "stderr",
     "output_type": "stream",
     "text": [
      "\n",
      "Attaching package: ‘IRdisplay’\n",
      "\n",
      "\n",
      "The following object is masked from ‘package:xtable’:\n",
      "\n",
      "    display\n",
      "\n",
      "\n",
      "Loading required package: papaja\n",
      "\n",
      "Loading required package: tinytex\n",
      "\n"
     ]
    }
   ],
   "source": [
    "library(xtable)\n",
    "library(IRdisplay)\n",
    "library(repr)\n",
    "require(\"papaja\")\n",
    "require(\"tinytex\")\n",
    "apaMd <- function(apaObj){\n",
    "    apaStr <- \"\"\n",
    "    for (ii in names(apaObj)){\n",
    "        apaStr <- paste(apaStr, paste(\"\\n\",\"### \", ii, \"\\n\" ,sep=\"\" ,collapse = \"\")  ,sep=\"\" ,collapse = \"\")\n",
    "        if(!(ii == \"table\")){ \n",
    "            for (jj in names(apaObj[[ii]])){\n",
    "                apaStr <- paste(apaStr, paste(\"- \", ii,\" for `\", jj, \"` is \", \"\\n\" ,sep=\"\" ,collapse = \"\")  ,sep=\"\\n\" ,collapse = \" \")\n",
    "                apaStr <- paste(apaStr, paste(\"  - \", apaObj[[ii]][[jj]], \"\\n\" ,sep=\"\" ,collapse = \"\")  ,sep=\"\\n\" ,collapse = \" \")\n",
    "                }}\n",
    "        else {\n",
    "            # apaStr <- paste(apaStr, \"\\n\\n\", paste(apa_table(apaObj$table))  ,sep=\"\\n\" ,collapse = \" \")\n",
    "            apaStr <- paste(apaStr, paste(\"- support for will arrive some day\", \"\\n\" ,sep=\"\" ,collapse = \"\")  ,sep=\"\\n\" ,collapse = \" \")\n",
    "            apaStr <- paste(apaStr, paste(\"- for now please use apa_table function\", \"\\n\" ,sep=\"\" ,collapse = \"\")  ,sep=\"\\n\" ,collapse = \" \")\n",
    "\n",
    "        }}\n",
    "    return(apaStr)\n",
    "}"
   ]
  },
  {
   "cell_type": "markdown",
   "metadata": {},
   "source": [
    "# Load data"
   ]
  },
  {
   "cell_type": "markdown",
   "metadata": {},
   "source": [
    "Depending on how much data you want to include select a file to be loaded (either by executing relevant cell or by clicking ↑ or ↓ above to move cells up or down, the last executed cell containing `ifName` defines the file to be loaded)."
   ]
  },
  {
   "cell_type": "code",
   "execution_count": 19,
   "metadata": {},
   "outputs": [],
   "source": [
    "ifName=\"data/t1006/bigDF__df2__001_unstacked.RData\" # 752554 obs"
   ]
  },
  {
   "cell_type": "code",
   "execution_count": 20,
   "metadata": {},
   "outputs": [],
   "source": [
    "load(file=ifName)"
   ]
  },
  {
   "cell_type": "code",
   "execution_count": 21,
   "metadata": {},
   "outputs": [],
   "source": [
    "df3 <- df2"
   ]
  },
  {
   "cell_type": "code",
   "execution_count": 22,
   "metadata": {},
   "outputs": [],
   "source": [
    "df2 <- subset(df2,wordCnt>4) # ~649262 obs"
   ]
  },
  {
   "cell_type": "code",
   "execution_count": 66,
   "metadata": {},
   "outputs": [],
   "source": [
    "df2$LBL <- paste(df2$CAMP,\"_\",df2$TYPE, sep=\"\")"
   ]
  },
  {
   "cell_type": "markdown",
   "metadata": {},
   "source": [
    "# Inspect data"
   ]
  },
  {
   "cell_type": "markdown",
   "metadata": {},
   "source": [
    "## Quick look at data"
   ]
  },
  {
   "cell_type": "code",
   "execution_count": 67,
   "metadata": {},
   "outputs": [
    {
     "name": "stdout",
     "output_type": "stream",
     "text": [
      "'data.frame':\t681652 obs. of  21 variables:\n",
      " $ CAMP       : Factor w/ 2 levels \"metoo\",\"sexstrike\": 1 1 1 1 1 1 1 1 1 1 ...\n",
      " $ TYPE       : Factor w/ 2 levels \"ctrl\",\"orig\": 1 1 1 1 1 1 1 1 1 1 ...\n",
      " $ wordCnt    : num  11 7 11 27 30 26 8 12 12 23 ...\n",
      " $ vb01Cnt    : num  0 0 0 2 0 0 1 0 1 0 ...\n",
      " $ nn01Cnt    : num  1 2 0 2 3 4 1 4 1 4 ...\n",
      " $ ag01Cnt    : num  0 0 0 0 1 1 0 0 1 2 ...\n",
      " $ ag02Cnt    : num  0 0 0 0 1 0 0 0 1 0 ...\n",
      " $ vb01Prc    : num  0 0 0 0.0741 0 ...\n",
      " $ nn01Prc    : num  0.0909 0.2857 0 0.0741 0.1 ...\n",
      " $ ag01Prc    : num  0 0 0 0 0.0333 ...\n",
      " $ ag02Prc    : num  0 0 0 0 0.0333 ...\n",
      " $ ID         : chr  \"919714354467045376\" \"919714354479722496\" \"919714354500653056\" \"919714354542600192\" ...\n",
      " $ tweet_url  : chr  \"/IamJonesy3/status/919714354467045376\" \"/CCmee_/status/919714354479722496\" \"/SarahJaneVlogs/status/919714354500653057\" \"/queentyreen/status/919714354542600195\" ...\n",
      " $ user_id    : chr  \"588400632\" \"242582835\" \"29298715\" \"3290716455\" ...\n",
      " $ is_replied : logi  TRUE FALSE FALSE TRUE FALSE TRUE ...\n",
      " $ is_reply_to: logi  TRUE FALSE FALSE TRUE FALSE FALSE ...\n",
      " $ likes      : num  1 0 1 0 0 38 0 0 1 1 ...\n",
      " $ replies    : num  1 0 0 1 0 5 0 0 0 0 ...\n",
      " $ retweets   : chr  \"0\" \"0\" \"0\" \"0\" ...\n",
      " $ date       : Date, format: \"2017-10-15\" \"2017-10-15\" \"2017-10-15\" \"2017-10-15\" ...\n",
      " $ LBL        : chr  \"metoo_ctrl\" \"metoo_ctrl\" \"metoo_ctrl\" \"metoo_ctrl\" ...\n"
     ]
    }
   ],
   "source": [
    "str(df2)"
   ]
  },
  {
   "cell_type": "markdown",
   "metadata": {},
   "source": [
    "## Summary"
   ]
  },
  {
   "cell_type": "code",
   "execution_count": 24,
   "metadata": {},
   "outputs": [
    {
     "data": {
      "text/plain": [
       "        CAMP          TYPE           wordCnt          vb01Cnt           nn01Cnt          ag01Cnt       \n",
       " metoo    :613635   ctrl:353731   Min.   :  5.00   Min.   : 0.0000   Min.   : 0.000   Min.   : 0.0000  \n",
       " sexstrike: 68017   orig:327921   1st Qu.: 11.00   1st Qu.: 0.0000   1st Qu.: 2.000   1st Qu.: 0.0000  \n",
       "                                  Median : 18.00   Median : 1.0000   Median : 3.000   Median : 0.0000  \n",
       "                                  Mean   : 18.43   Mean   : 0.8063   Mean   : 3.767   Mean   : 0.6863  \n",
       "                                  3rd Qu.: 24.00   3rd Qu.: 1.0000   3rd Qu.: 5.000   3rd Qu.: 1.0000  \n",
       "                                  Max.   :106.00   Max.   :17.0000   Max.   :43.000   Max.   :21.0000  \n",
       "    ag02Cnt          vb01Prc           nn01Prc          ag01Prc           ag02Prc             ID           \n",
       " Min.   :0.0000   Min.   :0.00000   Min.   :0.0000   Min.   :0.00000   Min.   :0.00000   Length:681652     \n",
       " 1st Qu.:0.0000   1st Qu.:0.00000   1st Qu.:0.1304   1st Qu.:0.00000   1st Qu.:0.00000   Class :character  \n",
       " Median :0.0000   Median :0.02439   Median :0.2000   Median :0.00000   Median :0.00000   Mode  :character  \n",
       " Mean   :0.2579   Mean   :0.04413   Mean   :0.2138   Mean   :0.03803   Mean   :0.01531                     \n",
       " 3rd Qu.:0.0000   3rd Qu.:0.07547   3rd Qu.:0.2800   3rd Qu.:0.06250   3rd Qu.:0.00000                     \n",
       " Max.   :7.0000   Max.   :1.00000   Max.   :1.2857   Max.   :1.00000   Max.   :0.42857                     \n",
       "  tweet_url           user_id          is_replied      is_reply_to         likes              replies        \n",
       " Length:681652      Length:681652      Mode :logical   Mode :logical   Min.   :     0.00   Min.   :    0.00  \n",
       " Class :character   Class :character   FALSE:550494    FALSE:534101    1st Qu.:     0.00   1st Qu.:    0.00  \n",
       " Mode  :character   Mode  :character   TRUE :131158    TRUE :147551    Median :     0.00   Median :    0.00  \n",
       "                                                                       Mean   :     7.03   Mean   :    0.57  \n",
       "                                                                       3rd Qu.:     2.00   3rd Qu.:    0.00  \n",
       "                                                                       Max.   :145072.00   Max.   :43943.00  \n",
       "   retweets              date           \n",
       " Length:681652      Min.   :2017-10-15  \n",
       " Class :character   1st Qu.:2017-10-16  \n",
       " Mode  :character   Median :2017-10-17  \n",
       "                    Mean   :2017-12-14  \n",
       "                    3rd Qu.:2017-10-21  \n",
       "                    Max.   :2020-03-19  "
      ]
     },
     "metadata": {},
     "output_type": "display_data"
    }
   ],
   "source": [
    "summary(df2)"
   ]
  },
  {
   "cell_type": "markdown",
   "metadata": {},
   "source": [
    "# ANOVA (`aov_4`)"
   ]
  },
  {
   "cell_type": "markdown",
   "metadata": {},
   "source": [
    "| name         | meta   | descr                       |\n",
    "|--------------|--------|-----------------------------|\n",
    "| `ID`         | `u1`   | observation unit (tweet_id) |\n",
    "| `vb01Prc`    | `d1`   | outcome (dependent)         |\n",
    "| `ag01Prc`    | `d2`   | outcome (dependent)         |\n",
    "| `CAMP`       | `b1`   | between tweet               |\n",
    "| `TYPE`       | `b2`   | between tweet               |"
   ]
  },
  {
   "cell_type": "code",
   "execution_count": 25,
   "metadata": {},
   "outputs": [],
   "source": [
    "OBSERVED <- c(\"CAMP\",\"TYPE\")"
   ]
  },
  {
   "cell_type": "code",
   "execution_count": 26,
   "metadata": {},
   "outputs": [],
   "source": [
    "OBSERVED <- NULL"
   ]
  },
  {
   "cell_type": "markdown",
   "metadata": {},
   "source": [
    "## Verbs"
   ]
  },
  {
   "cell_type": "code",
   "execution_count": 27,
   "metadata": {},
   "outputs": [
    {
     "name": "stdout",
     "output_type": "stream",
     "text": [
      "logs0: data/t1007/bigDF__df2__001_unstacked.RData__2020-10-13_06:07:18__4cc463667296__aov_4_a1vb01Prc__nrow_681652.RData.LOG.txt\n",
      "time0: 2020-10-13 06:07:18\n",
      "nrows: 681652\n",
      "ncols: 20\n",
      "vList: data, ifName, infoStr, lfName, ofName, s0, s1, s2, t0\n",
      "oSave: data/t1007/bigDF__df2__001_unstacked.RData__2020-10-13_06:07:18__4cc463667296__aov_4_a1vb01Prc__nrow_681652.RData\n",
      "\n"
     ]
    },
    {
     "name": "stderr",
     "output_type": "stream",
     "text": [
      "Contrasts set to contr.sum for the following variables: CAMP, TYPE\n",
      "\n"
     ]
    },
    {
     "name": "stdout",
     "output_type": "stream",
     "text": [
      "time1: 2020-10-13 06:08:19\n",
      "diff1: Time difference of 1.008598 mins\n",
      "\n"
     ]
    }
   ],
   "source": [
    "FORMULA <- vb01Prc~CAMP*TYPE+(1|ID)\n",
    "\n",
    "log0 <- logging0(ifName,infoStr=\"_aov_4_a1vb01Prc\",data=df2)\n",
    "a1vb01Prc <- aov_4(\n",
    "    formula       <- FORMULA,\n",
    "    data          <- df2,\n",
    "    observed      <- OBSERVED,\n",
    ")\n",
    "save(a1vb01Prc,file=log0$ofName)\n",
    "log1 <- logging1(log0$lfName,log0$t0)"
   ]
  },
  {
   "cell_type": "markdown",
   "metadata": {},
   "source": [
    "## Dictionary"
   ]
  },
  {
   "cell_type": "code",
   "execution_count": 28,
   "metadata": {},
   "outputs": [
    {
     "name": "stdout",
     "output_type": "stream",
     "text": [
      "logs0: data/t1007/bigDF__df2__001_unstacked.RData__2020-10-13_06:08:19__4cc46663b6b2__aov_4_a2ag01Prc__nrow_681652.RData.LOG.txt\n",
      "time0: 2020-10-13 06:08:19\n",
      "nrows: 681652\n",
      "ncols: 20\n",
      "vList: data, ifName, infoStr, lfName, ofName, s0, s1, s2, t0\n",
      "oSave: data/t1007/bigDF__df2__001_unstacked.RData__2020-10-13_06:08:19__4cc46663b6b2__aov_4_a2ag01Prc__nrow_681652.RData\n",
      "\n"
     ]
    },
    {
     "name": "stderr",
     "output_type": "stream",
     "text": [
      "Contrasts set to contr.sum for the following variables: CAMP, TYPE\n",
      "\n"
     ]
    },
    {
     "name": "stdout",
     "output_type": "stream",
     "text": [
      "time1: 2020-10-13 06:09:12\n",
      "diff1: Time difference of 53.69615 secs\n",
      "\n"
     ]
    }
   ],
   "source": [
    "FORMULA <- ag01Prc~CAMP*TYPE+(1|ID)\n",
    "\n",
    "log0 <- logging0(ifName,infoStr=\"_aov_4_a2ag01Prc\",data=df2)\n",
    "a2ag01Prc <- aov_4(\n",
    "    formula       <- FORMULA,\n",
    "    data          <- df2,\n",
    "    observed      <- OBSERVED,\n",
    ")\n",
    "save(a2ag01Prc,file=log0$ofName)\n",
    "log1 <- logging1(log0$lfName,log0$t0)"
   ]
  },
  {
   "cell_type": "markdown",
   "metadata": {},
   "source": [
    "# Quick look at AOV results"
   ]
  },
  {
   "cell_type": "code",
   "execution_count": 29,
   "metadata": {},
   "outputs": [
    {
     "data": {
      "text/html": [
       "<table>\n",
       "<caption>A anova: 3 × 6</caption>\n",
       "<thead>\n",
       "\t<tr><th></th><th scope=col>num Df</th><th scope=col>den Df</th><th scope=col>MSE</th><th scope=col>F</th><th scope=col>ges</th><th scope=col>Pr(&gt;F)</th></tr>\n",
       "\t<tr><th></th><th scope=col>&lt;dbl&gt;</th><th scope=col>&lt;dbl&gt;</th><th scope=col>&lt;dbl&gt;</th><th scope=col>&lt;dbl&gt;</th><th scope=col>&lt;dbl&gt;</th><th scope=col>&lt;dbl&gt;</th></tr>\n",
       "</thead>\n",
       "<tbody>\n",
       "\t<tr><th scope=row>CAMP</th><td>1</td><td>681648</td><td>0.003373904</td><td>690.32244046</td><td>1.011701e-03</td><td>4.531552e-152</td></tr>\n",
       "\t<tr><th scope=row>TYPE</th><td>1</td><td>681648</td><td>0.003373904</td><td>  0.02922063</td><td>4.286762e-08</td><td> 8.642707e-01</td></tr>\n",
       "\t<tr><th scope=row>CAMP:TYPE</th><td>1</td><td>681648</td><td>0.003373904</td><td>142.14341243</td><td>2.084856e-04</td><td> 9.115624e-33</td></tr>\n",
       "</tbody>\n",
       "</table>\n"
      ],
      "text/latex": [
       "A anova: 3 × 6\n",
       "\\begin{tabular}{r|llllll}\n",
       "  & num Df & den Df & MSE & F & ges & Pr(>F)\\\\\n",
       "  & <dbl> & <dbl> & <dbl> & <dbl> & <dbl> & <dbl>\\\\\n",
       "\\hline\n",
       "\tCAMP & 1 & 681648 & 0.003373904 & 690.32244046 & 1.011701e-03 & 4.531552e-152\\\\\n",
       "\tTYPE & 1 & 681648 & 0.003373904 &   0.02922063 & 4.286762e-08 &  8.642707e-01\\\\\n",
       "\tCAMP:TYPE & 1 & 681648 & 0.003373904 & 142.14341243 & 2.084856e-04 &  9.115624e-33\\\\\n",
       "\\end{tabular}\n"
      ],
      "text/markdown": [
       "\n",
       "A anova: 3 × 6\n",
       "\n",
       "| <!--/--> | num Df &lt;dbl&gt; | den Df &lt;dbl&gt; | MSE &lt;dbl&gt; | F &lt;dbl&gt; | ges &lt;dbl&gt; | Pr(&gt;F) &lt;dbl&gt; |\n",
       "|---|---|---|---|---|---|---|\n",
       "| CAMP | 1 | 681648 | 0.003373904 | 690.32244046 | 1.011701e-03 | 4.531552e-152 |\n",
       "| TYPE | 1 | 681648 | 0.003373904 |   0.02922063 | 4.286762e-08 |  8.642707e-01 |\n",
       "| CAMP:TYPE | 1 | 681648 | 0.003373904 | 142.14341243 | 2.084856e-04 |  9.115624e-33 |\n",
       "\n"
      ],
      "text/plain": [
       "          num Df den Df MSE         F            ges          Pr(>F)       \n",
       "CAMP      1      681648 0.003373904 690.32244046 1.011701e-03 4.531552e-152\n",
       "TYPE      1      681648 0.003373904   0.02922063 4.286762e-08  8.642707e-01\n",
       "CAMP:TYPE 1      681648 0.003373904 142.14341243 2.084856e-04  9.115624e-33"
      ]
     },
     "metadata": {},
     "output_type": "display_data"
    }
   ],
   "source": [
    "summary(a1vb01Prc)"
   ]
  },
  {
   "cell_type": "code",
   "execution_count": 30,
   "metadata": {
    "scrolled": true
   },
   "outputs": [
    {
     "data": {
      "text/html": [
       "<table>\n",
       "<caption>A anova: 3 × 6</caption>\n",
       "<thead>\n",
       "\t<tr><th></th><th scope=col>num Df</th><th scope=col>den Df</th><th scope=col>MSE</th><th scope=col>F</th><th scope=col>ges</th><th scope=col>Pr(&gt;F)</th></tr>\n",
       "\t<tr><th></th><th scope=col>&lt;dbl&gt;</th><th scope=col>&lt;dbl&gt;</th><th scope=col>&lt;dbl&gt;</th><th scope=col>&lt;dbl&gt;</th><th scope=col>&lt;dbl&gt;</th><th scope=col>&lt;dbl&gt;</th></tr>\n",
       "</thead>\n",
       "<tbody>\n",
       "\t<tr><th scope=row>CAMP</th><td>1</td><td>681648</td><td>0.003620482</td><td>1102.265888</td><td>0.0016144496</td><td>1.659872e-241</td></tr>\n",
       "\t<tr><th scope=row>TYPE</th><td>1</td><td>681648</td><td>0.003620482</td><td>   5.538231</td><td>0.0000081247</td><td> 1.860567e-02</td></tr>\n",
       "\t<tr><th scope=row>CAMP:TYPE</th><td>1</td><td>681648</td><td>0.003620482</td><td> 506.682508</td><td>0.0007427678</td><td>3.673188e-112</td></tr>\n",
       "</tbody>\n",
       "</table>\n"
      ],
      "text/latex": [
       "A anova: 3 × 6\n",
       "\\begin{tabular}{r|llllll}\n",
       "  & num Df & den Df & MSE & F & ges & Pr(>F)\\\\\n",
       "  & <dbl> & <dbl> & <dbl> & <dbl> & <dbl> & <dbl>\\\\\n",
       "\\hline\n",
       "\tCAMP & 1 & 681648 & 0.003620482 & 1102.265888 & 0.0016144496 & 1.659872e-241\\\\\n",
       "\tTYPE & 1 & 681648 & 0.003620482 &    5.538231 & 0.0000081247 &  1.860567e-02\\\\\n",
       "\tCAMP:TYPE & 1 & 681648 & 0.003620482 &  506.682508 & 0.0007427678 & 3.673188e-112\\\\\n",
       "\\end{tabular}\n"
      ],
      "text/markdown": [
       "\n",
       "A anova: 3 × 6\n",
       "\n",
       "| <!--/--> | num Df &lt;dbl&gt; | den Df &lt;dbl&gt; | MSE &lt;dbl&gt; | F &lt;dbl&gt; | ges &lt;dbl&gt; | Pr(&gt;F) &lt;dbl&gt; |\n",
       "|---|---|---|---|---|---|---|\n",
       "| CAMP | 1 | 681648 | 0.003620482 | 1102.265888 | 0.0016144496 | 1.659872e-241 |\n",
       "| TYPE | 1 | 681648 | 0.003620482 |    5.538231 | 0.0000081247 |  1.860567e-02 |\n",
       "| CAMP:TYPE | 1 | 681648 | 0.003620482 |  506.682508 | 0.0007427678 | 3.673188e-112 |\n",
       "\n"
      ],
      "text/plain": [
       "          num Df den Df MSE         F           ges          Pr(>F)       \n",
       "CAMP      1      681648 0.003620482 1102.265888 0.0016144496 1.659872e-241\n",
       "TYPE      1      681648 0.003620482    5.538231 0.0000081247  1.860567e-02\n",
       "CAMP:TYPE 1      681648 0.003620482  506.682508 0.0007427678 3.673188e-112"
      ]
     },
     "metadata": {},
     "output_type": "display_data"
    }
   ],
   "source": [
    "summary(a2ag01Prc)"
   ]
  },
  {
   "cell_type": "markdown",
   "metadata": {},
   "source": [
    "## Summarize data by `CAMP` ⨯ `TYPE`"
   ]
  },
  {
   "cell_type": "code",
   "execution_count": 31,
   "metadata": {},
   "outputs": [
    {
     "data": {
      "text/html": [
       "<table>\n",
       "<caption>A tibble: 4 × 12</caption>\n",
       "<thead>\n",
       "\t<tr><th scope=col>CAMP</th><th scope=col>TYPE</th><th scope=col>N</th><th scope=col>wcM</th><th scope=col>wcSD</th><th scope=col>wcSE</th><th scope=col>vbM</th><th scope=col>vbSD</th><th scope=col>vbSE</th><th scope=col>agM</th><th scope=col>agSD</th><th scope=col>agSE</th></tr>\n",
       "\t<tr><th scope=col>&lt;fct&gt;</th><th scope=col>&lt;fct&gt;</th><th scope=col>&lt;int&gt;</th><th scope=col>&lt;dbl&gt;</th><th scope=col>&lt;dbl&gt;</th><th scope=col>&lt;dbl&gt;</th><th scope=col>&lt;dbl&gt;</th><th scope=col>&lt;dbl&gt;</th><th scope=col>&lt;dbl&gt;</th><th scope=col>&lt;dbl&gt;</th><th scope=col>&lt;dbl&gt;</th><th scope=col>&lt;dbl&gt;</th></tr>\n",
       "</thead>\n",
       "<tbody>\n",
       "\t<tr><td>metoo    </td><td>ctrl</td><td>317320</td><td>15.43141</td><td> 7.623185</td><td>0.01353280</td><td>0.04490575</td><td>0.06396794</td><td>0.0001135569</td><td>0.04017294</td><td>0.06624099</td><td>1.175921e-04</td></tr>\n",
       "\t<tr><td>metoo    </td><td>orig</td><td>296315</td><td>20.90304</td><td> 7.643659</td><td>0.01404185</td><td>0.04206042</td><td>0.05079466</td><td>0.0000933128</td><td>0.03411315</td><td>0.05241299</td><td>9.628577e-05</td></tr>\n",
       "\t<tr><td>sexstrike</td><td>ctrl</td><td> 36411</td><td>17.72418</td><td>12.190332</td><td>0.06388505</td><td>0.04828241</td><td>0.06526801</td><td>0.0003420457</td><td>0.04277857</td><td>0.06702385</td><td>3.512474e-04</td></tr>\n",
       "\t<tr><td>sexstrike</td><td>orig</td><td> 31606</td><td>26.21116</td><td>14.118213</td><td>0.07941361</td><td>0.05104731</td><td>0.05086050</td><td>0.0002860855</td><td>0.04769121</td><td>0.05567579</td><td>3.131711e-04</td></tr>\n",
       "</tbody>\n",
       "</table>\n"
      ],
      "text/latex": [
       "A tibble: 4 × 12\n",
       "\\begin{tabular}{llllllllllll}\n",
       " CAMP & TYPE & N & wcM & wcSD & wcSE & vbM & vbSD & vbSE & agM & agSD & agSE\\\\\n",
       " <fct> & <fct> & <int> & <dbl> & <dbl> & <dbl> & <dbl> & <dbl> & <dbl> & <dbl> & <dbl> & <dbl>\\\\\n",
       "\\hline\n",
       "\t metoo     & ctrl & 317320 & 15.43141 &  7.623185 & 0.01353280 & 0.04490575 & 0.06396794 & 0.0001135569 & 0.04017294 & 0.06624099 & 1.175921e-04\\\\\n",
       "\t metoo     & orig & 296315 & 20.90304 &  7.643659 & 0.01404185 & 0.04206042 & 0.05079466 & 0.0000933128 & 0.03411315 & 0.05241299 & 9.628577e-05\\\\\n",
       "\t sexstrike & ctrl &  36411 & 17.72418 & 12.190332 & 0.06388505 & 0.04828241 & 0.06526801 & 0.0003420457 & 0.04277857 & 0.06702385 & 3.512474e-04\\\\\n",
       "\t sexstrike & orig &  31606 & 26.21116 & 14.118213 & 0.07941361 & 0.05104731 & 0.05086050 & 0.0002860855 & 0.04769121 & 0.05567579 & 3.131711e-04\\\\\n",
       "\\end{tabular}\n"
      ],
      "text/markdown": [
       "\n",
       "A tibble: 4 × 12\n",
       "\n",
       "| CAMP &lt;fct&gt; | TYPE &lt;fct&gt; | N &lt;int&gt; | wcM &lt;dbl&gt; | wcSD &lt;dbl&gt; | wcSE &lt;dbl&gt; | vbM &lt;dbl&gt; | vbSD &lt;dbl&gt; | vbSE &lt;dbl&gt; | agM &lt;dbl&gt; | agSD &lt;dbl&gt; | agSE &lt;dbl&gt; |\n",
       "|---|---|---|---|---|---|---|---|---|---|---|---|\n",
       "| metoo     | ctrl | 317320 | 15.43141 |  7.623185 | 0.01353280 | 0.04490575 | 0.06396794 | 0.0001135569 | 0.04017294 | 0.06624099 | 1.175921e-04 |\n",
       "| metoo     | orig | 296315 | 20.90304 |  7.643659 | 0.01404185 | 0.04206042 | 0.05079466 | 0.0000933128 | 0.03411315 | 0.05241299 | 9.628577e-05 |\n",
       "| sexstrike | ctrl |  36411 | 17.72418 | 12.190332 | 0.06388505 | 0.04828241 | 0.06526801 | 0.0003420457 | 0.04277857 | 0.06702385 | 3.512474e-04 |\n",
       "| sexstrike | orig |  31606 | 26.21116 | 14.118213 | 0.07941361 | 0.05104731 | 0.05086050 | 0.0002860855 | 0.04769121 | 0.05567579 | 3.131711e-04 |\n",
       "\n"
      ],
      "text/plain": [
       "  CAMP      TYPE N      wcM      wcSD      wcSE       vbM        vbSD       vbSE         agM        agSD      \n",
       "1 metoo     ctrl 317320 15.43141  7.623185 0.01353280 0.04490575 0.06396794 0.0001135569 0.04017294 0.06624099\n",
       "2 metoo     orig 296315 20.90304  7.643659 0.01404185 0.04206042 0.05079466 0.0000933128 0.03411315 0.05241299\n",
       "3 sexstrike ctrl  36411 17.72418 12.190332 0.06388505 0.04828241 0.06526801 0.0003420457 0.04277857 0.06702385\n",
       "4 sexstrike orig  31606 26.21116 14.118213 0.07941361 0.05104731 0.05086050 0.0002860855 0.04769121 0.05567579\n",
       "  agSE        \n",
       "1 1.175921e-04\n",
       "2 9.628577e-05\n",
       "3 3.512474e-04\n",
       "4 3.131711e-04"
      ]
     },
     "metadata": {},
     "output_type": "display_data"
    }
   ],
   "source": [
    "smr0 <- df2 %>%\n",
    "    group_by(CAMP,TYPE) %>%\n",
    "    summarise(\n",
    "        N = n(),\n",
    "        wcM = mean(wordCnt),\n",
    "        wcSD = sd(wordCnt),\n",
    "        wcSE = wcSD / sqrt(N),\n",
    "        vbM = mean(vb01Prc),\n",
    "        vbSD = sd(vb01Prc),\n",
    "        vbSE = vbSD / sqrt(N),\n",
    "        agM = mean(ag01Prc),\n",
    "        agSD = sd(ag01Prc),\n",
    "        agSE = agSD / sqrt(N),\n",
    "        .groups = \"drop\"\n",
    "    ) \n",
    "smr0"
   ]
  },
  {
   "cell_type": "markdown",
   "metadata": {},
   "source": [
    "## Summarize data by `CAMP`"
   ]
  },
  {
   "cell_type": "code",
   "execution_count": 32,
   "metadata": {},
   "outputs": [
    {
     "data": {
      "text/html": [
       "<table>\n",
       "<caption>A tibble: 2 × 11</caption>\n",
       "<thead>\n",
       "\t<tr><th scope=col>CAMP</th><th scope=col>N</th><th scope=col>wcM</th><th scope=col>wcSD</th><th scope=col>wcSE</th><th scope=col>vbM</th><th scope=col>vbSD</th><th scope=col>vbSE</th><th scope=col>agM</th><th scope=col>agSD</th><th scope=col>agSE</th></tr>\n",
       "\t<tr><th scope=col>&lt;fct&gt;</th><th scope=col>&lt;int&gt;</th><th scope=col>&lt;dbl&gt;</th><th scope=col>&lt;dbl&gt;</th><th scope=col>&lt;dbl&gt;</th><th scope=col>&lt;dbl&gt;</th><th scope=col>&lt;dbl&gt;</th><th scope=col>&lt;dbl&gt;</th><th scope=col>&lt;dbl&gt;</th><th scope=col>&lt;dbl&gt;</th><th scope=col>&lt;dbl&gt;</th></tr>\n",
       "</thead>\n",
       "<tbody>\n",
       "\t<tr><td>metoo    </td><td>613635</td><td>18.07358</td><td> 8.108003</td><td>0.01035044</td><td>0.04353178</td><td>0.05799904</td><td>7.403988e-05</td><td>0.03724676</td><td>0.06003949</td><td>7.664467e-05</td></tr>\n",
       "\t<tr><td>sexstrike</td><td> 68017</td><td>21.66789</td><td>13.787225</td><td>0.05286499</td><td>0.04956720</td><td>0.05902798</td><td>2.263337e-04</td><td>0.04506136</td><td>0.06205744</td><td>2.379497e-04</td></tr>\n",
       "</tbody>\n",
       "</table>\n"
      ],
      "text/latex": [
       "A tibble: 2 × 11\n",
       "\\begin{tabular}{lllllllllll}\n",
       " CAMP & N & wcM & wcSD & wcSE & vbM & vbSD & vbSE & agM & agSD & agSE\\\\\n",
       " <fct> & <int> & <dbl> & <dbl> & <dbl> & <dbl> & <dbl> & <dbl> & <dbl> & <dbl> & <dbl>\\\\\n",
       "\\hline\n",
       "\t metoo     & 613635 & 18.07358 &  8.108003 & 0.01035044 & 0.04353178 & 0.05799904 & 7.403988e-05 & 0.03724676 & 0.06003949 & 7.664467e-05\\\\\n",
       "\t sexstrike &  68017 & 21.66789 & 13.787225 & 0.05286499 & 0.04956720 & 0.05902798 & 2.263337e-04 & 0.04506136 & 0.06205744 & 2.379497e-04\\\\\n",
       "\\end{tabular}\n"
      ],
      "text/markdown": [
       "\n",
       "A tibble: 2 × 11\n",
       "\n",
       "| CAMP &lt;fct&gt; | N &lt;int&gt; | wcM &lt;dbl&gt; | wcSD &lt;dbl&gt; | wcSE &lt;dbl&gt; | vbM &lt;dbl&gt; | vbSD &lt;dbl&gt; | vbSE &lt;dbl&gt; | agM &lt;dbl&gt; | agSD &lt;dbl&gt; | agSE &lt;dbl&gt; |\n",
       "|---|---|---|---|---|---|---|---|---|---|---|\n",
       "| metoo     | 613635 | 18.07358 |  8.108003 | 0.01035044 | 0.04353178 | 0.05799904 | 7.403988e-05 | 0.03724676 | 0.06003949 | 7.664467e-05 |\n",
       "| sexstrike |  68017 | 21.66789 | 13.787225 | 0.05286499 | 0.04956720 | 0.05902798 | 2.263337e-04 | 0.04506136 | 0.06205744 | 2.379497e-04 |\n",
       "\n"
      ],
      "text/plain": [
       "  CAMP      N      wcM      wcSD      wcSE       vbM        vbSD       vbSE         agM        agSD       agSE        \n",
       "1 metoo     613635 18.07358  8.108003 0.01035044 0.04353178 0.05799904 7.403988e-05 0.03724676 0.06003949 7.664467e-05\n",
       "2 sexstrike  68017 21.66789 13.787225 0.05286499 0.04956720 0.05902798 2.263337e-04 0.04506136 0.06205744 2.379497e-04"
      ]
     },
     "metadata": {},
     "output_type": "display_data"
    }
   ],
   "source": [
    "smr0 <- df2 %>%\n",
    "    group_by(CAMP) %>%\n",
    "    summarise(\n",
    "        N = n(),\n",
    "        wcM = mean(wordCnt),\n",
    "        wcSD = sd(wordCnt),\n",
    "        wcSE = wcSD / sqrt(N),\n",
    "        vbM = mean(vb01Prc),\n",
    "        vbSD = sd(vb01Prc),\n",
    "        vbSE = vbSD / sqrt(N),\n",
    "        agM = mean(ag01Prc),\n",
    "        agSD = sd(ag01Prc),\n",
    "        agSE = agSD / sqrt(N),\n",
    "        .groups = \"drop\"\n",
    "    ) \n",
    "smr0"
   ]
  },
  {
   "cell_type": "markdown",
   "metadata": {},
   "source": [
    "## Summarize by type `TYPE`"
   ]
  },
  {
   "cell_type": "code",
   "execution_count": 33,
   "metadata": {},
   "outputs": [
    {
     "data": {
      "text/html": [
       "<table>\n",
       "<caption>A tibble: 2 × 11</caption>\n",
       "<thead>\n",
       "\t<tr><th scope=col>TYPE</th><th scope=col>N</th><th scope=col>wcM</th><th scope=col>wcSD</th><th scope=col>wcSE</th><th scope=col>vbM</th><th scope=col>vbSD</th><th scope=col>vbSE</th><th scope=col>agM</th><th scope=col>agSD</th><th scope=col>agSE</th></tr>\n",
       "\t<tr><th scope=col>&lt;fct&gt;</th><th scope=col>&lt;int&gt;</th><th scope=col>&lt;dbl&gt;</th><th scope=col>&lt;dbl&gt;</th><th scope=col>&lt;dbl&gt;</th><th scope=col>&lt;dbl&gt;</th><th scope=col>&lt;dbl&gt;</th><th scope=col>&lt;dbl&gt;</th><th scope=col>&lt;dbl&gt;</th><th scope=col>&lt;dbl&gt;</th><th scope=col>&lt;dbl&gt;</th></tr>\n",
       "</thead>\n",
       "<tbody>\n",
       "\t<tr><td>ctrl</td><td>353731</td><td>15.66741</td><td>8.24091</td><td>0.01385602</td><td>0.04525333</td><td>0.06411110</td><td>1.077945e-04</td><td>0.04044115</td><td>0.06632663</td><td>1.115196e-04</td></tr>\n",
       "\t<tr><td>orig</td><td>327921</td><td>21.41465</td><td>8.62897</td><td>0.01506865</td><td>0.04292660</td><td>0.05087011</td><td>8.883377e-05</td><td>0.03542185</td><td>0.05288819</td><td>9.235791e-05</td></tr>\n",
       "</tbody>\n",
       "</table>\n"
      ],
      "text/latex": [
       "A tibble: 2 × 11\n",
       "\\begin{tabular}{lllllllllll}\n",
       " TYPE & N & wcM & wcSD & wcSE & vbM & vbSD & vbSE & agM & agSD & agSE\\\\\n",
       " <fct> & <int> & <dbl> & <dbl> & <dbl> & <dbl> & <dbl> & <dbl> & <dbl> & <dbl> & <dbl>\\\\\n",
       "\\hline\n",
       "\t ctrl & 353731 & 15.66741 & 8.24091 & 0.01385602 & 0.04525333 & 0.06411110 & 1.077945e-04 & 0.04044115 & 0.06632663 & 1.115196e-04\\\\\n",
       "\t orig & 327921 & 21.41465 & 8.62897 & 0.01506865 & 0.04292660 & 0.05087011 & 8.883377e-05 & 0.03542185 & 0.05288819 & 9.235791e-05\\\\\n",
       "\\end{tabular}\n"
      ],
      "text/markdown": [
       "\n",
       "A tibble: 2 × 11\n",
       "\n",
       "| TYPE &lt;fct&gt; | N &lt;int&gt; | wcM &lt;dbl&gt; | wcSD &lt;dbl&gt; | wcSE &lt;dbl&gt; | vbM &lt;dbl&gt; | vbSD &lt;dbl&gt; | vbSE &lt;dbl&gt; | agM &lt;dbl&gt; | agSD &lt;dbl&gt; | agSE &lt;dbl&gt; |\n",
       "|---|---|---|---|---|---|---|---|---|---|---|\n",
       "| ctrl | 353731 | 15.66741 | 8.24091 | 0.01385602 | 0.04525333 | 0.06411110 | 1.077945e-04 | 0.04044115 | 0.06632663 | 1.115196e-04 |\n",
       "| orig | 327921 | 21.41465 | 8.62897 | 0.01506865 | 0.04292660 | 0.05087011 | 8.883377e-05 | 0.03542185 | 0.05288819 | 9.235791e-05 |\n",
       "\n"
      ],
      "text/plain": [
       "  TYPE N      wcM      wcSD    wcSE       vbM        vbSD       vbSE         agM        agSD       agSE        \n",
       "1 ctrl 353731 15.66741 8.24091 0.01385602 0.04525333 0.06411110 1.077945e-04 0.04044115 0.06632663 1.115196e-04\n",
       "2 orig 327921 21.41465 8.62897 0.01506865 0.04292660 0.05087011 8.883377e-05 0.03542185 0.05288819 9.235791e-05"
      ]
     },
     "metadata": {},
     "output_type": "display_data"
    }
   ],
   "source": [
    "smr0 <- df2 %>%\n",
    "    group_by(TYPE) %>%\n",
    "    summarise(\n",
    "        N = n(),\n",
    "        wcM = mean(wordCnt),\n",
    "        wcSD = sd(wordCnt),\n",
    "        wcSE = wcSD / sqrt(N),\n",
    "        vbM = mean(vb01Prc),\n",
    "        vbSD = sd(vb01Prc),\n",
    "        vbSE = vbSD / sqrt(N),\n",
    "        agM = mean(ag01Prc),\n",
    "        agSD = sd(ag01Prc),\n",
    "        agSE = agSD / sqrt(N),\n",
    "        .groups = \"drop\"\n",
    "    ) \n",
    "smr0"
   ]
  },
  {
   "cell_type": "markdown",
   "metadata": {},
   "source": [
    "## Generate APA-like LaTeX for AOV"
   ]
  },
  {
   "cell_type": "code",
   "execution_count": 34,
   "metadata": {},
   "outputs": [],
   "source": [
    "apa0vb <- apa_print(a1vb01Prc)\n",
    "apa0ag <- apa_print(a2ag01Prc)"
   ]
  },
  {
   "cell_type": "code",
   "execution_count": 35,
   "metadata": {},
   "outputs": [
    {
     "data": {
      "text/html": [
       "<table>\n",
       "<caption>A apa_results_table: 3 × 7</caption>\n",
       "<thead>\n",
       "\t<tr><th></th><th scope=col>Effect</th><th scope=col>F</th><th scope=col>df1</th><th scope=col>df2</th><th scope=col>MSE</th><th scope=col>p</th><th scope=col>ges</th></tr>\n",
       "\t<tr><th></th><th scope=col>&lt;ppj_lbll&gt;</th><th scope=col>&lt;ppj_lbll&gt;</th><th scope=col>&lt;ppj_lbll&gt;</th><th scope=col>&lt;ppj_lbll&gt;</th><th scope=col>&lt;ppj_lbll&gt;</th><th scope=col>&lt;ppj_lbll&gt;</th><th scope=col>&lt;ppj_lbll&gt;</th></tr>\n",
       "</thead>\n",
       "<tbody>\n",
       "\t<tr><th scope=row>1</th><td><span style=white-space:pre-wrap>CAMP               </span></td><td>690.32</td><td>1</td><td>681,648</td><td>0.00</td><td>&lt; .001</td><td>.001</td></tr>\n",
       "\t<tr><th scope=row>2</th><td>TYPE               </td><td>0.03  </td><td>1</td><td>681,648</td><td>0.00</td><td>.864  </td><td>.000</td></tr>\n",
       "\t<tr><th scope=row>3</th><td>CAMP $\\times$ TYPE</td><td>142.14</td><td>1</td><td>681,648</td><td>0.00</td><td>&lt; .001</td><td>.000</td></tr>\n",
       "</tbody>\n",
       "</table>\n"
      ],
      "text/latex": [
       "A apa\\_results\\_table: 3 × 7\n",
       "\\begin{tabular}{r|lllllll}\n",
       "  & Effect & F & df1 & df2 & MSE & p & ges\\\\\n",
       "  & <ppj\\_lbll> & <ppj\\_lbll> & <ppj\\_lbll> & <ppj\\_lbll> & <ppj\\_lbll> & <ppj\\_lbll> & <ppj\\_lbll>\\\\\n",
       "\\hline\n",
       "\t1 & CAMP                & 690.32 & 1 & 681,648 & 0.00 & < .001 & .001\\\\\n",
       "\t2 & TYPE                & 0.03   & 1 & 681,648 & 0.00 & .864   & .000\\\\\n",
       "\t3 & CAMP \\$\\textbackslash{}times\\$ TYPE & 142.14 & 1 & 681,648 & 0.00 & < .001 & .000\\\\\n",
       "\\end{tabular}\n"
      ],
      "text/markdown": [
       "\n",
       "A apa_results_table: 3 × 7\n",
       "\n",
       "| <!--/--> | Effect &lt;ppj_lbll&gt; | F &lt;ppj_lbll&gt; | df1 &lt;ppj_lbll&gt; | df2 &lt;ppj_lbll&gt; | MSE &lt;ppj_lbll&gt; | p &lt;ppj_lbll&gt; | ges &lt;ppj_lbll&gt; |\n",
       "|---|---|---|---|---|---|---|---|\n",
       "| 1 | CAMP                | 690.32 | 1 | 681,648 | 0.00 | &lt; .001 | .001 |\n",
       "| 2 | TYPE                | 0.03   | 1 | 681,648 | 0.00 | .864   | .000 |\n",
       "| 3 | CAMP $\\times$ TYPE | 142.14 | 1 | 681,648 | 0.00 | &lt; .001 | .000 |\n",
       "\n"
      ],
      "text/plain": [
       "  Effect              F      df1 df2     MSE  p      ges \n",
       "1 CAMP                690.32 1   681,648 0.00 < .001 .001\n",
       "2 TYPE                0.03   1   681,648 0.00 .864   .000\n",
       "3 CAMP $\\\\times$ TYPE 142.14 1   681,648 0.00 < .001 .000"
      ]
     },
     "metadata": {},
     "output_type": "display_data"
    }
   ],
   "source": [
    "apa0vb$table"
   ]
  },
  {
   "cell_type": "code",
   "execution_count": 36,
   "metadata": {},
   "outputs": [
    {
     "data": {
      "text/markdown": [
       "\n",
       "### full_result\n",
       "\n",
       "- full_result for `CAMP` is \n",
       "\n",
       "  - $F(1, 681,648) = 690.32$, $\\mathit{MSE} = 0.00$, $p < .001$, $\\hat{\\eta}^2_G = .001$\n",
       "\n",
       "- full_result for `TYPE` is \n",
       "\n",
       "  - $F(1, 681,648) = 0.03$, $\\mathit{MSE} = 0.00$, $p = .864$, $\\hat{\\eta}^2_G = .000$\n",
       "\n",
       "- full_result for `CAMP_TYPE` is \n",
       "\n",
       "  - $F(1, 681,648) = 142.14$, $\\mathit{MSE} = 0.00$, $p < .001$, $\\hat{\\eta}^2_G = .000$\n"
      ]
     },
     "metadata": {},
     "output_type": "display_data"
    }
   ],
   "source": [
    "display_markdown(apaMd(apa0vb[\"full_result\"]))"
   ]
  },
  {
   "cell_type": "code",
   "execution_count": 37,
   "metadata": {},
   "outputs": [
    {
     "data": {
      "text/html": [
       "<table>\n",
       "<caption>A apa_results_table: 3 × 7</caption>\n",
       "<thead>\n",
       "\t<tr><th></th><th scope=col>Effect</th><th scope=col>F</th><th scope=col>df1</th><th scope=col>df2</th><th scope=col>MSE</th><th scope=col>p</th><th scope=col>ges</th></tr>\n",
       "\t<tr><th></th><th scope=col>&lt;ppj_lbll&gt;</th><th scope=col>&lt;ppj_lbll&gt;</th><th scope=col>&lt;ppj_lbll&gt;</th><th scope=col>&lt;ppj_lbll&gt;</th><th scope=col>&lt;ppj_lbll&gt;</th><th scope=col>&lt;ppj_lbll&gt;</th><th scope=col>&lt;ppj_lbll&gt;</th></tr>\n",
       "</thead>\n",
       "<tbody>\n",
       "\t<tr><th scope=row>1</th><td><span style=white-space:pre-wrap>CAMP               </span></td><td>1,102.27</td><td>1</td><td>681,648</td><td>0.00</td><td>&lt; .001</td><td>.002</td></tr>\n",
       "\t<tr><th scope=row>2</th><td>TYPE               </td><td>5.54    </td><td>1</td><td>681,648</td><td>0.00</td><td>.019  </td><td>.000</td></tr>\n",
       "\t<tr><th scope=row>3</th><td>CAMP $\\times$ TYPE</td><td><span style=white-space:pre-wrap>506.68  </span></td><td>1</td><td>681,648</td><td>0.00</td><td>&lt; .001</td><td>.001</td></tr>\n",
       "</tbody>\n",
       "</table>\n"
      ],
      "text/latex": [
       "A apa\\_results\\_table: 3 × 7\n",
       "\\begin{tabular}{r|lllllll}\n",
       "  & Effect & F & df1 & df2 & MSE & p & ges\\\\\n",
       "  & <ppj\\_lbll> & <ppj\\_lbll> & <ppj\\_lbll> & <ppj\\_lbll> & <ppj\\_lbll> & <ppj\\_lbll> & <ppj\\_lbll>\\\\\n",
       "\\hline\n",
       "\t1 & CAMP                & 1,102.27 & 1 & 681,648 & 0.00 & < .001 & .002\\\\\n",
       "\t2 & TYPE                & 5.54     & 1 & 681,648 & 0.00 & .019   & .000\\\\\n",
       "\t3 & CAMP \\$\\textbackslash{}times\\$ TYPE & 506.68   & 1 & 681,648 & 0.00 & < .001 & .001\\\\\n",
       "\\end{tabular}\n"
      ],
      "text/markdown": [
       "\n",
       "A apa_results_table: 3 × 7\n",
       "\n",
       "| <!--/--> | Effect &lt;ppj_lbll&gt; | F &lt;ppj_lbll&gt; | df1 &lt;ppj_lbll&gt; | df2 &lt;ppj_lbll&gt; | MSE &lt;ppj_lbll&gt; | p &lt;ppj_lbll&gt; | ges &lt;ppj_lbll&gt; |\n",
       "|---|---|---|---|---|---|---|---|\n",
       "| 1 | CAMP                | 1,102.27 | 1 | 681,648 | 0.00 | &lt; .001 | .002 |\n",
       "| 2 | TYPE                | 5.54     | 1 | 681,648 | 0.00 | .019   | .000 |\n",
       "| 3 | CAMP $\\times$ TYPE | 506.68   | 1 | 681,648 | 0.00 | &lt; .001 | .001 |\n",
       "\n"
      ],
      "text/plain": [
       "  Effect              F        df1 df2     MSE  p      ges \n",
       "1 CAMP                1,102.27 1   681,648 0.00 < .001 .002\n",
       "2 TYPE                5.54     1   681,648 0.00 .019   .000\n",
       "3 CAMP $\\\\times$ TYPE 506.68   1   681,648 0.00 < .001 .001"
      ]
     },
     "metadata": {},
     "output_type": "display_data"
    }
   ],
   "source": [
    "apa0ag$table"
   ]
  },
  {
   "cell_type": "code",
   "execution_count": 38,
   "metadata": {},
   "outputs": [
    {
     "data": {
      "text/markdown": [
       "\n",
       "### full_result\n",
       "\n",
       "- full_result for `CAMP` is \n",
       "\n",
       "  - $F(1, 681,648) = 1,102.27$, $\\mathit{MSE} = 0.00$, $p < .001$, $\\hat{\\eta}^2_G = .002$\n",
       "\n",
       "- full_result for `TYPE` is \n",
       "\n",
       "  - $F(1, 681,648) = 5.54$, $\\mathit{MSE} = 0.00$, $p = .019$, $\\hat{\\eta}^2_G = .000$\n",
       "\n",
       "- full_result for `CAMP_TYPE` is \n",
       "\n",
       "  - $F(1, 681,648) = 506.68$, $\\mathit{MSE} = 0.00$, $p < .001$, $\\hat{\\eta}^2_G = .001$\n"
      ]
     },
     "metadata": {},
     "output_type": "display_data"
    }
   ],
   "source": [
    "display_markdown(apaMd(apa0ag[\"full_result\"]))"
   ]
  },
  {
   "cell_type": "markdown",
   "metadata": {},
   "source": [
    "# Confidence intervals"
   ]
  },
  {
   "cell_type": "code",
   "execution_count": 60,
   "metadata": {},
   "outputs": [
    {
     "data": {
      "text/html": [
       "<table>\n",
       "<caption>A effectsize_difference: 1 × 4</caption>\n",
       "<thead>\n",
       "\t<tr><th scope=col>Cohens_d</th><th scope=col>CI</th><th scope=col>CI_low</th><th scope=col>CI_high</th></tr>\n",
       "\t<tr><th scope=col>&lt;dbl&gt;</th><th scope=col>&lt;dbl&gt;</th><th scope=col>&lt;dbl&gt;</th><th scope=col>&lt;dbl&gt;</th></tr>\n",
       "</thead>\n",
       "<tbody>\n",
       "\t<tr><td>-0.1297162</td><td>0.95</td><td>-0.1376398</td><td>-0.1217924</td></tr>\n",
       "</tbody>\n",
       "</table>\n"
      ],
      "text/latex": [
       "A effectsize\\_difference: 1 × 4\n",
       "\\begin{tabular}{llll}\n",
       " Cohens\\_d & CI & CI\\_low & CI\\_high\\\\\n",
       " <dbl> & <dbl> & <dbl> & <dbl>\\\\\n",
       "\\hline\n",
       "\t -0.1297162 & 0.95 & -0.1376398 & -0.1217924\\\\\n",
       "\\end{tabular}\n"
      ],
      "text/markdown": [
       "\n",
       "A effectsize_difference: 1 × 4\n",
       "\n",
       "| Cohens_d &lt;dbl&gt; | CI &lt;dbl&gt; | CI_low &lt;dbl&gt; | CI_high &lt;dbl&gt; |\n",
       "|---|---|---|---|\n",
       "| -0.1297162 | 0.95 | -0.1376398 | -0.1217924 |\n",
       "\n"
      ],
      "text/plain": [
       "  Cohens_d   CI   CI_low     CI_high   \n",
       "1 -0.1297162 0.95 -0.1376398 -0.1217924"
      ]
     },
     "metadata": {},
     "output_type": "display_data"
    }
   ],
   "source": [
    "cohens_d(ag01Prc~CAMP, data = df2)"
   ]
  },
  {
   "cell_type": "code",
   "execution_count": 61,
   "metadata": {},
   "outputs": [
    {
     "data": {
      "text/html": [
       "<table>\n",
       "<caption>A effectsize_difference: 1 × 4</caption>\n",
       "<thead>\n",
       "\t<tr><th scope=col>Cohens_d</th><th scope=col>CI</th><th scope=col>CI_low</th><th scope=col>CI_high</th></tr>\n",
       "\t<tr><th scope=col>&lt;dbl&gt;</th><th scope=col>&lt;dbl&gt;</th><th scope=col>&lt;dbl&gt;</th><th scope=col>&lt;dbl&gt;</th></tr>\n",
       "</thead>\n",
       "<tbody>\n",
       "\t<tr><td>0.08332555</td><td>0.95</td><td>0.07857221</td><td>0.08807883</td></tr>\n",
       "</tbody>\n",
       "</table>\n"
      ],
      "text/latex": [
       "A effectsize\\_difference: 1 × 4\n",
       "\\begin{tabular}{llll}\n",
       " Cohens\\_d & CI & CI\\_low & CI\\_high\\\\\n",
       " <dbl> & <dbl> & <dbl> & <dbl>\\\\\n",
       "\\hline\n",
       "\t 0.08332555 & 0.95 & 0.07857221 & 0.08807883\\\\\n",
       "\\end{tabular}\n"
      ],
      "text/markdown": [
       "\n",
       "A effectsize_difference: 1 × 4\n",
       "\n",
       "| Cohens_d &lt;dbl&gt; | CI &lt;dbl&gt; | CI_low &lt;dbl&gt; | CI_high &lt;dbl&gt; |\n",
       "|---|---|---|---|\n",
       "| 0.08332555 | 0.95 | 0.07857221 | 0.08807883 |\n",
       "\n"
      ],
      "text/plain": [
       "  Cohens_d   CI   CI_low     CI_high   \n",
       "1 0.08332555 0.95 0.07857221 0.08807883"
      ]
     },
     "metadata": {},
     "output_type": "display_data"
    }
   ],
   "source": [
    "cohens_d(ag01Prc~TYPE, data = df2)"
   ]
  },
  {
   "cell_type": "markdown",
   "metadata": {},
   "source": [
    "# Estimated marginal means (Least-squares means)"
   ]
  },
  {
   "cell_type": "markdown",
   "metadata": {},
   "source": [
    "## Full model"
   ]
  },
  {
   "cell_type": "code",
   "execution_count": 39,
   "metadata": {},
   "outputs": [],
   "source": [
    "a1vb01PrcEm1 <- emmeans(a1vb01Prc, specs<-c(\"CAMP\", \"TYPE\"))\n",
    "a2ag01PrcEm1 <- emmeans(a2ag01Prc, specs<-c(\"CAMP\", \"TYPE\"))"
   ]
  },
  {
   "cell_type": "code",
   "execution_count": 40,
   "metadata": {},
   "outputs": [
    {
     "data": {
      "text/plain": [
       " CAMP      TYPE  emmean        SE     df lower.CL upper.CL\n",
       " metoo     ctrl 0.04491 0.0001031 681648  0.04470  0.04511\n",
       " sexstrike ctrl 0.04828 0.0003044 681648  0.04769  0.04888\n",
       " metoo     orig 0.04206 0.0001067 681648  0.04185  0.04227\n",
       " sexstrike orig 0.05105 0.0003267 681648  0.05041  0.05169\n",
       "\n",
       "Confidence level used: 0.95 "
      ]
     },
     "metadata": {},
     "output_type": "display_data"
    }
   ],
   "source": [
    "a1vb01PrcEm1"
   ]
  },
  {
   "cell_type": "code",
   "execution_count": 41,
   "metadata": {},
   "outputs": [
    {
     "data": {
      "text/plain": [
       " CAMP      TYPE emmean       SE     df lower.CL upper.CL\n",
       " metoo     ctrl 0.0402 0.000107 681648   0.0400   0.0404\n",
       " sexstrike ctrl 0.0428 0.000315 681648   0.0422   0.0434\n",
       " metoo     orig 0.0341 0.000111 681648   0.0339   0.0343\n",
       " sexstrike orig 0.0477 0.000338 681648   0.0470   0.0484\n",
       "\n",
       "Confidence level used: 0.95 "
      ]
     },
     "metadata": {},
     "output_type": "display_data"
    }
   ],
   "source": [
    "a2ag01PrcEm1"
   ]
  },
  {
   "cell_type": "code",
   "execution_count": 42,
   "metadata": {},
   "outputs": [
    {
     "data": {
      "text/plain": [
       " contrast                        estimate       SE     df t.ratio p.value\n",
       " metoo ctrl - sexstrike ctrl     -0.00338 0.000321 681648 -10.506 <.0001 \n",
       " metoo ctrl - metoo orig          0.00285 0.000148 681648  19.175 <.0001 \n",
       " metoo ctrl - sexstrike orig     -0.00614 0.000343 681648 -17.926 <.0001 \n",
       " sexstrike ctrl - metoo orig      0.00622 0.000323 681648  19.289 <.0001 \n",
       " sexstrike ctrl - sexstrike orig -0.00276 0.000447 681648  -6.192 <.0001 \n",
       " metoo orig - sexstrike orig     -0.00899 0.000344 681648 -26.147 <.0001 \n",
       "\n",
       "P value adjustment: tukey method for comparing a family of 4 estimates "
      ]
     },
     "metadata": {},
     "output_type": "display_data"
    }
   ],
   "source": [
    "pairs(a1vb01PrcEm1)"
   ]
  },
  {
   "cell_type": "code",
   "execution_count": 43,
   "metadata": {},
   "outputs": [
    {
     "data": {
      "text/plain": [
       " contrast                        estimate       SE     df t.ratio p.value\n",
       " metoo ctrl - sexstrike ctrl     -0.00261 0.000333 681648  -7.826 <.0001 \n",
       " metoo ctrl - metoo orig          0.00606 0.000154 681648  39.423 <.0001 \n",
       " metoo ctrl - sexstrike orig     -0.00752 0.000355 681648 -21.184 <.0001 \n",
       " sexstrike ctrl - metoo orig      0.00867 0.000334 681648  25.933 <.0001 \n",
       " sexstrike ctrl - sexstrike orig -0.00491 0.000463 681648 -10.620 <.0001 \n",
       " metoo orig - sexstrike orig     -0.01358 0.000356 681648 -38.136 <.0001 \n",
       "\n",
       "P value adjustment: tukey method for comparing a family of 4 estimates "
      ]
     },
     "metadata": {},
     "output_type": "display_data"
    }
   ],
   "source": [
    "pairs(a2ag01PrcEm1)"
   ]
  },
  {
   "cell_type": "code",
   "execution_count": 44,
   "metadata": {},
   "outputs": [],
   "source": [
    "TEST=adjusted(\"bonferroni\")"
   ]
  },
  {
   "cell_type": "code",
   "execution_count": 45,
   "metadata": {},
   "outputs": [],
   "source": [
    "TEST=adjusted(\"free\")"
   ]
  },
  {
   "cell_type": "code",
   "execution_count": 46,
   "metadata": {},
   "outputs": [
    {
     "data": {
      "text/plain": [
       "\n",
       "\t Simultaneous Tests for General Linear Hypotheses\n",
       "\n",
       "Linear Hypotheses:\n",
       "                                       Estimate Std. Error t value Pr(>|t|)    \n",
       "metoo ctrl - sexstrike ctrl == 0     -0.0033767  0.0003214 -10.506  < 2e-16 ***\n",
       "metoo ctrl - metoo orig == 0          0.0028453  0.0001484  19.175  < 2e-16 ***\n",
       "metoo ctrl - sexstrike orig == 0     -0.0061416  0.0003426 -17.926  < 2e-16 ***\n",
       "sexstrike ctrl - metoo orig == 0      0.0062220  0.0003226  19.289  < 2e-16 ***\n",
       "sexstrike ctrl - sexstrike orig == 0 -0.0027649  0.0004466  -6.192 5.96e-10 ***\n",
       "metoo orig - sexstrike orig == 0     -0.0089869  0.0003437 -26.147 4.95e-14 ***\n",
       "---\n",
       "Signif. codes:  0 ‘***’ 0.001 ‘**’ 0.01 ‘*’ 0.05 ‘.’ 0.1 ‘ ’ 1\n",
       "(Adjusted p values reported -- free method)\n"
      ]
     },
     "metadata": {},
     "output_type": "display_data"
    }
   ],
   "source": [
    "summary(as.glht(pairs(a1vb01PrcEm1)),test=TEST)"
   ]
  },
  {
   "cell_type": "code",
   "execution_count": 47,
   "metadata": {},
   "outputs": [
    {
     "data": {
      "text/plain": [
       "\n",
       "\t Simultaneous Tests for General Linear Hypotheses\n",
       "\n",
       "Linear Hypotheses:\n",
       "                                       Estimate Std. Error t value Pr(>|t|)    \n",
       "metoo ctrl - sexstrike ctrl == 0     -0.0026056  0.0003329  -7.826 1.82e-14 ***\n",
       "metoo ctrl - metoo orig == 0          0.0060598  0.0001537  39.423  < 2e-16 ***\n",
       "metoo ctrl - sexstrike orig == 0     -0.0075183  0.0003549 -21.184  < 2e-16 ***\n",
       "sexstrike ctrl - metoo orig == 0      0.0086654  0.0003341  25.933  < 2e-16 ***\n",
       "sexstrike ctrl - sexstrike orig == 0 -0.0049126  0.0004626 -10.620  < 2e-16 ***\n",
       "metoo orig - sexstrike orig == 0     -0.0135781  0.0003560 -38.136 1.82e-14 ***\n",
       "---\n",
       "Signif. codes:  0 ‘***’ 0.001 ‘**’ 0.01 ‘*’ 0.05 ‘.’ 0.1 ‘ ’ 1\n",
       "(Adjusted p values reported -- free method)\n"
      ]
     },
     "metadata": {},
     "output_type": "display_data"
    }
   ],
   "source": [
    "summary(as.glht(pairs(a2ag01PrcEm1)),test=TEST)"
   ]
  },
  {
   "cell_type": "markdown",
   "metadata": {},
   "source": [
    "## Contrasts"
   ]
  },
  {
   "cell_type": "markdown",
   "metadata": {},
   "source": [
    "# coef(contrast(a1vb01PrcEm1))"
   ]
  },
  {
   "cell_type": "code",
   "execution_count": 48,
   "metadata": {},
   "outputs": [
    {
     "data": {
      "text/html": [
       "<table>\n",
       "<caption>A data.frame: 4 × 6</caption>\n",
       "<thead>\n",
       "\t<tr><th></th><th scope=col>CAMP</th><th scope=col>TYPE</th><th scope=col>c.1</th><th scope=col>c.2</th><th scope=col>c.3</th><th scope=col>c.4</th></tr>\n",
       "\t<tr><th></th><th scope=col>&lt;fct&gt;</th><th scope=col>&lt;fct&gt;</th><th scope=col>&lt;dbl&gt;</th><th scope=col>&lt;dbl&gt;</th><th scope=col>&lt;dbl&gt;</th><th scope=col>&lt;dbl&gt;</th></tr>\n",
       "</thead>\n",
       "<tbody>\n",
       "\t<tr><th scope=row>metoo ctrl</th><td>metoo    </td><td>ctrl</td><td> 0.75</td><td>-0.25</td><td>-0.25</td><td>-0.25</td></tr>\n",
       "\t<tr><th scope=row>sexstrike ctrl</th><td>sexstrike</td><td>ctrl</td><td>-0.25</td><td> 0.75</td><td>-0.25</td><td>-0.25</td></tr>\n",
       "\t<tr><th scope=row>metoo orig</th><td>metoo    </td><td>orig</td><td>-0.25</td><td>-0.25</td><td> 0.75</td><td>-0.25</td></tr>\n",
       "\t<tr><th scope=row>sexstrike orig</th><td>sexstrike</td><td>orig</td><td>-0.25</td><td>-0.25</td><td>-0.25</td><td> 0.75</td></tr>\n",
       "</tbody>\n",
       "</table>\n"
      ],
      "text/latex": [
       "A data.frame: 4 × 6\n",
       "\\begin{tabular}{r|llllll}\n",
       "  & CAMP & TYPE & c.1 & c.2 & c.3 & c.4\\\\\n",
       "  & <fct> & <fct> & <dbl> & <dbl> & <dbl> & <dbl>\\\\\n",
       "\\hline\n",
       "\tmetoo ctrl & metoo     & ctrl &  0.75 & -0.25 & -0.25 & -0.25\\\\\n",
       "\tsexstrike ctrl & sexstrike & ctrl & -0.25 &  0.75 & -0.25 & -0.25\\\\\n",
       "\tmetoo orig & metoo     & orig & -0.25 & -0.25 &  0.75 & -0.25\\\\\n",
       "\tsexstrike orig & sexstrike & orig & -0.25 & -0.25 & -0.25 &  0.75\\\\\n",
       "\\end{tabular}\n"
      ],
      "text/markdown": [
       "\n",
       "A data.frame: 4 × 6\n",
       "\n",
       "| <!--/--> | CAMP &lt;fct&gt; | TYPE &lt;fct&gt; | c.1 &lt;dbl&gt; | c.2 &lt;dbl&gt; | c.3 &lt;dbl&gt; | c.4 &lt;dbl&gt; |\n",
       "|---|---|---|---|---|---|---|\n",
       "| metoo ctrl | metoo     | ctrl |  0.75 | -0.25 | -0.25 | -0.25 |\n",
       "| sexstrike ctrl | sexstrike | ctrl | -0.25 |  0.75 | -0.25 | -0.25 |\n",
       "| metoo orig | metoo     | orig | -0.25 | -0.25 |  0.75 | -0.25 |\n",
       "| sexstrike orig | sexstrike | orig | -0.25 | -0.25 | -0.25 |  0.75 |\n",
       "\n"
      ],
      "text/plain": [
       "               CAMP      TYPE c.1   c.2   c.3   c.4  \n",
       "metoo ctrl     metoo     ctrl  0.75 -0.25 -0.25 -0.25\n",
       "sexstrike ctrl sexstrike ctrl -0.25  0.75 -0.25 -0.25\n",
       "metoo orig     metoo     orig -0.25 -0.25  0.75 -0.25\n",
       "sexstrike orig sexstrike orig -0.25 -0.25 -0.25  0.75"
      ]
     },
     "metadata": {},
     "output_type": "display_data"
    }
   ],
   "source": [
    "coef(contrast(a2ag01PrcEm1))"
   ]
  },
  {
   "cell_type": "code",
   "execution_count": 49,
   "metadata": {},
   "outputs": [],
   "source": [
    "apa0vbEm1 <- apa_print(a1vb01PrcEm1)\n",
    "apa0agEm1 <- apa_print(a2ag01PrcEm1)"
   ]
  },
  {
   "cell_type": "code",
   "execution_count": 50,
   "metadata": {},
   "outputs": [
    {
     "data": {
      "text/html": [
       "<table>\n",
       "<caption>A apa_results_table: 4 × 6</caption>\n",
       "<thead>\n",
       "\t<tr><th></th><th scope=col>TYPE</th><th scope=col>CAMP</th><th scope=col>estimate</th><th scope=col>ci</th><th scope=col>statistic</th><th scope=col>p.value</th></tr>\n",
       "\t<tr><th></th><th scope=col>&lt;chr&gt;</th><th scope=col>&lt;chr&gt;</th><th scope=col>&lt;ppj_lbll&gt;</th><th scope=col>&lt;ppj_lbll&gt;</th><th scope=col>&lt;ppj_lbll&gt;</th><th scope=col>&lt;ppj_lbll&gt;</th></tr>\n",
       "</thead>\n",
       "<tbody>\n",
       "\t<tr><th scope=row>metoo_ctrl</th><td>ctrl</td><td><span style=white-space:pre-wrap>metoo    </span></td><td>0.04</td><td>$[0.04$, $0.05]$</td><td>435.50</td><td>&lt; .001</td></tr>\n",
       "\t<tr><th scope=row>sexstrike_ctrl</th><td><span style=white-space:pre-wrap>    </span></td><td>sexstrike</td><td>0.05</td><td>$[0.05$, $0.05]$</td><td>158.61</td><td>&lt; .001</td></tr>\n",
       "\t<tr><th scope=row>metoo_orig</th><td>orig</td><td><span style=white-space:pre-wrap>metoo    </span></td><td>0.04</td><td>$[0.04$, $0.04]$</td><td>394.17</td><td>&lt; .001</td></tr>\n",
       "\t<tr><th scope=row>sexstrike_orig</th><td><span style=white-space:pre-wrap>    </span></td><td>sexstrike</td><td>0.05</td><td>$[0.05$, $0.05]$</td><td>156.24</td><td>&lt; .001</td></tr>\n",
       "</tbody>\n",
       "</table>\n"
      ],
      "text/latex": [
       "A apa\\_results\\_table: 4 × 6\n",
       "\\begin{tabular}{r|llllll}\n",
       "  & TYPE & CAMP & estimate & ci & statistic & p.value\\\\\n",
       "  & <chr> & <chr> & <ppj\\_lbll> & <ppj\\_lbll> & <ppj\\_lbll> & <ppj\\_lbll>\\\\\n",
       "\\hline\n",
       "\tmetoo\\_ctrl & ctrl & metoo     & 0.04 & \\${[}0.04\\$, \\$0.05{]}\\$ & 435.50 & < .001\\\\\n",
       "\tsexstrike\\_ctrl &      & sexstrike & 0.05 & \\${[}0.05\\$, \\$0.05{]}\\$ & 158.61 & < .001\\\\\n",
       "\tmetoo\\_orig & orig & metoo     & 0.04 & \\${[}0.04\\$, \\$0.04{]}\\$ & 394.17 & < .001\\\\\n",
       "\tsexstrike\\_orig &      & sexstrike & 0.05 & \\${[}0.05\\$, \\$0.05{]}\\$ & 156.24 & < .001\\\\\n",
       "\\end{tabular}\n"
      ],
      "text/markdown": [
       "\n",
       "A apa_results_table: 4 × 6\n",
       "\n",
       "| <!--/--> | TYPE &lt;chr&gt; | CAMP &lt;chr&gt; | estimate &lt;ppj_lbll&gt; | ci &lt;ppj_lbll&gt; | statistic &lt;ppj_lbll&gt; | p.value &lt;ppj_lbll&gt; |\n",
       "|---|---|---|---|---|---|---|\n",
       "| metoo_ctrl | ctrl | metoo     | 0.04 | $[0.04$, $0.05]$ | 435.50 | &lt; .001 |\n",
       "| sexstrike_ctrl | <!----> | sexstrike | 0.05 | $[0.05$, $0.05]$ | 158.61 | &lt; .001 |\n",
       "| metoo_orig | orig | metoo     | 0.04 | $[0.04$, $0.04]$ | 394.17 | &lt; .001 |\n",
       "| sexstrike_orig | <!----> | sexstrike | 0.05 | $[0.05$, $0.05]$ | 156.24 | &lt; .001 |\n",
       "\n"
      ],
      "text/plain": [
       "               TYPE CAMP      estimate ci               statistic p.value\n",
       "metoo_ctrl     ctrl metoo     0.04     $[0.04$, $0.05]$ 435.50    < .001 \n",
       "sexstrike_ctrl      sexstrike 0.05     $[0.05$, $0.05]$ 158.61    < .001 \n",
       "metoo_orig     orig metoo     0.04     $[0.04$, $0.04]$ 394.17    < .001 \n",
       "sexstrike_orig      sexstrike 0.05     $[0.05$, $0.05]$ 156.24    < .001 "
      ]
     },
     "metadata": {},
     "output_type": "display_data"
    }
   ],
   "source": [
    "apa0vbEm1$table"
   ]
  },
  {
   "cell_type": "code",
   "execution_count": 51,
   "metadata": {},
   "outputs": [
    {
     "data": {
      "text/html": [
       "<table>\n",
       "<caption>A apa_results_table: 4 × 6</caption>\n",
       "<thead>\n",
       "\t<tr><th></th><th scope=col>TYPE</th><th scope=col>CAMP</th><th scope=col>estimate</th><th scope=col>ci</th><th scope=col>statistic</th><th scope=col>p.value</th></tr>\n",
       "\t<tr><th></th><th scope=col>&lt;chr&gt;</th><th scope=col>&lt;chr&gt;</th><th scope=col>&lt;ppj_lbll&gt;</th><th scope=col>&lt;ppj_lbll&gt;</th><th scope=col>&lt;ppj_lbll&gt;</th><th scope=col>&lt;ppj_lbll&gt;</th></tr>\n",
       "</thead>\n",
       "<tbody>\n",
       "\t<tr><th scope=row>metoo_ctrl</th><td>ctrl</td><td><span style=white-space:pre-wrap>metoo    </span></td><td>0.04</td><td>$[0.04$, $0.04]$</td><td>376.10</td><td>&lt; .001</td></tr>\n",
       "\t<tr><th scope=row>sexstrike_ctrl</th><td><span style=white-space:pre-wrap>    </span></td><td>sexstrike</td><td>0.04</td><td>$[0.04$, $0.04]$</td><td>135.66</td><td>&lt; .001</td></tr>\n",
       "\t<tr><th scope=row>metoo_orig</th><td>orig</td><td><span style=white-space:pre-wrap>metoo    </span></td><td>0.03</td><td>$[0.03$, $0.03]$</td><td>308.61</td><td>&lt; .001</td></tr>\n",
       "\t<tr><th scope=row>sexstrike_orig</th><td><span style=white-space:pre-wrap>    </span></td><td>sexstrike</td><td>0.05</td><td>$[0.05$, $0.05]$</td><td>140.91</td><td>&lt; .001</td></tr>\n",
       "</tbody>\n",
       "</table>\n"
      ],
      "text/latex": [
       "A apa\\_results\\_table: 4 × 6\n",
       "\\begin{tabular}{r|llllll}\n",
       "  & TYPE & CAMP & estimate & ci & statistic & p.value\\\\\n",
       "  & <chr> & <chr> & <ppj\\_lbll> & <ppj\\_lbll> & <ppj\\_lbll> & <ppj\\_lbll>\\\\\n",
       "\\hline\n",
       "\tmetoo\\_ctrl & ctrl & metoo     & 0.04 & \\${[}0.04\\$, \\$0.04{]}\\$ & 376.10 & < .001\\\\\n",
       "\tsexstrike\\_ctrl &      & sexstrike & 0.04 & \\${[}0.04\\$, \\$0.04{]}\\$ & 135.66 & < .001\\\\\n",
       "\tmetoo\\_orig & orig & metoo     & 0.03 & \\${[}0.03\\$, \\$0.03{]}\\$ & 308.61 & < .001\\\\\n",
       "\tsexstrike\\_orig &      & sexstrike & 0.05 & \\${[}0.05\\$, \\$0.05{]}\\$ & 140.91 & < .001\\\\\n",
       "\\end{tabular}\n"
      ],
      "text/markdown": [
       "\n",
       "A apa_results_table: 4 × 6\n",
       "\n",
       "| <!--/--> | TYPE &lt;chr&gt; | CAMP &lt;chr&gt; | estimate &lt;ppj_lbll&gt; | ci &lt;ppj_lbll&gt; | statistic &lt;ppj_lbll&gt; | p.value &lt;ppj_lbll&gt; |\n",
       "|---|---|---|---|---|---|---|\n",
       "| metoo_ctrl | ctrl | metoo     | 0.04 | $[0.04$, $0.04]$ | 376.10 | &lt; .001 |\n",
       "| sexstrike_ctrl | <!----> | sexstrike | 0.04 | $[0.04$, $0.04]$ | 135.66 | &lt; .001 |\n",
       "| metoo_orig | orig | metoo     | 0.03 | $[0.03$, $0.03]$ | 308.61 | &lt; .001 |\n",
       "| sexstrike_orig | <!----> | sexstrike | 0.05 | $[0.05$, $0.05]$ | 140.91 | &lt; .001 |\n",
       "\n"
      ],
      "text/plain": [
       "               TYPE CAMP      estimate ci               statistic p.value\n",
       "metoo_ctrl     ctrl metoo     0.04     $[0.04$, $0.04]$ 376.10    < .001 \n",
       "sexstrike_ctrl      sexstrike 0.04     $[0.04$, $0.04]$ 135.66    < .001 \n",
       "metoo_orig     orig metoo     0.03     $[0.03$, $0.03]$ 308.61    < .001 \n",
       "sexstrike_orig      sexstrike 0.05     $[0.05$, $0.05]$ 140.91    < .001 "
      ]
     },
     "metadata": {},
     "output_type": "display_data"
    }
   ],
   "source": [
    "apa0agEm1$table"
   ]
  },
  {
   "cell_type": "code",
   "execution_count": 52,
   "metadata": {},
   "outputs": [
    {
     "data": {
      "text/markdown": [
       "\n",
       "### full_result\n",
       "\n",
       "- full_result for `metoo_ctrl` is \n",
       "\n",
       "  - $M = 0.04$, 95\\% CI $[0.04$, $0.05]$, $t(681,648) = 435.50$, $p < .001$\n",
       "\n",
       "- full_result for `sexstrike_ctrl` is \n",
       "\n",
       "  - $M = 0.05$, 95\\% CI $[0.05$, $0.05]$, $t(681,648) = 158.61$, $p < .001$\n",
       "\n",
       "- full_result for `metoo_orig` is \n",
       "\n",
       "  - $M = 0.04$, 95\\% CI $[0.04$, $0.04]$, $t(681,648) = 394.17$, $p < .001$\n",
       "\n",
       "- full_result for `sexstrike_orig` is \n",
       "\n",
       "  - $M = 0.05$, 95\\% CI $[0.05$, $0.05]$, $t(681,648) = 156.24$, $p < .001$\n"
      ]
     },
     "metadata": {},
     "output_type": "display_data"
    }
   ],
   "source": [
    "display_markdown(apaMd(apa0vbEm1[\"full_result\"]))"
   ]
  },
  {
   "cell_type": "code",
   "execution_count": 53,
   "metadata": {},
   "outputs": [
    {
     "data": {
      "text/markdown": [
       "\n",
       "### full_result\n",
       "\n",
       "- full_result for `metoo_ctrl` is \n",
       "\n",
       "  - $M = 0.04$, 95\\% CI $[0.04$, $0.04]$, $t(681,648) = 376.10$, $p < .001$\n",
       "\n",
       "- full_result for `sexstrike_ctrl` is \n",
       "\n",
       "  - $M = 0.04$, 95\\% CI $[0.04$, $0.04]$, $t(681,648) = 135.66$, $p < .001$\n",
       "\n",
       "- full_result for `metoo_orig` is \n",
       "\n",
       "  - $M = 0.03$, 95\\% CI $[0.03$, $0.03]$, $t(681,648) = 308.61$, $p < .001$\n",
       "\n",
       "- full_result for `sexstrike_orig` is \n",
       "\n",
       "  - $M = 0.05$, 95\\% CI $[0.05$, $0.05]$, $t(681,648) = 140.91$, $p < .001$\n"
      ]
     },
     "metadata": {},
     "output_type": "display_data"
    }
   ],
   "source": [
    "display_markdown(apaMd(apa0agEm1[\"full_result\"]))"
   ]
  },
  {
   "cell_type": "code",
   "execution_count": 54,
   "metadata": {},
   "outputs": [],
   "source": [
    "apa0vbEm1Pa <- apa_print(pairs(a1vb01PrcEm1))\n",
    "apa0agEm1Pa <- apa_print(pairs(a2ag01PrcEm1))"
   ]
  },
  {
   "cell_type": "code",
   "execution_count": 55,
   "metadata": {},
   "outputs": [
    {
     "data": {
      "text/html": [
       "<table>\n",
       "<caption>A apa_results_table: 6 × 5</caption>\n",
       "<thead>\n",
       "\t<tr><th></th><th scope=col>contrast</th><th scope=col>estimate</th><th scope=col>ci</th><th scope=col>statistic</th><th scope=col>p.value</th></tr>\n",
       "\t<tr><th></th><th scope=col>&lt;ppj_lbll&gt;</th><th scope=col>&lt;ppj_lbll&gt;</th><th scope=col>&lt;ppj_lbll&gt;</th><th scope=col>&lt;ppj_lbll&gt;</th><th scope=col>&lt;ppj_lbll&gt;</th></tr>\n",
       "</thead>\n",
       "<tbody>\n",
       "\t<tr><th scope=row>metooctrl_sexstrikectrl</th><td><span style=white-space:pre-wrap>metoo ctrl - sexstrike ctrl    </span></td><td>0.00 </td><td><span style=white-space:pre-wrap>$[0.00$, $0.00]$  </span></td><td>-10.51</td><td>&lt; .001</td></tr>\n",
       "\t<tr><th scope=row>metooctrl_metooorig</th><td><span style=white-space:pre-wrap>metoo ctrl - metoo orig        </span></td><td>0.00 </td><td><span style=white-space:pre-wrap>$[0.00$, $0.00]$  </span></td><td>19.18 </td><td>&lt; .001</td></tr>\n",
       "\t<tr><th scope=row>metooctrl_sexstrikeorig</th><td><span style=white-space:pre-wrap>metoo ctrl - sexstrike orig    </span></td><td>-0.01</td><td>$[-0.01$, $-0.01]$</td><td>-17.93</td><td>&lt; .001</td></tr>\n",
       "\t<tr><th scope=row>sexstrikectrl_metooorig</th><td><span style=white-space:pre-wrap>sexstrike ctrl - metoo orig    </span></td><td>0.01 </td><td><span style=white-space:pre-wrap>$[0.01$, $0.01]$  </span></td><td>19.29 </td><td>&lt; .001</td></tr>\n",
       "\t<tr><th scope=row>sexstrikectrl_sexstrikeorig</th><td>sexstrike ctrl - sexstrike orig</td><td>0.00 </td><td><span style=white-space:pre-wrap>$[0.00$, $0.00]$  </span></td><td>-6.19 </td><td>&lt; .001</td></tr>\n",
       "\t<tr><th scope=row>metooorig_sexstrikeorig</th><td><span style=white-space:pre-wrap>metoo orig - sexstrike orig    </span></td><td>-0.01</td><td>$[-0.01$, $-0.01]$</td><td>-26.15</td><td>&lt; .001</td></tr>\n",
       "</tbody>\n",
       "</table>\n"
      ],
      "text/latex": [
       "A apa\\_results\\_table: 6 × 5\n",
       "\\begin{tabular}{r|lllll}\n",
       "  & contrast & estimate & ci & statistic & p.value\\\\\n",
       "  & <ppj\\_lbll> & <ppj\\_lbll> & <ppj\\_lbll> & <ppj\\_lbll> & <ppj\\_lbll>\\\\\n",
       "\\hline\n",
       "\tmetooctrl\\_sexstrikectrl & metoo ctrl - sexstrike ctrl     & 0.00  & \\${[}0.00\\$, \\$0.00{]}\\$   & -10.51 & < .001\\\\\n",
       "\tmetooctrl\\_metooorig & metoo ctrl - metoo orig         & 0.00  & \\${[}0.00\\$, \\$0.00{]}\\$   & 19.18  & < .001\\\\\n",
       "\tmetooctrl\\_sexstrikeorig & metoo ctrl - sexstrike orig     & -0.01 & \\${[}-0.01\\$, \\$-0.01{]}\\$ & -17.93 & < .001\\\\\n",
       "\tsexstrikectrl\\_metooorig & sexstrike ctrl - metoo orig     & 0.01  & \\${[}0.01\\$, \\$0.01{]}\\$   & 19.29  & < .001\\\\\n",
       "\tsexstrikectrl\\_sexstrikeorig & sexstrike ctrl - sexstrike orig & 0.00  & \\${[}0.00\\$, \\$0.00{]}\\$   & -6.19  & < .001\\\\\n",
       "\tmetooorig\\_sexstrikeorig & metoo orig - sexstrike orig     & -0.01 & \\${[}-0.01\\$, \\$-0.01{]}\\$ & -26.15 & < .001\\\\\n",
       "\\end{tabular}\n"
      ],
      "text/markdown": [
       "\n",
       "A apa_results_table: 6 × 5\n",
       "\n",
       "| <!--/--> | contrast &lt;ppj_lbll&gt; | estimate &lt;ppj_lbll&gt; | ci &lt;ppj_lbll&gt; | statistic &lt;ppj_lbll&gt; | p.value &lt;ppj_lbll&gt; |\n",
       "|---|---|---|---|---|---|\n",
       "| metooctrl_sexstrikectrl | metoo ctrl - sexstrike ctrl     | 0.00  | $[0.00$, $0.00]$   | -10.51 | &lt; .001 |\n",
       "| metooctrl_metooorig | metoo ctrl - metoo orig         | 0.00  | $[0.00$, $0.00]$   | 19.18  | &lt; .001 |\n",
       "| metooctrl_sexstrikeorig | metoo ctrl - sexstrike orig     | -0.01 | $[-0.01$, $-0.01]$ | -17.93 | &lt; .001 |\n",
       "| sexstrikectrl_metooorig | sexstrike ctrl - metoo orig     | 0.01  | $[0.01$, $0.01]$   | 19.29  | &lt; .001 |\n",
       "| sexstrikectrl_sexstrikeorig | sexstrike ctrl - sexstrike orig | 0.00  | $[0.00$, $0.00]$   | -6.19  | &lt; .001 |\n",
       "| metooorig_sexstrikeorig | metoo orig - sexstrike orig     | -0.01 | $[-0.01$, $-0.01]$ | -26.15 | &lt; .001 |\n",
       "\n"
      ],
      "text/plain": [
       "                            contrast                        estimate ci                 statistic p.value\n",
       "metooctrl_sexstrikectrl     metoo ctrl - sexstrike ctrl     0.00     $[0.00$, $0.00]$   -10.51    < .001 \n",
       "metooctrl_metooorig         metoo ctrl - metoo orig         0.00     $[0.00$, $0.00]$   19.18     < .001 \n",
       "metooctrl_sexstrikeorig     metoo ctrl - sexstrike orig     -0.01    $[-0.01$, $-0.01]$ -17.93    < .001 \n",
       "sexstrikectrl_metooorig     sexstrike ctrl - metoo orig     0.01     $[0.01$, $0.01]$   19.29     < .001 \n",
       "sexstrikectrl_sexstrikeorig sexstrike ctrl - sexstrike orig 0.00     $[0.00$, $0.00]$   -6.19     < .001 \n",
       "metooorig_sexstrikeorig     metoo orig - sexstrike orig     -0.01    $[-0.01$, $-0.01]$ -26.15    < .001 "
      ]
     },
     "metadata": {},
     "output_type": "display_data"
    }
   ],
   "source": [
    "apa0vbEm1Pa$table"
   ]
  },
  {
   "cell_type": "code",
   "execution_count": 56,
   "metadata": {},
   "outputs": [
    {
     "data": {
      "text/html": [
       "<table>\n",
       "<caption>A apa_results_table: 6 × 5</caption>\n",
       "<thead>\n",
       "\t<tr><th></th><th scope=col>contrast</th><th scope=col>estimate</th><th scope=col>ci</th><th scope=col>statistic</th><th scope=col>p.value</th></tr>\n",
       "\t<tr><th></th><th scope=col>&lt;ppj_lbll&gt;</th><th scope=col>&lt;ppj_lbll&gt;</th><th scope=col>&lt;ppj_lbll&gt;</th><th scope=col>&lt;ppj_lbll&gt;</th><th scope=col>&lt;ppj_lbll&gt;</th></tr>\n",
       "</thead>\n",
       "<tbody>\n",
       "\t<tr><th scope=row>metooctrl_sexstrikectrl</th><td><span style=white-space:pre-wrap>metoo ctrl - sexstrike ctrl    </span></td><td>0.00 </td><td><span style=white-space:pre-wrap>$[0.00$, $0.00]$  </span></td><td>-7.83 </td><td>&lt; .001</td></tr>\n",
       "\t<tr><th scope=row>metooctrl_metooorig</th><td><span style=white-space:pre-wrap>metoo ctrl - metoo orig        </span></td><td>0.01 </td><td><span style=white-space:pre-wrap>$[0.01$, $0.01]$  </span></td><td>39.42 </td><td>&lt; .001</td></tr>\n",
       "\t<tr><th scope=row>metooctrl_sexstrikeorig</th><td><span style=white-space:pre-wrap>metoo ctrl - sexstrike orig    </span></td><td>-0.01</td><td>$[-0.01$, $-0.01]$</td><td>-21.18</td><td>&lt; .001</td></tr>\n",
       "\t<tr><th scope=row>sexstrikectrl_metooorig</th><td><span style=white-space:pre-wrap>sexstrike ctrl - metoo orig    </span></td><td>0.01 </td><td><span style=white-space:pre-wrap>$[0.01$, $0.01]$  </span></td><td>25.93 </td><td>&lt; .001</td></tr>\n",
       "\t<tr><th scope=row>sexstrikectrl_sexstrikeorig</th><td>sexstrike ctrl - sexstrike orig</td><td>0.00 </td><td>$[-0.01$, $0.00]$ </td><td>-10.62</td><td>&lt; .001</td></tr>\n",
       "\t<tr><th scope=row>metooorig_sexstrikeorig</th><td><span style=white-space:pre-wrap>metoo orig - sexstrike orig    </span></td><td>-0.01</td><td>$[-0.01$, $-0.01]$</td><td>-38.14</td><td>&lt; .001</td></tr>\n",
       "</tbody>\n",
       "</table>\n"
      ],
      "text/latex": [
       "A apa\\_results\\_table: 6 × 5\n",
       "\\begin{tabular}{r|lllll}\n",
       "  & contrast & estimate & ci & statistic & p.value\\\\\n",
       "  & <ppj\\_lbll> & <ppj\\_lbll> & <ppj\\_lbll> & <ppj\\_lbll> & <ppj\\_lbll>\\\\\n",
       "\\hline\n",
       "\tmetooctrl\\_sexstrikectrl & metoo ctrl - sexstrike ctrl     & 0.00  & \\${[}0.00\\$, \\$0.00{]}\\$   & -7.83  & < .001\\\\\n",
       "\tmetooctrl\\_metooorig & metoo ctrl - metoo orig         & 0.01  & \\${[}0.01\\$, \\$0.01{]}\\$   & 39.42  & < .001\\\\\n",
       "\tmetooctrl\\_sexstrikeorig & metoo ctrl - sexstrike orig     & -0.01 & \\${[}-0.01\\$, \\$-0.01{]}\\$ & -21.18 & < .001\\\\\n",
       "\tsexstrikectrl\\_metooorig & sexstrike ctrl - metoo orig     & 0.01  & \\${[}0.01\\$, \\$0.01{]}\\$   & 25.93  & < .001\\\\\n",
       "\tsexstrikectrl\\_sexstrikeorig & sexstrike ctrl - sexstrike orig & 0.00  & \\${[}-0.01\\$, \\$0.00{]}\\$  & -10.62 & < .001\\\\\n",
       "\tmetooorig\\_sexstrikeorig & metoo orig - sexstrike orig     & -0.01 & \\${[}-0.01\\$, \\$-0.01{]}\\$ & -38.14 & < .001\\\\\n",
       "\\end{tabular}\n"
      ],
      "text/markdown": [
       "\n",
       "A apa_results_table: 6 × 5\n",
       "\n",
       "| <!--/--> | contrast &lt;ppj_lbll&gt; | estimate &lt;ppj_lbll&gt; | ci &lt;ppj_lbll&gt; | statistic &lt;ppj_lbll&gt; | p.value &lt;ppj_lbll&gt; |\n",
       "|---|---|---|---|---|---|\n",
       "| metooctrl_sexstrikectrl | metoo ctrl - sexstrike ctrl     | 0.00  | $[0.00$, $0.00]$   | -7.83  | &lt; .001 |\n",
       "| metooctrl_metooorig | metoo ctrl - metoo orig         | 0.01  | $[0.01$, $0.01]$   | 39.42  | &lt; .001 |\n",
       "| metooctrl_sexstrikeorig | metoo ctrl - sexstrike orig     | -0.01 | $[-0.01$, $-0.01]$ | -21.18 | &lt; .001 |\n",
       "| sexstrikectrl_metooorig | sexstrike ctrl - metoo orig     | 0.01  | $[0.01$, $0.01]$   | 25.93  | &lt; .001 |\n",
       "| sexstrikectrl_sexstrikeorig | sexstrike ctrl - sexstrike orig | 0.00  | $[-0.01$, $0.00]$  | -10.62 | &lt; .001 |\n",
       "| metooorig_sexstrikeorig | metoo orig - sexstrike orig     | -0.01 | $[-0.01$, $-0.01]$ | -38.14 | &lt; .001 |\n",
       "\n"
      ],
      "text/plain": [
       "                            contrast                        estimate ci                 statistic p.value\n",
       "metooctrl_sexstrikectrl     metoo ctrl - sexstrike ctrl     0.00     $[0.00$, $0.00]$   -7.83     < .001 \n",
       "metooctrl_metooorig         metoo ctrl - metoo orig         0.01     $[0.01$, $0.01]$   39.42     < .001 \n",
       "metooctrl_sexstrikeorig     metoo ctrl - sexstrike orig     -0.01    $[-0.01$, $-0.01]$ -21.18    < .001 \n",
       "sexstrikectrl_metooorig     sexstrike ctrl - metoo orig     0.01     $[0.01$, $0.01]$   25.93     < .001 \n",
       "sexstrikectrl_sexstrikeorig sexstrike ctrl - sexstrike orig 0.00     $[-0.01$, $0.00]$  -10.62    < .001 \n",
       "metooorig_sexstrikeorig     metoo orig - sexstrike orig     -0.01    $[-0.01$, $-0.01]$ -38.14    < .001 "
      ]
     },
     "metadata": {},
     "output_type": "display_data"
    }
   ],
   "source": [
    "apa0agEm1Pa$table"
   ]
  },
  {
   "cell_type": "code",
   "execution_count": 57,
   "metadata": {},
   "outputs": [
    {
     "data": {
      "text/markdown": [
       "\n",
       "### full_result\n",
       "\n",
       "- full_result for `metooctrl_sexstrikectrl` is \n",
       "\n",
       "  - $\\Delta M = 0.00$, 95\\% CI $[0.00$, $0.00]$, $t(681,648) = -10.51$, $p < .001$\n",
       "\n",
       "- full_result for `metooctrl_metooorig` is \n",
       "\n",
       "  - $\\Delta M = 0.00$, 95\\% CI $[0.00$, $0.00]$, $t(681,648) = 19.18$, $p < .001$\n",
       "\n",
       "- full_result for `metooctrl_sexstrikeorig` is \n",
       "\n",
       "  - $\\Delta M = -0.01$, 95\\% CI $[-0.01$, $-0.01]$, $t(681,648) = -17.93$, $p < .001$\n",
       "\n",
       "- full_result for `sexstrikectrl_metooorig` is \n",
       "\n",
       "  - $\\Delta M = 0.01$, 95\\% CI $[0.01$, $0.01]$, $t(681,648) = 19.29$, $p < .001$\n",
       "\n",
       "- full_result for `sexstrikectrl_sexstrikeorig` is \n",
       "\n",
       "  - $\\Delta M = 0.00$, 95\\% CI $[0.00$, $0.00]$, $t(681,648) = -6.19$, $p < .001$\n",
       "\n",
       "- full_result for `metooorig_sexstrikeorig` is \n",
       "\n",
       "  - $\\Delta M = -0.01$, 95\\% CI $[-0.01$, $-0.01]$, $t(681,648) = -26.15$, $p < .001$\n"
      ]
     },
     "metadata": {},
     "output_type": "display_data"
    }
   ],
   "source": [
    "display_markdown(apaMd(apa0vbEm1Pa[\"full_result\"]))"
   ]
  },
  {
   "cell_type": "code",
   "execution_count": 58,
   "metadata": {
    "scrolled": true
   },
   "outputs": [
    {
     "data": {
      "text/markdown": [
       "\n",
       "### full_result\n",
       "\n",
       "- full_result for `metooctrl_sexstrikectrl` is \n",
       "\n",
       "  - $\\Delta M = 0.00$, 95\\% CI $[0.00$, $0.00]$, $t(681,648) = -7.83$, $p < .001$\n",
       "\n",
       "- full_result for `metooctrl_metooorig` is \n",
       "\n",
       "  - $\\Delta M = 0.01$, 95\\% CI $[0.01$, $0.01]$, $t(681,648) = 39.42$, $p < .001$\n",
       "\n",
       "- full_result for `metooctrl_sexstrikeorig` is \n",
       "\n",
       "  - $\\Delta M = -0.01$, 95\\% CI $[-0.01$, $-0.01]$, $t(681,648) = -21.18$, $p < .001$\n",
       "\n",
       "- full_result for `sexstrikectrl_metooorig` is \n",
       "\n",
       "  - $\\Delta M = 0.01$, 95\\% CI $[0.01$, $0.01]$, $t(681,648) = 25.93$, $p < .001$\n",
       "\n",
       "- full_result for `sexstrikectrl_sexstrikeorig` is \n",
       "\n",
       "  - $\\Delta M = 0.00$, 95\\% CI $[-0.01$, $0.00]$, $t(681,648) = -10.62$, $p < .001$\n",
       "\n",
       "- full_result for `metooorig_sexstrikeorig` is \n",
       "\n",
       "  - $\\Delta M = -0.01$, 95\\% CI $[-0.01$, $-0.01]$, $t(681,648) = -38.14$, $p < .001$\n"
      ]
     },
     "metadata": {},
     "output_type": "display_data"
    }
   ],
   "source": [
    "display_markdown(apaMd(apa0agEm1Pa[\"full_result\"]))"
   ]
  },
  {
   "cell_type": "code",
   "execution_count": null,
   "metadata": {},
   "outputs": [],
   "source": [
    "#                      ___           ___                    ___           ___                   \n",
    "#                     /\\  \\         /\\__\\                  /\\__\\         /\\  \\         _____    \n",
    "#        ___          \\:\\  \\       /:/ _/_                /:/ _/_        \\:\\  \\       /::\\  \\   \n",
    "#       /\\__\\          \\:\\  \\     /:/ /\\__\\              /:/ /\\__\\        \\:\\  \\     /:/\\:\\  \\  \n",
    "#      /:/  /      ___ /::\\  \\   /:/ /:/ _/_            /:/ /:/ _/_   _____\\:\\  \\   /:/  \\:\\__\\ \n",
    "#     /:/__/      /\\  /:/\\:\\__\\ /:/_/:/ /\\__\\          /:/_/:/ /\\__\\ /::::::::\\__\\ /:/__/ \\:|__|\n",
    "#    /::\\  \\      \\:\\/:/  \\/__/ \\:\\/:/ /:/  /          \\:\\/:/ /:/  / \\:\\~~\\~~\\/__/ \\:\\  \\ /:/  /\n",
    "#   /:/\\:\\  \\      \\::/__/       \\::/_/:/  /            \\::/_/:/  /   \\:\\  \\        \\:\\  /:/  / \n",
    "#   \\/__\\:\\  \\      \\:\\  \\        \\:\\/:/  /              \\:\\/:/  /     \\:\\  \\        \\:\\/:/  /  \n",
    "#        \\:\\__\\      \\:\\__\\        \\::/  /                \\::/  /       \\:\\__\\        \\::/  /   \n",
    "#         \\/__/       \\/__/         \\/__/                  \\/__/         \\/__/         \\/__/    \n",
    "#  \n",
    "\n",
    "\n"
   ]
  },
  {
   "cell_type": "markdown",
   "metadata": {},
   "source": [
    "# Handy plots"
   ]
  },
  {
   "cell_type": "markdown",
   "metadata": {},
   "source": [
    "Quote from: https://cran.r-project.org/web/packages/emmeans/vignettes/comparisons.html\n",
    "> The blue bars are confidence intervals for the EMMs, and the red arrows are for the comparisons among them. If an arrow from one mean overlaps an arrow from another group, the difference is not “significant,” based on the adjust setting (which defaults to \"tukey\") and the value of alpha (which defaults to 0.05). See the “xplanations” supplement for details on how these are derived."
   ]
  },
  {
   "cell_type": "code",
   "execution_count": null,
   "metadata": {},
   "outputs": [],
   "source": [
    "library(repr)\n",
    "options(repr.plot.width=8, repr.plot.height=4)\n",
    "# fig.height = 10\n",
    "# fig.width = 5\n",
    "plot(a1vb01PrcEm2, comparisons=TRUE, xlab=\"% Verb\")+\n",
    "coord_fixed(ratio = 0.004,xlim=c(0.030, 0.055),ylim=NULL,expand=TRUE,clip=\"on\")\n",
    "#+ \n",
    "#  theme(\n",
    "#      plot.margin = margin(.2,.2,.2,.2, \"cm\"),\n",
    "#      plot.background = element_rect(fill = \"darkgrey\")\n",
    "#  )\n",
    "\n",
    "plot(a2ag01PrcEm2, comparisons=TRUE, xlab=\"% Dict\")+\n",
    "coord_fixed(ratio = 0.004,xlim=c(0.030, 0.055),ylim=NULL,expand=TRUE,clip=\"on\")\n"
   ]
  },
  {
   "cell_type": "markdown",
   "metadata": {},
   "source": [
    "## Effect of TYPE (ctrl, orig) conditional on CAMP (#sexstrike, #metoo)"
   ]
  },
  {
   "cell_type": "code",
   "execution_count": null,
   "metadata": {},
   "outputs": [],
   "source": [
    "a1vb01PrcEm2 <- emmeans(a1vb01Prc, specs<-c(\"TYPE\"), by<-\"CAMP\")\n",
    "a2ag01PrcEm2 <- emmeans(a2ag01Prc, specs<-c(\"TYPE\"), by<-\"CAMP\")"
   ]
  },
  {
   "cell_type": "code",
   "execution_count": null,
   "metadata": {},
   "outputs": [],
   "source": [
    "a1vb01PrcEm2"
   ]
  },
  {
   "cell_type": "code",
   "execution_count": null,
   "metadata": {},
   "outputs": [],
   "source": [
    "a2ag01PrcEm2"
   ]
  },
  {
   "cell_type": "code",
   "execution_count": null,
   "metadata": {},
   "outputs": [],
   "source": [
    "pairs(a1vb01PrcEm2)"
   ]
  },
  {
   "cell_type": "code",
   "execution_count": null,
   "metadata": {},
   "outputs": [],
   "source": [
    "pairs(a2ag01PrcEm2)"
   ]
  },
  {
   "cell_type": "code",
   "execution_count": null,
   "metadata": {},
   "outputs": [],
   "source": [
    "summary(as.glht(pairs(a1vb01PrcEm2)),test=TEST)"
   ]
  },
  {
   "cell_type": "code",
   "execution_count": null,
   "metadata": {},
   "outputs": [],
   "source": [
    "summary(as.glht(pairs(a2ag01PrcEm2)),test=TEST)"
   ]
  },
  {
   "cell_type": "markdown",
   "metadata": {},
   "source": [
    "# Helpers"
   ]
  },
  {
   "cell_type": "code",
   "execution_count": null,
   "metadata": {},
   "outputs": [],
   "source": [
    "?mixed"
   ]
  },
  {
   "cell_type": "code",
   "execution_count": null,
   "metadata": {},
   "outputs": [],
   "source": [
    "?scale"
   ]
  },
  {
   "cell_type": "code",
   "execution_count": null,
   "metadata": {},
   "outputs": [],
   "source": [
    "?lmer"
   ]
  },
  {
   "cell_type": "code",
   "execution_count": null,
   "metadata": {},
   "outputs": [],
   "source": [
    "?aov_4"
   ]
  },
  {
   "cell_type": "code",
   "execution_count": null,
   "metadata": {},
   "outputs": [],
   "source": [
    "?emmeans"
   ]
  },
  {
   "cell_type": "code",
   "execution_count": null,
   "metadata": {},
   "outputs": [],
   "source": [
    "?coord_fixed"
   ]
  },
  {
   "cell_type": "markdown",
   "metadata": {},
   "source": [
    "# Extras"
   ]
  },
  {
   "cell_type": "code",
   "execution_count": null,
   "metadata": {},
   "outputs": [],
   "source": [
    "df2$retweets <- as.numeric(df2$retweets) # TODO FIXME This should be fixed elsewhere!"
   ]
  },
  {
   "cell_type": "code",
   "execution_count": null,
   "metadata": {
    "scrolled": true
   },
   "outputs": [],
   "source": [
    "df2$ReTw <- cut(df2$retweets,\n",
    "                breaks=c(0, 5, 25, 125, Inf), \n",
    "                right  = FALSE,\n",
    "              # labels=c(\"low\",\"med\",\"high\",\"viral\")\n",
    "               )\n",
    "\n",
    "str(df2)"
   ]
  },
  {
   "cell_type": "markdown",
   "metadata": {},
   "source": [
    "# Playground"
   ]
  },
  {
   "cell_type": "code",
   "execution_count": null,
   "metadata": {},
   "outputs": [],
   "source": [
    "plot_grid(\n",
    "  afex_plot(\n",
    "      a1vb01Prc, \n",
    "      x=\"TYPE\", \n",
    "      trace=\"CAMP\",\n",
    "      error = \"between\", \n",
    "      data_geom = geom_quasirandom, \n",
    "      data_alpha = 0.3) + \n",
    "    coord_cartesian(ylim = c(0, 1)),\n",
    "  afex_plot(\n",
    "      a2ag01Prc, \n",
    "      x=\"TYPE\", \n",
    "      trace=\"CAMP\",\n",
    "      error = \"between\", \n",
    "      data_geom = geom_quasirandom, \n",
    "      data_alpha = 0.3) +\n",
    "    coord_cartesian(ylim = c(0, 1))\n",
    ")"
   ]
  },
  {
   "cell_type": "code",
   "execution_count": null,
   "metadata": {},
   "outputs": [],
   "source": [
    "qqPlot(a1vb01Prc$aov$residuals)"
   ]
  },
  {
   "cell_type": "code",
   "execution_count": null,
   "metadata": {},
   "outputs": [],
   "source": [
    "qqPlot(a2ag01Prc$aov$residuals)"
   ]
  },
  {
   "cell_type": "code",
   "execution_count": null,
   "metadata": {},
   "outputs": [],
   "source": [
    "shapiro.test(a1vb01Prc$aov$residuals)"
   ]
  },
  {
   "cell_type": "code",
   "execution_count": null,
   "metadata": {},
   "outputs": [],
   "source": [
    "shapiro.test(a2ag01Prc$aov$residuals)"
   ]
  },
  {
   "cell_type": "code",
   "execution_count": null,
   "metadata": {},
   "outputs": [],
   "source": [
    "ad.test(a1vb01Prc$aov$residuals)$p.value"
   ]
  },
  {
   "cell_type": "code",
   "execution_count": null,
   "metadata": {},
   "outputs": [],
   "source": [
    "ad.test(a2ag01Prc$aov$residuals)$p.value"
   ]
  },
  {
   "cell_type": "code",
   "execution_count": null,
   "metadata": {},
   "outputs": [],
   "source": [
    "test_levene(a1vb01Prc)"
   ]
  },
  {
   "cell_type": "code",
   "execution_count": null,
   "metadata": {},
   "outputs": [],
   "source": [
    "test_levene(a2ag01Prc)"
   ]
  },
  {
   "cell_type": "code",
   "execution_count": null,
   "metadata": {},
   "outputs": [],
   "source": [
    "library(\"pwr\")"
   ]
  },
  {
   "cell_type": "code",
   "execution_count": null,
   "metadata": {},
   "outputs": [],
   "source": [
    "?pwr.anova.test"
   ]
  },
  {
   "cell_type": "code",
   "execution_count": null,
   "metadata": {},
   "outputs": [],
   "source": [
    "?summary"
   ]
  },
  {
   "cell_type": "code",
   "execution_count": null,
   "metadata": {},
   "outputs": [],
   "source": [
    "convert_ipynb"
   ]
  },
  {
   "cell_type": "code",
   "execution_count": null,
   "metadata": {},
   "outputs": [],
   "source": [
    "?apa_print\n"
   ]
  },
  {
   "cell_type": "code",
   "execution_count": null,
   "metadata": {},
   "outputs": [],
   "source": [
    "methods(\"apa_print\")"
   ]
  },
  {
   "cell_type": "code",
   "execution_count": null,
   "metadata": {},
   "outputs": [],
   "source": []
  }
 ],
 "metadata": {
  "kernelspec": {
   "display_name": "R",
   "language": "R",
   "name": "ir"
  },
  "language_info": {
   "codemirror_mode": "r",
   "file_extension": ".r",
   "mimetype": "text/x-r-source",
   "name": "R",
   "pygments_lexer": "r",
   "version": "3.6.3"
  }
 },
 "nbformat": 4,
 "nbformat_minor": 4
}
