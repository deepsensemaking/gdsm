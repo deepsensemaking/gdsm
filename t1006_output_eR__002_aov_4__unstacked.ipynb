{
 "cells": [
  {
   "cell_type": "markdown",
   "metadata": {},
   "source": [
    "# Useful links"
   ]
  },
  {
   "cell_type": "markdown",
   "metadata": {},
   "source": [
    "- [ ] https://cran.r-project.org/web/packages/afex/vignettes/introduction-mixed-models.pdf\n",
    "- [ ] https://cran.r-project.org/web/packages/afex/afex.pdf\n",
    "- [ ] https://cran.r-project.org/web/packages/afex/index.html\n",
    "- [ ] https://cran.r-project.org/web/packages/afex/vignettes/afex_analysing_accuracy_data.html\n",
    "- [ ] https://cran.r-project.org/web/packages/afex/vignettes/afex_anova_example.html\n",
    "- [ ] https://cran.r-project.org/web/packages/afex/vignettes/afex_mixed_example.html\n",
    "- [ ] https://cran.r-project.org/web/packages/emmeans/vignettes/comparisons.html\n",
    "- [ ] https://cran.r-project.org/web/packages/emmeans/vignettes/messy-data.html\n",
    "- [ ] https://cran.r-project.org/web/packages/emmeans/vignettes/interactions.html\n",
    "- [ ] https://cran.r-project.org/web/packages/emmeans/vignettes/basics.html\n",
    "- [ ] https://cran.r-project.org/web/packages/afex/vignettes/afex_mixed_example.html"
   ]
  },
  {
   "cell_type": "markdown",
   "metadata": {},
   "source": [
    "- [ ] https://osf.io/nfwx7/"
   ]
  },
  {
   "cell_type": "markdown",
   "metadata": {},
   "source": [
    "- [ ] https://stats.stackexchange.com/questions/13166/rs-lmer-cheat-sheet"
   ]
  },
  {
   "cell_type": "markdown",
   "metadata": {},
   "source": [
    "- [ ] https://psu-psychology.github.io/r-bootcamp-2018/index.html\n",
    "- [ ] http://tysonbarrett.com/EDUC-6600/Resources/Example_Ch15_rmANOVA.html\n",
    "- [ ] http://singmann.org/anova-in-r-afex-may-be-the-solution-you-are-looking-for/\n",
    "- [ ] https://ademos.people.uic.edu/Chapter21.html\n",
    "- [ ] https://www.psychologie.uni-heidelberg.de/ae/meth/team/mertens/blog/anova_in_r_made_easy.nb.html\n",
    "- [ ] http://tysonbarrett.com/EDUC-6600/Resources/Example_Ch15_rmANOVA.html"
   ]
  },
  {
   "cell_type": "markdown",
   "metadata": {},
   "source": [
    "# Setup"
   ]
  },
  {
   "cell_type": "markdown",
   "metadata": {},
   "source": [
    "## Imports"
   ]
  },
  {
   "cell_type": "code",
   "execution_count": 1,
   "metadata": {},
   "outputs": [
    {
     "name": "stderr",
     "output_type": "stream",
     "text": [
      "\n",
      "Attaching package: ‘dplyr’\n",
      "\n",
      "\n",
      "The following objects are masked from ‘package:stats’:\n",
      "\n",
      "    filter, lag\n",
      "\n",
      "\n",
      "The following objects are masked from ‘package:base’:\n",
      "\n",
      "    intersect, setdiff, setequal, union\n",
      "\n",
      "\n",
      "Loading required package: lme4\n",
      "\n",
      "Loading required package: Matrix\n",
      "\n",
      "\n",
      "Attaching package: ‘Matrix’\n",
      "\n",
      "\n",
      "The following objects are masked from ‘package:tidyr’:\n",
      "\n",
      "    expand, pack, unpack\n",
      "\n",
      "\n",
      "Registered S3 methods overwritten by 'car':\n",
      "  method                          from\n",
      "  influence.merMod                lme4\n",
      "  cooks.distance.influence.merMod lme4\n",
      "  dfbeta.influence.merMod         lme4\n",
      "  dfbetas.influence.merMod        lme4\n",
      "\n",
      "************\n",
      "Welcome to afex. For support visit: http://afex.singmann.science/\n",
      "\n",
      "- Functions for ANOVAs: aov_car(), aov_ez(), and aov_4()\n",
      "- Methods for calculating p-values with mixed(): 'KR', 'S', 'LRT', and 'PB'\n",
      "- 'afex_aov' and 'mixed' objects can be passed to emmeans() for follow-up tests\n",
      "- NEWS: library('emmeans') now needs to be called explicitly!\n",
      "- Get and set global package options with: afex_options()\n",
      "- Set orthogonal sum-to-zero contrasts globally: set_sum_contrasts()\n",
      "- For example analyses see: browseVignettes(\"afex\")\n",
      "************\n",
      "\n",
      "\n",
      "Attaching package: ‘afex’\n",
      "\n",
      "\n",
      "The following object is masked from ‘package:lme4’:\n",
      "\n",
      "    lmer\n",
      "\n",
      "\n",
      "Loading required package: mvtnorm\n",
      "\n",
      "Loading required package: survival\n",
      "\n",
      "Loading required package: TH.data\n",
      "\n",
      "Loading required package: MASS\n",
      "\n",
      "\n",
      "Attaching package: ‘MASS’\n",
      "\n",
      "\n",
      "The following object is masked from ‘package:dplyr’:\n",
      "\n",
      "    select\n",
      "\n",
      "\n",
      "\n",
      "Attaching package: ‘TH.data’\n",
      "\n",
      "\n",
      "The following object is masked from ‘package:MASS’:\n",
      "\n",
      "    geyser\n",
      "\n",
      "\n"
     ]
    }
   ],
   "source": [
    "library(\"dplyr\")\n",
    "library(\"tidyr\")\n",
    "library(\"afex\")     # provides mixed() and attaches lme4 automatically.\n",
    "library(\"emmeans\")  # follow-up tests.\n",
    "library(\"multcomp\") # advanced control for multiple testing/Type 1 errors.\n",
    "library(\"ggplot2\")"
   ]
  },
  {
   "cell_type": "code",
   "execution_count": 2,
   "metadata": {},
   "outputs": [
    {
     "name": "stderr",
     "output_type": "stream",
     "text": [
      "Loading required package: carData\n",
      "\n",
      "\n",
      "Attaching package: ‘car’\n",
      "\n",
      "\n",
      "The following object is masked from ‘package:dplyr’:\n",
      "\n",
      "    recode\n",
      "\n",
      "\n",
      "Loading required package: lattice\n",
      "\n",
      "Loading required package: ez\n",
      "\n"
     ]
    }
   ],
   "source": [
    "library(\"car\")\n",
    "require(\"lattice\")\n",
    "require(\"ez\")"
   ]
  },
  {
   "cell_type": "code",
   "execution_count": 3,
   "metadata": {},
   "outputs": [],
   "source": [
    "library(\"cowplot\")\n",
    "library(\"ggbeeswarm\")"
   ]
  },
  {
   "cell_type": "code",
   "execution_count": 4,
   "metadata": {},
   "outputs": [],
   "source": [
    "library(\"nortest\")"
   ]
  },
  {
   "cell_type": "markdown",
   "metadata": {},
   "source": [
    "## Settings"
   ]
  },
  {
   "cell_type": "code",
   "execution_count": 5,
   "metadata": {},
   "outputs": [],
   "source": [
    "theme_set(theme_bw(base_size = 15) +\n",
    "            theme(legend.position=\"bottom\",\n",
    "                  panel.grid.major.x = element_blank()))"
   ]
  },
  {
   "cell_type": "code",
   "execution_count": 6,
   "metadata": {},
   "outputs": [],
   "source": [
    "options(width=120)"
   ]
  },
  {
   "cell_type": "markdown",
   "metadata": {},
   "source": [
    "## Info"
   ]
  },
  {
   "cell_type": "code",
   "execution_count": 7,
   "metadata": {},
   "outputs": [
    {
     "data": {
      "text/plain": [
       "R version 3.6.3 (2020-02-29)\n",
       "Platform: x86_64-pc-linux-gnu (64-bit)\n",
       "Running under: Ubuntu 18.04.5 LTS\n",
       "\n",
       "Matrix products: default\n",
       "BLAS:   /usr/lib/x86_64-linux-gnu/openblas/libblas.so.3\n",
       "LAPACK: /usr/lib/x86_64-linux-gnu/libopenblasp-r0.2.20.so\n",
       "\n",
       "locale:\n",
       " [1] LC_CTYPE=en_US.UTF-8       LC_NUMERIC=C               LC_TIME=en_IL.UTF-8        LC_COLLATE=en_US.UTF-8    \n",
       " [5] LC_MONETARY=en_IL.UTF-8    LC_MESSAGES=en_US.UTF-8    LC_PAPER=en_IL.UTF-8       LC_NAME=C                 \n",
       " [9] LC_ADDRESS=C               LC_TELEPHONE=C             LC_MEASUREMENT=en_IL.UTF-8 LC_IDENTIFICATION=C       \n",
       "\n",
       "attached base packages:\n",
       "[1] stats     graphics  grDevices utils     datasets  methods   base     \n",
       "\n",
       "other attached packages:\n",
       " [1] nortest_1.0-4    ggbeeswarm_0.6.0 cowplot_1.1.0    ez_4.4-0         lattice_0.20-41  car_3.0-10      \n",
       " [7] carData_3.0-4    ggplot2_3.3.2    multcomp_1.4-14  TH.data_1.0-10   MASS_7.3-53      survival_3.2-7  \n",
       "[13] mvtnorm_1.1-1    emmeans_1.5.1    afex_0.28-0      lme4_1.1-23      Matrix_1.2-18    tidyr_1.1.2     \n",
       "[19] dplyr_1.0.2     \n",
       "\n",
       "loaded via a namespace (and not attached):\n",
       " [1] Rcpp_1.0.5          zoo_1.8-8           digest_0.6.25       IRdisplay_0.7.0     R6_2.4.1           \n",
       " [6] cellranger_1.1.0    plyr_1.8.6          repr_1.1.0          evaluate_0.14       pillar_1.4.6       \n",
       "[11] rlang_0.4.7         curl_4.3            uuid_0.1-4          readxl_1.3.1        minqa_1.2.4        \n",
       "[16] data.table_1.13.0   nloptr_1.2.2.2      splines_3.6.3       statmod_1.4.34      stringr_1.4.0      \n",
       "[21] foreign_0.8-76      munsell_0.5.0       vipor_0.4.5         compiler_3.6.3      numDeriv_2016.8-1.1\n",
       "[26] pkgconfig_2.0.3     base64enc_0.1-3     lmerTest_3.1-2      mgcv_1.8-33         htmltools_0.5.0    \n",
       "[31] tidyselect_1.1.0    tibble_3.0.3        codetools_0.2-16    rio_0.5.16          withr_2.3.0        \n",
       "[36] crayon_1.3.4        grid_3.6.3          nlme_3.1-149        jsonlite_1.7.1      xtable_1.8-4       \n",
       "[41] gtable_0.3.0        lifecycle_0.2.0     magrittr_1.5        scales_1.1.1        zip_2.1.1          \n",
       "[46] estimability_1.3    stringi_1.5.3       reshape2_1.4.4      ellipsis_0.3.1      generics_0.0.2     \n",
       "[51] vctrs_0.3.4         boot_1.3-25         sandwich_2.5-1      openxlsx_4.2.2      IRkernel_1.1.1.9000\n",
       "[56] tools_3.6.3         forcats_0.5.0       beeswarm_0.2.3      glue_1.4.2          purrr_0.3.4        \n",
       "[61] hms_0.5.3           abind_1.4-5         parallel_3.6.3      colorspace_1.4-1    pbdZMQ_0.3-3       \n",
       "[66] haven_2.3.1        "
      ]
     },
     "metadata": {},
     "output_type": "display_data"
    }
   ],
   "source": [
    "sessionInfo()"
   ]
  },
  {
   "cell_type": "markdown",
   "metadata": {},
   "source": [
    "# Create output directory"
   ]
  },
  {
   "cell_type": "code",
   "execution_count": 8,
   "metadata": {},
   "outputs": [],
   "source": [
    "dir.create(\"data/t1007\",showWarnings = FALSE,recursive = TRUE)"
   ]
  },
  {
   "cell_type": "markdown",
   "metadata": {},
   "source": [
    "## Handy functions"
   ]
  },
  {
   "cell_type": "markdown",
   "metadata": {},
   "source": [
    "### Function for logging information BEFORE execution"
   ]
  },
  {
   "cell_type": "code",
   "execution_count": 9,
   "metadata": {},
   "outputs": [],
   "source": [
    "logging0 <- function(ifName,infoStr=\"\",data){\n",
    "    t0 <- Sys.time()\n",
    "    s0 <- gsub(\"\\\\s\",\"_\",t0)\n",
    "    s1 <- gsub(\"^.\",\"\",tempfile(\"\",\"\",\"\"))\n",
    "    s2 <- gsub(\"/t1006/\",\"/t1007/\",ifName)\n",
    "    ofName <- paste(paste(s2,\"\",s0,\"\",s1,infoStr,\"_nrow\",nrow(data),sep=\"_\"),\".RData\",sep=\"\")\n",
    "    lfName = paste(ofName ,\".LOG.txt\" ,sep=\"\" ,collapse = \"\")\n",
    "    log_msg <- toString(paste(\n",
    "        paste(\"logs0\" ,toString(lfName)     ,sep=\": \" ,collapse = \"\")\n",
    "      , paste(\"time0\" ,toString(Sys.time()) ,sep=\": \" ,collapse = \"\")\n",
    "      , paste(\"nrows\" ,toString(nrow(data))  ,sep=\": \" ,collapse = \"\")\n",
    "      , paste(\"ncols\" ,toString(ncol(data))  ,sep=\": \" ,collapse = \"\")\n",
    "      , paste(\"vList\" ,toString(ls())       ,sep=\": \" ,collapse = \"\")\n",
    "      , paste(\"oSave\" ,toString(ofName)     ,sep=\": \" ,collapse = \"\")        \n",
    "      , \"\\n\"\n",
    "      , sep=\"\\n\"))\n",
    "    cat(log_msg)\n",
    "    write(paste(log_msg) ,file=lfName ,append=TRUE)\n",
    "    return(list(\"ofName\"=ofName,\"lfName\"=lfName,\"t0\"=t0))\n",
    "}"
   ]
  },
  {
   "cell_type": "markdown",
   "metadata": {},
   "source": [
    "### Function for logging information AFTER execution"
   ]
  },
  {
   "cell_type": "code",
   "execution_count": 10,
   "metadata": {},
   "outputs": [],
   "source": [
    "logging1 <- function(lfName,t0){\n",
    "    t1 <- Sys.time()\n",
    "    d1 <- t1-t0\n",
    "    log_msg <- toString(paste(\n",
    "        paste(\"time1\" ,toString(Sys.time()) ,sep=\": \" ,collapse = \"\")\n",
    "      , paste(\"diff1\" ,capture.output(d1)   ,sep=\": \" ,collapse = \"\")\n",
    "      , \"\\n\"\n",
    "      , sep=\"\\n\"))\n",
    "    cat(log_msg)\n",
    "    write(paste(log_msg) ,file=lfName ,append=TRUE)\n",
    "    return(list(\"d1\" = d1))\n",
    "}"
   ]
  },
  {
   "cell_type": "markdown",
   "metadata": {},
   "source": [
    "# Load data"
   ]
  },
  {
   "cell_type": "markdown",
   "metadata": {},
   "source": [
    "Depending on how much data you want to include select a file to be loaded (either by executing relevant cell or by clicking ↑ or ↓ above to move cells up or down, the last executed cell containing `ifName` defines the file to be loaded)."
   ]
  },
  {
   "cell_type": "code",
   "execution_count": 11,
   "metadata": {},
   "outputs": [],
   "source": [
    "ifName=\"data/t1006/bigDF__df2__001_unstacked.RData\" # 752554 obs"
   ]
  },
  {
   "cell_type": "code",
   "execution_count": 12,
   "metadata": {},
   "outputs": [],
   "source": [
    "load(file=ifName)"
   ]
  },
  {
   "cell_type": "markdown",
   "metadata": {},
   "source": [
    "# Quick look at data"
   ]
  },
  {
   "cell_type": "code",
   "execution_count": 13,
   "metadata": {},
   "outputs": [
    {
     "name": "stdout",
     "output_type": "stream",
     "text": [
      "'data.frame':\t752554 obs. of  20 variables:\n",
      " $ CAMP       : Factor w/ 2 levels \"metoo\",\"sexstrike\": 1 1 1 1 1 1 1 1 1 1 ...\n",
      " $ TYPE       : Factor w/ 2 levels \"ctrl\",\"orig\": 1 1 1 1 1 1 1 1 1 1 ...\n",
      " $ wordCnt    : num  11 7 11 27 30 26 8 12 12 23 ...\n",
      " $ vb01Cnt    : num  0 0 0 2 0 0 1 0 1 0 ...\n",
      " $ nn01Cnt    : num  1 2 0 2 3 4 1 4 1 4 ...\n",
      " $ ag01Cnt    : num  0 0 0 0 1 1 0 0 1 2 ...\n",
      " $ ag02Cnt    : num  0 0 0 0 1 0 0 0 1 0 ...\n",
      " $ vb01Prc    : num  0 0 0 0.0741 0 ...\n",
      " $ nn01Prc    : num  0.0909 0.2857 0 0.0741 0.1 ...\n",
      " $ ag01Prc    : num  0 0 0 0 0.0333 ...\n",
      " $ ag02Prc    : num  0 0 0 0 0.0333 ...\n",
      " $ ID         : chr  \"919714354467045376\" \"919714354479722496\" \"919714354500653056\" \"919714354542600192\" ...\n",
      " $ tweet_url  : chr  \"/IamJonesy3/status/919714354467045376\" \"/CCmee_/status/919714354479722496\" \"/SarahJaneVlogs/status/919714354500653057\" \"/queentyreen/status/919714354542600195\" ...\n",
      " $ user_id    : chr  \"588400632\" \"242582835\" \"29298715\" \"3290716455\" ...\n",
      " $ is_replied : logi  TRUE FALSE FALSE TRUE FALSE TRUE ...\n",
      " $ is_reply_to: logi  TRUE FALSE FALSE TRUE FALSE FALSE ...\n",
      " $ likes      : num  1 0 1 0 0 38 0 0 1 1 ...\n",
      " $ replies    : num  1 0 0 1 0 5 0 0 0 0 ...\n",
      " $ retweets   : chr  \"0\" \"0\" \"0\" \"0\" ...\n",
      " $ date       : Date, format: \"2017-10-15\" \"2017-10-15\" \"2017-10-15\" \"2017-10-15\" ...\n"
     ]
    }
   ],
   "source": [
    "str(df2)"
   ]
  },
  {
   "cell_type": "code",
   "execution_count": 14,
   "metadata": {},
   "outputs": [
    {
     "data": {
      "text/plain": [
       "        CAMP          TYPE           wordCnt          vb01Cnt           nn01Cnt          ag01Cnt       \n",
       " metoo    :676038   ctrl:413976   Min.   :  1.00   Min.   : 0.0000   Min.   : 0.000   Min.   : 0.0000  \n",
       " sexstrike: 76516   orig:338578   1st Qu.:  9.00   1st Qu.: 0.0000   1st Qu.: 2.000   1st Qu.: 0.0000  \n",
       "                                  Median : 17.00   Median : 0.0000   Median : 3.000   Median : 0.0000  \n",
       "                                  Mean   : 16.96   Mean   : 0.7442   Mean   : 3.498   Mean   : 0.6333  \n",
       "                                  3rd Qu.: 24.00   3rd Qu.: 1.0000   3rd Qu.: 5.000   3rd Qu.: 1.0000  \n",
       "                                  Max.   :106.00   Max.   :17.0000   Max.   :43.000   Max.   :21.0000  \n",
       "    ag02Cnt          vb01Prc           nn01Prc          ag01Prc           ag02Prc             ID           \n",
       " Min.   :0.0000   Min.   :0.00000   Min.   :0.0000   Min.   :0.00000   Min.   :0.00000   Length:752554     \n",
       " 1st Qu.:0.0000   1st Qu.:0.00000   1st Qu.:0.1250   1st Qu.:0.00000   1st Qu.:0.00000   Class :character  \n",
       " Median :0.0000   Median :0.00000   Median :0.2000   Median :0.00000   Median :0.00000   Mode  :character  \n",
       " Mean   :0.2349   Mean   :0.04473   Mean   :0.2271   Mean   :0.03838   Mean   :0.01431                     \n",
       " 3rd Qu.:0.0000   3rd Qu.:0.07143   3rd Qu.:0.2917   3rd Qu.:0.05882   3rd Qu.:0.00000                     \n",
       " Max.   :7.0000   Max.   :1.00000   Max.   :3.0000   Max.   :1.00000   Max.   :1.00000                     \n",
       "  tweet_url           user_id          is_replied      is_reply_to         likes              replies        \n",
       " Length:752554      Length:752554      Mode :logical   Mode :logical   Min.   :     0.00   Min.   :    0.00  \n",
       " Class :character   Class :character   FALSE:607054    FALSE:560283    1st Qu.:     0.00   1st Qu.:    0.00  \n",
       " Mode  :character   Mode  :character   TRUE :145500    TRUE :192271    Median :     0.00   Median :    0.00  \n",
       "                                                                       Mean   :     6.49   Mean   :    0.54  \n",
       "                                                                       3rd Qu.:     1.00   3rd Qu.:    0.00  \n",
       "                                                                       Max.   :145072.00   Max.   :43943.00  \n",
       "   retweets              date           \n",
       " Length:752554      Min.   :2017-10-15  \n",
       " Class :character   1st Qu.:2017-10-16  \n",
       " Mode  :character   Median :2017-10-17  \n",
       "                    Mean   :2017-12-15  \n",
       "                    3rd Qu.:2017-10-21  \n",
       "                    Max.   :2020-03-19  "
      ]
     },
     "metadata": {},
     "output_type": "display_data"
    }
   ],
   "source": [
    "summary(df2)"
   ]
  },
  {
   "cell_type": "code",
   "execution_count": 15,
   "metadata": {},
   "outputs": [
    {
     "data": {
      "text/html": [
       "<table>\n",
       "<caption>A tibble: 4 × 3</caption>\n",
       "<thead>\n",
       "\t<tr><th scope=col>CAMP</th><th scope=col>TYPE</th><th scope=col>n</th></tr>\n",
       "\t<tr><th scope=col>&lt;fct&gt;</th><th scope=col>&lt;fct&gt;</th><th scope=col>&lt;int&gt;</th></tr>\n",
       "</thead>\n",
       "<tbody>\n",
       "\t<tr><td>metoo    </td><td>ctrl</td><td>369527</td></tr>\n",
       "\t<tr><td>metoo    </td><td>orig</td><td>306511</td></tr>\n",
       "\t<tr><td>sexstrike</td><td>ctrl</td><td> 44449</td></tr>\n",
       "\t<tr><td>sexstrike</td><td>orig</td><td> 32067</td></tr>\n",
       "</tbody>\n",
       "</table>\n"
      ],
      "text/latex": [
       "A tibble: 4 × 3\n",
       "\\begin{tabular}{lll}\n",
       " CAMP & TYPE & n\\\\\n",
       " <fct> & <fct> & <int>\\\\\n",
       "\\hline\n",
       "\t metoo     & ctrl & 369527\\\\\n",
       "\t metoo     & orig & 306511\\\\\n",
       "\t sexstrike & ctrl &  44449\\\\\n",
       "\t sexstrike & orig &  32067\\\\\n",
       "\\end{tabular}\n"
      ],
      "text/markdown": [
       "\n",
       "A tibble: 4 × 3\n",
       "\n",
       "| CAMP &lt;fct&gt; | TYPE &lt;fct&gt; | n &lt;int&gt; |\n",
       "|---|---|---|\n",
       "| metoo     | ctrl | 369527 |\n",
       "| metoo     | orig | 306511 |\n",
       "| sexstrike | ctrl |  44449 |\n",
       "| sexstrike | orig |  32067 |\n",
       "\n"
      ],
      "text/plain": [
       "  CAMP      TYPE n     \n",
       "1 metoo     ctrl 369527\n",
       "2 metoo     orig 306511\n",
       "3 sexstrike ctrl  44449\n",
       "4 sexstrike orig  32067"
      ]
     },
     "metadata": {},
     "output_type": "display_data"
    }
   ],
   "source": [
    "df2 %>%\n",
    "    group_by(CAMP,TYPE) %>%\n",
    "    summarise(n = n(), .groups = \"drop\") "
   ]
  },
  {
   "cell_type": "markdown",
   "metadata": {},
   "source": [
    "# ANOVA (`aov_4`)"
   ]
  },
  {
   "cell_type": "markdown",
   "metadata": {},
   "source": [
    "| name         | meta   | descr                       |\n",
    "|--------------|--------|-----------------------------|\n",
    "| `ID`         | `u1`   | observation unit (tweet_id) |\n",
    "| `vb01Prc`    | `d1`   | outcome (dependent)         |\n",
    "| `ag01Prc`    | `d2`   | outcome (dependent)         |\n",
    "| `CAMP`       | `b1`   | between tweet               |\n",
    "| `TYPE`       | `b2`   | between tweet               |"
   ]
  },
  {
   "cell_type": "code",
   "execution_count": 16,
   "metadata": {},
   "outputs": [],
   "source": [
    "OBSERVED <- c(\"CAMP\",\"TYPE\")"
   ]
  },
  {
   "cell_type": "code",
   "execution_count": 17,
   "metadata": {},
   "outputs": [],
   "source": [
    "OBSERVED <- NULL"
   ]
  },
  {
   "cell_type": "code",
   "execution_count": 18,
   "metadata": {},
   "outputs": [
    {
     "name": "stdout",
     "output_type": "stream",
     "text": [
      "logs0: data/t1007/bigDF__df2__001_unstacked.RData__2020-10-07_15:31:09__6aeb1286eb3a__aov_4_a1vb01Prc__nrow_752554.RData.LOG.txt\n",
      "time0: 2020-10-07 15:31:09\n",
      "nrows: 752554\n",
      "ncols: 20\n",
      "vList: data, ifName, infoStr, lfName, ofName, s0, s1, s2, t0\n",
      "oSave: data/t1007/bigDF__df2__001_unstacked.RData__2020-10-07_15:31:09__6aeb1286eb3a__aov_4_a1vb01Prc__nrow_752554.RData\n",
      "\n"
     ]
    },
    {
     "name": "stderr",
     "output_type": "stream",
     "text": [
      "Contrasts set to contr.sum for the following variables: CAMP, TYPE\n",
      "\n"
     ]
    },
    {
     "name": "stdout",
     "output_type": "stream",
     "text": [
      "time1: 2020-10-07 15:32:12\n",
      "diff1: Time difference of 1.046851 mins\n",
      "\n"
     ]
    }
   ],
   "source": [
    "FORMULA <- vb01Prc~CAMP*TYPE+(1|ID)\n",
    "\n",
    "log0 <- logging0(ifName,infoStr=\"_aov_4_a1vb01Prc\",data=df2)\n",
    "a1vb01Prc <- aov_4(\n",
    "    formula       <- FORMULA,\n",
    "    data          <- df2,\n",
    "    observed      <- OBSERVED,\n",
    ")\n",
    "save(a1vb01Prc,file=log0$ofName)\n",
    "log1 <- logging1(log0$lfName,log0$t0)"
   ]
  },
  {
   "cell_type": "code",
   "execution_count": 19,
   "metadata": {},
   "outputs": [
    {
     "name": "stdout",
     "output_type": "stream",
     "text": [
      "logs0: data/t1007/bigDF__df2__001_unstacked.RData__2020-10-07_15:32:12__6aeb227b8cbc__aov_4_a2ag01Prc__nrow_752554.RData.LOG.txt\n",
      "time0: 2020-10-07 15:32:12\n",
      "nrows: 752554\n",
      "ncols: 20\n",
      "vList: data, ifName, infoStr, lfName, ofName, s0, s1, s2, t0\n",
      "oSave: data/t1007/bigDF__df2__001_unstacked.RData__2020-10-07_15:32:12__6aeb227b8cbc__aov_4_a2ag01Prc__nrow_752554.RData\n",
      "\n"
     ]
    },
    {
     "name": "stderr",
     "output_type": "stream",
     "text": [
      "Contrasts set to contr.sum for the following variables: CAMP, TYPE\n",
      "\n"
     ]
    },
    {
     "name": "stdout",
     "output_type": "stream",
     "text": [
      "time1: 2020-10-07 15:33:11\n",
      "diff1: Time difference of 58.53137 secs\n",
      "\n"
     ]
    }
   ],
   "source": [
    "FORMULA <- ag01Prc~CAMP*TYPE+(1|ID)\n",
    "\n",
    "log0 <- logging0(ifName,infoStr=\"_aov_4_a2ag01Prc\",data=df2)\n",
    "a2ag01Prc <- aov_4(\n",
    "    formula       <- FORMULA,\n",
    "    data          <- df2,\n",
    "    observed      <- OBSERVED,\n",
    ")\n",
    "save(a2ag01Prc,file=log0$ofName)\n",
    "log1 <- logging1(log0$lfName,log0$t0)"
   ]
  },
  {
   "cell_type": "markdown",
   "metadata": {},
   "source": [
    "# Quick look at AOV results"
   ]
  },
  {
   "cell_type": "code",
   "execution_count": 20,
   "metadata": {},
   "outputs": [
    {
     "data": {
      "text/html": [
       "<table>\n",
       "<caption>A anova: 3 × 6</caption>\n",
       "<thead>\n",
       "\t<tr><th></th><th scope=col>num Df</th><th scope=col>den Df</th><th scope=col>MSE</th><th scope=col>F</th><th scope=col>ges</th><th scope=col>Pr(&gt;F)</th></tr>\n",
       "\t<tr><th></th><th scope=col>&lt;dbl&gt;</th><th scope=col>&lt;dbl&gt;</th><th scope=col>&lt;dbl&gt;</th><th scope=col>&lt;dbl&gt;</th><th scope=col>&lt;dbl&gt;</th><th scope=col>&lt;dbl&gt;</th></tr>\n",
       "</thead>\n",
       "<tbody>\n",
       "\t<tr><th scope=row>CAMP</th><td>1</td><td>752550</td><td>0.00486059</td><td>580.81725</td><td>7.712037e-04</td><td>2.786924e-128</td></tr>\n",
       "\t<tr><th scope=row>TYPE</th><td>1</td><td>752550</td><td>0.00486059</td><td> 35.79417</td><td>4.756157e-05</td><td> 2.194022e-09</td></tr>\n",
       "\t<tr><th scope=row>CAMP:TYPE</th><td>1</td><td>752550</td><td>0.00486059</td><td>111.52739</td><td>1.481773e-04</td><td> 4.554075e-26</td></tr>\n",
       "</tbody>\n",
       "</table>\n"
      ],
      "text/latex": [
       "A anova: 3 × 6\n",
       "\\begin{tabular}{r|llllll}\n",
       "  & num Df & den Df & MSE & F & ges & Pr(>F)\\\\\n",
       "  & <dbl> & <dbl> & <dbl> & <dbl> & <dbl> & <dbl>\\\\\n",
       "\\hline\n",
       "\tCAMP & 1 & 752550 & 0.00486059 & 580.81725 & 7.712037e-04 & 2.786924e-128\\\\\n",
       "\tTYPE & 1 & 752550 & 0.00486059 &  35.79417 & 4.756157e-05 &  2.194022e-09\\\\\n",
       "\tCAMP:TYPE & 1 & 752550 & 0.00486059 & 111.52739 & 1.481773e-04 &  4.554075e-26\\\\\n",
       "\\end{tabular}\n"
      ],
      "text/markdown": [
       "\n",
       "A anova: 3 × 6\n",
       "\n",
       "| <!--/--> | num Df &lt;dbl&gt; | den Df &lt;dbl&gt; | MSE &lt;dbl&gt; | F &lt;dbl&gt; | ges &lt;dbl&gt; | Pr(&gt;F) &lt;dbl&gt; |\n",
       "|---|---|---|---|---|---|---|\n",
       "| CAMP | 1 | 752550 | 0.00486059 | 580.81725 | 7.712037e-04 | 2.786924e-128 |\n",
       "| TYPE | 1 | 752550 | 0.00486059 |  35.79417 | 4.756157e-05 |  2.194022e-09 |\n",
       "| CAMP:TYPE | 1 | 752550 | 0.00486059 | 111.52739 | 1.481773e-04 |  4.554075e-26 |\n",
       "\n"
      ],
      "text/plain": [
       "          num Df den Df MSE        F         ges          Pr(>F)       \n",
       "CAMP      1      752550 0.00486059 580.81725 7.712037e-04 2.786924e-128\n",
       "TYPE      1      752550 0.00486059  35.79417 4.756157e-05  2.194022e-09\n",
       "CAMP:TYPE 1      752550 0.00486059 111.52739 1.481773e-04  4.554075e-26"
      ]
     },
     "metadata": {},
     "output_type": "display_data"
    }
   ],
   "source": [
    "summary(a1vb01Prc)"
   ]
  },
  {
   "cell_type": "code",
   "execution_count": 21,
   "metadata": {},
   "outputs": [
    {
     "data": {
      "text/html": [
       "<table>\n",
       "<caption>A anova: 3 × 6</caption>\n",
       "<thead>\n",
       "\t<tr><th></th><th scope=col>num Df</th><th scope=col>den Df</th><th scope=col>MSE</th><th scope=col>F</th><th scope=col>ges</th><th scope=col>Pr(&gt;F)</th></tr>\n",
       "\t<tr><th></th><th scope=col>&lt;dbl&gt;</th><th scope=col>&lt;dbl&gt;</th><th scope=col>&lt;dbl&gt;</th><th scope=col>&lt;dbl&gt;</th><th scope=col>&lt;dbl&gt;</th><th scope=col>&lt;dbl&gt;</th></tr>\n",
       "</thead>\n",
       "<tbody>\n",
       "\t<tr><th scope=row>CAMP</th><td>1</td><td>752550</td><td>0.004795996</td><td>1008.14240</td><td>1.337843e-03</td><td>4.277606e-221</td></tr>\n",
       "\t<tr><th scope=row>TYPE</th><td>1</td><td>752550</td><td>0.004795996</td><td>  54.52086</td><td>7.244291e-05</td><td> 1.539638e-13</td></tr>\n",
       "\t<tr><th scope=row>CAMP:TYPE</th><td>1</td><td>752550</td><td>0.004795996</td><td> 385.90723</td><td>5.125366e-04</td><td> 6.768308e-86</td></tr>\n",
       "</tbody>\n",
       "</table>\n"
      ],
      "text/latex": [
       "A anova: 3 × 6\n",
       "\\begin{tabular}{r|llllll}\n",
       "  & num Df & den Df & MSE & F & ges & Pr(>F)\\\\\n",
       "  & <dbl> & <dbl> & <dbl> & <dbl> & <dbl> & <dbl>\\\\\n",
       "\\hline\n",
       "\tCAMP & 1 & 752550 & 0.004795996 & 1008.14240 & 1.337843e-03 & 4.277606e-221\\\\\n",
       "\tTYPE & 1 & 752550 & 0.004795996 &   54.52086 & 7.244291e-05 &  1.539638e-13\\\\\n",
       "\tCAMP:TYPE & 1 & 752550 & 0.004795996 &  385.90723 & 5.125366e-04 &  6.768308e-86\\\\\n",
       "\\end{tabular}\n"
      ],
      "text/markdown": [
       "\n",
       "A anova: 3 × 6\n",
       "\n",
       "| <!--/--> | num Df &lt;dbl&gt; | den Df &lt;dbl&gt; | MSE &lt;dbl&gt; | F &lt;dbl&gt; | ges &lt;dbl&gt; | Pr(&gt;F) &lt;dbl&gt; |\n",
       "|---|---|---|---|---|---|---|\n",
       "| CAMP | 1 | 752550 | 0.004795996 | 1008.14240 | 1.337843e-03 | 4.277606e-221 |\n",
       "| TYPE | 1 | 752550 | 0.004795996 |   54.52086 | 7.244291e-05 |  1.539638e-13 |\n",
       "| CAMP:TYPE | 1 | 752550 | 0.004795996 |  385.90723 | 5.125366e-04 |  6.768308e-86 |\n",
       "\n"
      ],
      "text/plain": [
       "          num Df den Df MSE         F          ges          Pr(>F)       \n",
       "CAMP      1      752550 0.004795996 1008.14240 1.337843e-03 4.277606e-221\n",
       "TYPE      1      752550 0.004795996   54.52086 7.244291e-05  1.539638e-13\n",
       "CAMP:TYPE 1      752550 0.004795996  385.90723 5.125366e-04  6.768308e-86"
      ]
     },
     "metadata": {},
     "output_type": "display_data"
    }
   ],
   "source": [
    "summary(a2ag01Prc)"
   ]
  },
  {
   "cell_type": "markdown",
   "metadata": {},
   "source": [
    "# Estimated marginal means (Least-squares means)"
   ]
  },
  {
   "cell_type": "markdown",
   "metadata": {},
   "source": [
    "## Full model"
   ]
  },
  {
   "cell_type": "code",
   "execution_count": 41,
   "metadata": {},
   "outputs": [],
   "source": [
    "a1vb01PrcEm1 <- emmeans(a1vb01Prc, specs<-c(\"CAMP\", \"TYPE\"))\n",
    "a2ag01PrcEm1 <- emmeans(a2ag01Prc, specs<-c(\"CAMP\", \"TYPE\"))"
   ]
  },
  {
   "cell_type": "code",
   "execution_count": 42,
   "metadata": {},
   "outputs": [
    {
     "data": {
      "text/plain": [
       " CAMP      TYPE  emmean        SE     df lower.CL upper.CL\n",
       " metoo     ctrl 0.04612 0.0001147 752550  0.04590  0.04635\n",
       " sexstrike ctrl 0.04977 0.0003307 752550  0.04912  0.05042\n",
       " metoo     orig 0.04167 0.0001259 752550  0.04142  0.04191\n",
       " sexstrike orig 0.05100 0.0003893 752550  0.05024  0.05176\n",
       "\n",
       "Confidence level used: 0.95 "
      ]
     },
     "metadata": {},
     "output_type": "display_data"
    }
   ],
   "source": [
    "a1vb01PrcEm1"
   ]
  },
  {
   "cell_type": "code",
   "execution_count": 43,
   "metadata": {},
   "outputs": [
    {
     "data": {
      "text/plain": [
       " CAMP      TYPE emmean       SE     df lower.CL upper.CL\n",
       " metoo     ctrl 0.0409 0.000114 752550   0.0406   0.0411\n",
       " sexstrike ctrl 0.0441 0.000328 752550   0.0434   0.0447\n",
       " metoo     orig 0.0336 0.000125 752550   0.0334   0.0339\n",
       " sexstrike orig 0.0474 0.000387 752550   0.0466   0.0481\n",
       "\n",
       "Confidence level used: 0.95 "
      ]
     },
     "metadata": {},
     "output_type": "display_data"
    }
   ],
   "source": [
    "a2ag01PrcEm1"
   ]
  },
  {
   "cell_type": "code",
   "execution_count": 44,
   "metadata": {},
   "outputs": [
    {
     "data": {
      "text/plain": [
       " contrast                        estimate       SE     df t.ratio p.value\n",
       " metoo ctrl - sexstrike ctrl     -0.00365 0.000350 752550 -10.415 <.0001 \n",
       " metoo ctrl - metoo orig          0.00445 0.000170 752550  26.150 <.0001 \n",
       " metoo ctrl - sexstrike orig     -0.00488 0.000406 752550 -12.018 <.0001 \n",
       " sexstrike ctrl - metoo orig      0.00810 0.000354 752550  22.889 <.0001 \n",
       " sexstrike ctrl - sexstrike orig -0.00123 0.000511 752550  -2.413 0.0747 \n",
       " metoo orig - sexstrike orig     -0.00933 0.000409 752550 -22.806 <.0001 \n",
       "\n",
       "P value adjustment: tukey method for comparing a family of 4 estimates "
      ]
     },
     "metadata": {},
     "output_type": "display_data"
    }
   ],
   "source": [
    "pairs(a1vb01PrcEm1)"
   ]
  },
  {
   "cell_type": "code",
   "execution_count": 45,
   "metadata": {},
   "outputs": [
    {
     "data": {
      "text/plain": [
       " contrast                        estimate       SE     df t.ratio p.value\n",
       " metoo ctrl - sexstrike ctrl     -0.00324 0.000348 752550  -9.313 <.0001 \n",
       " metoo ctrl - metoo orig          0.00723 0.000169 752550  42.723 <.0001 \n",
       " metoo ctrl - sexstrike orig     -0.00652 0.000403 752550 -16.164 <.0001 \n",
       " sexstrike ctrl - metoo orig      0.01047 0.000351 752550  29.776 <.0001 \n",
       " sexstrike ctrl - sexstrike orig -0.00328 0.000507 752550  -6.462 <.0001 \n",
       " metoo orig - sexstrike orig     -0.01375 0.000406 752550 -33.817 <.0001 \n",
       "\n",
       "P value adjustment: tukey method for comparing a family of 4 estimates "
      ]
     },
     "metadata": {},
     "output_type": "display_data"
    }
   ],
   "source": [
    "pairs(a2ag01PrcEm1)"
   ]
  },
  {
   "cell_type": "code",
   "execution_count": 46,
   "metadata": {},
   "outputs": [],
   "source": [
    "TEST=adjusted(\"bonferroni\")"
   ]
  },
  {
   "cell_type": "code",
   "execution_count": 47,
   "metadata": {},
   "outputs": [],
   "source": [
    "TEST=adjusted(\"free\")"
   ]
  },
  {
   "cell_type": "code",
   "execution_count": 48,
   "metadata": {},
   "outputs": [
    {
     "data": {
      "text/plain": [
       "\n",
       "\t Simultaneous Tests for General Linear Hypotheses\n",
       "\n",
       "Linear Hypotheses:\n",
       "                                       Estimate Std. Error t value Pr(>|t|)    \n",
       "metoo ctrl - sexstrike ctrl == 0     -0.0036452  0.0003500 -10.415  < 2e-16 ***\n",
       "metoo ctrl - metoo orig == 0          0.0044540  0.0001703  26.150  < 2e-16 ***\n",
       "metoo ctrl - sexstrike orig == 0     -0.0048777  0.0004059 -12.018  < 2e-16 ***\n",
       "sexstrike ctrl - metoo orig == 0      0.0080992  0.0003539  22.889  < 2e-16 ***\n",
       "sexstrike ctrl - sexstrike orig == 0 -0.0012325  0.0005108  -2.413   0.0158 *  \n",
       "metoo orig - sexstrike orig == 0     -0.0093317  0.0004092 -22.806 1.33e-15 ***\n",
       "---\n",
       "Signif. codes:  0 ‘***’ 0.001 ‘**’ 0.01 ‘*’ 0.05 ‘.’ 0.1 ‘ ’ 1\n",
       "(Adjusted p values reported -- free method)\n"
      ]
     },
     "metadata": {},
     "output_type": "display_data"
    }
   ],
   "source": [
    "summary(as.glht(pairs(a1vb01PrcEm1)),test=TEST)"
   ]
  },
  {
   "cell_type": "code",
   "execution_count": 49,
   "metadata": {},
   "outputs": [
    {
     "data": {
      "text/plain": [
       "\n",
       "\t Simultaneous Tests for General Linear Hypotheses\n",
       "\n",
       "Linear Hypotheses:\n",
       "                                       Estimate Std. Error t value Pr(>|t|)    \n",
       "metoo ctrl - sexstrike ctrl == 0     -0.0032378  0.0003477  -9.313  < 2e-16 ***\n",
       "metoo ctrl - metoo orig == 0          0.0072283  0.0001692  42.723  < 2e-16 ***\n",
       "metoo ctrl - sexstrike orig == 0     -0.0065167  0.0004032 -16.164  < 2e-16 ***\n",
       "sexstrike ctrl - metoo orig == 0      0.0104661  0.0003515  29.776  < 2e-16 ***\n",
       "sexstrike ctrl - sexstrike orig == 0 -0.0032789  0.0005074  -6.462 1.03e-10 ***\n",
       "metoo orig - sexstrike orig == 0     -0.0137450  0.0004065 -33.817  < 2e-16 ***\n",
       "---\n",
       "Signif. codes:  0 ‘***’ 0.001 ‘**’ 0.01 ‘*’ 0.05 ‘.’ 0.1 ‘ ’ 1\n",
       "(Adjusted p values reported -- free method)\n"
      ]
     },
     "metadata": {},
     "output_type": "display_data"
    }
   ],
   "source": [
    "summary(as.glht(pairs(a2ag01PrcEm1)),test=TEST)"
   ]
  },
  {
   "cell_type": "markdown",
   "metadata": {},
   "source": [
    "### Contrasts"
   ]
  },
  {
   "cell_type": "code",
   "execution_count": 73,
   "metadata": {},
   "outputs": [
    {
     "data": {
      "text/html": [
       "<table>\n",
       "<caption>A data.frame: 4 × 6</caption>\n",
       "<thead>\n",
       "\t<tr><th></th><th scope=col>CAMP</th><th scope=col>TYPE</th><th scope=col>c.1</th><th scope=col>c.2</th><th scope=col>c.3</th><th scope=col>c.4</th></tr>\n",
       "\t<tr><th></th><th scope=col>&lt;fct&gt;</th><th scope=col>&lt;fct&gt;</th><th scope=col>&lt;dbl&gt;</th><th scope=col>&lt;dbl&gt;</th><th scope=col>&lt;dbl&gt;</th><th scope=col>&lt;dbl&gt;</th></tr>\n",
       "</thead>\n",
       "<tbody>\n",
       "\t<tr><th scope=row>metoo ctrl</th><td>metoo    </td><td>ctrl</td><td> 0.75</td><td>-0.25</td><td>-0.25</td><td>-0.25</td></tr>\n",
       "\t<tr><th scope=row>sexstrike ctrl</th><td>sexstrike</td><td>ctrl</td><td>-0.25</td><td> 0.75</td><td>-0.25</td><td>-0.25</td></tr>\n",
       "\t<tr><th scope=row>metoo orig</th><td>metoo    </td><td>orig</td><td>-0.25</td><td>-0.25</td><td> 0.75</td><td>-0.25</td></tr>\n",
       "\t<tr><th scope=row>sexstrike orig</th><td>sexstrike</td><td>orig</td><td>-0.25</td><td>-0.25</td><td>-0.25</td><td> 0.75</td></tr>\n",
       "</tbody>\n",
       "</table>\n"
      ],
      "text/latex": [
       "A data.frame: 4 × 6\n",
       "\\begin{tabular}{r|llllll}\n",
       "  & CAMP & TYPE & c.1 & c.2 & c.3 & c.4\\\\\n",
       "  & <fct> & <fct> & <dbl> & <dbl> & <dbl> & <dbl>\\\\\n",
       "\\hline\n",
       "\tmetoo ctrl & metoo     & ctrl &  0.75 & -0.25 & -0.25 & -0.25\\\\\n",
       "\tsexstrike ctrl & sexstrike & ctrl & -0.25 &  0.75 & -0.25 & -0.25\\\\\n",
       "\tmetoo orig & metoo     & orig & -0.25 & -0.25 &  0.75 & -0.25\\\\\n",
       "\tsexstrike orig & sexstrike & orig & -0.25 & -0.25 & -0.25 &  0.75\\\\\n",
       "\\end{tabular}\n"
      ],
      "text/markdown": [
       "\n",
       "A data.frame: 4 × 6\n",
       "\n",
       "| <!--/--> | CAMP &lt;fct&gt; | TYPE &lt;fct&gt; | c.1 &lt;dbl&gt; | c.2 &lt;dbl&gt; | c.3 &lt;dbl&gt; | c.4 &lt;dbl&gt; |\n",
       "|---|---|---|---|---|---|---|\n",
       "| metoo ctrl | metoo     | ctrl |  0.75 | -0.25 | -0.25 | -0.25 |\n",
       "| sexstrike ctrl | sexstrike | ctrl | -0.25 |  0.75 | -0.25 | -0.25 |\n",
       "| metoo orig | metoo     | orig | -0.25 | -0.25 |  0.75 | -0.25 |\n",
       "| sexstrike orig | sexstrike | orig | -0.25 | -0.25 | -0.25 |  0.75 |\n",
       "\n"
      ],
      "text/plain": [
       "               CAMP      TYPE c.1   c.2   c.3   c.4  \n",
       "metoo ctrl     metoo     ctrl  0.75 -0.25 -0.25 -0.25\n",
       "sexstrike ctrl sexstrike ctrl -0.25  0.75 -0.25 -0.25\n",
       "metoo orig     metoo     orig -0.25 -0.25  0.75 -0.25\n",
       "sexstrike orig sexstrike orig -0.25 -0.25 -0.25  0.75"
      ]
     },
     "metadata": {},
     "output_type": "display_data"
    }
   ],
   "source": [
    "coef(contrast(a2ag01PrcEm1))"
   ]
  },
  {
   "cell_type": "code",
   "execution_count": 74,
   "metadata": {},
   "outputs": [
    {
     "data": {
      "text/html": [
       "<table>\n",
       "<caption>A data.frame: 4 × 6</caption>\n",
       "<thead>\n",
       "\t<tr><th></th><th scope=col>CAMP</th><th scope=col>TYPE</th><th scope=col>c.1</th><th scope=col>c.2</th><th scope=col>c.3</th><th scope=col>c.4</th></tr>\n",
       "\t<tr><th></th><th scope=col>&lt;fct&gt;</th><th scope=col>&lt;fct&gt;</th><th scope=col>&lt;dbl&gt;</th><th scope=col>&lt;dbl&gt;</th><th scope=col>&lt;dbl&gt;</th><th scope=col>&lt;dbl&gt;</th></tr>\n",
       "</thead>\n",
       "<tbody>\n",
       "\t<tr><th scope=row>metoo ctrl</th><td>metoo    </td><td>ctrl</td><td> 0.75</td><td>-0.25</td><td>-0.25</td><td>-0.25</td></tr>\n",
       "\t<tr><th scope=row>sexstrike ctrl</th><td>sexstrike</td><td>ctrl</td><td>-0.25</td><td> 0.75</td><td>-0.25</td><td>-0.25</td></tr>\n",
       "\t<tr><th scope=row>metoo orig</th><td>metoo    </td><td>orig</td><td>-0.25</td><td>-0.25</td><td> 0.75</td><td>-0.25</td></tr>\n",
       "\t<tr><th scope=row>sexstrike orig</th><td>sexstrike</td><td>orig</td><td>-0.25</td><td>-0.25</td><td>-0.25</td><td> 0.75</td></tr>\n",
       "</tbody>\n",
       "</table>\n"
      ],
      "text/latex": [
       "A data.frame: 4 × 6\n",
       "\\begin{tabular}{r|llllll}\n",
       "  & CAMP & TYPE & c.1 & c.2 & c.3 & c.4\\\\\n",
       "  & <fct> & <fct> & <dbl> & <dbl> & <dbl> & <dbl>\\\\\n",
       "\\hline\n",
       "\tmetoo ctrl & metoo     & ctrl &  0.75 & -0.25 & -0.25 & -0.25\\\\\n",
       "\tsexstrike ctrl & sexstrike & ctrl & -0.25 &  0.75 & -0.25 & -0.25\\\\\n",
       "\tmetoo orig & metoo     & orig & -0.25 & -0.25 &  0.75 & -0.25\\\\\n",
       "\tsexstrike orig & sexstrike & orig & -0.25 & -0.25 & -0.25 &  0.75\\\\\n",
       "\\end{tabular}\n"
      ],
      "text/markdown": [
       "\n",
       "A data.frame: 4 × 6\n",
       "\n",
       "| <!--/--> | CAMP &lt;fct&gt; | TYPE &lt;fct&gt; | c.1 &lt;dbl&gt; | c.2 &lt;dbl&gt; | c.3 &lt;dbl&gt; | c.4 &lt;dbl&gt; |\n",
       "|---|---|---|---|---|---|---|\n",
       "| metoo ctrl | metoo     | ctrl |  0.75 | -0.25 | -0.25 | -0.25 |\n",
       "| sexstrike ctrl | sexstrike | ctrl | -0.25 |  0.75 | -0.25 | -0.25 |\n",
       "| metoo orig | metoo     | orig | -0.25 | -0.25 |  0.75 | -0.25 |\n",
       "| sexstrike orig | sexstrike | orig | -0.25 | -0.25 | -0.25 |  0.75 |\n",
       "\n"
      ],
      "text/plain": [
       "               CAMP      TYPE c.1   c.2   c.3   c.4  \n",
       "metoo ctrl     metoo     ctrl  0.75 -0.25 -0.25 -0.25\n",
       "sexstrike ctrl sexstrike ctrl -0.25  0.75 -0.25 -0.25\n",
       "metoo orig     metoo     orig -0.25 -0.25  0.75 -0.25\n",
       "sexstrike orig sexstrike orig -0.25 -0.25 -0.25  0.75"
      ]
     },
     "metadata": {},
     "output_type": "display_data"
    }
   ],
   "source": [
    "coef(contrast(a1vb01PrcEm1))"
   ]
  },
  {
   "cell_type": "markdown",
   "metadata": {},
   "source": [
    "## Effect of TYPE (ctrl, orig) conditional on CAMP (#sexstrike, #metoo)"
   ]
  },
  {
   "cell_type": "code",
   "execution_count": 50,
   "metadata": {},
   "outputs": [],
   "source": [
    "a1vb01PrcEm2 <- emmeans(a1vb01Prc, specs<-c(\"TYPE\"), by<-\"CAMP\")\n",
    "a2ag01PrcEm2 <- emmeans(a2ag01Prc, specs<-c(\"TYPE\"), by<-\"CAMP\")"
   ]
  },
  {
   "cell_type": "code",
   "execution_count": 51,
   "metadata": {},
   "outputs": [
    {
     "data": {
      "text/plain": [
       "CAMP = metoo:\n",
       " TYPE  emmean        SE     df lower.CL upper.CL\n",
       " ctrl 0.04612 0.0001147 752550  0.04590  0.04635\n",
       " orig 0.04167 0.0001259 752550  0.04142  0.04191\n",
       "\n",
       "CAMP = sexstrike:\n",
       " TYPE  emmean        SE     df lower.CL upper.CL\n",
       " ctrl 0.04977 0.0003307 752550  0.04912  0.05042\n",
       " orig 0.05100 0.0003893 752550  0.05024  0.05176\n",
       "\n",
       "Confidence level used: 0.95 "
      ]
     },
     "metadata": {},
     "output_type": "display_data"
    }
   ],
   "source": [
    "a1vb01PrcEm2"
   ]
  },
  {
   "cell_type": "code",
   "execution_count": 52,
   "metadata": {},
   "outputs": [
    {
     "data": {
      "text/plain": [
       "CAMP = metoo:\n",
       " TYPE emmean       SE     df lower.CL upper.CL\n",
       " ctrl 0.0409 0.000114 752550   0.0406   0.0411\n",
       " orig 0.0336 0.000125 752550   0.0334   0.0339\n",
       "\n",
       "CAMP = sexstrike:\n",
       " TYPE emmean       SE     df lower.CL upper.CL\n",
       " ctrl 0.0441 0.000328 752550   0.0434   0.0447\n",
       " orig 0.0474 0.000387 752550   0.0466   0.0481\n",
       "\n",
       "Confidence level used: 0.95 "
      ]
     },
     "metadata": {},
     "output_type": "display_data"
    }
   ],
   "source": [
    "a2ag01PrcEm2"
   ]
  },
  {
   "cell_type": "code",
   "execution_count": 53,
   "metadata": {},
   "outputs": [
    {
     "data": {
      "text/plain": [
       "CAMP = metoo:\n",
       " contrast    estimate       SE     df t.ratio p.value\n",
       " ctrl - orig  0.00445 0.000170 752550 26.150  <.0001 \n",
       "\n",
       "CAMP = sexstrike:\n",
       " contrast    estimate       SE     df t.ratio p.value\n",
       " ctrl - orig -0.00123 0.000511 752550 -2.413  0.0158 \n"
      ]
     },
     "metadata": {},
     "output_type": "display_data"
    }
   ],
   "source": [
    "pairs(a1vb01PrcEm2)"
   ]
  },
  {
   "cell_type": "code",
   "execution_count": 54,
   "metadata": {},
   "outputs": [
    {
     "data": {
      "text/plain": [
       "CAMP = metoo:\n",
       " contrast    estimate       SE     df t.ratio p.value\n",
       " ctrl - orig  0.00723 0.000169 752550 42.723  <.0001 \n",
       "\n",
       "CAMP = sexstrike:\n",
       " contrast    estimate       SE     df t.ratio p.value\n",
       " ctrl - orig -0.00328 0.000507 752550 -6.462  <.0001 \n"
      ]
     },
     "metadata": {},
     "output_type": "display_data"
    }
   ],
   "source": [
    "pairs(a2ag01PrcEm2)"
   ]
  },
  {
   "cell_type": "code",
   "execution_count": 57,
   "metadata": {},
   "outputs": [
    {
     "data": {
      "text/plain": [
       "$`CAMP = metoo`\n",
       "\n",
       "\t Simultaneous Tests for General Linear Hypotheses\n",
       "\n",
       "Linear Hypotheses:\n",
       "                  Estimate Std. Error t value Pr(>|t|)    \n",
       "ctrl - orig == 0 0.0044540  0.0001703   26.15   <2e-16 ***\n",
       "---\n",
       "Signif. codes:  0 ‘***’ 0.001 ‘**’ 0.01 ‘*’ 0.05 ‘.’ 0.1 ‘ ’ 1\n",
       "(Adjusted p values reported -- free method)\n",
       "\n",
       "\n",
       "$`CAMP = sexstrike`\n",
       "\n",
       "\t Simultaneous Tests for General Linear Hypotheses\n",
       "\n",
       "Linear Hypotheses:\n",
       "                   Estimate Std. Error t value Pr(>|t|)  \n",
       "ctrl - orig == 0 -0.0012325  0.0005108  -2.413   0.0158 *\n",
       "---\n",
       "Signif. codes:  0 ‘***’ 0.001 ‘**’ 0.01 ‘*’ 0.05 ‘.’ 0.1 ‘ ’ 1\n",
       "(Adjusted p values reported -- free method)\n",
       "\n"
      ]
     },
     "metadata": {},
     "output_type": "display_data"
    }
   ],
   "source": [
    "summary(as.glht(pairs(a1vb01PrcEm2)),test=TEST)"
   ]
  },
  {
   "cell_type": "code",
   "execution_count": 56,
   "metadata": {},
   "outputs": [
    {
     "data": {
      "text/plain": [
       "$`CAMP = metoo`\n",
       "\n",
       "\t Simultaneous Tests for General Linear Hypotheses\n",
       "\n",
       "Linear Hypotheses:\n",
       "                  Estimate Std. Error t value Pr(>|t|)    \n",
       "ctrl - orig == 0 0.0072283  0.0001692   42.72   <2e-16 ***\n",
       "---\n",
       "Signif. codes:  0 ‘***’ 0.001 ‘**’ 0.01 ‘*’ 0.05 ‘.’ 0.1 ‘ ’ 1\n",
       "(Adjusted p values reported -- free method)\n",
       "\n",
       "\n",
       "$`CAMP = sexstrike`\n",
       "\n",
       "\t Simultaneous Tests for General Linear Hypotheses\n",
       "\n",
       "Linear Hypotheses:\n",
       "                   Estimate Std. Error t value Pr(>|t|)    \n",
       "ctrl - orig == 0 -0.0032789  0.0005074  -6.462 1.03e-10 ***\n",
       "---\n",
       "Signif. codes:  0 ‘***’ 0.001 ‘**’ 0.01 ‘*’ 0.05 ‘.’ 0.1 ‘ ’ 1\n",
       "(Adjusted p values reported -- free method)\n",
       "\n"
      ]
     },
     "metadata": {},
     "output_type": "display_data"
    }
   ],
   "source": [
    "summary(as.glht(pairs(a2ag01PrcEm2)),test=TEST)"
   ]
  },
  {
   "cell_type": "markdown",
   "metadata": {},
   "source": [
    "# Handy plots"
   ]
  },
  {
   "cell_type": "code",
   "execution_count": 174,
   "metadata": {},
   "outputs": [
    {
     "data": {
      "image/png": "[encoded data removed]",
      "text/plain": [
       "plot without title"
      ]
     },
     "metadata": {
      "image/png": {
       "height": 240,
       "width": 480
      }
     },
     "output_type": "display_data"
    },
    {
     "data": {
      "image/png": "[encoded data removed]",
      "text/plain": [
       "plot without title"
      ]
     },
     "metadata": {
      "image/png": {
       "height": 240,
       "width": 480
      }
     },
     "output_type": "display_data"
    }
   ],
   "source": [
    "library(repr)\n",
    "options(repr.plot.width=8, repr.plot.height=4)\n",
    "fig.height = 10\n",
    "fig.width = 5\n",
    "plot(a1vb01PrcEm2, comparisons=TRUE, xlab=\"% Verb\")+\n",
    "coord_fixed(ratio = 0.004,xlim=c(0.030, 0.055),ylim=NULL,expand=TRUE,clip=\"on\")\n",
    "#+ \n",
    "#  theme(\n",
    "#      plot.margin = margin(.2,.2,.2,.2, \"cm\"),\n",
    "#      plot.background = element_rect(fill = \"darkgrey\")\n",
    "#  )\n",
    "\n",
    "plot(a2ag01PrcEm2, comparisons=TRUE, xlab=\"% Dict\")+\n",
    "coord_fixed(ratio = 0.004,xlim=c(0.030, 0.055),ylim=NULL,expand=TRUE,clip=\"on\")\n"
   ]
  },
  {
   "cell_type": "code",
   "execution_count": 179,
   "metadata": {},
   "outputs": [],
   "source": [
    "#                      ___           ___                    ___           ___                   \n",
    "#                     /\\  \\         /\\__\\                  /\\__\\         /\\  \\         _____    \n",
    "#        ___          \\:\\  \\       /:/ _/_                /:/ _/_        \\:\\  \\       /::\\  \\   \n",
    "#       /\\__\\          \\:\\  \\     /:/ /\\__\\              /:/ /\\__\\        \\:\\  \\     /:/\\:\\  \\  \n",
    "#      /:/  /      ___ /::\\  \\   /:/ /:/ _/_            /:/ /:/ _/_   _____\\:\\  \\   /:/  \\:\\__\\ \n",
    "#     /:/__/      /\\  /:/\\:\\__\\ /:/_/:/ /\\__\\          /:/_/:/ /\\__\\ /::::::::\\__\\ /:/__/ \\:|__|\n",
    "#    /::\\  \\      \\:\\/:/  \\/__/ \\:\\/:/ /:/  /          \\:\\/:/ /:/  / \\:\\~~\\~~\\/__/ \\:\\  \\ /:/  /\n",
    "#   /:/\\:\\  \\      \\::/__/       \\::/_/:/  /            \\::/_/:/  /   \\:\\  \\        \\:\\  /:/  / \n",
    "#   \\/__\\:\\  \\      \\:\\  \\        \\:\\/:/  /              \\:\\/:/  /     \\:\\  \\        \\:\\/:/  /  \n",
    "#        \\:\\__\\      \\:\\__\\        \\::/  /                \\::/  /       \\:\\__\\        \\::/  /   \n",
    "#         \\/__/       \\/__/         \\/__/                  \\/__/         \\/__/         \\/__/    \n",
    "#  \n",
    "\n",
    "\n"
   ]
  },
  {
   "cell_type": "markdown",
   "metadata": {},
   "source": [
    "# Helpers"
   ]
  },
  {
   "cell_type": "code",
   "execution_count": 29,
   "metadata": {},
   "outputs": [],
   "source": [
    "?mixed"
   ]
  },
  {
   "cell_type": "code",
   "execution_count": null,
   "metadata": {},
   "outputs": [],
   "source": [
    "?scale"
   ]
  },
  {
   "cell_type": "code",
   "execution_count": null,
   "metadata": {},
   "outputs": [],
   "source": [
    "?lmer"
   ]
  },
  {
   "cell_type": "code",
   "execution_count": null,
   "metadata": {},
   "outputs": [],
   "source": [
    "?aov_4"
   ]
  },
  {
   "cell_type": "code",
   "execution_count": null,
   "metadata": {},
   "outputs": [],
   "source": [
    "?emmeans"
   ]
  },
  {
   "cell_type": "code",
   "execution_count": 157,
   "metadata": {},
   "outputs": [],
   "source": [
    "?coord_fixed"
   ]
  },
  {
   "cell_type": "markdown",
   "metadata": {},
   "source": [
    "# Extras"
   ]
  },
  {
   "cell_type": "code",
   "execution_count": null,
   "metadata": {},
   "outputs": [],
   "source": [
    "df2$retweets <- as.numeric(df2$retweets) # TODO FIXME This should be fixed elsewhere!"
   ]
  },
  {
   "cell_type": "code",
   "execution_count": null,
   "metadata": {
    "scrolled": true
   },
   "outputs": [],
   "source": [
    "df2$ReTw <- cut(df2$retweets,\n",
    "                breaks=c(0, 5, 25, 125, Inf), \n",
    "                right  = FALSE,\n",
    "              # labels=c(\"low\",\"med\",\"high\",\"viral\")\n",
    "               )\n",
    "\n",
    "str(df2)"
   ]
  },
  {
   "cell_type": "markdown",
   "metadata": {},
   "source": [
    "# Playground"
   ]
  },
  {
   "cell_type": "code",
   "execution_count": 116,
   "metadata": {},
   "outputs": [
    {
     "data": {
      "image/png": "[encoded data removed]",
      "text/plain": [
       "plot without title"
      ]
     },
     "metadata": {
      "image/png": {
       "height": 420,
       "width": 420
      }
     },
     "output_type": "display_data"
    }
   ],
   "source": [
    "plot_grid(\n",
    "  afex_plot(\n",
    "      a1vb01Prc, \n",
    "      x=\"TYPE\", \n",
    "      trace=\"CAMP\",\n",
    "      error = \"between\", \n",
    "      data_geom = geom_quasirandom, \n",
    "      data_alpha = 0.3) + \n",
    "    coord_cartesian(ylim = c(0, 1)),\n",
    "  afex_plot(\n",
    "      a2ag01Prc, \n",
    "      x=\"TYPE\", \n",
    "      trace=\"CAMP\",\n",
    "      error = \"between\", \n",
    "      data_geom = geom_quasirandom, \n",
    "      data_alpha = 0.3) +\n",
    "    coord_cartesian(ylim = c(0, 1))\n",
    ")"
   ]
  },
  {
   "cell_type": "code",
   "execution_count": 118,
   "metadata": {},
   "outputs": [
    {
     "data": {
      "text/html": [
       "<style>\n",
       ".list-inline {list-style: none; margin:0; padding: 0}\n",
       ".list-inline>li {display: inline-block}\n",
       ".list-inline>li:not(:last-child)::after {content: \"\\00b7\"; padding: 0 .5ex}\n",
       "</style>\n",
       "<ol class=list-inline><li>203080</li><li>84312</li></ol>\n"
      ],
      "text/latex": [
       "\\begin{enumerate*}\n",
       "\\item 203080\n",
       "\\item 84312\n",
       "\\end{enumerate*}\n"
      ],
      "text/markdown": [
       "1. 203080\n",
       "2. 84312\n",
       "\n",
       "\n"
      ],
      "text/plain": [
       "[1] 203080  84312"
      ]
     },
     "metadata": {},
     "output_type": "display_data"
    },
    {
     "data": {
      "image/png": "[encoded data removed]",
      "text/plain": [
       "plot without title"
      ]
     },
     "metadata": {
      "image/png": {
       "height": 420,
       "width": 420
      }
     },
     "output_type": "display_data"
    }
   ],
   "source": [
    "qqPlot(a1vb01Prc$aov$residuals)"
   ]
  },
  {
   "cell_type": "code",
   "execution_count": 119,
   "metadata": {},
   "outputs": [
    {
     "data": {
      "text/html": [
       "<style>\n",
       ".list-inline {list-style: none; margin:0; padding: 0}\n",
       ".list-inline>li {display: inline-block}\n",
       ".list-inline>li:not(:last-child)::after {content: \"\\00b7\"; padding: 0 .5ex}\n",
       "</style>\n",
       "<ol class=list-inline><li>86914</li><li>88015</li></ol>\n"
      ],
      "text/latex": [
       "\\begin{enumerate*}\n",
       "\\item 86914\n",
       "\\item 88015\n",
       "\\end{enumerate*}\n"
      ],
      "text/markdown": [
       "1. 86914\n",
       "2. 88015\n",
       "\n",
       "\n"
      ],
      "text/plain": [
       "[1] 86914 88015"
      ]
     },
     "metadata": {},
     "output_type": "display_data"
    },
    {
     "data": {
      "image/png": "[encoded data removed]",
      "text/plain": [
       "plot without title"
      ]
     },
     "metadata": {
      "image/png": {
       "height": 420,
       "width": 420
      }
     },
     "output_type": "display_data"
    }
   ],
   "source": [
    "qqPlot(a2ag01Prc$aov$residuals)"
   ]
  },
  {
   "cell_type": "code",
   "execution_count": 120,
   "metadata": {},
   "outputs": [
    {
     "ename": "ERROR",
     "evalue": "Error in shapiro.test(a1vb01Prc$aov$residuals): sample size must be between 3 and 5000\n",
     "output_type": "error",
     "traceback": [
      "Error in shapiro.test(a1vb01Prc$aov$residuals): sample size must be between 3 and 5000\nTraceback:\n",
      "1. shapiro.test(a1vb01Prc$aov$residuals)",
      "2. stop(\"sample size must be between 3 and 5000\")"
     ]
    }
   ],
   "source": [
    "shapiro.test(a1vb01Prc$aov$residuals)"
   ]
  },
  {
   "cell_type": "code",
   "execution_count": null,
   "metadata": {},
   "outputs": [],
   "source": [
    "shapiro.test(a2ag01Prc$aov$residuals)"
   ]
  },
  {
   "cell_type": "code",
   "execution_count": null,
   "metadata": {},
   "outputs": [],
   "source": [
    "ad.test(a1vb01Prc$aov$residuals)$p.value"
   ]
  },
  {
   "cell_type": "code",
   "execution_count": null,
   "metadata": {},
   "outputs": [],
   "source": [
    "ad.test(a2ag01Prc$aov$residuals)$p.value"
   ]
  },
  {
   "cell_type": "code",
   "execution_count": null,
   "metadata": {},
   "outputs": [],
   "source": [
    "test_levene(a1vb01Prc)"
   ]
  },
  {
   "cell_type": "code",
   "execution_count": null,
   "metadata": {},
   "outputs": [],
   "source": [
    "test_levene(a2ag01Prc)"
   ]
  },
  {
   "cell_type": "code",
   "execution_count": 177,
   "metadata": {},
   "outputs": [],
   "source": [
    "library(\"pwr\")"
   ]
  },
  {
   "cell_type": "code",
   "execution_count": 27,
   "metadata": {},
   "outputs": [],
   "source": [
    "?pwr.anova.test"
   ]
  },
  {
   "cell_type": "code",
   "execution_count": 30,
   "metadata": {},
   "outputs": [],
   "source": [
    "?summary"
   ]
  },
  {
   "cell_type": "code",
   "execution_count": null,
   "metadata": {},
   "outputs": [],
   "source": []
  }
 ],
 "metadata": {
  "kernelspec": {
   "display_name": "R",
   "language": "R",
   "name": "ir"
  },
  "language_info": {
   "codemirror_mode": "r",
   "file_extension": ".r",
   "mimetype": "text/x-r-source",
   "name": "R",
   "pygments_lexer": "r",
   "version": "3.6.3"
  }
 },
 "nbformat": 4,
 "nbformat_minor": 4
}
