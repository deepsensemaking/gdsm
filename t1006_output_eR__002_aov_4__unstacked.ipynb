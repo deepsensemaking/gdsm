{
 "cells": [
  {
   "cell_type": "markdown",
   "metadata": {},
   "source": [
    "# Useful links"
   ]
  },
  {
   "cell_type": "markdown",
   "metadata": {},
   "source": [
    "- [ ] https://cran.r-project.org/web/packages/afex/vignettes/introduction-mixed-models.pdf\n",
    "- [ ] https://cran.r-project.org/web/packages/afex/afex.pdf\n",
    "- [ ] https://cran.r-project.org/web/packages/afex/index.html\n",
    "- [ ] https://cran.r-project.org/web/packages/afex/vignettes/afex_analysing_accuracy_data.html\n",
    "- [ ] https://cran.r-project.org/web/packages/afex/vignettes/afex_anova_example.html\n",
    "- [ ] https://cran.r-project.org/web/packages/afex/vignettes/afex_mixed_example.html\n",
    "- [ ] https://cran.r-project.org/web/packages/emmeans/vignettes/comparisons.html\n",
    "- [ ] https://cran.r-project.org/web/packages/emmeans/vignettes/messy-data.html\n",
    "- [ ] https://cran.r-project.org/web/packages/emmeans/vignettes/interactions.html\n",
    "- [ ] https://cran.r-project.org/web/packages/emmeans/vignettes/basics.html\n",
    "- [ ] https://cran.r-project.org/web/packages/afex/vignettes/afex_mixed_example.html"
   ]
  },
  {
   "cell_type": "markdown",
   "metadata": {},
   "source": [
    "- [ ] https://osf.io/nfwx7/"
   ]
  },
  {
   "cell_type": "markdown",
   "metadata": {},
   "source": [
    "- [ ] https://stats.stackexchange.com/questions/13166/rs-lmer-cheat-sheet"
   ]
  },
  {
   "cell_type": "markdown",
   "metadata": {},
   "source": [
    "- [ ] https://psu-psychology.github.io/r-bootcamp-2018/index.html\n",
    "- [ ] http://tysonbarrett.com/EDUC-6600/Resources/Example_Ch15_rmANOVA.html\n",
    "- [ ] http://singmann.org/anova-in-r-afex-may-be-the-solution-you-are-looking-for/\n",
    "- [ ] https://ademos.people.uic.edu/Chapter21.html\n",
    "- [ ] https://www.psychologie.uni-heidelberg.de/ae/meth/team/mertens/blog/anova_in_r_made_easy.nb.html\n",
    "- [ ] http://tysonbarrett.com/EDUC-6600/Resources/Example_Ch15_rmANOVA.html"
   ]
  },
  {
   "cell_type": "markdown",
   "metadata": {},
   "source": [
    "# Setup"
   ]
  },
  {
   "cell_type": "markdown",
   "metadata": {},
   "source": [
    "## Imports"
   ]
  },
  {
   "cell_type": "code",
   "execution_count": 1,
   "metadata": {},
   "outputs": [
    {
     "name": "stderr",
     "output_type": "stream",
     "text": [
      "\n",
      "Attaching package: ‘dplyr’\n",
      "\n",
      "\n",
      "The following objects are masked from ‘package:stats’:\n",
      "\n",
      "    filter, lag\n",
      "\n",
      "\n",
      "The following objects are masked from ‘package:base’:\n",
      "\n",
      "    intersect, setdiff, setequal, union\n",
      "\n",
      "\n",
      "Loading required package: lme4\n",
      "\n",
      "Loading required package: Matrix\n",
      "\n",
      "\n",
      "Attaching package: ‘Matrix’\n",
      "\n",
      "\n",
      "The following objects are masked from ‘package:tidyr’:\n",
      "\n",
      "    expand, pack, unpack\n",
      "\n",
      "\n",
      "Registered S3 methods overwritten by 'car':\n",
      "  method                          from\n",
      "  influence.merMod                lme4\n",
      "  cooks.distance.influence.merMod lme4\n",
      "  dfbeta.influence.merMod         lme4\n",
      "  dfbetas.influence.merMod        lme4\n",
      "\n",
      "************\n",
      "Welcome to afex. For support visit: http://afex.singmann.science/\n",
      "\n",
      "- Functions for ANOVAs: aov_car(), aov_ez(), and aov_4()\n",
      "- Methods for calculating p-values with mixed(): 'KR', 'S', 'LRT', and 'PB'\n",
      "- 'afex_aov' and 'mixed' objects can be passed to emmeans() for follow-up tests\n",
      "- NEWS: library('emmeans') now needs to be called explicitly!\n",
      "- Get and set global package options with: afex_options()\n",
      "- Set orthogonal sum-to-zero contrasts globally: set_sum_contrasts()\n",
      "- For example analyses see: browseVignettes(\"afex\")\n",
      "************\n",
      "\n",
      "\n",
      "Attaching package: ‘afex’\n",
      "\n",
      "\n",
      "The following object is masked from ‘package:lme4’:\n",
      "\n",
      "    lmer\n",
      "\n",
      "\n",
      "Loading required package: mvtnorm\n",
      "\n",
      "Loading required package: survival\n",
      "\n",
      "Loading required package: TH.data\n",
      "\n",
      "Loading required package: MASS\n",
      "\n",
      "\n",
      "Attaching package: ‘MASS’\n",
      "\n",
      "\n",
      "The following object is masked from ‘package:dplyr’:\n",
      "\n",
      "    select\n",
      "\n",
      "\n",
      "\n",
      "Attaching package: ‘TH.data’\n",
      "\n",
      "\n",
      "The following object is masked from ‘package:MASS’:\n",
      "\n",
      "    geyser\n",
      "\n",
      "\n"
     ]
    }
   ],
   "source": [
    "library(\"dplyr\")\n",
    "library(\"tidyr\")\n",
    "library(\"afex\")     # provides mixed() and attaches lme4 automatically.\n",
    "library(\"emmeans\")  # follow-up tests.\n",
    "library(\"multcomp\") # advanced control for multiple testing/Type 1 errors.\n",
    "library(\"ggplot2\")"
   ]
  },
  {
   "cell_type": "code",
   "execution_count": 2,
   "metadata": {},
   "outputs": [
    {
     "name": "stderr",
     "output_type": "stream",
     "text": [
      "Loading required package: carData\n",
      "\n",
      "\n",
      "Attaching package: ‘car’\n",
      "\n",
      "\n",
      "The following object is masked from ‘package:dplyr’:\n",
      "\n",
      "    recode\n",
      "\n",
      "\n",
      "Loading required package: lattice\n",
      "\n",
      "Loading required package: ez\n",
      "\n"
     ]
    }
   ],
   "source": [
    "library(\"car\")\n",
    "require(\"lattice\")\n",
    "require(\"ez\")"
   ]
  },
  {
   "cell_type": "code",
   "execution_count": 3,
   "metadata": {},
   "outputs": [],
   "source": [
    "library(\"cowplot\")\n",
    "library(\"ggbeeswarm\")\n",
    "\n",
    "library(\"nortest\")"
   ]
  },
  {
   "cell_type": "code",
   "execution_count": 4,
   "metadata": {},
   "outputs": [],
   "source": [
    "# library(\"apa\")"
   ]
  },
  {
   "cell_type": "code",
   "execution_count": 5,
   "metadata": {},
   "outputs": [],
   "source": [
    "library(\"effectsize\")"
   ]
  },
  {
   "cell_type": "markdown",
   "metadata": {},
   "source": [
    "## Settings"
   ]
  },
  {
   "cell_type": "code",
   "execution_count": 6,
   "metadata": {},
   "outputs": [],
   "source": [
    "theme_set(theme_bw(base_size = 15) +\n",
    "            theme(legend.position=\"bottom\",\n",
    "                  panel.grid.major.x = element_blank()))"
   ]
  },
  {
   "cell_type": "code",
   "execution_count": 7,
   "metadata": {},
   "outputs": [],
   "source": [
    "options(width=120)"
   ]
  },
  {
   "cell_type": "markdown",
   "metadata": {},
   "source": [
    "## Session info"
   ]
  },
  {
   "cell_type": "code",
   "execution_count": 8,
   "metadata": {},
   "outputs": [
    {
     "data": {
      "text/plain": [
       "R version 3.6.3 (2020-02-29)\n",
       "Platform: x86_64-pc-linux-gnu (64-bit)\n",
       "Running under: Ubuntu 18.04.5 LTS\n",
       "\n",
       "Matrix products: default\n",
       "BLAS:   /usr/lib/x86_64-linux-gnu/openblas/libblas.so.3\n",
       "LAPACK: /usr/lib/x86_64-linux-gnu/libopenblasp-r0.2.20.so\n",
       "\n",
       "locale:\n",
       " [1] LC_CTYPE=en_US.UTF-8       LC_NUMERIC=C               LC_TIME=en_IL.UTF-8        LC_COLLATE=en_US.UTF-8    \n",
       " [5] LC_MONETARY=en_IL.UTF-8    LC_MESSAGES=en_US.UTF-8    LC_PAPER=en_IL.UTF-8       LC_NAME=C                 \n",
       " [9] LC_ADDRESS=C               LC_TELEPHONE=C             LC_MEASUREMENT=en_IL.UTF-8 LC_IDENTIFICATION=C       \n",
       "\n",
       "attached base packages:\n",
       "[1] stats     graphics  grDevices utils     datasets  methods   base     \n",
       "\n",
       "other attached packages:\n",
       " [1] effectsize_0.3.3 nortest_1.0-4    ggbeeswarm_0.6.0 cowplot_1.1.0    ez_4.4-0         lattice_0.20-41 \n",
       " [7] car_3.0-10       carData_3.0-4    ggplot2_3.3.2    multcomp_1.4-14  TH.data_1.0-10   MASS_7.3-53     \n",
       "[13] survival_3.2-7   mvtnorm_1.1-1    emmeans_1.5.1    afex_0.28-0      lme4_1.1-23      Matrix_1.2-18   \n",
       "[19] tidyr_1.1.2      dplyr_1.0.2     \n",
       "\n",
       "loaded via a namespace (and not attached):\n",
       " [1] jsonlite_1.7.1      splines_3.6.3       statmod_1.4.34      vipor_0.4.5         cellranger_1.1.0   \n",
       " [6] bayestestR_0.7.2    numDeriv_2016.8-1.1 pillar_1.4.6        glue_1.4.2          uuid_0.1-4         \n",
       "[11] digest_0.6.25       minqa_1.2.4         colorspace_1.4-1    sandwich_2.5-1      htmltools_0.5.0    \n",
       "[16] plyr_1.8.6          pkgconfig_2.0.3     haven_2.3.1         purrr_0.3.4         xtable_1.8-4       \n",
       "[21] scales_1.1.1        openxlsx_4.2.2      rio_0.5.16          tibble_3.0.3        mgcv_1.8-33        \n",
       "[26] generics_0.0.2      ellipsis_0.3.1      withr_2.3.0         repr_1.1.0          magrittr_1.5       \n",
       "[31] crayon_1.3.4        readxl_1.3.1        estimability_1.3    evaluate_0.14       nlme_3.1-149       \n",
       "[36] forcats_0.5.0       foreign_0.8-76      beeswarm_0.2.3      tools_3.6.3         data.table_1.13.0  \n",
       "[41] hms_0.5.3           lifecycle_0.2.0     stringr_1.4.0       munsell_0.5.0       zip_2.1.1          \n",
       "[46] compiler_3.6.3      rlang_0.4.8         grid_3.6.3          nloptr_1.2.2.2      parameters_0.8.6   \n",
       "[51] pbdZMQ_0.3-3        IRkernel_1.1.1.9000 base64enc_0.1-3     boot_1.3-25         gtable_0.3.0       \n",
       "[56] codetools_0.2-16    lmerTest_3.1-2      abind_1.4-5         curl_4.3            reshape2_1.4.4     \n",
       "[61] R6_2.4.1            zoo_1.8-8           insight_0.9.6       stringi_1.5.3       parallel_3.6.3     \n",
       "[66] IRdisplay_0.7.0     Rcpp_1.0.5          vctrs_0.3.4         tidyselect_1.1.0    coda_0.19-4        "
      ]
     },
     "metadata": {},
     "output_type": "display_data"
    }
   ],
   "source": [
    "sessionInfo()"
   ]
  },
  {
   "cell_type": "markdown",
   "metadata": {},
   "source": [
    "## Create output directory"
   ]
  },
  {
   "cell_type": "code",
   "execution_count": 9,
   "metadata": {},
   "outputs": [],
   "source": [
    "dir.create(\"data/t1007\",showWarnings = FALSE,recursive = TRUE)"
   ]
  },
  {
   "cell_type": "markdown",
   "metadata": {},
   "source": [
    "## Handy functions"
   ]
  },
  {
   "cell_type": "markdown",
   "metadata": {},
   "source": [
    "### Function for logging information BEFORE execution"
   ]
  },
  {
   "cell_type": "code",
   "execution_count": 10,
   "metadata": {},
   "outputs": [],
   "source": [
    "logging0 <- function(ifName,infoStr=\"\",data){\n",
    "    t0 <- Sys.time()\n",
    "    s0 <- gsub(\"\\\\s\",\"_\",t0)\n",
    "    s1 <- gsub(\"^.\",\"\",tempfile(\"\",\"\",\"\"))\n",
    "    s2 <- gsub(\"/t1006/\",\"/t1007/\",ifName)\n",
    "    ofName <- paste(paste(s2,\"\",s0,\"\",s1,infoStr,\"_nrow\",nrow(data),sep=\"_\"),\".RData\",sep=\"\")\n",
    "    lfName = paste(ofName ,\".LOG.txt\" ,sep=\"\" ,collapse = \"\")\n",
    "    log_msg <- toString(paste(\n",
    "        paste(\"logs0\" ,toString(lfName)     ,sep=\": \" ,collapse = \"\")\n",
    "      , paste(\"time0\" ,toString(Sys.time()) ,sep=\": \" ,collapse = \"\")\n",
    "      , paste(\"nrows\" ,toString(nrow(data))  ,sep=\": \" ,collapse = \"\")\n",
    "      , paste(\"ncols\" ,toString(ncol(data))  ,sep=\": \" ,collapse = \"\")\n",
    "      , paste(\"vList\" ,toString(ls())       ,sep=\": \" ,collapse = \"\")\n",
    "      , paste(\"oSave\" ,toString(ofName)     ,sep=\": \" ,collapse = \"\")        \n",
    "      , \"\\n\"\n",
    "      , sep=\"\\n\"))\n",
    "    cat(log_msg)\n",
    "    write(paste(log_msg) ,file=lfName ,append=TRUE)\n",
    "    return(list(\"ofName\"=ofName,\"lfName\"=lfName,\"t0\"=t0))\n",
    "}"
   ]
  },
  {
   "cell_type": "markdown",
   "metadata": {},
   "source": [
    "### Function for logging information AFTER execution"
   ]
  },
  {
   "cell_type": "code",
   "execution_count": 11,
   "metadata": {},
   "outputs": [],
   "source": [
    "logging1 <- function(lfName,t0){\n",
    "    t1 <- Sys.time()\n",
    "    d1 <- t1-t0\n",
    "    log_msg <- toString(paste(\n",
    "        paste(\"time1\" ,toString(Sys.time()) ,sep=\": \" ,collapse = \"\")\n",
    "      , paste(\"diff1\" ,capture.output(d1)   ,sep=\": \" ,collapse = \"\")\n",
    "      , \"\\n\"\n",
    "      , sep=\"\\n\"))\n",
    "    cat(log_msg)\n",
    "    write(paste(log_msg) ,file=lfName ,append=TRUE)\n",
    "    return(list(\"d1\" = d1))\n",
    "}"
   ]
  },
  {
   "cell_type": "markdown",
   "metadata": {},
   "source": [
    "### Function for displaying results in APA 6"
   ]
  },
  {
   "cell_type": "code",
   "execution_count": 12,
   "metadata": {},
   "outputs": [
    {
     "name": "stderr",
     "output_type": "stream",
     "text": [
      "\n",
      "Attaching package: ‘IRdisplay’\n",
      "\n",
      "\n",
      "The following object is masked from ‘package:xtable’:\n",
      "\n",
      "    display\n",
      "\n",
      "\n",
      "Loading required package: papaja\n",
      "\n",
      "Loading required package: tinytex\n",
      "\n"
     ]
    }
   ],
   "source": [
    "library(xtable)\n",
    "library(IRdisplay)\n",
    "library(repr)\n",
    "require(\"papaja\")\n",
    "require(\"tinytex\")\n",
    "apaMd <- function(apaObj){\n",
    "    apaStr <- \"\"\n",
    "    for (ii in names(apaObj)){\n",
    "        apaStr <- paste(apaStr, paste(\"\\n\",\"### \", ii, \"\\n\" ,sep=\"\" ,collapse = \"\")  ,sep=\"\" ,collapse = \"\")\n",
    "        if(!(ii == \"table\")){ \n",
    "            for (jj in names(apaObj[[ii]])){\n",
    "                apaStr <- paste(apaStr, paste(\"- \", ii,\" for `\", jj, \"` is \", \"\\n\" ,sep=\"\" ,collapse = \"\")  ,sep=\"\\n\" ,collapse = \" \")\n",
    "                apaStr <- paste(apaStr, paste(\"  - \", apaObj[[ii]][[jj]], \"\\n\" ,sep=\"\" ,collapse = \"\")  ,sep=\"\\n\" ,collapse = \" \")\n",
    "                }}\n",
    "        else {\n",
    "            # apaStr <- paste(apaStr, \"\\n\\n\", paste(apa_table(apaObj$table))  ,sep=\"\\n\" ,collapse = \" \")\n",
    "            apaStr <- paste(apaStr, paste(\"- support for will arrive some day\", \"\\n\" ,sep=\"\" ,collapse = \"\")  ,sep=\"\\n\" ,collapse = \" \")\n",
    "            apaStr <- paste(apaStr, paste(\"- for now please use apa_table function\", \"\\n\" ,sep=\"\" ,collapse = \"\")  ,sep=\"\\n\" ,collapse = \" \")\n",
    "\n",
    "        }}\n",
    "    return(apaStr)\n",
    "}"
   ]
  },
  {
   "cell_type": "markdown",
   "metadata": {},
   "source": [
    "# Load data"
   ]
  },
  {
   "cell_type": "markdown",
   "metadata": {},
   "source": [
    "Depending on how much data you want to include select a file to be loaded (either by executing relevant cell or by clicking ↑ or ↓ above to move cells up or down, the last executed cell containing `ifName` defines the file to be loaded)."
   ]
  },
  {
   "cell_type": "code",
   "execution_count": 13,
   "metadata": {},
   "outputs": [],
   "source": [
    "ifName=\"data/t1006/bigDF__df2__001_unstacked.RData\" # 752554 obs"
   ]
  },
  {
   "cell_type": "code",
   "execution_count": 14,
   "metadata": {},
   "outputs": [],
   "source": [
    "load(file=ifName)\n",
    "df3 <- df2"
   ]
  },
  {
   "cell_type": "code",
   "execution_count": 15,
   "metadata": {},
   "outputs": [],
   "source": [
    "df2 <- subset(df2,wordCnt>4) # ~649262 obs"
   ]
  },
  {
   "cell_type": "code",
   "execution_count": 17,
   "metadata": {},
   "outputs": [],
   "source": [
    "df2 = subset(df2, select = -c(nn01Cnt,ag02Cnt,nn01Prc,ag02Prc) )"
   ]
  },
  {
   "cell_type": "code",
   "execution_count": 16,
   "metadata": {},
   "outputs": [],
   "source": [
    "df2$LBL <- paste(df2$CAMP,\"_\",df2$TYPE, sep=\"\")"
   ]
  },
  {
   "cell_type": "code",
   "execution_count": 18,
   "metadata": {},
   "outputs": [],
   "source": [
    "df2$vb01Prc <- df2$vb01Prc*100"
   ]
  },
  {
   "cell_type": "code",
   "execution_count": 19,
   "metadata": {},
   "outputs": [],
   "source": [
    "df2$ag01Prc <- df2$ag01Prc*100"
   ]
  },
  {
   "cell_type": "markdown",
   "metadata": {},
   "source": [
    "# Inspect data"
   ]
  },
  {
   "cell_type": "markdown",
   "metadata": {},
   "source": [
    "## Quick look at data"
   ]
  },
  {
   "cell_type": "code",
   "execution_count": 20,
   "metadata": {},
   "outputs": [
    {
     "name": "stdout",
     "output_type": "stream",
     "text": [
      "'data.frame':\t681652 obs. of  17 variables:\n",
      " $ CAMP       : Factor w/ 2 levels \"metoo\",\"sexstrike\": 1 1 1 1 1 1 1 1 1 1 ...\n",
      " $ TYPE       : Factor w/ 2 levels \"ctrl\",\"orig\": 1 1 1 1 1 1 1 1 1 1 ...\n",
      " $ wordCnt    : num  11 7 11 27 30 26 8 12 12 23 ...\n",
      " $ vb01Cnt    : num  0 0 0 2 0 0 1 0 1 0 ...\n",
      " $ ag01Cnt    : num  0 0 0 0 1 1 0 0 1 2 ...\n",
      " $ vb01Prc    : num  0 0 0 7.41 0 ...\n",
      " $ ag01Prc    : num  0 0 0 0 3.33 ...\n",
      " $ ID         : chr  \"919714354467045376\" \"919714354479722496\" \"919714354500653056\" \"919714354542600192\" ...\n",
      " $ tweet_url  : chr  \"/IamJonesy3/status/919714354467045376\" \"/CCmee_/status/919714354479722496\" \"/SarahJaneVlogs/status/919714354500653057\" \"/queentyreen/status/919714354542600195\" ...\n",
      " $ user_id    : chr  \"588400632\" \"242582835\" \"29298715\" \"3290716455\" ...\n",
      " $ is_replied : logi  TRUE FALSE FALSE TRUE FALSE TRUE ...\n",
      " $ is_reply_to: logi  TRUE FALSE FALSE TRUE FALSE FALSE ...\n",
      " $ likes      : num  1 0 1 0 0 38 0 0 1 1 ...\n",
      " $ replies    : num  1 0 0 1 0 5 0 0 0 0 ...\n",
      " $ retweets   : chr  \"0\" \"0\" \"0\" \"0\" ...\n",
      " $ date       : Date, format: \"2017-10-15\" \"2017-10-15\" \"2017-10-15\" \"2017-10-15\" ...\n",
      " $ LBL        : chr  \"metoo_ctrl\" \"metoo_ctrl\" \"metoo_ctrl\" \"metoo_ctrl\" ...\n"
     ]
    }
   ],
   "source": [
    "str(df2)"
   ]
  },
  {
   "cell_type": "markdown",
   "metadata": {},
   "source": [
    "## Summary"
   ]
  },
  {
   "cell_type": "code",
   "execution_count": 21,
   "metadata": {},
   "outputs": [
    {
     "data": {
      "text/plain": [
       "        CAMP          TYPE           wordCnt          vb01Cnt           ag01Cnt           vb01Prc       \n",
       " metoo    :613635   ctrl:353731   Min.   :  5.00   Min.   : 0.0000   Min.   : 0.0000   Min.   :  0.000  \n",
       " sexstrike: 68017   orig:327921   1st Qu.: 11.00   1st Qu.: 0.0000   1st Qu.: 0.0000   1st Qu.:  0.000  \n",
       "                                  Median : 18.00   Median : 1.0000   Median : 0.0000   Median :  2.439  \n",
       "                                  Mean   : 18.43   Mean   : 0.8063   Mean   : 0.6863   Mean   :  4.413  \n",
       "                                  3rd Qu.: 24.00   3rd Qu.: 1.0000   3rd Qu.: 1.0000   3rd Qu.:  7.547  \n",
       "                                  Max.   :106.00   Max.   :17.0000   Max.   :21.0000   Max.   :100.000  \n",
       "    ag01Prc             ID             tweet_url           user_id          is_replied      is_reply_to    \n",
       " Min.   :  0.000   Length:681652      Length:681652      Length:681652      Mode :logical   Mode :logical  \n",
       " 1st Qu.:  0.000   Class :character   Class :character   Class :character   FALSE:550494    FALSE:534101   \n",
       " Median :  0.000   Mode  :character   Mode  :character   Mode  :character   TRUE :131158    TRUE :147551   \n",
       " Mean   :  3.803                                                                                           \n",
       " 3rd Qu.:  6.250                                                                                           \n",
       " Max.   :100.000                                                                                           \n",
       "     likes              replies           retweets              date                LBL           \n",
       " Min.   :     0.00   Min.   :    0.00   Length:681652      Min.   :2017-10-15   Length:681652     \n",
       " 1st Qu.:     0.00   1st Qu.:    0.00   Class :character   1st Qu.:2017-10-16   Class :character  \n",
       " Median :     0.00   Median :    0.00   Mode  :character   Median :2017-10-17   Mode  :character  \n",
       " Mean   :     7.03   Mean   :    0.57                      Mean   :2017-12-14                     \n",
       " 3rd Qu.:     2.00   3rd Qu.:    0.00                      3rd Qu.:2017-10-21                     \n",
       " Max.   :145072.00   Max.   :43943.00                      Max.   :2020-03-19                     "
      ]
     },
     "metadata": {},
     "output_type": "display_data"
    }
   ],
   "source": [
    "summary(df2)"
   ]
  },
  {
   "cell_type": "code",
   "execution_count": 22,
   "metadata": {},
   "outputs": [],
   "source": [
    "ofName=\"data/t1007/bigDF__df2_unstacked__clean.RData\" # 752554 obs\n",
    "save(df2,file=ofName)"
   ]
  },
  {
   "cell_type": "markdown",
   "metadata": {},
   "source": [
    "# ANOVA (`aov_4`)"
   ]
  },
  {
   "cell_type": "markdown",
   "metadata": {},
   "source": [
    "| name         | meta   | descr                       |\n",
    "|--------------|--------|-----------------------------|\n",
    "| `ID`         | `u1`   | observation unit (tweet_id) |\n",
    "| `vb01Prc`    | `d1`   | outcome (dependent)         |\n",
    "| `ag01Prc`    | `d2`   | outcome (dependent)         |\n",
    "| `CAMP`       | `b1`   | between tweet               |\n",
    "| `TYPE`       | `b2`   | between tweet               |"
   ]
  },
  {
   "cell_type": "code",
   "execution_count": 23,
   "metadata": {},
   "outputs": [],
   "source": [
    "OBSERVED <- c(\"CAMP\",\"TYPE\")"
   ]
  },
  {
   "cell_type": "code",
   "execution_count": 24,
   "metadata": {},
   "outputs": [],
   "source": [
    "OBSERVED <- NULL"
   ]
  },
  {
   "cell_type": "markdown",
   "metadata": {},
   "source": [
    "## AOV for Verbs"
   ]
  },
  {
   "cell_type": "code",
   "execution_count": 25,
   "metadata": {},
   "outputs": [
    {
     "name": "stdout",
     "output_type": "stream",
     "text": [
      "logs0: data/t1007/bigDF__df2__001_unstacked.RData__2020-10-18_04:37:07__7fd827dc9486__aov_4_a1vb01Prc__nrow_681652.RData.LOG.txt\n",
      "time0: 2020-10-18 04:37:07\n",
      "nrows: 681652\n",
      "ncols: 17\n",
      "vList: data, ifName, infoStr, lfName, ofName, s0, s1, s2, t0\n",
      "oSave: data/t1007/bigDF__df2__001_unstacked.RData__2020-10-18_04:37:07__7fd827dc9486__aov_4_a1vb01Prc__nrow_681652.RData\n",
      "\n"
     ]
    },
    {
     "name": "stderr",
     "output_type": "stream",
     "text": [
      "Contrasts set to contr.sum for the following variables: CAMP, TYPE\n",
      "\n"
     ]
    },
    {
     "name": "stdout",
     "output_type": "stream",
     "text": [
      "time1: 2020-10-18 04:38:01\n",
      "diff1: Time difference of 54.17546 secs\n",
      "\n"
     ]
    }
   ],
   "source": [
    "FORMULA <- vb01Prc~CAMP*TYPE+(1|ID)\n",
    "\n",
    "log0 <- logging0(ifName,infoStr=\"_aov_4_a1vb01Prc\",data=df2)\n",
    "a1vb01Prc <- aov_4(\n",
    "    formula       <- FORMULA,\n",
    "    data          <- df2,\n",
    "    observed      <- OBSERVED,\n",
    ")\n",
    "save(a1vb01Prc,file=log0$ofName)\n",
    "log1 <- logging1(log0$lfName,log0$t0)\n",
    "\n",
    "ofName=\"data/t1007/bigDF__df2_unstacked__aov_4_a1vb01Prc__nrow_681652.RData\" # 752554 obs\n",
    "save(a1vb01Prc,file=ofName)"
   ]
  },
  {
   "cell_type": "markdown",
   "metadata": {},
   "source": [
    "## AOV for Agency Dictionary"
   ]
  },
  {
   "cell_type": "code",
   "execution_count": 26,
   "metadata": {},
   "outputs": [
    {
     "name": "stdout",
     "output_type": "stream",
     "text": [
      "logs0: data/t1007/bigDF__df2__001_unstacked.RData__2020-10-18_04:38:43__7fd83cd061bd__aov_4_a2ag01Prc__nrow_681652.RData.LOG.txt\n",
      "time0: 2020-10-18 04:38:43\n",
      "nrows: 681652\n",
      "ncols: 17\n",
      "vList: data, ifName, infoStr, lfName, ofName, s0, s1, s2, t0\n",
      "oSave: data/t1007/bigDF__df2__001_unstacked.RData__2020-10-18_04:38:43__7fd83cd061bd__aov_4_a2ag01Prc__nrow_681652.RData\n",
      "\n"
     ]
    },
    {
     "name": "stderr",
     "output_type": "stream",
     "text": [
      "Contrasts set to contr.sum for the following variables: CAMP, TYPE\n",
      "\n"
     ]
    },
    {
     "name": "stdout",
     "output_type": "stream",
     "text": [
      "time1: 2020-10-18 04:39:35\n",
      "diff1: Time difference of 51.60162 secs\n",
      "\n"
     ]
    }
   ],
   "source": [
    "FORMULA <- ag01Prc~CAMP*TYPE+(1|ID)\n",
    "\n",
    "log0 <- logging0(ifName,infoStr=\"_aov_4_a2ag01Prc\",data=df2)\n",
    "a2ag01Prc <- aov_4(\n",
    "    formula       <- FORMULA,\n",
    "    data          <- df2,\n",
    "    observed      <- OBSERVED,\n",
    ")\n",
    "save(a2ag01Prc,file=log0$ofName)\n",
    "log1 <- logging1(log0$lfName,log0$t0)\n",
    "\n",
    "ofName=\"data/t1007/bigDF__df2_unstacked__aov_4_a2ag01Prc__nrow_681652.RData\" # 752554 obs\n",
    "save(a2ag01Prc,file=ofName)"
   ]
  },
  {
   "cell_type": "markdown",
   "metadata": {},
   "source": [
    "# Quick look at AOV results"
   ]
  },
  {
   "cell_type": "code",
   "execution_count": 27,
   "metadata": {},
   "outputs": [
    {
     "data": {
      "text/html": [
       "<table>\n",
       "<caption>A anova: 3 × 6</caption>\n",
       "<thead>\n",
       "\t<tr><th></th><th scope=col>num Df</th><th scope=col>den Df</th><th scope=col>MSE</th><th scope=col>F</th><th scope=col>ges</th><th scope=col>Pr(&gt;F)</th></tr>\n",
       "\t<tr><th></th><th scope=col>&lt;dbl&gt;</th><th scope=col>&lt;dbl&gt;</th><th scope=col>&lt;dbl&gt;</th><th scope=col>&lt;dbl&gt;</th><th scope=col>&lt;dbl&gt;</th><th scope=col>&lt;dbl&gt;</th></tr>\n",
       "</thead>\n",
       "<tbody>\n",
       "\t<tr><th scope=row>CAMP</th><td>1</td><td>681648</td><td>33.73904</td><td>690.32244045</td><td>1.011701e-03</td><td>4.531552e-152</td></tr>\n",
       "\t<tr><th scope=row>TYPE</th><td>1</td><td>681648</td><td>33.73904</td><td>  0.02922063</td><td>4.286762e-08</td><td> 8.642707e-01</td></tr>\n",
       "\t<tr><th scope=row>CAMP:TYPE</th><td>1</td><td>681648</td><td>33.73904</td><td>142.14341243</td><td>2.084856e-04</td><td> 9.115624e-33</td></tr>\n",
       "</tbody>\n",
       "</table>\n"
      ],
      "text/latex": [
       "A anova: 3 × 6\n",
       "\\begin{tabular}{r|llllll}\n",
       "  & num Df & den Df & MSE & F & ges & Pr(>F)\\\\\n",
       "  & <dbl> & <dbl> & <dbl> & <dbl> & <dbl> & <dbl>\\\\\n",
       "\\hline\n",
       "\tCAMP & 1 & 681648 & 33.73904 & 690.32244045 & 1.011701e-03 & 4.531552e-152\\\\\n",
       "\tTYPE & 1 & 681648 & 33.73904 &   0.02922063 & 4.286762e-08 &  8.642707e-01\\\\\n",
       "\tCAMP:TYPE & 1 & 681648 & 33.73904 & 142.14341243 & 2.084856e-04 &  9.115624e-33\\\\\n",
       "\\end{tabular}\n"
      ],
      "text/markdown": [
       "\n",
       "A anova: 3 × 6\n",
       "\n",
       "| <!--/--> | num Df &lt;dbl&gt; | den Df &lt;dbl&gt; | MSE &lt;dbl&gt; | F &lt;dbl&gt; | ges &lt;dbl&gt; | Pr(&gt;F) &lt;dbl&gt; |\n",
       "|---|---|---|---|---|---|---|\n",
       "| CAMP | 1 | 681648 | 33.73904 | 690.32244045 | 1.011701e-03 | 4.531552e-152 |\n",
       "| TYPE | 1 | 681648 | 33.73904 |   0.02922063 | 4.286762e-08 |  8.642707e-01 |\n",
       "| CAMP:TYPE | 1 | 681648 | 33.73904 | 142.14341243 | 2.084856e-04 |  9.115624e-33 |\n",
       "\n"
      ],
      "text/plain": [
       "          num Df den Df MSE      F            ges          Pr(>F)       \n",
       "CAMP      1      681648 33.73904 690.32244045 1.011701e-03 4.531552e-152\n",
       "TYPE      1      681648 33.73904   0.02922063 4.286762e-08  8.642707e-01\n",
       "CAMP:TYPE 1      681648 33.73904 142.14341243 2.084856e-04  9.115624e-33"
      ]
     },
     "metadata": {},
     "output_type": "display_data"
    }
   ],
   "source": [
    "summary(a1vb01Prc)"
   ]
  },
  {
   "cell_type": "code",
   "execution_count": 28,
   "metadata": {
    "scrolled": true
   },
   "outputs": [
    {
     "data": {
      "text/html": [
       "<table>\n",
       "<caption>A anova: 3 × 6</caption>\n",
       "<thead>\n",
       "\t<tr><th></th><th scope=col>num Df</th><th scope=col>den Df</th><th scope=col>MSE</th><th scope=col>F</th><th scope=col>ges</th><th scope=col>Pr(&gt;F)</th></tr>\n",
       "\t<tr><th></th><th scope=col>&lt;dbl&gt;</th><th scope=col>&lt;dbl&gt;</th><th scope=col>&lt;dbl&gt;</th><th scope=col>&lt;dbl&gt;</th><th scope=col>&lt;dbl&gt;</th><th scope=col>&lt;dbl&gt;</th></tr>\n",
       "</thead>\n",
       "<tbody>\n",
       "\t<tr><th scope=row>CAMP</th><td>1</td><td>681648</td><td>36.20482</td><td>1102.265888</td><td>0.0016144496</td><td>1.659872e-241</td></tr>\n",
       "\t<tr><th scope=row>TYPE</th><td>1</td><td>681648</td><td>36.20482</td><td>   5.538231</td><td>0.0000081247</td><td> 1.860567e-02</td></tr>\n",
       "\t<tr><th scope=row>CAMP:TYPE</th><td>1</td><td>681648</td><td>36.20482</td><td> 506.682508</td><td>0.0007427678</td><td>3.673188e-112</td></tr>\n",
       "</tbody>\n",
       "</table>\n"
      ],
      "text/latex": [
       "A anova: 3 × 6\n",
       "\\begin{tabular}{r|llllll}\n",
       "  & num Df & den Df & MSE & F & ges & Pr(>F)\\\\\n",
       "  & <dbl> & <dbl> & <dbl> & <dbl> & <dbl> & <dbl>\\\\\n",
       "\\hline\n",
       "\tCAMP & 1 & 681648 & 36.20482 & 1102.265888 & 0.0016144496 & 1.659872e-241\\\\\n",
       "\tTYPE & 1 & 681648 & 36.20482 &    5.538231 & 0.0000081247 &  1.860567e-02\\\\\n",
       "\tCAMP:TYPE & 1 & 681648 & 36.20482 &  506.682508 & 0.0007427678 & 3.673188e-112\\\\\n",
       "\\end{tabular}\n"
      ],
      "text/markdown": [
       "\n",
       "A anova: 3 × 6\n",
       "\n",
       "| <!--/--> | num Df &lt;dbl&gt; | den Df &lt;dbl&gt; | MSE &lt;dbl&gt; | F &lt;dbl&gt; | ges &lt;dbl&gt; | Pr(&gt;F) &lt;dbl&gt; |\n",
       "|---|---|---|---|---|---|---|\n",
       "| CAMP | 1 | 681648 | 36.20482 | 1102.265888 | 0.0016144496 | 1.659872e-241 |\n",
       "| TYPE | 1 | 681648 | 36.20482 |    5.538231 | 0.0000081247 |  1.860567e-02 |\n",
       "| CAMP:TYPE | 1 | 681648 | 36.20482 |  506.682508 | 0.0007427678 | 3.673188e-112 |\n",
       "\n"
      ],
      "text/plain": [
       "          num Df den Df MSE      F           ges          Pr(>F)       \n",
       "CAMP      1      681648 36.20482 1102.265888 0.0016144496 1.659872e-241\n",
       "TYPE      1      681648 36.20482    5.538231 0.0000081247  1.860567e-02\n",
       "CAMP:TYPE 1      681648 36.20482  506.682508 0.0007427678 3.673188e-112"
      ]
     },
     "metadata": {},
     "output_type": "display_data"
    }
   ],
   "source": [
    "summary(a2ag01Prc)"
   ]
  },
  {
   "cell_type": "code",
   "execution_count": null,
   "metadata": {},
   "outputs": [],
   "source": [
    "#                      ___           ___                    ___           ___                   \n",
    "#                     /\\  \\         /\\__\\                  /\\__\\         /\\  \\         _____    \n",
    "#        ___          \\:\\  \\       /:/ _/_                /:/ _/_        \\:\\  \\       /::\\  \\   \n",
    "#       /\\__\\          \\:\\  \\     /:/ /\\__\\              /:/ /\\__\\        \\:\\  \\     /:/\\:\\  \\  \n",
    "#      /:/  /      ___ /::\\  \\   /:/ /:/ _/_            /:/ /:/ _/_   _____\\:\\  \\   /:/  \\:\\__\\ \n",
    "#     /:/__/      /\\  /:/\\:\\__\\ /:/_/:/ /\\__\\          /:/_/:/ /\\__\\ /::::::::\\__\\ /:/__/ \\:|__|\n",
    "#    /::\\  \\      \\:\\/:/  \\/__/ \\:\\/:/ /:/  /          \\:\\/:/ /:/  / \\:\\~~\\~~\\/__/ \\:\\  \\ /:/  /\n",
    "#   /:/\\:\\  \\      \\::/__/       \\::/_/:/  /            \\::/_/:/  /   \\:\\  \\        \\:\\  /:/  / \n",
    "#   \\/__\\:\\  \\      \\:\\  \\        \\:\\/:/  /              \\:\\/:/  /     \\:\\  \\        \\:\\/:/  /  \n",
    "#        \\:\\__\\      \\:\\__\\        \\::/  /                \\::/  /       \\:\\__\\        \\::/  /   \n",
    "#         \\/__/       \\/__/         \\/__/                  \\/__/         \\/__/         \\/__/    \n",
    "#  \n",
    "\n",
    "\n"
   ]
  },
  {
   "cell_type": "markdown",
   "metadata": {},
   "source": [
    "The following is redundant as any further results inspections are done in the separate file"
   ]
  },
  {
   "cell_type": "markdown",
   "metadata": {},
   "source": [
    "## Summarize data by `CAMP` ⨯ `TYPE`"
   ]
  },
  {
   "cell_type": "code",
   "execution_count": null,
   "metadata": {},
   "outputs": [],
   "source": [
    "smr0 <- df2 %>%\n",
    "    group_by(CAMP,TYPE) %>%\n",
    "    summarise(\n",
    "        N = n(),\n",
    "        wcM = mean(wordCnt),\n",
    "        wcSD = sd(wordCnt),\n",
    "        wcSE = wcSD / sqrt(N),\n",
    "        vbM = mean(vb01Prc),\n",
    "        vbSD = sd(vb01Prc),\n",
    "        vbSE = vbSD / sqrt(N),\n",
    "        agM = mean(ag01Prc),\n",
    "        agSD = sd(ag01Prc),\n",
    "        agSE = agSD / sqrt(N),\n",
    "        .groups = \"drop\"\n",
    "    ) \n",
    "smr0"
   ]
  },
  {
   "cell_type": "markdown",
   "metadata": {},
   "source": [
    "## Summarize data by `CAMP`"
   ]
  },
  {
   "cell_type": "code",
   "execution_count": null,
   "metadata": {},
   "outputs": [],
   "source": [
    "smr0 <- df2 %>%\n",
    "    group_by(CAMP) %>%\n",
    "    summarise(\n",
    "        N = n(),\n",
    "        wcM = mean(wordCnt),\n",
    "        wcSD = sd(wordCnt),\n",
    "        wcSE = wcSD / sqrt(N),\n",
    "        vbM = mean(vb01Prc),\n",
    "        vbSD = sd(vb01Prc),\n",
    "        vbSE = vbSD / sqrt(N),\n",
    "        agM = mean(ag01Prc),\n",
    "        agSD = sd(ag01Prc),\n",
    "        agSE = agSD / sqrt(N),\n",
    "        .groups = \"drop\"\n",
    "    ) \n",
    "smr0"
   ]
  },
  {
   "cell_type": "markdown",
   "metadata": {},
   "source": [
    "## Summarize by type `TYPE`"
   ]
  },
  {
   "cell_type": "code",
   "execution_count": null,
   "metadata": {},
   "outputs": [],
   "source": [
    "smr0 <- df2 %>%\n",
    "    group_by(TYPE) %>%\n",
    "    summarise(\n",
    "        N = n(),\n",
    "        wcM = mean(wordCnt),\n",
    "        wcSD = sd(wordCnt),\n",
    "        wcSE = wcSD / sqrt(N),\n",
    "        vbM = mean(vb01Prc),\n",
    "        vbSD = sd(vb01Prc),\n",
    "        vbSE = vbSD / sqrt(N),\n",
    "        agM = mean(ag01Prc),\n",
    "        agSD = sd(ag01Prc),\n",
    "        agSE = agSD / sqrt(N),\n",
    "        .groups = \"drop\"\n",
    "    ) \n",
    "smr0"
   ]
  },
  {
   "cell_type": "markdown",
   "metadata": {},
   "source": [
    "## Generate APA-like LaTeX for AOV"
   ]
  },
  {
   "cell_type": "code",
   "execution_count": null,
   "metadata": {},
   "outputs": [],
   "source": [
    "apa0vb <- apa_print(a1vb01Prc)\n",
    "apa0ag <- apa_print(a2ag01Prc)"
   ]
  },
  {
   "cell_type": "code",
   "execution_count": null,
   "metadata": {},
   "outputs": [],
   "source": [
    "apa0vb$table"
   ]
  },
  {
   "cell_type": "code",
   "execution_count": null,
   "metadata": {},
   "outputs": [],
   "source": [
    "display_markdown(apaMd(apa0vb[\"full_result\"]))"
   ]
  },
  {
   "cell_type": "code",
   "execution_count": null,
   "metadata": {},
   "outputs": [],
   "source": [
    "apa0ag$table"
   ]
  },
  {
   "cell_type": "code",
   "execution_count": null,
   "metadata": {},
   "outputs": [],
   "source": [
    "display_markdown(apaMd(apa0ag[\"full_result\"]))"
   ]
  },
  {
   "cell_type": "markdown",
   "metadata": {},
   "source": [
    "# Confidence intervals"
   ]
  },
  {
   "cell_type": "code",
   "execution_count": null,
   "metadata": {},
   "outputs": [],
   "source": [
    "cohens_d(ag01Prc~CAMP, data = df2)"
   ]
  },
  {
   "cell_type": "code",
   "execution_count": null,
   "metadata": {},
   "outputs": [],
   "source": [
    "cohens_d(ag01Prc~TYPE, data = df2)"
   ]
  },
  {
   "cell_type": "markdown",
   "metadata": {},
   "source": [
    "# Estimated marginal means (Least-squares means)"
   ]
  },
  {
   "cell_type": "markdown",
   "metadata": {},
   "source": [
    "## Full model"
   ]
  },
  {
   "cell_type": "code",
   "execution_count": null,
   "metadata": {},
   "outputs": [],
   "source": [
    "a1vb01PrcEm1 <- emmeans(a1vb01Prc, specs<-c(\"CAMP\", \"TYPE\"))\n",
    "a2ag01PrcEm1 <- emmeans(a2ag01Prc, specs<-c(\"CAMP\", \"TYPE\"))"
   ]
  },
  {
   "cell_type": "code",
   "execution_count": null,
   "metadata": {},
   "outputs": [],
   "source": [
    "a1vb01PrcEm1"
   ]
  },
  {
   "cell_type": "code",
   "execution_count": null,
   "metadata": {},
   "outputs": [],
   "source": [
    "a2ag01PrcEm1"
   ]
  },
  {
   "cell_type": "code",
   "execution_count": null,
   "metadata": {},
   "outputs": [],
   "source": [
    "pairs(a1vb01PrcEm1)"
   ]
  },
  {
   "cell_type": "code",
   "execution_count": null,
   "metadata": {},
   "outputs": [],
   "source": [
    "pairs(a2ag01PrcEm1)"
   ]
  },
  {
   "cell_type": "code",
   "execution_count": null,
   "metadata": {},
   "outputs": [],
   "source": [
    "TEST=adjusted(\"bonferroni\")"
   ]
  },
  {
   "cell_type": "code",
   "execution_count": null,
   "metadata": {},
   "outputs": [],
   "source": [
    "TEST=adjusted(\"free\")"
   ]
  },
  {
   "cell_type": "code",
   "execution_count": null,
   "metadata": {},
   "outputs": [],
   "source": [
    "summary(as.glht(pairs(a1vb01PrcEm1)),test=TEST)"
   ]
  },
  {
   "cell_type": "code",
   "execution_count": null,
   "metadata": {},
   "outputs": [],
   "source": [
    "summary(as.glht(pairs(a2ag01PrcEm1)),test=TEST)"
   ]
  },
  {
   "cell_type": "markdown",
   "metadata": {},
   "source": [
    "## Contrasts"
   ]
  },
  {
   "cell_type": "markdown",
   "metadata": {},
   "source": [
    "# coef(contrast(a1vb01PrcEm1))"
   ]
  },
  {
   "cell_type": "code",
   "execution_count": null,
   "metadata": {},
   "outputs": [],
   "source": [
    "coef(contrast(a2ag01PrcEm1))"
   ]
  },
  {
   "cell_type": "code",
   "execution_count": null,
   "metadata": {},
   "outputs": [],
   "source": [
    "apa0vbEm1 <- apa_print(a1vb01PrcEm1)\n",
    "apa0agEm1 <- apa_print(a2ag01PrcEm1)"
   ]
  },
  {
   "cell_type": "code",
   "execution_count": null,
   "metadata": {},
   "outputs": [],
   "source": [
    "apa0vbEm1$table"
   ]
  },
  {
   "cell_type": "code",
   "execution_count": null,
   "metadata": {},
   "outputs": [],
   "source": [
    "apa0agEm1$table"
   ]
  },
  {
   "cell_type": "code",
   "execution_count": null,
   "metadata": {},
   "outputs": [],
   "source": [
    "display_markdown(apaMd(apa0vbEm1[\"full_result\"]))"
   ]
  },
  {
   "cell_type": "code",
   "execution_count": null,
   "metadata": {},
   "outputs": [],
   "source": [
    "display_markdown(apaMd(apa0agEm1[\"full_result\"]))"
   ]
  },
  {
   "cell_type": "code",
   "execution_count": null,
   "metadata": {},
   "outputs": [],
   "source": [
    "apa0vbEm1Pa <- apa_print(pairs(a1vb01PrcEm1))\n",
    "apa0agEm1Pa <- apa_print(pairs(a2ag01PrcEm1))"
   ]
  },
  {
   "cell_type": "code",
   "execution_count": null,
   "metadata": {},
   "outputs": [],
   "source": [
    "apa0vbEm1Pa$table"
   ]
  },
  {
   "cell_type": "code",
   "execution_count": null,
   "metadata": {},
   "outputs": [],
   "source": [
    "apa0agEm1Pa$table"
   ]
  },
  {
   "cell_type": "code",
   "execution_count": null,
   "metadata": {},
   "outputs": [],
   "source": [
    "display_markdown(apaMd(apa0vbEm1Pa[\"full_result\"]))"
   ]
  },
  {
   "cell_type": "code",
   "execution_count": null,
   "metadata": {
    "scrolled": true
   },
   "outputs": [],
   "source": [
    "display_markdown(apaMd(apa0agEm1Pa[\"full_result\"]))"
   ]
  },
  {
   "cell_type": "markdown",
   "metadata": {},
   "source": [
    "# Handy plots"
   ]
  },
  {
   "cell_type": "markdown",
   "metadata": {},
   "source": [
    "Quote from: https://cran.r-project.org/web/packages/emmeans/vignettes/comparisons.html\n",
    "> The blue bars are confidence intervals for the EMMs, and the red arrows are for the comparisons among them. If an arrow from one mean overlaps an arrow from another group, the difference is not “significant,” based on the adjust setting (which defaults to \"tukey\") and the value of alpha (which defaults to 0.05). See the “xplanations” supplement for details on how these are derived."
   ]
  },
  {
   "cell_type": "code",
   "execution_count": 1,
   "metadata": {},
   "outputs": [
    {
     "ename": "ERROR",
     "evalue": "Error in plot(a1vb01PrcEm2, comparisons = TRUE, xlab = \"% Verb\"): object 'a1vb01PrcEm2' not found\n",
     "output_type": "error",
     "traceback": [
      "Error in plot(a1vb01PrcEm2, comparisons = TRUE, xlab = \"% Verb\"): object 'a1vb01PrcEm2' not found\nTraceback:\n",
      "1. plot(a1vb01PrcEm2, comparisons = TRUE, xlab = \"% Verb\")"
     ]
    }
   ],
   "source": [
    "library(repr)\n",
    "options(repr.plot.width=8, repr.plot.height=4)\n",
    "# fig.height = 10\n",
    "# fig.width = 5\n",
    "plot(a1vb01PrcEm2, comparisons=TRUE, xlab=\"% Verb\")+\n",
    "coord_fixed(ratio = 0.004,xlim=c(0.030, 0.055),ylim=NULL,expand=TRUE,clip=\"on\")\n",
    "#+ \n",
    "#  theme(\n",
    "#      plot.margin = margin(.2,.2,.2,.2, \"cm\"),\n",
    "#      plot.background = element_rect(fill = \"darkgrey\")\n",
    "#  )\n",
    "\n",
    "plot(a2ag01PrcEm2, comparisons=TRUE, xlab=\"% Dict\")+\n",
    "coord_fixed(ratio = 0.004,xlim=c(0.030, 0.055),ylim=NULL,expand=TRUE,clip=\"on\")\n"
   ]
  },
  {
   "cell_type": "markdown",
   "metadata": {},
   "source": [
    "## Effect of TYPE (ctrl, orig) conditional on CAMP (#sexstrike, #metoo)"
   ]
  },
  {
   "cell_type": "code",
   "execution_count": null,
   "metadata": {},
   "outputs": [],
   "source": [
    "a1vb01PrcEm2 <- emmeans(a1vb01Prc, specs<-c(\"TYPE\"), by<-\"CAMP\")\n",
    "a2ag01PrcEm2 <- emmeans(a2ag01Prc, specs<-c(\"TYPE\"), by<-\"CAMP\")"
   ]
  },
  {
   "cell_type": "code",
   "execution_count": null,
   "metadata": {},
   "outputs": [],
   "source": [
    "a1vb01PrcEm2"
   ]
  },
  {
   "cell_type": "code",
   "execution_count": null,
   "metadata": {},
   "outputs": [],
   "source": [
    "a2ag01PrcEm2"
   ]
  },
  {
   "cell_type": "code",
   "execution_count": null,
   "metadata": {},
   "outputs": [],
   "source": [
    "pairs(a1vb01PrcEm2)"
   ]
  },
  {
   "cell_type": "code",
   "execution_count": null,
   "metadata": {},
   "outputs": [],
   "source": [
    "pairs(a2ag01PrcEm2)"
   ]
  },
  {
   "cell_type": "code",
   "execution_count": null,
   "metadata": {},
   "outputs": [],
   "source": [
    "summary(as.glht(pairs(a1vb01PrcEm2)),test=TEST)"
   ]
  },
  {
   "cell_type": "code",
   "execution_count": null,
   "metadata": {},
   "outputs": [],
   "source": [
    "summary(as.glht(pairs(a2ag01PrcEm2)),test=TEST)"
   ]
  },
  {
   "cell_type": "markdown",
   "metadata": {},
   "source": [
    "# Helpers"
   ]
  },
  {
   "cell_type": "code",
   "execution_count": null,
   "metadata": {},
   "outputs": [],
   "source": [
    "?mixed"
   ]
  },
  {
   "cell_type": "code",
   "execution_count": null,
   "metadata": {},
   "outputs": [],
   "source": [
    "?scale"
   ]
  },
  {
   "cell_type": "code",
   "execution_count": null,
   "metadata": {},
   "outputs": [],
   "source": [
    "?lmer"
   ]
  },
  {
   "cell_type": "code",
   "execution_count": null,
   "metadata": {},
   "outputs": [],
   "source": [
    "?aov_4"
   ]
  },
  {
   "cell_type": "code",
   "execution_count": null,
   "metadata": {},
   "outputs": [],
   "source": [
    "?emmeans"
   ]
  },
  {
   "cell_type": "code",
   "execution_count": null,
   "metadata": {},
   "outputs": [],
   "source": [
    "?coord_fixed"
   ]
  },
  {
   "cell_type": "markdown",
   "metadata": {},
   "source": [
    "# Extras"
   ]
  },
  {
   "cell_type": "code",
   "execution_count": null,
   "metadata": {},
   "outputs": [],
   "source": [
    "df2$retweets <- as.numeric(df2$retweets) # TODO FIXME This should be fixed elsewhere!"
   ]
  },
  {
   "cell_type": "code",
   "execution_count": null,
   "metadata": {
    "scrolled": true
   },
   "outputs": [],
   "source": [
    "df2$ReTw <- cut(df2$retweets,\n",
    "                breaks=c(0, 5, 25, 125, Inf), \n",
    "                right  = FALSE,\n",
    "              # labels=c(\"low\",\"med\",\"high\",\"viral\")\n",
    "               )\n",
    "\n",
    "str(df2)"
   ]
  },
  {
   "cell_type": "markdown",
   "metadata": {},
   "source": [
    "# Playground"
   ]
  },
  {
   "cell_type": "code",
   "execution_count": null,
   "metadata": {},
   "outputs": [],
   "source": [
    "plot_grid(\n",
    "  afex_plot(\n",
    "      a1vb01Prc, \n",
    "      x=\"TYPE\", \n",
    "      trace=\"CAMP\",\n",
    "      error = \"between\", \n",
    "      data_geom = geom_quasirandom, \n",
    "      data_alpha = 0.3) + \n",
    "    coord_cartesian(ylim = c(0, 1)),\n",
    "  afex_plot(\n",
    "      a2ag01Prc, \n",
    "      x=\"TYPE\", \n",
    "      trace=\"CAMP\",\n",
    "      error = \"between\", \n",
    "      data_geom = geom_quasirandom, \n",
    "      data_alpha = 0.3) +\n",
    "    coord_cartesian(ylim = c(0, 1))\n",
    ")"
   ]
  },
  {
   "cell_type": "code",
   "execution_count": null,
   "metadata": {},
   "outputs": [],
   "source": [
    "qqPlot(a1vb01Prc$aov$residuals)"
   ]
  },
  {
   "cell_type": "code",
   "execution_count": null,
   "metadata": {},
   "outputs": [],
   "source": [
    "qqPlot(a2ag01Prc$aov$residuals)"
   ]
  },
  {
   "cell_type": "code",
   "execution_count": null,
   "metadata": {},
   "outputs": [],
   "source": [
    "shapiro.test(a1vb01Prc$aov$residuals)"
   ]
  },
  {
   "cell_type": "code",
   "execution_count": null,
   "metadata": {},
   "outputs": [],
   "source": [
    "shapiro.test(a2ag01Prc$aov$residuals)"
   ]
  },
  {
   "cell_type": "code",
   "execution_count": null,
   "metadata": {},
   "outputs": [],
   "source": [
    "ad.test(a1vb01Prc$aov$residuals)$p.value"
   ]
  },
  {
   "cell_type": "code",
   "execution_count": null,
   "metadata": {},
   "outputs": [],
   "source": [
    "ad.test(a2ag01Prc$aov$residuals)$p.value"
   ]
  },
  {
   "cell_type": "code",
   "execution_count": null,
   "metadata": {},
   "outputs": [],
   "source": [
    "test_levene(a1vb01Prc)"
   ]
  },
  {
   "cell_type": "code",
   "execution_count": null,
   "metadata": {},
   "outputs": [],
   "source": [
    "test_levene(a2ag01Prc)"
   ]
  },
  {
   "cell_type": "code",
   "execution_count": null,
   "metadata": {},
   "outputs": [],
   "source": [
    "library(\"pwr\")"
   ]
  },
  {
   "cell_type": "code",
   "execution_count": null,
   "metadata": {},
   "outputs": [],
   "source": [
    "?pwr.anova.test"
   ]
  },
  {
   "cell_type": "code",
   "execution_count": null,
   "metadata": {},
   "outputs": [],
   "source": [
    "?summary"
   ]
  },
  {
   "cell_type": "code",
   "execution_count": null,
   "metadata": {},
   "outputs": [],
   "source": [
    "convert_ipynb"
   ]
  },
  {
   "cell_type": "code",
   "execution_count": null,
   "metadata": {},
   "outputs": [],
   "source": [
    "?apa_print\n"
   ]
  },
  {
   "cell_type": "code",
   "execution_count": null,
   "metadata": {},
   "outputs": [],
   "source": [
    "methods(\"apa_print\")"
   ]
  },
  {
   "cell_type": "markdown",
   "metadata": {},
   "source": [
    "# Sanity checkup for nouns"
   ]
  },
  {
   "cell_type": "code",
   "execution_count": null,
   "metadata": {},
   "outputs": [],
   "source": [
    "ifName=\"data/t1006/bigDF__df1.RData\" # 752554 obs"
   ]
  },
  {
   "cell_type": "code",
   "execution_count": null,
   "metadata": {},
   "outputs": [],
   "source": [
    "load(file=ifName)"
   ]
  },
  {
   "cell_type": "code",
   "execution_count": null,
   "metadata": {},
   "outputs": [],
   "source": [
    "df1 <- subset(df1,wordCnt>4) # ~649262 obs"
   ]
  },
  {
   "cell_type": "code",
   "execution_count": null,
   "metadata": {},
   "outputs": [],
   "source": [
    "df1[ df1$nn01Prc > 1,c('text','twitTokCFD_VB_lst','twitTokCFD_NN_lst','wordCnt','vb01Cnt','nn01Cnt','ag01Cnt','ag02Cnt','vb01Prc','nn01Prc','ag01Prc','ag02Prc')]"
   ]
  }
 ],
 "metadata": {
  "kernelspec": {
   "display_name": "R",
   "language": "R",
   "name": "ir"
  },
  "language_info": {
   "codemirror_mode": "r",
   "file_extension": ".r",
   "mimetype": "text/x-r-source",
   "name": "R",
   "pygments_lexer": "r",
   "version": "3.6.3"
  }
 },
 "nbformat": 4,
 "nbformat_minor": 4
}
