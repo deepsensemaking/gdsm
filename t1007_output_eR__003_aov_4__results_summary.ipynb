{
 "cells": [
  {
   "cell_type": "markdown",
   "metadata": {},
   "source": [
    "# Useful links"
   ]
  },
  {
   "cell_type": "markdown",
   "metadata": {},
   "source": [
    "- [ ] https://cran.r-project.org/web/packages/afex/vignettes/introduction-mixed-models.pdf\n",
    "- [ ] https://cran.r-project.org/web/packages/afex/afex.pdf\n",
    "- [ ] https://cran.r-project.org/web/packages/afex/index.html\n",
    "- [ ] https://cran.r-project.org/web/packages/afex/vignettes/afex_analysing_accuracy_data.html\n",
    "- [ ] https://cran.r-project.org/web/packages/afex/vignettes/afex_anova_example.html\n",
    "- [ ] https://cran.r-project.org/web/packages/afex/vignettes/afex_mixed_example.html\n",
    "- [ ] https://cran.r-project.org/web/packages/emmeans/vignettes/comparisons.html\n",
    "- [ ] https://cran.r-project.org/web/packages/emmeans/vignettes/messy-data.html\n",
    "- [ ] https://cran.r-project.org/web/packages/emmeans/vignettes/interactions.html\n",
    "- [ ] https://cran.r-project.org/web/packages/emmeans/vignettes/basics.html\n",
    "- [ ] https://cran.r-project.org/web/packages/afex/vignettes/afex_mixed_example.html"
   ]
  },
  {
   "cell_type": "markdown",
   "metadata": {},
   "source": [
    "- [ ] https://osf.io/nfwx7/"
   ]
  },
  {
   "cell_type": "markdown",
   "metadata": {},
   "source": [
    "- [ ] https://stats.stackexchange.com/questions/13166/rs-lmer-cheat-sheet"
   ]
  },
  {
   "cell_type": "markdown",
   "metadata": {},
   "source": [
    "- [ ] https://psu-psychology.github.io/r-bootcamp-2018/index.html\n",
    "- [ ] http://tysonbarrett.com/EDUC-6600/Resources/Example_Ch15_rmANOVA.html\n",
    "- [ ] http://singmann.org/anova-in-r-afex-may-be-the-solution-you-are-looking-for/\n",
    "- [ ] https://ademos.people.uic.edu/Chapter21.html\n",
    "- [ ] https://www.psychologie.uni-heidelberg.de/ae/meth/team/mertens/blog/anova_in_r_made_easy.nb.html\n",
    "- [ ] http://tysonbarrett.com/EDUC-6600/Resources/Example_Ch15_rmANOVA.html"
   ]
  },
  {
   "cell_type": "markdown",
   "metadata": {},
   "source": [
    "# Setup"
   ]
  },
  {
   "cell_type": "markdown",
   "metadata": {},
   "source": [
    "## Imports"
   ]
  },
  {
   "cell_type": "code",
   "execution_count": 1,
   "metadata": {},
   "outputs": [
    {
     "name": "stderr",
     "output_type": "stream",
     "text": [
      "\n",
      "Attaching package: ‘dplyr’\n",
      "\n",
      "\n",
      "The following objects are masked from ‘package:stats’:\n",
      "\n",
      "    filter, lag\n",
      "\n",
      "\n",
      "The following objects are masked from ‘package:base’:\n",
      "\n",
      "    intersect, setdiff, setequal, union\n",
      "\n",
      "\n",
      "Loading required package: lme4\n",
      "\n",
      "Loading required package: Matrix\n",
      "\n",
      "\n",
      "Attaching package: ‘Matrix’\n",
      "\n",
      "\n",
      "The following objects are masked from ‘package:tidyr’:\n",
      "\n",
      "    expand, pack, unpack\n",
      "\n",
      "\n",
      "Registered S3 methods overwritten by 'car':\n",
      "  method                          from\n",
      "  influence.merMod                lme4\n",
      "  cooks.distance.influence.merMod lme4\n",
      "  dfbeta.influence.merMod         lme4\n",
      "  dfbetas.influence.merMod        lme4\n",
      "\n",
      "************\n",
      "Welcome to afex. For support visit: http://afex.singmann.science/\n",
      "\n",
      "- Functions for ANOVAs: aov_car(), aov_ez(), and aov_4()\n",
      "- Methods for calculating p-values with mixed(): 'KR', 'S', 'LRT', and 'PB'\n",
      "- 'afex_aov' and 'mixed' objects can be passed to emmeans() for follow-up tests\n",
      "- NEWS: library('emmeans') now needs to be called explicitly!\n",
      "- Get and set global package options with: afex_options()\n",
      "- Set orthogonal sum-to-zero contrasts globally: set_sum_contrasts()\n",
      "- For example analyses see: browseVignettes(\"afex\")\n",
      "************\n",
      "\n",
      "\n",
      "Attaching package: ‘afex’\n",
      "\n",
      "\n",
      "The following object is masked from ‘package:lme4’:\n",
      "\n",
      "    lmer\n",
      "\n",
      "\n",
      "Loading required package: mvtnorm\n",
      "\n",
      "Loading required package: survival\n",
      "\n",
      "Loading required package: TH.data\n",
      "\n",
      "Loading required package: MASS\n",
      "\n",
      "\n",
      "Attaching package: ‘MASS’\n",
      "\n",
      "\n",
      "The following object is masked from ‘package:dplyr’:\n",
      "\n",
      "    select\n",
      "\n",
      "\n",
      "\n",
      "Attaching package: ‘TH.data’\n",
      "\n",
      "\n",
      "The following object is masked from ‘package:MASS’:\n",
      "\n",
      "    geyser\n",
      "\n",
      "\n"
     ]
    }
   ],
   "source": [
    "library(\"dplyr\")\n",
    "library(\"tidyr\")\n",
    "library(\"afex\")     # provides mixed() and attaches lme4 automatically.\n",
    "library(\"emmeans\")  # follow-up tests.\n",
    "library(\"multcomp\") # advanced control for multiple testing/Type 1 errors.\n",
    "library(\"ggplot2\")"
   ]
  },
  {
   "cell_type": "code",
   "execution_count": 2,
   "metadata": {},
   "outputs": [
    {
     "name": "stderr",
     "output_type": "stream",
     "text": [
      "Loading required package: carData\n",
      "\n",
      "\n",
      "Attaching package: ‘car’\n",
      "\n",
      "\n",
      "The following object is masked from ‘package:dplyr’:\n",
      "\n",
      "    recode\n",
      "\n",
      "\n",
      "Loading required package: lattice\n",
      "\n",
      "Loading required package: ez\n",
      "\n"
     ]
    }
   ],
   "source": [
    "library(\"car\")\n",
    "require(\"lattice\")\n",
    "require(\"ez\")"
   ]
  },
  {
   "cell_type": "code",
   "execution_count": 3,
   "metadata": {},
   "outputs": [],
   "source": [
    "library(\"cowplot\")\n",
    "library(\"ggbeeswarm\")\n",
    "\n",
    "library(\"nortest\")"
   ]
  },
  {
   "cell_type": "code",
   "execution_count": 4,
   "metadata": {},
   "outputs": [],
   "source": [
    "# library(\"apa\")"
   ]
  },
  {
   "cell_type": "code",
   "execution_count": 5,
   "metadata": {},
   "outputs": [],
   "source": [
    "library(\"effectsize\")"
   ]
  },
  {
   "cell_type": "code",
   "execution_count": 6,
   "metadata": {},
   "outputs": [],
   "source": [
    "library(\"effsize\")"
   ]
  },
  {
   "cell_type": "markdown",
   "metadata": {},
   "source": [
    "## Settings"
   ]
  },
  {
   "cell_type": "code",
   "execution_count": 7,
   "metadata": {},
   "outputs": [],
   "source": [
    "theme_set(theme_bw(base_size = 15) +\n",
    "            theme(legend.position=\"bottom\",\n",
    "                  panel.grid.major.x = element_blank()))"
   ]
  },
  {
   "cell_type": "code",
   "execution_count": 8,
   "metadata": {},
   "outputs": [],
   "source": [
    "options(width=120)"
   ]
  },
  {
   "cell_type": "markdown",
   "metadata": {},
   "source": [
    "## Session info"
   ]
  },
  {
   "cell_type": "code",
   "execution_count": 9,
   "metadata": {},
   "outputs": [
    {
     "data": {
      "text/plain": [
       "R version 3.6.3 (2020-02-29)\n",
       "Platform: x86_64-pc-linux-gnu (64-bit)\n",
       "Running under: Ubuntu 18.04.5 LTS\n",
       "\n",
       "Matrix products: default\n",
       "BLAS:   /usr/lib/x86_64-linux-gnu/openblas/libblas.so.3\n",
       "LAPACK: /usr/lib/x86_64-linux-gnu/libopenblasp-r0.2.20.so\n",
       "\n",
       "locale:\n",
       " [1] LC_CTYPE=en_US.UTF-8       LC_NUMERIC=C               LC_TIME=en_IL.UTF-8        LC_COLLATE=en_US.UTF-8    \n",
       " [5] LC_MONETARY=en_IL.UTF-8    LC_MESSAGES=en_US.UTF-8    LC_PAPER=en_IL.UTF-8       LC_NAME=C                 \n",
       " [9] LC_ADDRESS=C               LC_TELEPHONE=C             LC_MEASUREMENT=en_IL.UTF-8 LC_IDENTIFICATION=C       \n",
       "\n",
       "attached base packages:\n",
       "[1] stats     graphics  grDevices utils     datasets  methods   base     \n",
       "\n",
       "other attached packages:\n",
       " [1] effsize_0.8.1    effectsize_0.3.3 nortest_1.0-4    ggbeeswarm_0.6.0 cowplot_1.1.0    ez_4.4-0        \n",
       " [7] lattice_0.20-41  car_3.0-10       carData_3.0-4    ggplot2_3.3.2    multcomp_1.4-14  TH.data_1.0-10  \n",
       "[13] MASS_7.3-53      survival_3.2-7   mvtnorm_1.1-1    emmeans_1.5.1    afex_0.28-0      lme4_1.1-23     \n",
       "[19] Matrix_1.2-18    tidyr_1.1.2      dplyr_1.0.2     \n",
       "\n",
       "loaded via a namespace (and not attached):\n",
       " [1] jsonlite_1.7.1      splines_3.6.3       statmod_1.4.34      vipor_0.4.5         cellranger_1.1.0   \n",
       " [6] bayestestR_0.7.2    numDeriv_2016.8-1.1 pillar_1.4.6        glue_1.4.2          uuid_0.1-4         \n",
       "[11] digest_0.6.25       minqa_1.2.4         colorspace_1.4-1    sandwich_2.5-1      htmltools_0.5.0    \n",
       "[16] plyr_1.8.6          pkgconfig_2.0.3     haven_2.3.1         purrr_0.3.4         xtable_1.8-4       \n",
       "[21] scales_1.1.1        openxlsx_4.2.2      rio_0.5.16          tibble_3.0.3        mgcv_1.8-33        \n",
       "[26] generics_0.0.2      ellipsis_0.3.1      withr_2.3.0         repr_1.1.0          magrittr_1.5       \n",
       "[31] crayon_1.3.4        readxl_1.3.1        estimability_1.3    evaluate_0.14       nlme_3.1-149       \n",
       "[36] forcats_0.5.0       foreign_0.8-76      beeswarm_0.2.3      tools_3.6.3         data.table_1.13.0  \n",
       "[41] hms_0.5.3           lifecycle_0.2.0     stringr_1.4.0       munsell_0.5.0       zip_2.1.1          \n",
       "[46] compiler_3.6.3      rlang_0.4.8         grid_3.6.3          nloptr_1.2.2.2      parameters_0.8.6   \n",
       "[51] pbdZMQ_0.3-3        IRkernel_1.1.1.9000 base64enc_0.1-3     boot_1.3-25         gtable_0.3.0       \n",
       "[56] codetools_0.2-16    lmerTest_3.1-2      abind_1.4-5         curl_4.3            reshape2_1.4.4     \n",
       "[61] R6_2.4.1            zoo_1.8-8           insight_0.9.6       stringi_1.5.3       parallel_3.6.3     \n",
       "[66] IRdisplay_0.7.0     Rcpp_1.0.5          vctrs_0.3.4         tidyselect_1.1.0    coda_0.19-4        "
      ]
     },
     "metadata": {},
     "output_type": "display_data"
    }
   ],
   "source": [
    "sessionInfo()"
   ]
  },
  {
   "cell_type": "markdown",
   "metadata": {},
   "source": [
    "## Create output directory"
   ]
  },
  {
   "cell_type": "code",
   "execution_count": 10,
   "metadata": {},
   "outputs": [],
   "source": [
    "dir.create(\"data/t1008\",showWarnings = FALSE,recursive = TRUE)"
   ]
  },
  {
   "cell_type": "markdown",
   "metadata": {},
   "source": [
    "## Handy functions"
   ]
  },
  {
   "cell_type": "markdown",
   "metadata": {},
   "source": [
    "### Function for displaying results in APA 6"
   ]
  },
  {
   "cell_type": "code",
   "execution_count": 11,
   "metadata": {},
   "outputs": [
    {
     "name": "stderr",
     "output_type": "stream",
     "text": [
      "\n",
      "Attaching package: ‘IRdisplay’\n",
      "\n",
      "\n",
      "The following object is masked from ‘package:xtable’:\n",
      "\n",
      "    display\n",
      "\n",
      "\n",
      "Loading required package: papaja\n",
      "\n",
      "Loading required package: tinytex\n",
      "\n"
     ]
    }
   ],
   "source": [
    "library(xtable)\n",
    "library(IRdisplay)\n",
    "library(repr)\n",
    "require(\"papaja\")\n",
    "require(\"tinytex\")\n",
    "apaMd <- function(apaObj){\n",
    "    apaStr <- \"\"\n",
    "    for (ii in names(apaObj)){\n",
    "        apaStr <- paste(apaStr, paste(\"\\n\",\"### \", ii, \"\\n\" ,sep=\"\" ,collapse = \"\")  ,sep=\"\" ,collapse = \"\")\n",
    "        if(!(ii == \"table\")){ \n",
    "            for (jj in names(apaObj[[ii]])){\n",
    "                apaStr <- paste(apaStr, paste(\"- \", ii,\" for `\", jj, \"` is \", \"\\n\" ,sep=\"\" ,collapse = \"\")  ,sep=\"\\n\" ,collapse = \" \")\n",
    "                apaStr <- paste(apaStr, paste(\"  - \", apaObj[[ii]][[jj]], \"\\n\" ,sep=\"\" ,collapse = \"\")  ,sep=\"\\n\" ,collapse = \" \")\n",
    "                }}\n",
    "        else {\n",
    "            # apaStr <- paste(apaStr, \"\\n\\n\", paste(apa_table(apaObj$table))  ,sep=\"\\n\" ,collapse = \" \")\n",
    "            apaStr <- paste(apaStr, paste(\"- support for will arrive some day\", \"\\n\" ,sep=\"\" ,collapse = \"\")  ,sep=\"\\n\" ,collapse = \" \")\n",
    "            apaStr <- paste(apaStr, paste(\"- for now please use apa_table function\", \"\\n\" ,sep=\"\" ,collapse = \"\")  ,sep=\"\\n\" ,collapse = \" \")\n",
    "\n",
    "        }}\n",
    "    return(apaStr)\n",
    "}"
   ]
  },
  {
   "cell_type": "markdown",
   "metadata": {},
   "source": [
    "# Load data"
   ]
  },
  {
   "cell_type": "markdown",
   "metadata": {},
   "source": [
    "Depending on how much data you want to include select a file to be loaded (either by executing relevant cell or by clicking ↑ or ↓ above to move cells up or down, the last executed cell containing `ifName` defines the file to be loaded)."
   ]
  },
  {
   "cell_type": "code",
   "execution_count": 12,
   "metadata": {},
   "outputs": [],
   "source": [
    "ifName=\"data/t1007/bigDF__df2_unstacked__clean.RData\" # 752554 obs"
   ]
  },
  {
   "cell_type": "code",
   "execution_count": 13,
   "metadata": {},
   "outputs": [],
   "source": [
    "load(file=ifName)"
   ]
  },
  {
   "cell_type": "code",
   "execution_count": 14,
   "metadata": {},
   "outputs": [],
   "source": [
    "ifName=\"data/t1007/bigDF__df2_unstacked__aov_4_a1vb01Prc__nrow_681652.RData\" # 752554 obs"
   ]
  },
  {
   "cell_type": "code",
   "execution_count": 15,
   "metadata": {},
   "outputs": [],
   "source": [
    "load(file=ifName)"
   ]
  },
  {
   "cell_type": "code",
   "execution_count": 16,
   "metadata": {},
   "outputs": [],
   "source": [
    "ifName=\"data/t1007/bigDF__df2_unstacked__aov_4_a2ag01Prc__nrow_681652.RData\" # 752554 obs"
   ]
  },
  {
   "cell_type": "code",
   "execution_count": 17,
   "metadata": {},
   "outputs": [],
   "source": [
    "load(file=ifName)"
   ]
  },
  {
   "cell_type": "code",
   "execution_count": 18,
   "metadata": {},
   "outputs": [
    {
     "data": {
      "text/html": [
       "<style>\n",
       ".list-inline {list-style: none; margin:0; padding: 0}\n",
       ".list-inline>li {display: inline-block}\n",
       ".list-inline>li:not(:last-child)::after {content: \"\\00b7\"; padding: 0 .5ex}\n",
       "</style>\n",
       "<ol class=list-inline><li>'a1vb01Prc'</li><li>'a2ag01Prc'</li><li>'apaMd'</li><li>'df2'</li><li>'ifName'</li></ol>\n"
      ],
      "text/latex": [
       "\\begin{enumerate*}\n",
       "\\item 'a1vb01Prc'\n",
       "\\item 'a2ag01Prc'\n",
       "\\item 'apaMd'\n",
       "\\item 'df2'\n",
       "\\item 'ifName'\n",
       "\\end{enumerate*}\n"
      ],
      "text/markdown": [
       "1. 'a1vb01Prc'\n",
       "2. 'a2ag01Prc'\n",
       "3. 'apaMd'\n",
       "4. 'df2'\n",
       "5. 'ifName'\n",
       "\n",
       "\n"
      ],
      "text/plain": [
       "[1] \"a1vb01Prc\" \"a2ag01Prc\" \"apaMd\"     \"df2\"       \"ifName\"   "
      ]
     },
     "metadata": {},
     "output_type": "display_data"
    }
   ],
   "source": [
    "ls()"
   ]
  },
  {
   "cell_type": "markdown",
   "metadata": {},
   "source": [
    "# Inspect data"
   ]
  },
  {
   "cell_type": "markdown",
   "metadata": {},
   "source": [
    "## Quick look at data"
   ]
  },
  {
   "cell_type": "code",
   "execution_count": 19,
   "metadata": {},
   "outputs": [
    {
     "name": "stdout",
     "output_type": "stream",
     "text": [
      "'data.frame':\t681652 obs. of  17 variables:\n",
      " $ CAMP       : Factor w/ 2 levels \"metoo\",\"sexstrike\": 1 1 1 1 1 1 1 1 1 1 ...\n",
      " $ TYPE       : Factor w/ 2 levels \"ctrl\",\"orig\": 1 1 1 1 1 1 1 1 1 1 ...\n",
      " $ wordCnt    : num  11 7 11 27 30 26 8 12 12 23 ...\n",
      " $ vb01Cnt    : num  0 0 0 2 0 0 1 0 1 0 ...\n",
      " $ ag01Cnt    : num  0 0 0 0 1 1 0 0 1 2 ...\n",
      " $ vb01Prc    : num  0 0 0 7.41 0 ...\n",
      " $ ag01Prc    : num  0 0 0 0 3.33 ...\n",
      " $ ID         : chr  \"919714354467045376\" \"919714354479722496\" \"919714354500653056\" \"919714354542600192\" ...\n",
      " $ tweet_url  : chr  \"/IamJonesy3/status/919714354467045376\" \"/CCmee_/status/919714354479722496\" \"/SarahJaneVlogs/status/919714354500653057\" \"/queentyreen/status/919714354542600195\" ...\n",
      " $ user_id    : chr  \"588400632\" \"242582835\" \"29298715\" \"3290716455\" ...\n",
      " $ is_replied : logi  TRUE FALSE FALSE TRUE FALSE TRUE ...\n",
      " $ is_reply_to: logi  TRUE FALSE FALSE TRUE FALSE FALSE ...\n",
      " $ likes      : num  1 0 1 0 0 38 0 0 1 1 ...\n",
      " $ replies    : num  1 0 0 1 0 5 0 0 0 0 ...\n",
      " $ retweets   : chr  \"0\" \"0\" \"0\" \"0\" ...\n",
      " $ date       : Date, format: \"2017-10-15\" \"2017-10-15\" \"2017-10-15\" \"2017-10-15\" ...\n",
      " $ LBL        : chr  \"metoo_ctrl\" \"metoo_ctrl\" \"metoo_ctrl\" \"metoo_ctrl\" ...\n"
     ]
    }
   ],
   "source": [
    "str(df2)"
   ]
  },
  {
   "cell_type": "markdown",
   "metadata": {},
   "source": [
    "## Summary"
   ]
  },
  {
   "cell_type": "code",
   "execution_count": 20,
   "metadata": {},
   "outputs": [
    {
     "data": {
      "text/plain": [
       "        CAMP          TYPE           wordCnt          vb01Cnt           ag01Cnt           vb01Prc       \n",
       " metoo    :613635   ctrl:353731   Min.   :  5.00   Min.   : 0.0000   Min.   : 0.0000   Min.   :  0.000  \n",
       " sexstrike: 68017   orig:327921   1st Qu.: 11.00   1st Qu.: 0.0000   1st Qu.: 0.0000   1st Qu.:  0.000  \n",
       "                                  Median : 18.00   Median : 1.0000   Median : 0.0000   Median :  2.439  \n",
       "                                  Mean   : 18.43   Mean   : 0.8063   Mean   : 0.6863   Mean   :  4.413  \n",
       "                                  3rd Qu.: 24.00   3rd Qu.: 1.0000   3rd Qu.: 1.0000   3rd Qu.:  7.547  \n",
       "                                  Max.   :106.00   Max.   :17.0000   Max.   :21.0000   Max.   :100.000  \n",
       "    ag01Prc             ID             tweet_url           user_id          is_replied      is_reply_to    \n",
       " Min.   :  0.000   Length:681652      Length:681652      Length:681652      Mode :logical   Mode :logical  \n",
       " 1st Qu.:  0.000   Class :character   Class :character   Class :character   FALSE:550494    FALSE:534101   \n",
       " Median :  0.000   Mode  :character   Mode  :character   Mode  :character   TRUE :131158    TRUE :147551   \n",
       " Mean   :  3.803                                                                                           \n",
       " 3rd Qu.:  6.250                                                                                           \n",
       " Max.   :100.000                                                                                           \n",
       "     likes              replies           retweets              date                LBL           \n",
       " Min.   :     0.00   Min.   :    0.00   Length:681652      Min.   :2017-10-15   Length:681652     \n",
       " 1st Qu.:     0.00   1st Qu.:    0.00   Class :character   1st Qu.:2017-10-16   Class :character  \n",
       " Median :     0.00   Median :    0.00   Mode  :character   Median :2017-10-17   Mode  :character  \n",
       " Mean   :     7.03   Mean   :    0.57                      Mean   :2017-12-14                     \n",
       " 3rd Qu.:     2.00   3rd Qu.:    0.00                      3rd Qu.:2017-10-21                     \n",
       " Max.   :145072.00   Max.   :43943.00                      Max.   :2020-03-19                     "
      ]
     },
     "metadata": {},
     "output_type": "display_data"
    }
   ],
   "source": [
    "summary(df2)"
   ]
  },
  {
   "cell_type": "code",
   "execution_count": 21,
   "metadata": {},
   "outputs": [
    {
     "data": {
      "text/html": [
       "<table>\n",
       "<caption>A anova: 3 × 6</caption>\n",
       "<thead>\n",
       "\t<tr><th></th><th scope=col>num Df</th><th scope=col>den Df</th><th scope=col>MSE</th><th scope=col>F</th><th scope=col>ges</th><th scope=col>Pr(&gt;F)</th></tr>\n",
       "\t<tr><th></th><th scope=col>&lt;dbl&gt;</th><th scope=col>&lt;dbl&gt;</th><th scope=col>&lt;dbl&gt;</th><th scope=col>&lt;dbl&gt;</th><th scope=col>&lt;dbl&gt;</th><th scope=col>&lt;dbl&gt;</th></tr>\n",
       "</thead>\n",
       "<tbody>\n",
       "\t<tr><th scope=row>CAMP</th><td>1</td><td>681648</td><td>33.73904</td><td>690.32244045</td><td>1.011701e-03</td><td>4.531552e-152</td></tr>\n",
       "\t<tr><th scope=row>TYPE</th><td>1</td><td>681648</td><td>33.73904</td><td>  0.02922063</td><td>4.286762e-08</td><td> 8.642707e-01</td></tr>\n",
       "\t<tr><th scope=row>CAMP:TYPE</th><td>1</td><td>681648</td><td>33.73904</td><td>142.14341243</td><td>2.084856e-04</td><td> 9.115624e-33</td></tr>\n",
       "</tbody>\n",
       "</table>\n"
      ],
      "text/latex": [
       "A anova: 3 × 6\n",
       "\\begin{tabular}{r|llllll}\n",
       "  & num Df & den Df & MSE & F & ges & Pr(>F)\\\\\n",
       "  & <dbl> & <dbl> & <dbl> & <dbl> & <dbl> & <dbl>\\\\\n",
       "\\hline\n",
       "\tCAMP & 1 & 681648 & 33.73904 & 690.32244045 & 1.011701e-03 & 4.531552e-152\\\\\n",
       "\tTYPE & 1 & 681648 & 33.73904 &   0.02922063 & 4.286762e-08 &  8.642707e-01\\\\\n",
       "\tCAMP:TYPE & 1 & 681648 & 33.73904 & 142.14341243 & 2.084856e-04 &  9.115624e-33\\\\\n",
       "\\end{tabular}\n"
      ],
      "text/markdown": [
       "\n",
       "A anova: 3 × 6\n",
       "\n",
       "| <!--/--> | num Df &lt;dbl&gt; | den Df &lt;dbl&gt; | MSE &lt;dbl&gt; | F &lt;dbl&gt; | ges &lt;dbl&gt; | Pr(&gt;F) &lt;dbl&gt; |\n",
       "|---|---|---|---|---|---|---|\n",
       "| CAMP | 1 | 681648 | 33.73904 | 690.32244045 | 1.011701e-03 | 4.531552e-152 |\n",
       "| TYPE | 1 | 681648 | 33.73904 |   0.02922063 | 4.286762e-08 |  8.642707e-01 |\n",
       "| CAMP:TYPE | 1 | 681648 | 33.73904 | 142.14341243 | 2.084856e-04 |  9.115624e-33 |\n",
       "\n"
      ],
      "text/plain": [
       "          num Df den Df MSE      F            ges          Pr(>F)       \n",
       "CAMP      1      681648 33.73904 690.32244045 1.011701e-03 4.531552e-152\n",
       "TYPE      1      681648 33.73904   0.02922063 4.286762e-08  8.642707e-01\n",
       "CAMP:TYPE 1      681648 33.73904 142.14341243 2.084856e-04  9.115624e-33"
      ]
     },
     "metadata": {},
     "output_type": "display_data"
    }
   ],
   "source": [
    "summary(a1vb01Prc)"
   ]
  },
  {
   "cell_type": "code",
   "execution_count": 22,
   "metadata": {},
   "outputs": [
    {
     "data": {
      "text/html": [
       "<table>\n",
       "<caption>A anova: 3 × 6</caption>\n",
       "<thead>\n",
       "\t<tr><th></th><th scope=col>num Df</th><th scope=col>den Df</th><th scope=col>MSE</th><th scope=col>F</th><th scope=col>ges</th><th scope=col>Pr(&gt;F)</th></tr>\n",
       "\t<tr><th></th><th scope=col>&lt;dbl&gt;</th><th scope=col>&lt;dbl&gt;</th><th scope=col>&lt;dbl&gt;</th><th scope=col>&lt;dbl&gt;</th><th scope=col>&lt;dbl&gt;</th><th scope=col>&lt;dbl&gt;</th></tr>\n",
       "</thead>\n",
       "<tbody>\n",
       "\t<tr><th scope=row>CAMP</th><td>1</td><td>681648</td><td>36.20482</td><td>1102.265888</td><td>0.0016144496</td><td>1.659872e-241</td></tr>\n",
       "\t<tr><th scope=row>TYPE</th><td>1</td><td>681648</td><td>36.20482</td><td>   5.538231</td><td>0.0000081247</td><td> 1.860567e-02</td></tr>\n",
       "\t<tr><th scope=row>CAMP:TYPE</th><td>1</td><td>681648</td><td>36.20482</td><td> 506.682508</td><td>0.0007427678</td><td>3.673188e-112</td></tr>\n",
       "</tbody>\n",
       "</table>\n"
      ],
      "text/latex": [
       "A anova: 3 × 6\n",
       "\\begin{tabular}{r|llllll}\n",
       "  & num Df & den Df & MSE & F & ges & Pr(>F)\\\\\n",
       "  & <dbl> & <dbl> & <dbl> & <dbl> & <dbl> & <dbl>\\\\\n",
       "\\hline\n",
       "\tCAMP & 1 & 681648 & 36.20482 & 1102.265888 & 0.0016144496 & 1.659872e-241\\\\\n",
       "\tTYPE & 1 & 681648 & 36.20482 &    5.538231 & 0.0000081247 &  1.860567e-02\\\\\n",
       "\tCAMP:TYPE & 1 & 681648 & 36.20482 &  506.682508 & 0.0007427678 & 3.673188e-112\\\\\n",
       "\\end{tabular}\n"
      ],
      "text/markdown": [
       "\n",
       "A anova: 3 × 6\n",
       "\n",
       "| <!--/--> | num Df &lt;dbl&gt; | den Df &lt;dbl&gt; | MSE &lt;dbl&gt; | F &lt;dbl&gt; | ges &lt;dbl&gt; | Pr(&gt;F) &lt;dbl&gt; |\n",
       "|---|---|---|---|---|---|---|\n",
       "| CAMP | 1 | 681648 | 36.20482 | 1102.265888 | 0.0016144496 | 1.659872e-241 |\n",
       "| TYPE | 1 | 681648 | 36.20482 |    5.538231 | 0.0000081247 |  1.860567e-02 |\n",
       "| CAMP:TYPE | 1 | 681648 | 36.20482 |  506.682508 | 0.0007427678 | 3.673188e-112 |\n",
       "\n"
      ],
      "text/plain": [
       "          num Df den Df MSE      F           ges          Pr(>F)       \n",
       "CAMP      1      681648 36.20482 1102.265888 0.0016144496 1.659872e-241\n",
       "TYPE      1      681648 36.20482    5.538231 0.0000081247  1.860567e-02\n",
       "CAMP:TYPE 1      681648 36.20482  506.682508 0.0007427678 3.673188e-112"
      ]
     },
     "metadata": {},
     "output_type": "display_data"
    }
   ],
   "source": [
    "summary(a2ag01Prc)"
   ]
  },
  {
   "cell_type": "code",
   "execution_count": null,
   "metadata": {},
   "outputs": [],
   "source": [
    "#                _____                    _____                    _____                    _____          \n",
    "#               /\\    \\                  /\\    \\                  /\\    \\                  /\\    \\         \n",
    "#              /::\\____\\                /::\\    \\                /::\\    \\                /::\\    \\        \n",
    "#             /:::/    /               /::::\\    \\              /::::\\    \\              /::::\\    \\       \n",
    "#            /:::/    /               /::::::\\    \\            /::::::\\    \\            /::::::\\    \\      \n",
    "#           /:::/    /               /:::/\\:::\\    \\          /:::/\\:::\\    \\          /:::/\\:::\\    \\     \n",
    "#          /:::/____/               /:::/__\\:::\\    \\        /:::/__\\:::\\    \\        /:::/__\\:::\\    \\    \n",
    "#         /::::\\    \\              /::::\\   \\:::\\    \\      /::::\\   \\:::\\    \\      /::::\\   \\:::\\    \\   \n",
    "#        /::::::\\    \\   _____    /::::::\\   \\:::\\    \\    /::::::\\   \\:::\\    \\    /::::::\\   \\:::\\    \\  \n",
    "#       /:::/\\:::\\    \\ /\\    \\  /:::/\\:::\\   \\:::\\    \\  /:::/\\:::\\   \\:::\\____\\  /:::/\\:::\\   \\:::\\    \\ \n",
    "#      /:::/  \\:::\\    /::\\____\\/:::/__\\:::\\   \\:::\\____\\/:::/  \\:::\\   \\:::|    |/:::/__\\:::\\   \\:::\\____\\\n",
    "#      \\::/    \\:::\\  /:::/    /\\:::\\   \\:::\\   \\::/    /\\::/   |::::\\  /:::|____|\\:::\\   \\:::\\   \\::/    /\n",
    "#       \\/____/ \\:::\\/:::/    /  \\:::\\   \\:::\\   \\/____/  \\/____|:::::\\/:::/    /  \\:::\\   \\:::\\   \\/____/ \n",
    "#                \\::::::/    /    \\:::\\   \\:::\\    \\            |:::::::::/    /    \\:::\\   \\:::\\    \\     \n",
    "#                 \\::::/    /      \\:::\\   \\:::\\____\\           |::|\\::::/    /      \\:::\\   \\:::\\____\\    \n",
    "#                 /:::/    /        \\:::\\   \\::/    /           |::| \\::/____/        \\:::\\   \\::/    /    \n",
    "#                /:::/    /          \\:::\\   \\/____/            |::|  ~|               \\:::\\   \\/____/     \n",
    "#               /:::/    /            \\:::\\    \\                |::|   |                \\:::\\    \\         \n",
    "#              /:::/    /              \\:::\\____\\               \\::|   |                 \\:::\\____\\        \n",
    "#              \\::/    /                \\::/    /                \\:|   |                  \\::/    /        \n",
    "#               \\/____/                  \\/____/                  \\|___|                   \\/____/         "
   ]
  },
  {
   "cell_type": "markdown",
   "metadata": {},
   "source": [
    "# Var Types"
   ]
  },
  {
   "cell_type": "markdown",
   "metadata": {},
   "source": [
    "| name         | meta   | descr                       |\n",
    "|--------------|--------|-----------------------------|\n",
    "| `ID`         | `u1`   | observation unit (tweet_id) |\n",
    "| `vb01Prc`    | `d1`   | outcome (dependent)         |\n",
    "| `ag01Prc`    | `d2`   | outcome (dependent)         |\n",
    "| `CAMP`       | `b1`   | between tweet               |\n",
    "| `TYPE`       | `b2`   | between tweet               |"
   ]
  },
  {
   "cell_type": "markdown",
   "metadata": {},
   "source": [
    "## Generate APA-like LaTeX for AOV results (and for follow-ups)"
   ]
  },
  {
   "cell_type": "code",
   "execution_count": 23,
   "metadata": {},
   "outputs": [],
   "source": [
    "a1vb01Prc_APA <- apa_print(a1vb01Prc)\n",
    "a2ag01Prc_APA <- apa_print(a2ag01Prc)"
   ]
  },
  {
   "cell_type": "code",
   "execution_count": 24,
   "metadata": {},
   "outputs": [],
   "source": [
    "a1vb01PrcEm1 <- emmeans(a1vb01Prc, specs<-c(\"CAMP\", \"TYPE\"))\n",
    "a2ag01PrcEm1 <- emmeans(a2ag01Prc, specs<-c(\"CAMP\", \"TYPE\"))"
   ]
  },
  {
   "cell_type": "code",
   "execution_count": 25,
   "metadata": {},
   "outputs": [],
   "source": [
    "a1vb01PrcEm1_APA <- apa_print(a1vb01PrcEm1)\n",
    "a2ag01PrcEm1_APA <- apa_print(a2ag01PrcEm1)"
   ]
  },
  {
   "cell_type": "code",
   "execution_count": 26,
   "metadata": {},
   "outputs": [],
   "source": [
    "a1vb01PrcEm1_pairs <- pairs(a1vb01PrcEm1)\n",
    "a2ag01PrcEm1_pairs <- pairs(a2ag01PrcEm1)"
   ]
  },
  {
   "cell_type": "code",
   "execution_count": 27,
   "metadata": {},
   "outputs": [],
   "source": [
    "a1vb01PrcEm1_pairs_APA <- apa_print(a1vb01PrcEm1_pairs)\n",
    "a2ag01PrcEm1_pairs_APA <- apa_print(a2ag01PrcEm1_pairs)"
   ]
  },
  {
   "cell_type": "code",
   "execution_count": 28,
   "metadata": {},
   "outputs": [],
   "source": [
    "TEST=adjusted(\"bonferroni\")"
   ]
  },
  {
   "cell_type": "code",
   "execution_count": 29,
   "metadata": {},
   "outputs": [],
   "source": [
    "TEST=adjusted(\"free\")"
   ]
  },
  {
   "cell_type": "code",
   "execution_count": 30,
   "metadata": {},
   "outputs": [
    {
     "data": {
      "text/html": [
       "<table>\n",
       "<caption>A apa_results_table: 3 × 7</caption>\n",
       "<thead>\n",
       "\t<tr><th></th><th scope=col>Effect</th><th scope=col>F</th><th scope=col>df1</th><th scope=col>df2</th><th scope=col>MSE</th><th scope=col>p</th><th scope=col>ges</th></tr>\n",
       "\t<tr><th></th><th scope=col>&lt;ppj_lbll&gt;</th><th scope=col>&lt;ppj_lbll&gt;</th><th scope=col>&lt;ppj_lbll&gt;</th><th scope=col>&lt;ppj_lbll&gt;</th><th scope=col>&lt;ppj_lbll&gt;</th><th scope=col>&lt;ppj_lbll&gt;</th><th scope=col>&lt;ppj_lbll&gt;</th></tr>\n",
       "</thead>\n",
       "<tbody>\n",
       "\t<tr><th scope=row>1</th><td><span style=white-space:pre-wrap>CAMP               </span></td><td>690.32</td><td>1</td><td>681,648</td><td>33.74</td><td>&lt; .001</td><td>.001</td></tr>\n",
       "\t<tr><th scope=row>2</th><td>TYPE               </td><td>0.03  </td><td>1</td><td>681,648</td><td>33.74</td><td>.864  </td><td>.000</td></tr>\n",
       "\t<tr><th scope=row>3</th><td>CAMP $\\times$ TYPE</td><td>142.14</td><td>1</td><td>681,648</td><td>33.74</td><td>&lt; .001</td><td>.000</td></tr>\n",
       "</tbody>\n",
       "</table>\n"
      ],
      "text/latex": [
       "A apa\\_results\\_table: 3 × 7\n",
       "\\begin{tabular}{r|lllllll}\n",
       "  & Effect & F & df1 & df2 & MSE & p & ges\\\\\n",
       "  & <ppj\\_lbll> & <ppj\\_lbll> & <ppj\\_lbll> & <ppj\\_lbll> & <ppj\\_lbll> & <ppj\\_lbll> & <ppj\\_lbll>\\\\\n",
       "\\hline\n",
       "\t1 & CAMP                & 690.32 & 1 & 681,648 & 33.74 & < .001 & .001\\\\\n",
       "\t2 & TYPE                & 0.03   & 1 & 681,648 & 33.74 & .864   & .000\\\\\n",
       "\t3 & CAMP \\$\\textbackslash{}times\\$ TYPE & 142.14 & 1 & 681,648 & 33.74 & < .001 & .000\\\\\n",
       "\\end{tabular}\n"
      ],
      "text/markdown": [
       "\n",
       "A apa_results_table: 3 × 7\n",
       "\n",
       "| <!--/--> | Effect &lt;ppj_lbll&gt; | F &lt;ppj_lbll&gt; | df1 &lt;ppj_lbll&gt; | df2 &lt;ppj_lbll&gt; | MSE &lt;ppj_lbll&gt; | p &lt;ppj_lbll&gt; | ges &lt;ppj_lbll&gt; |\n",
       "|---|---|---|---|---|---|---|---|\n",
       "| 1 | CAMP                | 690.32 | 1 | 681,648 | 33.74 | &lt; .001 | .001 |\n",
       "| 2 | TYPE                | 0.03   | 1 | 681,648 | 33.74 | .864   | .000 |\n",
       "| 3 | CAMP $\\times$ TYPE | 142.14 | 1 | 681,648 | 33.74 | &lt; .001 | .000 |\n",
       "\n"
      ],
      "text/plain": [
       "  Effect              F      df1 df2     MSE   p      ges \n",
       "1 CAMP                690.32 1   681,648 33.74 < .001 .001\n",
       "2 TYPE                0.03   1   681,648 33.74 .864   .000\n",
       "3 CAMP $\\\\times$ TYPE 142.14 1   681,648 33.74 < .001 .000"
      ]
     },
     "metadata": {},
     "output_type": "display_data"
    }
   ],
   "source": [
    "a1vb01Prc_APA$table"
   ]
  },
  {
   "cell_type": "code",
   "execution_count": 31,
   "metadata": {},
   "outputs": [
    {
     "data": {
      "text/html": [
       "<table>\n",
       "<caption>A apa_results_table: 3 × 7</caption>\n",
       "<thead>\n",
       "\t<tr><th></th><th scope=col>Effect</th><th scope=col>F</th><th scope=col>df1</th><th scope=col>df2</th><th scope=col>MSE</th><th scope=col>p</th><th scope=col>ges</th></tr>\n",
       "\t<tr><th></th><th scope=col>&lt;ppj_lbll&gt;</th><th scope=col>&lt;ppj_lbll&gt;</th><th scope=col>&lt;ppj_lbll&gt;</th><th scope=col>&lt;ppj_lbll&gt;</th><th scope=col>&lt;ppj_lbll&gt;</th><th scope=col>&lt;ppj_lbll&gt;</th><th scope=col>&lt;ppj_lbll&gt;</th></tr>\n",
       "</thead>\n",
       "<tbody>\n",
       "\t<tr><th scope=row>1</th><td><span style=white-space:pre-wrap>CAMP               </span></td><td>1,102.27</td><td>1</td><td>681,648</td><td>36.20</td><td>&lt; .001</td><td>.002</td></tr>\n",
       "\t<tr><th scope=row>2</th><td>TYPE               </td><td>5.54    </td><td>1</td><td>681,648</td><td>36.20</td><td>.019  </td><td>.000</td></tr>\n",
       "\t<tr><th scope=row>3</th><td>CAMP $\\times$ TYPE</td><td><span style=white-space:pre-wrap>506.68  </span></td><td>1</td><td>681,648</td><td>36.20</td><td>&lt; .001</td><td>.001</td></tr>\n",
       "</tbody>\n",
       "</table>\n"
      ],
      "text/latex": [
       "A apa\\_results\\_table: 3 × 7\n",
       "\\begin{tabular}{r|lllllll}\n",
       "  & Effect & F & df1 & df2 & MSE & p & ges\\\\\n",
       "  & <ppj\\_lbll> & <ppj\\_lbll> & <ppj\\_lbll> & <ppj\\_lbll> & <ppj\\_lbll> & <ppj\\_lbll> & <ppj\\_lbll>\\\\\n",
       "\\hline\n",
       "\t1 & CAMP                & 1,102.27 & 1 & 681,648 & 36.20 & < .001 & .002\\\\\n",
       "\t2 & TYPE                & 5.54     & 1 & 681,648 & 36.20 & .019   & .000\\\\\n",
       "\t3 & CAMP \\$\\textbackslash{}times\\$ TYPE & 506.68   & 1 & 681,648 & 36.20 & < .001 & .001\\\\\n",
       "\\end{tabular}\n"
      ],
      "text/markdown": [
       "\n",
       "A apa_results_table: 3 × 7\n",
       "\n",
       "| <!--/--> | Effect &lt;ppj_lbll&gt; | F &lt;ppj_lbll&gt; | df1 &lt;ppj_lbll&gt; | df2 &lt;ppj_lbll&gt; | MSE &lt;ppj_lbll&gt; | p &lt;ppj_lbll&gt; | ges &lt;ppj_lbll&gt; |\n",
       "|---|---|---|---|---|---|---|---|\n",
       "| 1 | CAMP                | 1,102.27 | 1 | 681,648 | 36.20 | &lt; .001 | .002 |\n",
       "| 2 | TYPE                | 5.54     | 1 | 681,648 | 36.20 | .019   | .000 |\n",
       "| 3 | CAMP $\\times$ TYPE | 506.68   | 1 | 681,648 | 36.20 | &lt; .001 | .001 |\n",
       "\n"
      ],
      "text/plain": [
       "  Effect              F        df1 df2     MSE   p      ges \n",
       "1 CAMP                1,102.27 1   681,648 36.20 < .001 .002\n",
       "2 TYPE                5.54     1   681,648 36.20 .019   .000\n",
       "3 CAMP $\\\\times$ TYPE 506.68   1   681,648 36.20 < .001 .001"
      ]
     },
     "metadata": {},
     "output_type": "display_data"
    }
   ],
   "source": [
    "a2ag01Prc_APA$table"
   ]
  },
  {
   "cell_type": "code",
   "execution_count": 32,
   "metadata": {},
   "outputs": [
    {
     "data": {
      "text/markdown": [
       "\n",
       "### full_result\n",
       "\n",
       "- full_result for `CAMP` is \n",
       "\n",
       "  - $F(1, 681,648) = 690.32$, $\\mathit{MSE} = 33.74$, $p < .001$, $\\hat{\\eta}^2_G = .001$\n",
       "\n",
       "- full_result for `TYPE` is \n",
       "\n",
       "  - $F(1, 681,648) = 0.03$, $\\mathit{MSE} = 33.74$, $p = .864$, $\\hat{\\eta}^2_G = .000$\n",
       "\n",
       "- full_result for `CAMP_TYPE` is \n",
       "\n",
       "  - $F(1, 681,648) = 142.14$, $\\mathit{MSE} = 33.74$, $p < .001$, $\\hat{\\eta}^2_G = .000$\n"
      ]
     },
     "metadata": {},
     "output_type": "display_data"
    }
   ],
   "source": [
    "display_markdown(apaMd(a1vb01Prc_APA[\"full_result\"]))"
   ]
  },
  {
   "cell_type": "code",
   "execution_count": 33,
   "metadata": {},
   "outputs": [
    {
     "data": {
      "text/markdown": [
       "\n",
       "### full_result\n",
       "\n",
       "- full_result for `CAMP` is \n",
       "\n",
       "  - $F(1, 681,648) = 1,102.27$, $\\mathit{MSE} = 36.20$, $p < .001$, $\\hat{\\eta}^2_G = .002$\n",
       "\n",
       "- full_result for `TYPE` is \n",
       "\n",
       "  - $F(1, 681,648) = 5.54$, $\\mathit{MSE} = 36.20$, $p = .019$, $\\hat{\\eta}^2_G = .000$\n",
       "\n",
       "- full_result for `CAMP_TYPE` is \n",
       "\n",
       "  - $F(1, 681,648) = 506.68$, $\\mathit{MSE} = 36.20$, $p < .001$, $\\hat{\\eta}^2_G = .001$\n"
      ]
     },
     "metadata": {},
     "output_type": "display_data"
    }
   ],
   "source": [
    "display_markdown(apaMd(a2ag01Prc_APA[\"full_result\"]))"
   ]
  },
  {
   "cell_type": "markdown",
   "metadata": {},
   "source": [
    "## Summarize data by `CAMP`"
   ]
  },
  {
   "cell_type": "code",
   "execution_count": 35,
   "metadata": {},
   "outputs": [
    {
     "data": {
      "text/html": [
       "<table>\n",
       "<caption>A tibble: 2 × 11</caption>\n",
       "<thead>\n",
       "\t<tr><th scope=col>CAMP</th><th scope=col>N</th><th scope=col>wcM</th><th scope=col>wcSD</th><th scope=col>wcSE</th><th scope=col>vbM</th><th scope=col>vbSD</th><th scope=col>vbSE</th><th scope=col>agM</th><th scope=col>agSD</th><th scope=col>agSE</th></tr>\n",
       "\t<tr><th scope=col>&lt;fct&gt;</th><th scope=col>&lt;int&gt;</th><th scope=col>&lt;dbl&gt;</th><th scope=col>&lt;dbl&gt;</th><th scope=col>&lt;dbl&gt;</th><th scope=col>&lt;dbl&gt;</th><th scope=col>&lt;dbl&gt;</th><th scope=col>&lt;dbl&gt;</th><th scope=col>&lt;dbl&gt;</th><th scope=col>&lt;dbl&gt;</th><th scope=col>&lt;dbl&gt;</th></tr>\n",
       "</thead>\n",
       "<tbody>\n",
       "\t<tr><td>metoo    </td><td>613635</td><td>18.07358</td><td> 8.108003</td><td>0.01035044</td><td>4.353178</td><td>5.799904</td><td>0.007403988</td><td>3.724676</td><td>6.003949</td><td>0.007664467</td></tr>\n",
       "\t<tr><td>sexstrike</td><td> 68017</td><td>21.66789</td><td>13.787225</td><td>0.05286499</td><td>4.956720</td><td>5.902798</td><td>0.022633367</td><td>4.506136</td><td>6.205744</td><td>0.023794969</td></tr>\n",
       "</tbody>\n",
       "</table>\n"
      ],
      "text/latex": [
       "A tibble: 2 × 11\n",
       "\\begin{tabular}{lllllllllll}\n",
       " CAMP & N & wcM & wcSD & wcSE & vbM & vbSD & vbSE & agM & agSD & agSE\\\\\n",
       " <fct> & <int> & <dbl> & <dbl> & <dbl> & <dbl> & <dbl> & <dbl> & <dbl> & <dbl> & <dbl>\\\\\n",
       "\\hline\n",
       "\t metoo     & 613635 & 18.07358 &  8.108003 & 0.01035044 & 4.353178 & 5.799904 & 0.007403988 & 3.724676 & 6.003949 & 0.007664467\\\\\n",
       "\t sexstrike &  68017 & 21.66789 & 13.787225 & 0.05286499 & 4.956720 & 5.902798 & 0.022633367 & 4.506136 & 6.205744 & 0.023794969\\\\\n",
       "\\end{tabular}\n"
      ],
      "text/markdown": [
       "\n",
       "A tibble: 2 × 11\n",
       "\n",
       "| CAMP &lt;fct&gt; | N &lt;int&gt; | wcM &lt;dbl&gt; | wcSD &lt;dbl&gt; | wcSE &lt;dbl&gt; | vbM &lt;dbl&gt; | vbSD &lt;dbl&gt; | vbSE &lt;dbl&gt; | agM &lt;dbl&gt; | agSD &lt;dbl&gt; | agSE &lt;dbl&gt; |\n",
       "|---|---|---|---|---|---|---|---|---|---|---|\n",
       "| metoo     | 613635 | 18.07358 |  8.108003 | 0.01035044 | 4.353178 | 5.799904 | 0.007403988 | 3.724676 | 6.003949 | 0.007664467 |\n",
       "| sexstrike |  68017 | 21.66789 | 13.787225 | 0.05286499 | 4.956720 | 5.902798 | 0.022633367 | 4.506136 | 6.205744 | 0.023794969 |\n",
       "\n"
      ],
      "text/plain": [
       "  CAMP      N      wcM      wcSD      wcSE       vbM      vbSD     vbSE        agM      agSD     agSE       \n",
       "1 metoo     613635 18.07358  8.108003 0.01035044 4.353178 5.799904 0.007403988 3.724676 6.003949 0.007664467\n",
       "2 sexstrike  68017 21.66789 13.787225 0.05286499 4.956720 5.902798 0.022633367 4.506136 6.205744 0.023794969"
      ]
     },
     "metadata": {},
     "output_type": "display_data"
    }
   ],
   "source": [
    "smr0 <- df2 %>%\n",
    "    group_by(CAMP) %>%\n",
    "    summarise(\n",
    "        N = n(),\n",
    "        wcM = mean(wordCnt),\n",
    "        wcSD = sd(wordCnt),\n",
    "        wcSE = wcSD / sqrt(N),\n",
    "        vbM = mean(vb01Prc),\n",
    "        vbSD = sd(vb01Prc),\n",
    "        vbSE = vbSD / sqrt(N),\n",
    "        agM = mean(ag01Prc),\n",
    "        agSD = sd(ag01Prc),\n",
    "        agSE = agSD / sqrt(N),\n",
    "        .groups = \"drop\"\n",
    "    ) \n",
    "smr0"
   ]
  },
  {
   "cell_type": "markdown",
   "metadata": {},
   "source": [
    "## Summarize by type `TYPE`"
   ]
  },
  {
   "cell_type": "code",
   "execution_count": 36,
   "metadata": {},
   "outputs": [
    {
     "data": {
      "text/html": [
       "<table>\n",
       "<caption>A tibble: 2 × 11</caption>\n",
       "<thead>\n",
       "\t<tr><th scope=col>TYPE</th><th scope=col>N</th><th scope=col>wcM</th><th scope=col>wcSD</th><th scope=col>wcSE</th><th scope=col>vbM</th><th scope=col>vbSD</th><th scope=col>vbSE</th><th scope=col>agM</th><th scope=col>agSD</th><th scope=col>agSE</th></tr>\n",
       "\t<tr><th scope=col>&lt;fct&gt;</th><th scope=col>&lt;int&gt;</th><th scope=col>&lt;dbl&gt;</th><th scope=col>&lt;dbl&gt;</th><th scope=col>&lt;dbl&gt;</th><th scope=col>&lt;dbl&gt;</th><th scope=col>&lt;dbl&gt;</th><th scope=col>&lt;dbl&gt;</th><th scope=col>&lt;dbl&gt;</th><th scope=col>&lt;dbl&gt;</th><th scope=col>&lt;dbl&gt;</th></tr>\n",
       "</thead>\n",
       "<tbody>\n",
       "\t<tr><td>ctrl</td><td>353731</td><td>15.66741</td><td>8.24091</td><td>0.01385602</td><td>4.525333</td><td>6.411110</td><td>0.010779451</td><td>4.044115</td><td>6.632663</td><td>0.011151964</td></tr>\n",
       "\t<tr><td>orig</td><td>327921</td><td>21.41465</td><td>8.62897</td><td>0.01506865</td><td>4.292660</td><td>5.087011</td><td>0.008883377</td><td>3.542185</td><td>5.288819</td><td>0.009235791</td></tr>\n",
       "</tbody>\n",
       "</table>\n"
      ],
      "text/latex": [
       "A tibble: 2 × 11\n",
       "\\begin{tabular}{lllllllllll}\n",
       " TYPE & N & wcM & wcSD & wcSE & vbM & vbSD & vbSE & agM & agSD & agSE\\\\\n",
       " <fct> & <int> & <dbl> & <dbl> & <dbl> & <dbl> & <dbl> & <dbl> & <dbl> & <dbl> & <dbl>\\\\\n",
       "\\hline\n",
       "\t ctrl & 353731 & 15.66741 & 8.24091 & 0.01385602 & 4.525333 & 6.411110 & 0.010779451 & 4.044115 & 6.632663 & 0.011151964\\\\\n",
       "\t orig & 327921 & 21.41465 & 8.62897 & 0.01506865 & 4.292660 & 5.087011 & 0.008883377 & 3.542185 & 5.288819 & 0.009235791\\\\\n",
       "\\end{tabular}\n"
      ],
      "text/markdown": [
       "\n",
       "A tibble: 2 × 11\n",
       "\n",
       "| TYPE &lt;fct&gt; | N &lt;int&gt; | wcM &lt;dbl&gt; | wcSD &lt;dbl&gt; | wcSE &lt;dbl&gt; | vbM &lt;dbl&gt; | vbSD &lt;dbl&gt; | vbSE &lt;dbl&gt; | agM &lt;dbl&gt; | agSD &lt;dbl&gt; | agSE &lt;dbl&gt; |\n",
       "|---|---|---|---|---|---|---|---|---|---|---|\n",
       "| ctrl | 353731 | 15.66741 | 8.24091 | 0.01385602 | 4.525333 | 6.411110 | 0.010779451 | 4.044115 | 6.632663 | 0.011151964 |\n",
       "| orig | 327921 | 21.41465 | 8.62897 | 0.01506865 | 4.292660 | 5.087011 | 0.008883377 | 3.542185 | 5.288819 | 0.009235791 |\n",
       "\n"
      ],
      "text/plain": [
       "  TYPE N      wcM      wcSD    wcSE       vbM      vbSD     vbSE        agM      agSD     agSE       \n",
       "1 ctrl 353731 15.66741 8.24091 0.01385602 4.525333 6.411110 0.010779451 4.044115 6.632663 0.011151964\n",
       "2 orig 327921 21.41465 8.62897 0.01506865 4.292660 5.087011 0.008883377 3.542185 5.288819 0.009235791"
      ]
     },
     "metadata": {},
     "output_type": "display_data"
    }
   ],
   "source": [
    "smr0 <- df2 %>%\n",
    "    group_by(TYPE) %>%\n",
    "    summarise(\n",
    "        N = n(),\n",
    "        wcM = mean(wordCnt),\n",
    "        wcSD = sd(wordCnt),\n",
    "        wcSE = wcSD / sqrt(N),\n",
    "        vbM = mean(vb01Prc),\n",
    "        vbSD = sd(vb01Prc),\n",
    "        vbSE = vbSD / sqrt(N),\n",
    "        agM = mean(ag01Prc),\n",
    "        agSD = sd(ag01Prc),\n",
    "        agSE = agSD / sqrt(N),\n",
    "        .groups = \"drop\"\n",
    "    ) \n",
    "smr0"
   ]
  },
  {
   "cell_type": "markdown",
   "metadata": {},
   "source": [
    "## Summarize data by `CAMP` ⨯ `TYPE`"
   ]
  },
  {
   "cell_type": "code",
   "execution_count": 37,
   "metadata": {},
   "outputs": [
    {
     "data": {
      "text/html": [
       "<table>\n",
       "<caption>A tibble: 4 × 12</caption>\n",
       "<thead>\n",
       "\t<tr><th scope=col>CAMP</th><th scope=col>TYPE</th><th scope=col>N</th><th scope=col>wcM</th><th scope=col>wcSD</th><th scope=col>wcSE</th><th scope=col>vbM</th><th scope=col>vbSD</th><th scope=col>vbSE</th><th scope=col>agM</th><th scope=col>agSD</th><th scope=col>agSE</th></tr>\n",
       "\t<tr><th scope=col>&lt;fct&gt;</th><th scope=col>&lt;fct&gt;</th><th scope=col>&lt;int&gt;</th><th scope=col>&lt;dbl&gt;</th><th scope=col>&lt;dbl&gt;</th><th scope=col>&lt;dbl&gt;</th><th scope=col>&lt;dbl&gt;</th><th scope=col>&lt;dbl&gt;</th><th scope=col>&lt;dbl&gt;</th><th scope=col>&lt;dbl&gt;</th><th scope=col>&lt;dbl&gt;</th><th scope=col>&lt;dbl&gt;</th></tr>\n",
       "</thead>\n",
       "<tbody>\n",
       "\t<tr><td>metoo    </td><td>ctrl</td><td>317320</td><td>15.43141</td><td> 7.623185</td><td>0.01353280</td><td>4.490575</td><td>6.396794</td><td>0.01135569</td><td>4.017294</td><td>6.624099</td><td>0.011759208</td></tr>\n",
       "\t<tr><td>metoo    </td><td>orig</td><td>296315</td><td>20.90304</td><td> 7.643659</td><td>0.01404185</td><td>4.206042</td><td>5.079466</td><td>0.00933128</td><td>3.411315</td><td>5.241299</td><td>0.009628577</td></tr>\n",
       "\t<tr><td>sexstrike</td><td>ctrl</td><td> 36411</td><td>17.72418</td><td>12.190332</td><td>0.06388505</td><td>4.828241</td><td>6.526801</td><td>0.03420457</td><td>4.277857</td><td>6.702385</td><td>0.035124737</td></tr>\n",
       "\t<tr><td>sexstrike</td><td>orig</td><td> 31606</td><td>26.21116</td><td>14.118213</td><td>0.07941361</td><td>5.104731</td><td>5.086050</td><td>0.02860855</td><td>4.769121</td><td>5.567579</td><td>0.031317107</td></tr>\n",
       "</tbody>\n",
       "</table>\n"
      ],
      "text/latex": [
       "A tibble: 4 × 12\n",
       "\\begin{tabular}{llllllllllll}\n",
       " CAMP & TYPE & N & wcM & wcSD & wcSE & vbM & vbSD & vbSE & agM & agSD & agSE\\\\\n",
       " <fct> & <fct> & <int> & <dbl> & <dbl> & <dbl> & <dbl> & <dbl> & <dbl> & <dbl> & <dbl> & <dbl>\\\\\n",
       "\\hline\n",
       "\t metoo     & ctrl & 317320 & 15.43141 &  7.623185 & 0.01353280 & 4.490575 & 6.396794 & 0.01135569 & 4.017294 & 6.624099 & 0.011759208\\\\\n",
       "\t metoo     & orig & 296315 & 20.90304 &  7.643659 & 0.01404185 & 4.206042 & 5.079466 & 0.00933128 & 3.411315 & 5.241299 & 0.009628577\\\\\n",
       "\t sexstrike & ctrl &  36411 & 17.72418 & 12.190332 & 0.06388505 & 4.828241 & 6.526801 & 0.03420457 & 4.277857 & 6.702385 & 0.035124737\\\\\n",
       "\t sexstrike & orig &  31606 & 26.21116 & 14.118213 & 0.07941361 & 5.104731 & 5.086050 & 0.02860855 & 4.769121 & 5.567579 & 0.031317107\\\\\n",
       "\\end{tabular}\n"
      ],
      "text/markdown": [
       "\n",
       "A tibble: 4 × 12\n",
       "\n",
       "| CAMP &lt;fct&gt; | TYPE &lt;fct&gt; | N &lt;int&gt; | wcM &lt;dbl&gt; | wcSD &lt;dbl&gt; | wcSE &lt;dbl&gt; | vbM &lt;dbl&gt; | vbSD &lt;dbl&gt; | vbSE &lt;dbl&gt; | agM &lt;dbl&gt; | agSD &lt;dbl&gt; | agSE &lt;dbl&gt; |\n",
       "|---|---|---|---|---|---|---|---|---|---|---|---|\n",
       "| metoo     | ctrl | 317320 | 15.43141 |  7.623185 | 0.01353280 | 4.490575 | 6.396794 | 0.01135569 | 4.017294 | 6.624099 | 0.011759208 |\n",
       "| metoo     | orig | 296315 | 20.90304 |  7.643659 | 0.01404185 | 4.206042 | 5.079466 | 0.00933128 | 3.411315 | 5.241299 | 0.009628577 |\n",
       "| sexstrike | ctrl |  36411 | 17.72418 | 12.190332 | 0.06388505 | 4.828241 | 6.526801 | 0.03420457 | 4.277857 | 6.702385 | 0.035124737 |\n",
       "| sexstrike | orig |  31606 | 26.21116 | 14.118213 | 0.07941361 | 5.104731 | 5.086050 | 0.02860855 | 4.769121 | 5.567579 | 0.031317107 |\n",
       "\n"
      ],
      "text/plain": [
       "  CAMP      TYPE N      wcM      wcSD      wcSE       vbM      vbSD     vbSE       agM      agSD     agSE       \n",
       "1 metoo     ctrl 317320 15.43141  7.623185 0.01353280 4.490575 6.396794 0.01135569 4.017294 6.624099 0.011759208\n",
       "2 metoo     orig 296315 20.90304  7.643659 0.01404185 4.206042 5.079466 0.00933128 3.411315 5.241299 0.009628577\n",
       "3 sexstrike ctrl  36411 17.72418 12.190332 0.06388505 4.828241 6.526801 0.03420457 4.277857 6.702385 0.035124737\n",
       "4 sexstrike orig  31606 26.21116 14.118213 0.07941361 5.104731 5.086050 0.02860855 4.769121 5.567579 0.031317107"
      ]
     },
     "metadata": {},
     "output_type": "display_data"
    }
   ],
   "source": [
    "smr0 <- df2 %>%\n",
    "    group_by(CAMP,TYPE) %>%\n",
    "    summarise(\n",
    "        N = n(),\n",
    "        wcM = mean(wordCnt),\n",
    "        wcSD = sd(wordCnt),\n",
    "        wcSE = wcSD / sqrt(N),\n",
    "        vbM = mean(vb01Prc),\n",
    "        vbSD = sd(vb01Prc),\n",
    "        vbSE = vbSD / sqrt(N),\n",
    "        agM = mean(ag01Prc),\n",
    "        agSD = sd(ag01Prc),\n",
    "        agSE = agSD / sqrt(N),\n",
    "        .groups = \"drop\"\n",
    "    ) \n",
    "smr0"
   ]
  },
  {
   "cell_type": "code",
   "execution_count": 38,
   "metadata": {},
   "outputs": [],
   "source": [
    "#  __/\\\\\\________/\\\\\\__/\\\\\\\\\\\\\\\\\\\\\\\\\\\\\\____/\\\\\\\\\\\\\\\\\\______/\\\\\\\\\\\\\\\\\\\\\\\\\\_______/\\\\\\\\\\\\\\\\\\\\\\___        \n",
    "#   _\\/\\\\\\_______\\/\\\\\\_\\/\\\\\\///////////___/\\\\\\///////\\\\\\___\\/\\\\\\/////////\\\\\\___/\\\\\\/////////\\\\\\_       \n",
    "#    _\\//\\\\\\______/\\\\\\__\\/\\\\\\_____________\\/\\\\\\_____\\/\\\\\\___\\/\\\\\\_______\\/\\\\\\__\\//\\\\\\______\\///__      \n",
    "#     __\\//\\\\\\____/\\\\\\___\\/\\\\\\\\\\\\\\\\\\\\\\_____\\/\\\\\\\\\\\\\\\\\\\\\\/____\\/\\\\\\\\\\\\\\\\\\\\\\\\\\\\____\\////\\\\\\_________     \n",
    "#      ___\\//\\\\\\__/\\\\\\____\\/\\\\\\///////______\\/\\\\\\//////\\\\\\____\\/\\\\\\/////////\\\\\\______\\////\\\\\\______    \n",
    "#       ____\\//\\\\\\/\\\\\\_____\\/\\\\\\_____________\\/\\\\\\____\\//\\\\\\___\\/\\\\\\_______\\/\\\\\\_________\\////\\\\\\___   \n",
    "#        _____\\//\\\\\\\\\\______\\/\\\\\\_____________\\/\\\\\\_____\\//\\\\\\__\\/\\\\\\_______\\/\\\\\\__/\\\\\\______\\//\\\\\\__  \n",
    "#         ______\\//\\\\\\_______\\/\\\\\\\\\\\\\\\\\\\\\\\\\\\\\\_\\/\\\\\\______\\//\\\\\\_\\/\\\\\\\\\\\\\\\\\\\\\\\\\\/__\\///\\\\\\\\\\\\\\\\\\\\\\/___ \n",
    "#          _______\\///________\\///////////////__\\///________\\///__\\/////////////______\\///////////_____"
   ]
  },
  {
   "cell_type": "markdown",
   "metadata": {},
   "source": [
    "# Describe result for verbs"
   ]
  },
  {
   "cell_type": "markdown",
   "metadata": {},
   "source": [
    "## (Significant) Main effect for `CAMP` campaign adherence"
   ]
  },
  {
   "cell_type": "markdown",
   "metadata": {},
   "source": [
    "### AOV"
   ]
  },
  {
   "cell_type": "code",
   "execution_count": 157,
   "metadata": {},
   "outputs": [
    {
     "data": {
      "text/markdown": [
       "$F(1, 681,648) = 690.32$, $\\mathit{MSE} = 33.74$, $p < .001$, $\\hat{\\eta}^2_G = .001$"
      ]
     },
     "metadata": {},
     "output_type": "display_data"
    }
   ],
   "source": [
    "display_markdown(a1vb01Prc_APA[[\"full_result\"]][[\"CAMP\"]])"
   ]
  },
  {
   "cell_type": "markdown",
   "metadata": {},
   "source": [
    "### Effect size"
   ]
  },
  {
   "cell_type": "markdown",
   "metadata": {},
   "source": [
    "- [ ] https://campbellcollaboration.org/escalc/html/EffectSizeCalculator-SMD1.php\n",
    "- [ ] https://cran.r-project.org/web/packages/effsize/effsize.pdf\n",
    "- [ ] https://cran.r-project.org/web/packages/effectsize/effectsize.pdf"
   ]
  },
  {
   "cell_type": "markdown",
   "metadata": {},
   "source": [
    "- [ ] https://owl.purdue.edu/owl/research_and_citation/apa_style/apa_formatting_and_style_guide/apa_tables_and_figures.html"
   ]
  },
  {
   "cell_type": "markdown",
   "metadata": {},
   "source": [
    "- [ ] http://ich.vscht.cz/~svozil/lectures/vscht/2015_2016/sad/APA_style2.pdf\n",
    "- [ ] https://psych.uw.edu/storage/writing_center/stats.pdf"
   ]
  },
  {
   "cell_type": "markdown",
   "metadata": {},
   "source": [
    "- [ ] http://rstudio-pubs-static.s3.amazonaws.com/13612_de49cd36ee8e449fb53574a06662aad7.html"
   ]
  },
  {
   "cell_type": "markdown",
   "metadata": {},
   "source": [
    "![screenshot](img/cohens_d__campbellcollaboration.png \"Logo Title Text 1\")\n",
    "\n"
   ]
  },
  {
   "cell_type": "code",
   "execution_count": 158,
   "metadata": {},
   "outputs": [
    {
     "data": {
      "text/plain": [
       "\n",
       "Cohen's d\n",
       "\n",
       "d estimate: -0.1038753 (negligible)\n",
       "95 percent confidence interval:\n",
       "      lower       upper \n",
       "-0.11179799 -0.09595264 \n"
      ]
     },
     "metadata": {},
     "output_type": "display_data"
    }
   ],
   "source": [
    "cohen.d(vb01Prc~CAMP,data=df2)"
   ]
  },
  {
   "cell_type": "code",
   "execution_count": 159,
   "metadata": {},
   "outputs": [
    {
     "data": {
      "text/html": [
       "<table>\n",
       "<caption>A effectsize_difference: 1 × 4</caption>\n",
       "<thead>\n",
       "\t<tr><th scope=col>Cohens_d</th><th scope=col>CI</th><th scope=col>CI_low</th><th scope=col>CI_high</th></tr>\n",
       "\t<tr><th scope=col>&lt;dbl&gt;</th><th scope=col>&lt;dbl&gt;</th><th scope=col>&lt;dbl&gt;</th><th scope=col>&lt;dbl&gt;</th></tr>\n",
       "</thead>\n",
       "<tbody>\n",
       "\t<tr><td>-0.1038753</td><td>0.95</td><td>-0.1117979</td><td>-0.09595261</td></tr>\n",
       "</tbody>\n",
       "</table>\n"
      ],
      "text/latex": [
       "A effectsize\\_difference: 1 × 4\n",
       "\\begin{tabular}{llll}\n",
       " Cohens\\_d & CI & CI\\_low & CI\\_high\\\\\n",
       " <dbl> & <dbl> & <dbl> & <dbl>\\\\\n",
       "\\hline\n",
       "\t -0.1038753 & 0.95 & -0.1117979 & -0.09595261\\\\\n",
       "\\end{tabular}\n"
      ],
      "text/markdown": [
       "\n",
       "A effectsize_difference: 1 × 4\n",
       "\n",
       "| Cohens_d &lt;dbl&gt; | CI &lt;dbl&gt; | CI_low &lt;dbl&gt; | CI_high &lt;dbl&gt; |\n",
       "|---|---|---|---|\n",
       "| -0.1038753 | 0.95 | -0.1117979 | -0.09595261 |\n",
       "\n"
      ],
      "text/plain": [
       "  Cohens_d   CI   CI_low     CI_high    \n",
       "1 -0.1038753 0.95 -0.1117979 -0.09595261"
      ]
     },
     "metadata": {},
     "output_type": "display_data"
    }
   ],
   "source": [
    "cohens_d(vb01Prc~CAMP,data=df2)"
   ]
  },
  {
   "cell_type": "code",
   "execution_count": 160,
   "metadata": {},
   "outputs": [
    {
     "name": "stdout",
     "output_type": "stream",
     "text": [
      "Cohen's d |        1e+02% CI\n",
      "----------------------------\n",
      "   0.1039 | [0.1118, 0.0960]\n",
      "\n",
      "\u001b[36m* Cohen's U3: 54.1366%\n",
      "* Overlap: 95.8578%\n",
      "* Probability of superiority: 52.9276%\u001b[39m"
     ]
    }
   ],
   "source": [
    "print(abs(cohens_d(\"vb01Prc\",\"CAMP\", data=df2)), append_CL=TRUE, digits=4)"
   ]
  },
  {
   "cell_type": "code",
   "execution_count": 161,
   "metadata": {},
   "outputs": [
    {
     "data": {
      "text/html": [
       "<table>\n",
       "<caption>A effectsize_difference: 1 × 4</caption>\n",
       "<thead>\n",
       "\t<tr><th scope=col>Cohens_d</th><th scope=col>CI</th><th scope=col>CI_low</th><th scope=col>CI_high</th></tr>\n",
       "\t<tr><th scope=col>&lt;dbl&gt;</th><th scope=col>&lt;dbl&gt;</th><th scope=col>&lt;dbl&gt;</th><th scope=col>&lt;dbl&gt;</th></tr>\n",
       "</thead>\n",
       "<tbody>\n",
       "\t<tr><td>-0.1039</td><td>0.95</td><td>-0.1118</td><td>-0.096</td></tr>\n",
       "</tbody>\n",
       "</table>\n"
      ],
      "text/latex": [
       "A effectsize\\_difference: 1 × 4\n",
       "\\begin{tabular}{llll}\n",
       " Cohens\\_d & CI & CI\\_low & CI\\_high\\\\\n",
       " <dbl> & <dbl> & <dbl> & <dbl>\\\\\n",
       "\\hline\n",
       "\t -0.1039 & 0.95 & -0.1118 & -0.096\\\\\n",
       "\\end{tabular}\n"
      ],
      "text/markdown": [
       "\n",
       "A effectsize_difference: 1 × 4\n",
       "\n",
       "| Cohens_d &lt;dbl&gt; | CI &lt;dbl&gt; | CI_low &lt;dbl&gt; | CI_high &lt;dbl&gt; |\n",
       "|---|---|---|---|\n",
       "| -0.1039 | 0.95 | -0.1118 | -0.096 |\n",
       "\n"
      ],
      "text/plain": [
       "  Cohens_d CI   CI_low  CI_high\n",
       "1 -0.1039  0.95 -0.1118 -0.096 "
      ]
     },
     "metadata": {},
     "output_type": "display_data"
    }
   ],
   "source": [
    "smr0 <- df2 %>%\n",
    "    filter(TYPE %in% c(\"orig\",\"ctrl\")) %>% \n",
    "    cohens_d(\"vb01Prc\",\"CAMP\",.) %>%\n",
    "    round(.,4)\n",
    "smr0"
   ]
  },
  {
   "cell_type": "code",
   "execution_count": 162,
   "metadata": {},
   "outputs": [
    {
     "data": {
      "text/html": [
       "<table>\n",
       "<caption>A effectsize_difference: 1 × 4</caption>\n",
       "<thead>\n",
       "\t<tr><th scope=col>Cohens_d</th><th scope=col>CI</th><th scope=col>CI_low</th><th scope=col>CI_high</th></tr>\n",
       "\t<tr><th scope=col>&lt;dbl&gt;</th><th scope=col>&lt;dbl&gt;</th><th scope=col>&lt;dbl&gt;</th><th scope=col>&lt;dbl&gt;</th></tr>\n",
       "</thead>\n",
       "<tbody>\n",
       "\t<tr><td>0.1</td><td>0.95</td><td>0.11</td><td>0.1</td></tr>\n",
       "</tbody>\n",
       "</table>\n"
      ],
      "text/latex": [
       "A effectsize\\_difference: 1 × 4\n",
       "\\begin{tabular}{llll}\n",
       " Cohens\\_d & CI & CI\\_low & CI\\_high\\\\\n",
       " <dbl> & <dbl> & <dbl> & <dbl>\\\\\n",
       "\\hline\n",
       "\t 0.1 & 0.95 & 0.11 & 0.1\\\\\n",
       "\\end{tabular}\n"
      ],
      "text/markdown": [
       "\n",
       "A effectsize_difference: 1 × 4\n",
       "\n",
       "| Cohens_d &lt;dbl&gt; | CI &lt;dbl&gt; | CI_low &lt;dbl&gt; | CI_high &lt;dbl&gt; |\n",
       "|---|---|---|---|\n",
       "| 0.1 | 0.95 | 0.11 | 0.1 |\n",
       "\n"
      ],
      "text/plain": [
       "  Cohens_d CI   CI_low CI_high\n",
       "1 0.1      0.95 0.11   0.1    "
      ]
     },
     "metadata": {},
     "output_type": "display_data"
    }
   ],
   "source": [
    "smr0 <- df2 %>%\n",
    "    filter(TYPE %in% c(\"orig\",\"ctrl\")) %>% \n",
    "    cohens_d(\"vb01Prc\",\"CAMP\",.) %>%\n",
    "    round(.,2) %>% abs()\n",
    "smr0"
   ]
  },
  {
   "cell_type": "markdown",
   "metadata": {},
   "source": [
    "### `M` and `SE`"
   ]
  },
  {
   "cell_type": "code",
   "execution_count": 155,
   "metadata": {},
   "outputs": [
    {
     "data": {
      "text/html": [
       "<table>\n",
       "<caption>A tibble: 2 × 5</caption>\n",
       "<thead>\n",
       "\t<tr><th scope=col>CAMP</th><th scope=col>N</th><th scope=col>vbM</th><th scope=col>vbSE</th><th scope=col>vbSD</th></tr>\n",
       "\t<tr><th scope=col>&lt;fct&gt;</th><th scope=col>&lt;int&gt;</th><th scope=col>&lt;dbl&gt;</th><th scope=col>&lt;dbl&gt;</th><th scope=col>&lt;dbl&gt;</th></tr>\n",
       "</thead>\n",
       "<tbody>\n",
       "\t<tr><td>metoo    </td><td>613635</td><td>4.35</td><td>0.01</td><td>5.8</td></tr>\n",
       "\t<tr><td>sexstrike</td><td> 68017</td><td>4.96</td><td>0.02</td><td>5.9</td></tr>\n",
       "</tbody>\n",
       "</table>\n"
      ],
      "text/latex": [
       "A tibble: 2 × 5\n",
       "\\begin{tabular}{lllll}\n",
       " CAMP & N & vbM & vbSE & vbSD\\\\\n",
       " <fct> & <int> & <dbl> & <dbl> & <dbl>\\\\\n",
       "\\hline\n",
       "\t metoo     & 613635 & 4.35 & 0.01 & 5.8\\\\\n",
       "\t sexstrike &  68017 & 4.96 & 0.02 & 5.9\\\\\n",
       "\\end{tabular}\n"
      ],
      "text/markdown": [
       "\n",
       "A tibble: 2 × 5\n",
       "\n",
       "| CAMP &lt;fct&gt; | N &lt;int&gt; | vbM &lt;dbl&gt; | vbSE &lt;dbl&gt; | vbSD &lt;dbl&gt; |\n",
       "|---|---|---|---|---|\n",
       "| metoo     | 613635 | 4.35 | 0.01 | 5.8 |\n",
       "| sexstrike |  68017 | 4.96 | 0.02 | 5.9 |\n",
       "\n"
      ],
      "text/plain": [
       "  CAMP      N      vbM  vbSE vbSD\n",
       "1 metoo     613635 4.35 0.01 5.8 \n",
       "2 sexstrike  68017 4.96 0.02 5.9 "
      ]
     },
     "metadata": {},
     "output_type": "display_data"
    }
   ],
   "source": [
    "digits = 2\n",
    "smr0 <- df2 %>%\n",
    "    group_by(CAMP) %>%\n",
    "    summarise(\n",
    "        N    = n(),\n",
    "        vbM  = round(mean(vb01Prc),digits),\n",
    "        vbSE = round(sd(vb01Prc)/sqrt(n()),digits),\n",
    "        vbSD = round(sd(vb01Prc),digits),        \n",
    "        .groups = \"drop\"\n",
    "    ) \n",
    "smr0"
   ]
  },
  {
   "cell_type": "markdown",
   "metadata": {},
   "source": [
    "## (Non-significant) Main effect for `TYPE` adherence"
   ]
  },
  {
   "cell_type": "markdown",
   "metadata": {},
   "source": [
    "### AOV"
   ]
  },
  {
   "cell_type": "code",
   "execution_count": 163,
   "metadata": {},
   "outputs": [
    {
     "data": {
      "text/markdown": [
       "$F(1, 681,648) = 0.03$, $\\mathit{MSE} = 33.74$, $p = .864$, $\\hat{\\eta}^2_G = .000$"
      ]
     },
     "metadata": {},
     "output_type": "display_data"
    }
   ],
   "source": [
    "display_markdown(a1vb01Prc_APA[[\"full_result\"]][[\"TYPE\"]])"
   ]
  },
  {
   "cell_type": "markdown",
   "metadata": {},
   "source": [
    "### Effect size"
   ]
  },
  {
   "cell_type": "code",
   "execution_count": 44,
   "metadata": {},
   "outputs": [
    {
     "name": "stdout",
     "output_type": "stream",
     "text": [
      "Cohen's d |    1e+02% CI\n",
      "------------------------\n",
      "     0.04 | [0.04, 0.04]\n",
      "\n",
      "\u001b[36m* Cohen's U3: 51.60%\n",
      "* Overlap: 98.40%\n",
      "* Probability of superiority: 51.13%\u001b[39m"
     ]
    }
   ],
   "source": [
    "print(abs(cohens_d(\"vb01Prc\",\"TYPE\", data=df2)), append_CL=TRUE, digits=2)"
   ]
  },
  {
   "cell_type": "code",
   "execution_count": 45,
   "metadata": {},
   "outputs": [
    {
     "data": {
      "text/html": [
       "<table>\n",
       "<caption>A effectsize_difference: 1 × 4</caption>\n",
       "<thead>\n",
       "\t<tr><th scope=col>Cohens_d</th><th scope=col>CI</th><th scope=col>CI_low</th><th scope=col>CI_high</th></tr>\n",
       "\t<tr><th scope=col>&lt;dbl&gt;</th><th scope=col>&lt;dbl&gt;</th><th scope=col>&lt;dbl&gt;</th><th scope=col>&lt;dbl&gt;</th></tr>\n",
       "</thead>\n",
       "<tbody>\n",
       "\t<tr><td>0.04</td><td>0.95</td><td>0.0353</td><td>0.0448</td></tr>\n",
       "</tbody>\n",
       "</table>\n"
      ],
      "text/latex": [
       "A effectsize\\_difference: 1 × 4\n",
       "\\begin{tabular}{llll}\n",
       " Cohens\\_d & CI & CI\\_low & CI\\_high\\\\\n",
       " <dbl> & <dbl> & <dbl> & <dbl>\\\\\n",
       "\\hline\n",
       "\t 0.04 & 0.95 & 0.0353 & 0.0448\\\\\n",
       "\\end{tabular}\n"
      ],
      "text/markdown": [
       "\n",
       "A effectsize_difference: 1 × 4\n",
       "\n",
       "| Cohens_d &lt;dbl&gt; | CI &lt;dbl&gt; | CI_low &lt;dbl&gt; | CI_high &lt;dbl&gt; |\n",
       "|---|---|---|---|\n",
       "| 0.04 | 0.95 | 0.0353 | 0.0448 |\n",
       "\n"
      ],
      "text/plain": [
       "  Cohens_d CI   CI_low CI_high\n",
       "1 0.04     0.95 0.0353 0.0448 "
      ]
     },
     "metadata": {},
     "output_type": "display_data"
    }
   ],
   "source": [
    "smr0 <- df2 %>%\n",
    "    filter(TYPE %in% c(\"orig\",\"ctrl\")) %>% \n",
    "    cohens_d(\"vb01Prc\",\"TYPE\",.) %>%\n",
    "    round(.,4)\n",
    "smr0"
   ]
  },
  {
   "cell_type": "markdown",
   "metadata": {},
   "source": [
    "### `M` and `SE`"
   ]
  },
  {
   "cell_type": "code",
   "execution_count": 46,
   "metadata": {},
   "outputs": [
    {
     "data": {
      "text/html": [
       "<table>\n",
       "<caption>A tibble: 2 × 5</caption>\n",
       "<thead>\n",
       "\t<tr><th scope=col>TYPE</th><th scope=col>N</th><th scope=col>vbM</th><th scope=col>vbSE</th><th scope=col>vbSD</th></tr>\n",
       "\t<tr><th scope=col>&lt;fct&gt;</th><th scope=col>&lt;int&gt;</th><th scope=col>&lt;dbl&gt;</th><th scope=col>&lt;dbl&gt;</th><th scope=col>&lt;dbl&gt;</th></tr>\n",
       "</thead>\n",
       "<tbody>\n",
       "\t<tr><td>ctrl</td><td>353731</td><td>4.53</td><td>0.01</td><td>6.41</td></tr>\n",
       "\t<tr><td>orig</td><td>327921</td><td>4.29</td><td>0.01</td><td>5.09</td></tr>\n",
       "</tbody>\n",
       "</table>\n"
      ],
      "text/latex": [
       "A tibble: 2 × 5\n",
       "\\begin{tabular}{lllll}\n",
       " TYPE & N & vbM & vbSE & vbSD\\\\\n",
       " <fct> & <int> & <dbl> & <dbl> & <dbl>\\\\\n",
       "\\hline\n",
       "\t ctrl & 353731 & 4.53 & 0.01 & 6.41\\\\\n",
       "\t orig & 327921 & 4.29 & 0.01 & 5.09\\\\\n",
       "\\end{tabular}\n"
      ],
      "text/markdown": [
       "\n",
       "A tibble: 2 × 5\n",
       "\n",
       "| TYPE &lt;fct&gt; | N &lt;int&gt; | vbM &lt;dbl&gt; | vbSE &lt;dbl&gt; | vbSD &lt;dbl&gt; |\n",
       "|---|---|---|---|---|\n",
       "| ctrl | 353731 | 4.53 | 0.01 | 6.41 |\n",
       "| orig | 327921 | 4.29 | 0.01 | 5.09 |\n",
       "\n"
      ],
      "text/plain": [
       "  TYPE N      vbM  vbSE vbSD\n",
       "1 ctrl 353731 4.53 0.01 6.41\n",
       "2 orig 327921 4.29 0.01 5.09"
      ]
     },
     "metadata": {},
     "output_type": "display_data"
    }
   ],
   "source": [
    "digits = 2\n",
    "smr0 <- df2 %>%\n",
    "    group_by(TYPE) %>%\n",
    "    summarise(\n",
    "        N    = n(),\n",
    "        vbM  = round(mean(vb01Prc),digits),\n",
    "        vbSE = round(sd(vb01Prc)/sqrt(n()),digits),\n",
    "        vbSD = round(sd(vb01Prc),digits),        \n",
    "        .groups = \"drop\"\n",
    "    ) \n",
    "smr0"
   ]
  },
  {
   "cell_type": "markdown",
   "metadata": {},
   "source": [
    "## (Significant) Effect for `CAMP⨯TYPE` "
   ]
  },
  {
   "cell_type": "code",
   "execution_count": 165,
   "metadata": {},
   "outputs": [
    {
     "data": {
      "text/markdown": [
       "$F(1, 681,648) = 142.14$, $\\mathit{MSE} = 33.74$, $p < .001$, $\\hat{\\eta}^2_G = .000$"
      ]
     },
     "metadata": {},
     "output_type": "display_data"
    }
   ],
   "source": [
    "display_markdown(a1vb01Prc_APA[[\"full_result\"]][[\"CAMP_TYPE\"]])"
   ]
  },
  {
   "cell_type": "code",
   "execution_count": 166,
   "metadata": {
    "scrolled": true
   },
   "outputs": [
    {
     "name": "stdout",
     "output_type": "stream",
     "text": [
      "Cohen's d |    1e+02% CI\n",
      "------------------------\n",
      "     0.18 | [0.19, 0.17]\n",
      "\n",
      "\u001b[36m* Cohen's U3: 57.02%\n",
      "* Overlap: 92.95%\n",
      "* Probability of superiority: 54.98%\u001b[39m"
     ]
    }
   ],
   "source": [
    "print(abs(cohens_d(\"vb01Prc\",\"CAMP\", data=df2[df2$TYPE == \"orig\",])), append_CL=TRUE, digits=2)"
   ]
  },
  {
   "cell_type": "code",
   "execution_count": 56,
   "metadata": {},
   "outputs": [
    {
     "data": {
      "text/html": [
       "<table>\n",
       "<caption>A effectsize_difference: 1 × 4</caption>\n",
       "<thead>\n",
       "\t<tr><th scope=col>Cohens_d</th><th scope=col>CI</th><th scope=col>CI_low</th><th scope=col>CI_high</th></tr>\n",
       "\t<tr><th scope=col>&lt;dbl&gt;</th><th scope=col>&lt;dbl&gt;</th><th scope=col>&lt;dbl&gt;</th><th scope=col>&lt;dbl&gt;</th></tr>\n",
       "</thead>\n",
       "<tbody>\n",
       "\t<tr><td>0.18</td><td>0.95</td><td>0.19</td><td>0.17</td></tr>\n",
       "</tbody>\n",
       "</table>\n"
      ],
      "text/latex": [
       "A effectsize\\_difference: 1 × 4\n",
       "\\begin{tabular}{llll}\n",
       " Cohens\\_d & CI & CI\\_low & CI\\_high\\\\\n",
       " <dbl> & <dbl> & <dbl> & <dbl>\\\\\n",
       "\\hline\n",
       "\t 0.18 & 0.95 & 0.19 & 0.17\\\\\n",
       "\\end{tabular}\n"
      ],
      "text/markdown": [
       "\n",
       "A effectsize_difference: 1 × 4\n",
       "\n",
       "| Cohens_d &lt;dbl&gt; | CI &lt;dbl&gt; | CI_low &lt;dbl&gt; | CI_high &lt;dbl&gt; |\n",
       "|---|---|---|---|\n",
       "| 0.18 | 0.95 | 0.19 | 0.17 |\n",
       "\n"
      ],
      "text/plain": [
       "  Cohens_d CI   CI_low CI_high\n",
       "1 0.18     0.95 0.19   0.17   "
      ]
     },
     "metadata": {},
     "output_type": "display_data"
    }
   ],
   "source": [
    "smr0 <- df2 %>%\n",
    "    filter(TYPE %in% c(\"orig\")) %>% \n",
    "    cohens_d(\"vb01Prc\",\"CAMP\",.) %>%\n",
    "    round(.,2) %>% abs()\n",
    "smr0"
   ]
  },
  {
   "cell_type": "markdown",
   "metadata": {},
   "source": [
    "### `M` and `SE` in `orig`"
   ]
  },
  {
   "cell_type": "code",
   "execution_count": 167,
   "metadata": {},
   "outputs": [
    {
     "data": {
      "text/html": [
       "<table>\n",
       "<caption>A tibble: 2 × 5</caption>\n",
       "<thead>\n",
       "\t<tr><th scope=col>CAMP</th><th scope=col>N</th><th scope=col>vbM</th><th scope=col>vbSE</th><th scope=col>vbSD</th></tr>\n",
       "\t<tr><th scope=col>&lt;fct&gt;</th><th scope=col>&lt;int&gt;</th><th scope=col>&lt;dbl&gt;</th><th scope=col>&lt;dbl&gt;</th><th scope=col>&lt;dbl&gt;</th></tr>\n",
       "</thead>\n",
       "<tbody>\n",
       "\t<tr><td>metoo    </td><td>296315</td><td>4.21</td><td>0.01</td><td>5.08</td></tr>\n",
       "\t<tr><td>sexstrike</td><td> 31606</td><td>5.10</td><td>0.03</td><td>5.09</td></tr>\n",
       "</tbody>\n",
       "</table>\n"
      ],
      "text/latex": [
       "A tibble: 2 × 5\n",
       "\\begin{tabular}{lllll}\n",
       " CAMP & N & vbM & vbSE & vbSD\\\\\n",
       " <fct> & <int> & <dbl> & <dbl> & <dbl>\\\\\n",
       "\\hline\n",
       "\t metoo     & 296315 & 4.21 & 0.01 & 5.08\\\\\n",
       "\t sexstrike &  31606 & 5.10 & 0.03 & 5.09\\\\\n",
       "\\end{tabular}\n"
      ],
      "text/markdown": [
       "\n",
       "A tibble: 2 × 5\n",
       "\n",
       "| CAMP &lt;fct&gt; | N &lt;int&gt; | vbM &lt;dbl&gt; | vbSE &lt;dbl&gt; | vbSD &lt;dbl&gt; |\n",
       "|---|---|---|---|---|\n",
       "| metoo     | 296315 | 4.21 | 0.01 | 5.08 |\n",
       "| sexstrike |  31606 | 5.10 | 0.03 | 5.09 |\n",
       "\n"
      ],
      "text/plain": [
       "  CAMP      N      vbM  vbSE vbSD\n",
       "1 metoo     296315 4.21 0.01 5.08\n",
       "2 sexstrike  31606 5.10 0.03 5.09"
      ]
     },
     "metadata": {},
     "output_type": "display_data"
    }
   ],
   "source": [
    "smr0 <- df2 %>%\n",
    "    filter(TYPE %in% c(\"orig\")) %>% \n",
    "    group_by(CAMP) %>%\n",
    "    summarise(\n",
    "        N    = n(),\n",
    "        vbM  = round(mean(vb01Prc),2),\n",
    "        vbSE = round(sd(vb01Prc)/sqrt(n()),2),\n",
    "        vbSD = round(sd(vb01Prc),2),  \n",
    "        .groups = \"drop\"\n",
    "    ) \n",
    "smr0"
   ]
  },
  {
   "cell_type": "code",
   "execution_count": 58,
   "metadata": {
    "scrolled": true
   },
   "outputs": [
    {
     "data": {
      "text/plain": [
       " CAMP      TYPE emmean      SE     df lower.CL upper.CL\n",
       " metoo     ctrl  4.491 0.01031 681648    4.470    4.511\n",
       " sexstrike ctrl  4.828 0.03044 681648    4.769    4.888\n",
       " metoo     orig  4.206 0.01067 681648    4.185    4.227\n",
       " sexstrike orig  5.105 0.03267 681648    5.041    5.169\n",
       "\n",
       "Confidence level used: 0.95 "
      ]
     },
     "metadata": {},
     "output_type": "display_data"
    }
   ],
   "source": [
    "a1vb01PrcEm1"
   ]
  },
  {
   "cell_type": "code",
   "execution_count": 59,
   "metadata": {},
   "outputs": [
    {
     "data": {
      "text/plain": [
       " contrast                        estimate     SE     df t.ratio p.value\n",
       " metoo ctrl - sexstrike ctrl       -0.338 0.0321 681648 -10.506 <.0001 \n",
       " metoo ctrl - metoo orig            0.285 0.0148 681648  19.175 <.0001 \n",
       " metoo ctrl - sexstrike orig       -0.614 0.0343 681648 -17.926 <.0001 \n",
       " sexstrike ctrl - metoo orig        0.622 0.0323 681648  19.289 <.0001 \n",
       " sexstrike ctrl - sexstrike orig   -0.276 0.0447 681648  -6.192 <.0001 \n",
       " metoo orig - sexstrike orig       -0.899 0.0344 681648 -26.147 <.0001 \n",
       "\n",
       "P value adjustment: tukey method for comparing a family of 4 estimates "
      ]
     },
     "metadata": {},
     "output_type": "display_data"
    }
   ],
   "source": [
    "pairs(a1vb01PrcEm1)"
   ]
  },
  {
   "cell_type": "code",
   "execution_count": 60,
   "metadata": {},
   "outputs": [
    {
     "data": {
      "text/plain": [
       "\n",
       "\t Simultaneous Tests for General Linear Hypotheses\n",
       "\n",
       "Linear Hypotheses:\n",
       "                                     Estimate Std. Error t value Pr(>|t|)    \n",
       "metoo ctrl - sexstrike ctrl == 0     -0.33767    0.03214 -10.506  < 2e-16 ***\n",
       "metoo ctrl - metoo orig == 0          0.28453    0.01484  19.175  < 2e-16 ***\n",
       "metoo ctrl - sexstrike orig == 0     -0.61416    0.03426 -17.926  < 2e-16 ***\n",
       "sexstrike ctrl - metoo orig == 0      0.62220    0.03226  19.289  < 2e-16 ***\n",
       "sexstrike ctrl - sexstrike orig == 0 -0.27649    0.04466  -6.192 5.96e-10 ***\n",
       "metoo orig - sexstrike orig == 0     -0.89869    0.03437 -26.147 2.33e-14 ***\n",
       "---\n",
       "Signif. codes:  0 ‘***’ 0.001 ‘**’ 0.01 ‘*’ 0.05 ‘.’ 0.1 ‘ ’ 1\n",
       "(Adjusted p values reported -- free method)\n"
      ]
     },
     "metadata": {},
     "output_type": "display_data"
    }
   ],
   "source": [
    "summary(as.glht(pairs(a1vb01PrcEm1)),test=TEST)"
   ]
  },
  {
   "cell_type": "code",
   "execution_count": 61,
   "metadata": {},
   "outputs": [
    {
     "data": {
      "text/html": [
       "<table>\n",
       "<caption>A apa_results_table: 4 × 6</caption>\n",
       "<thead>\n",
       "\t<tr><th></th><th scope=col>TYPE</th><th scope=col>CAMP</th><th scope=col>estimate</th><th scope=col>ci</th><th scope=col>statistic</th><th scope=col>p.value</th></tr>\n",
       "\t<tr><th></th><th scope=col>&lt;chr&gt;</th><th scope=col>&lt;chr&gt;</th><th scope=col>&lt;ppj_lbll&gt;</th><th scope=col>&lt;ppj_lbll&gt;</th><th scope=col>&lt;ppj_lbll&gt;</th><th scope=col>&lt;ppj_lbll&gt;</th></tr>\n",
       "</thead>\n",
       "<tbody>\n",
       "\t<tr><th scope=row>metoo_ctrl</th><td>ctrl</td><td><span style=white-space:pre-wrap>metoo    </span></td><td>4.49</td><td>$[4.47$, $4.51]$</td><td>435.50</td><td>&lt; .001</td></tr>\n",
       "\t<tr><th scope=row>sexstrike_ctrl</th><td><span style=white-space:pre-wrap>    </span></td><td>sexstrike</td><td>4.83</td><td>$[4.77$, $4.89]$</td><td>158.61</td><td>&lt; .001</td></tr>\n",
       "\t<tr><th scope=row>metoo_orig</th><td>orig</td><td><span style=white-space:pre-wrap>metoo    </span></td><td>4.21</td><td>$[4.19$, $4.23]$</td><td>394.17</td><td>&lt; .001</td></tr>\n",
       "\t<tr><th scope=row>sexstrike_orig</th><td><span style=white-space:pre-wrap>    </span></td><td>sexstrike</td><td>5.10</td><td>$[5.04$, $5.17]$</td><td>156.24</td><td>&lt; .001</td></tr>\n",
       "</tbody>\n",
       "</table>\n"
      ],
      "text/latex": [
       "A apa\\_results\\_table: 4 × 6\n",
       "\\begin{tabular}{r|llllll}\n",
       "  & TYPE & CAMP & estimate & ci & statistic & p.value\\\\\n",
       "  & <chr> & <chr> & <ppj\\_lbll> & <ppj\\_lbll> & <ppj\\_lbll> & <ppj\\_lbll>\\\\\n",
       "\\hline\n",
       "\tmetoo\\_ctrl & ctrl & metoo     & 4.49 & \\${[}4.47\\$, \\$4.51{]}\\$ & 435.50 & < .001\\\\\n",
       "\tsexstrike\\_ctrl &      & sexstrike & 4.83 & \\${[}4.77\\$, \\$4.89{]}\\$ & 158.61 & < .001\\\\\n",
       "\tmetoo\\_orig & orig & metoo     & 4.21 & \\${[}4.19\\$, \\$4.23{]}\\$ & 394.17 & < .001\\\\\n",
       "\tsexstrike\\_orig &      & sexstrike & 5.10 & \\${[}5.04\\$, \\$5.17{]}\\$ & 156.24 & < .001\\\\\n",
       "\\end{tabular}\n"
      ],
      "text/markdown": [
       "\n",
       "A apa_results_table: 4 × 6\n",
       "\n",
       "| <!--/--> | TYPE &lt;chr&gt; | CAMP &lt;chr&gt; | estimate &lt;ppj_lbll&gt; | ci &lt;ppj_lbll&gt; | statistic &lt;ppj_lbll&gt; | p.value &lt;ppj_lbll&gt; |\n",
       "|---|---|---|---|---|---|---|\n",
       "| metoo_ctrl | ctrl | metoo     | 4.49 | $[4.47$, $4.51]$ | 435.50 | &lt; .001 |\n",
       "| sexstrike_ctrl | <!----> | sexstrike | 4.83 | $[4.77$, $4.89]$ | 158.61 | &lt; .001 |\n",
       "| metoo_orig | orig | metoo     | 4.21 | $[4.19$, $4.23]$ | 394.17 | &lt; .001 |\n",
       "| sexstrike_orig | <!----> | sexstrike | 5.10 | $[5.04$, $5.17]$ | 156.24 | &lt; .001 |\n",
       "\n"
      ],
      "text/plain": [
       "               TYPE CAMP      estimate ci               statistic p.value\n",
       "metoo_ctrl     ctrl metoo     4.49     $[4.47$, $4.51]$ 435.50    < .001 \n",
       "sexstrike_ctrl      sexstrike 4.83     $[4.77$, $4.89]$ 158.61    < .001 \n",
       "metoo_orig     orig metoo     4.21     $[4.19$, $4.23]$ 394.17    < .001 \n",
       "sexstrike_orig      sexstrike 5.10     $[5.04$, $5.17]$ 156.24    < .001 "
      ]
     },
     "metadata": {},
     "output_type": "display_data"
    }
   ],
   "source": [
    "a1vb01PrcEm1_APA$table"
   ]
  },
  {
   "cell_type": "code",
   "execution_count": 63,
   "metadata": {
    "scrolled": true
   },
   "outputs": [
    {
     "data": {
      "text/markdown": [
       "\n",
       "### full_result\n",
       "\n",
       "- full_result for `metoo_ctrl` is \n",
       "\n",
       "  - $M = 4.49$, 95\\% CI $[4.47$, $4.51]$, $t(681,648) = 435.50$, $p < .001$\n",
       "\n",
       "- full_result for `sexstrike_ctrl` is \n",
       "\n",
       "  - $M = 4.83$, 95\\% CI $[4.77$, $4.89]$, $t(681,648) = 158.61$, $p < .001$\n",
       "\n",
       "- full_result for `metoo_orig` is \n",
       "\n",
       "  - $M = 4.21$, 95\\% CI $[4.19$, $4.23]$, $t(681,648) = 394.17$, $p < .001$\n",
       "\n",
       "- full_result for `sexstrike_orig` is \n",
       "\n",
       "  - $M = 5.10$, 95\\% CI $[5.04$, $5.17]$, $t(681,648) = 156.24$, $p < .001$\n"
      ]
     },
     "metadata": {},
     "output_type": "display_data"
    }
   ],
   "source": [
    "display_markdown(apaMd(a1vb01PrcEm1_APA[\"full_result\"]))"
   ]
  },
  {
   "cell_type": "code",
   "execution_count": 64,
   "metadata": {
    "scrolled": true
   },
   "outputs": [
    {
     "data": {
      "text/html": [
       "<table>\n",
       "<caption>A apa_results_table: 6 × 5</caption>\n",
       "<thead>\n",
       "\t<tr><th></th><th scope=col>contrast</th><th scope=col>estimate</th><th scope=col>ci</th><th scope=col>statistic</th><th scope=col>p.value</th></tr>\n",
       "\t<tr><th></th><th scope=col>&lt;ppj_lbll&gt;</th><th scope=col>&lt;ppj_lbll&gt;</th><th scope=col>&lt;ppj_lbll&gt;</th><th scope=col>&lt;ppj_lbll&gt;</th><th scope=col>&lt;ppj_lbll&gt;</th></tr>\n",
       "</thead>\n",
       "<tbody>\n",
       "\t<tr><th scope=row>metooctrl_sexstrikectrl</th><td><span style=white-space:pre-wrap>metoo ctrl - sexstrike ctrl    </span></td><td>-0.34</td><td>$[-0.42$, $-0.26]$</td><td>-10.51</td><td>&lt; .001</td></tr>\n",
       "\t<tr><th scope=row>metooctrl_metooorig</th><td><span style=white-space:pre-wrap>metoo ctrl - metoo orig        </span></td><td>0.28 </td><td><span style=white-space:pre-wrap>$[0.25$, $0.32]$  </span></td><td>19.18 </td><td>&lt; .001</td></tr>\n",
       "\t<tr><th scope=row>metooctrl_sexstrikeorig</th><td><span style=white-space:pre-wrap>metoo ctrl - sexstrike orig    </span></td><td>-0.61</td><td>$[-0.70$, $-0.53]$</td><td>-17.93</td><td>&lt; .001</td></tr>\n",
       "\t<tr><th scope=row>sexstrikectrl_metooorig</th><td><span style=white-space:pre-wrap>sexstrike ctrl - metoo orig    </span></td><td>0.62 </td><td><span style=white-space:pre-wrap>$[0.54$, $0.71]$  </span></td><td>19.29 </td><td>&lt; .001</td></tr>\n",
       "\t<tr><th scope=row>sexstrikectrl_sexstrikeorig</th><td>sexstrike ctrl - sexstrike orig</td><td>-0.28</td><td>$[-0.39$, $-0.16]$</td><td>-6.19 </td><td>&lt; .001</td></tr>\n",
       "\t<tr><th scope=row>metooorig_sexstrikeorig</th><td><span style=white-space:pre-wrap>metoo orig - sexstrike orig    </span></td><td>-0.90</td><td>$[-0.99$, $-0.81]$</td><td>-26.15</td><td>&lt; .001</td></tr>\n",
       "</tbody>\n",
       "</table>\n"
      ],
      "text/latex": [
       "A apa\\_results\\_table: 6 × 5\n",
       "\\begin{tabular}{r|lllll}\n",
       "  & contrast & estimate & ci & statistic & p.value\\\\\n",
       "  & <ppj\\_lbll> & <ppj\\_lbll> & <ppj\\_lbll> & <ppj\\_lbll> & <ppj\\_lbll>\\\\\n",
       "\\hline\n",
       "\tmetooctrl\\_sexstrikectrl & metoo ctrl - sexstrike ctrl     & -0.34 & \\${[}-0.42\\$, \\$-0.26{]}\\$ & -10.51 & < .001\\\\\n",
       "\tmetooctrl\\_metooorig & metoo ctrl - metoo orig         & 0.28  & \\${[}0.25\\$, \\$0.32{]}\\$   & 19.18  & < .001\\\\\n",
       "\tmetooctrl\\_sexstrikeorig & metoo ctrl - sexstrike orig     & -0.61 & \\${[}-0.70\\$, \\$-0.53{]}\\$ & -17.93 & < .001\\\\\n",
       "\tsexstrikectrl\\_metooorig & sexstrike ctrl - metoo orig     & 0.62  & \\${[}0.54\\$, \\$0.71{]}\\$   & 19.29  & < .001\\\\\n",
       "\tsexstrikectrl\\_sexstrikeorig & sexstrike ctrl - sexstrike orig & -0.28 & \\${[}-0.39\\$, \\$-0.16{]}\\$ & -6.19  & < .001\\\\\n",
       "\tmetooorig\\_sexstrikeorig & metoo orig - sexstrike orig     & -0.90 & \\${[}-0.99\\$, \\$-0.81{]}\\$ & -26.15 & < .001\\\\\n",
       "\\end{tabular}\n"
      ],
      "text/markdown": [
       "\n",
       "A apa_results_table: 6 × 5\n",
       "\n",
       "| <!--/--> | contrast &lt;ppj_lbll&gt; | estimate &lt;ppj_lbll&gt; | ci &lt;ppj_lbll&gt; | statistic &lt;ppj_lbll&gt; | p.value &lt;ppj_lbll&gt; |\n",
       "|---|---|---|---|---|---|\n",
       "| metooctrl_sexstrikectrl | metoo ctrl - sexstrike ctrl     | -0.34 | $[-0.42$, $-0.26]$ | -10.51 | &lt; .001 |\n",
       "| metooctrl_metooorig | metoo ctrl - metoo orig         | 0.28  | $[0.25$, $0.32]$   | 19.18  | &lt; .001 |\n",
       "| metooctrl_sexstrikeorig | metoo ctrl - sexstrike orig     | -0.61 | $[-0.70$, $-0.53]$ | -17.93 | &lt; .001 |\n",
       "| sexstrikectrl_metooorig | sexstrike ctrl - metoo orig     | 0.62  | $[0.54$, $0.71]$   | 19.29  | &lt; .001 |\n",
       "| sexstrikectrl_sexstrikeorig | sexstrike ctrl - sexstrike orig | -0.28 | $[-0.39$, $-0.16]$ | -6.19  | &lt; .001 |\n",
       "| metooorig_sexstrikeorig | metoo orig - sexstrike orig     | -0.90 | $[-0.99$, $-0.81]$ | -26.15 | &lt; .001 |\n",
       "\n"
      ],
      "text/plain": [
       "                            contrast                        estimate ci                 statistic p.value\n",
       "metooctrl_sexstrikectrl     metoo ctrl - sexstrike ctrl     -0.34    $[-0.42$, $-0.26]$ -10.51    < .001 \n",
       "metooctrl_metooorig         metoo ctrl - metoo orig         0.28     $[0.25$, $0.32]$   19.18     < .001 \n",
       "metooctrl_sexstrikeorig     metoo ctrl - sexstrike orig     -0.61    $[-0.70$, $-0.53]$ -17.93    < .001 \n",
       "sexstrikectrl_metooorig     sexstrike ctrl - metoo orig     0.62     $[0.54$, $0.71]$   19.29     < .001 \n",
       "sexstrikectrl_sexstrikeorig sexstrike ctrl - sexstrike orig -0.28    $[-0.39$, $-0.16]$ -6.19     < .001 \n",
       "metooorig_sexstrikeorig     metoo orig - sexstrike orig     -0.90    $[-0.99$, $-0.81]$ -26.15    < .001 "
      ]
     },
     "metadata": {},
     "output_type": "display_data"
    }
   ],
   "source": [
    "a1vb01PrcEm1_pairs_APA$table"
   ]
  },
  {
   "cell_type": "code",
   "execution_count": 66,
   "metadata": {},
   "outputs": [
    {
     "data": {
      "text/markdown": [
       "\n",
       "### full_result\n",
       "\n",
       "- full_result for `metooctrl_sexstrikectrl` is \n",
       "\n",
       "  - $\\Delta M = -0.34$, 95\\% CI $[-0.42$, $-0.26]$, $t(681,648) = -10.51$, $p < .001$\n",
       "\n",
       "- full_result for `metooctrl_metooorig` is \n",
       "\n",
       "  - $\\Delta M = 0.28$, 95\\% CI $[0.25$, $0.32]$, $t(681,648) = 19.18$, $p < .001$\n",
       "\n",
       "- full_result for `metooctrl_sexstrikeorig` is \n",
       "\n",
       "  - $\\Delta M = -0.61$, 95\\% CI $[-0.70$, $-0.53]$, $t(681,648) = -17.93$, $p < .001$\n",
       "\n",
       "- full_result for `sexstrikectrl_metooorig` is \n",
       "\n",
       "  - $\\Delta M = 0.62$, 95\\% CI $[0.54$, $0.71]$, $t(681,648) = 19.29$, $p < .001$\n",
       "\n",
       "- full_result for `sexstrikectrl_sexstrikeorig` is \n",
       "\n",
       "  - $\\Delta M = -0.28$, 95\\% CI $[-0.39$, $-0.16]$, $t(681,648) = -6.19$, $p < .001$\n",
       "\n",
       "- full_result for `metooorig_sexstrikeorig` is \n",
       "\n",
       "  - $\\Delta M = -0.90$, 95\\% CI $[-0.99$, $-0.81]$, $t(681,648) = -26.15$, $p < .001$\n"
      ]
     },
     "metadata": {},
     "output_type": "display_data"
    }
   ],
   "source": [
    "display_markdown(apaMd(a1vb01PrcEm1_pairs_APA[\"full_result\"]))"
   ]
  },
  {
   "cell_type": "markdown",
   "metadata": {},
   "source": [
    "##### #metoo_orig VS #sexstrike_orig"
   ]
  },
  {
   "cell_type": "code",
   "execution_count": 168,
   "metadata": {},
   "outputs": [
    {
     "data": {
      "text/html": [
       "<table>\n",
       "<caption>A tibble: 2 × 5</caption>\n",
       "<thead>\n",
       "\t<tr><th scope=col>CAMP</th><th scope=col>N</th><th scope=col>vbM</th><th scope=col>vbSE</th><th scope=col>vbSD</th></tr>\n",
       "\t<tr><th scope=col>&lt;fct&gt;</th><th scope=col>&lt;int&gt;</th><th scope=col>&lt;dbl&gt;</th><th scope=col>&lt;dbl&gt;</th><th scope=col>&lt;dbl&gt;</th></tr>\n",
       "</thead>\n",
       "<tbody>\n",
       "\t<tr><td>metoo    </td><td>296315</td><td>4.21</td><td>0.01</td><td>5.08</td></tr>\n",
       "\t<tr><td>sexstrike</td><td> 31606</td><td>5.10</td><td>0.03</td><td>5.09</td></tr>\n",
       "</tbody>\n",
       "</table>\n"
      ],
      "text/latex": [
       "A tibble: 2 × 5\n",
       "\\begin{tabular}{lllll}\n",
       " CAMP & N & vbM & vbSE & vbSD\\\\\n",
       " <fct> & <int> & <dbl> & <dbl> & <dbl>\\\\\n",
       "\\hline\n",
       "\t metoo     & 296315 & 4.21 & 0.01 & 5.08\\\\\n",
       "\t sexstrike &  31606 & 5.10 & 0.03 & 5.09\\\\\n",
       "\\end{tabular}\n"
      ],
      "text/markdown": [
       "\n",
       "A tibble: 2 × 5\n",
       "\n",
       "| CAMP &lt;fct&gt; | N &lt;int&gt; | vbM &lt;dbl&gt; | vbSE &lt;dbl&gt; | vbSD &lt;dbl&gt; |\n",
       "|---|---|---|---|---|\n",
       "| metoo     | 296315 | 4.21 | 0.01 | 5.08 |\n",
       "| sexstrike |  31606 | 5.10 | 0.03 | 5.09 |\n",
       "\n"
      ],
      "text/plain": [
       "  CAMP      N      vbM  vbSE vbSD\n",
       "1 metoo     296315 4.21 0.01 5.08\n",
       "2 sexstrike  31606 5.10 0.03 5.09"
      ]
     },
     "metadata": {},
     "output_type": "display_data"
    }
   ],
   "source": [
    "smr0 <- df2 %>%\n",
    "    filter(TYPE %in% c(\"orig\")) %>% \n",
    "    group_by(CAMP) %>%\n",
    "    summarise(\n",
    "        N    = n(),\n",
    "        vbM  = round(mean(vb01Prc),2),\n",
    "        vbSE = round(sd(vb01Prc)/sqrt(n()),2),\n",
    "        vbSD = round(sd(vb01Prc),2),  \n",
    "        .groups = \"drop\"\n",
    "    ) \n",
    "smr0"
   ]
  },
  {
   "cell_type": "code",
   "execution_count": 169,
   "metadata": {},
   "outputs": [
    {
     "data": {
      "text/markdown": [
       "$\\Delta M = -0.90$, 95\\% CI $[-0.99$, $-0.81]$, $t(681,648) = -26.15$, $p < .001$"
      ]
     },
     "metadata": {},
     "output_type": "display_data"
    }
   ],
   "source": [
    "display_markdown(a1vb01PrcEm1_pairs_APA[[\"full_result\"]][[\"metooorig_sexstrikeorig\"]])"
   ]
  },
  {
   "cell_type": "code",
   "execution_count": 170,
   "metadata": {},
   "outputs": [
    {
     "data": {
      "text/html": [
       "<table>\n",
       "<caption>A effectsize_difference: 1 × 4</caption>\n",
       "<thead>\n",
       "\t<tr><th scope=col>Cohens_d</th><th scope=col>CI</th><th scope=col>CI_low</th><th scope=col>CI_high</th></tr>\n",
       "\t<tr><th scope=col>&lt;dbl&gt;</th><th scope=col>&lt;dbl&gt;</th><th scope=col>&lt;dbl&gt;</th><th scope=col>&lt;dbl&gt;</th></tr>\n",
       "</thead>\n",
       "<tbody>\n",
       "\t<tr><td>0.18</td><td>0.95</td><td>0.19</td><td>0.17</td></tr>\n",
       "</tbody>\n",
       "</table>\n"
      ],
      "text/latex": [
       "A effectsize\\_difference: 1 × 4\n",
       "\\begin{tabular}{llll}\n",
       " Cohens\\_d & CI & CI\\_low & CI\\_high\\\\\n",
       " <dbl> & <dbl> & <dbl> & <dbl>\\\\\n",
       "\\hline\n",
       "\t 0.18 & 0.95 & 0.19 & 0.17\\\\\n",
       "\\end{tabular}\n"
      ],
      "text/markdown": [
       "\n",
       "A effectsize_difference: 1 × 4\n",
       "\n",
       "| Cohens_d &lt;dbl&gt; | CI &lt;dbl&gt; | CI_low &lt;dbl&gt; | CI_high &lt;dbl&gt; |\n",
       "|---|---|---|---|\n",
       "| 0.18 | 0.95 | 0.19 | 0.17 |\n",
       "\n"
      ],
      "text/plain": [
       "  Cohens_d CI   CI_low CI_high\n",
       "1 0.18     0.95 0.19   0.17   "
      ]
     },
     "metadata": {},
     "output_type": "display_data"
    }
   ],
   "source": [
    "smr0 <- df2 %>%\n",
    "    filter(TYPE %in% c(\"orig\")) %>% \n",
    "    cohens_d(\"vb01Prc\",\"CAMP\",.) %>%\n",
    "    round(.,2) %>% abs()\n",
    "smr0"
   ]
  },
  {
   "cell_type": "markdown",
   "metadata": {},
   "source": [
    "##### #metoo_ctrl VS #sexstrike_ctrl"
   ]
  },
  {
   "cell_type": "code",
   "execution_count": 171,
   "metadata": {},
   "outputs": [
    {
     "data": {
      "text/html": [
       "<table>\n",
       "<caption>A tibble: 2 × 5</caption>\n",
       "<thead>\n",
       "\t<tr><th scope=col>CAMP</th><th scope=col>N</th><th scope=col>vbM</th><th scope=col>vbSE</th><th scope=col>vbSD</th></tr>\n",
       "\t<tr><th scope=col>&lt;fct&gt;</th><th scope=col>&lt;int&gt;</th><th scope=col>&lt;dbl&gt;</th><th scope=col>&lt;dbl&gt;</th><th scope=col>&lt;dbl&gt;</th></tr>\n",
       "</thead>\n",
       "<tbody>\n",
       "\t<tr><td>metoo    </td><td>317320</td><td>4.49</td><td>0.01</td><td>6.40</td></tr>\n",
       "\t<tr><td>sexstrike</td><td> 36411</td><td>4.83</td><td>0.03</td><td>6.53</td></tr>\n",
       "</tbody>\n",
       "</table>\n"
      ],
      "text/latex": [
       "A tibble: 2 × 5\n",
       "\\begin{tabular}{lllll}\n",
       " CAMP & N & vbM & vbSE & vbSD\\\\\n",
       " <fct> & <int> & <dbl> & <dbl> & <dbl>\\\\\n",
       "\\hline\n",
       "\t metoo     & 317320 & 4.49 & 0.01 & 6.40\\\\\n",
       "\t sexstrike &  36411 & 4.83 & 0.03 & 6.53\\\\\n",
       "\\end{tabular}\n"
      ],
      "text/markdown": [
       "\n",
       "A tibble: 2 × 5\n",
       "\n",
       "| CAMP &lt;fct&gt; | N &lt;int&gt; | vbM &lt;dbl&gt; | vbSE &lt;dbl&gt; | vbSD &lt;dbl&gt; |\n",
       "|---|---|---|---|---|\n",
       "| metoo     | 317320 | 4.49 | 0.01 | 6.40 |\n",
       "| sexstrike |  36411 | 4.83 | 0.03 | 6.53 |\n",
       "\n"
      ],
      "text/plain": [
       "  CAMP      N      vbM  vbSE vbSD\n",
       "1 metoo     317320 4.49 0.01 6.40\n",
       "2 sexstrike  36411 4.83 0.03 6.53"
      ]
     },
     "metadata": {},
     "output_type": "display_data"
    }
   ],
   "source": [
    "smr0 <- df2 %>%\n",
    "    filter(TYPE %in% c(\"ctrl\")) %>% \n",
    "    group_by(CAMP) %>%\n",
    "    summarise(\n",
    "        N    = n(),\n",
    "        vbM  = round(mean(vb01Prc),2),\n",
    "        vbSE = round(sd(vb01Prc)/sqrt(n()),2),\n",
    "        vbSD = round(sd(vb01Prc),2),  \n",
    "        .groups = \"drop\"\n",
    "    ) \n",
    "smr0"
   ]
  },
  {
   "cell_type": "code",
   "execution_count": 172,
   "metadata": {
    "scrolled": true
   },
   "outputs": [
    {
     "data": {
      "text/markdown": [
       "$\\Delta M = -0.34$, 95\\% CI $[-0.42$, $-0.26]$, $t(681,648) = -10.51$, $p < .001$"
      ]
     },
     "metadata": {},
     "output_type": "display_data"
    }
   ],
   "source": [
    "display_markdown(a1vb01PrcEm1_pairs_APA[[\"full_result\"]][[\"metooctrl_sexstrikectrl\"]])"
   ]
  },
  {
   "cell_type": "code",
   "execution_count": 173,
   "metadata": {},
   "outputs": [
    {
     "data": {
      "text/html": [
       "<table>\n",
       "<caption>A effectsize_difference: 1 × 4</caption>\n",
       "<thead>\n",
       "\t<tr><th scope=col>Cohens_d</th><th scope=col>CI</th><th scope=col>CI_low</th><th scope=col>CI_high</th></tr>\n",
       "\t<tr><th scope=col>&lt;dbl&gt;</th><th scope=col>&lt;dbl&gt;</th><th scope=col>&lt;dbl&gt;</th><th scope=col>&lt;dbl&gt;</th></tr>\n",
       "</thead>\n",
       "<tbody>\n",
       "\t<tr><td>0.05</td><td>0.95</td><td>0.06</td><td>0.04</td></tr>\n",
       "</tbody>\n",
       "</table>\n"
      ],
      "text/latex": [
       "A effectsize\\_difference: 1 × 4\n",
       "\\begin{tabular}{llll}\n",
       " Cohens\\_d & CI & CI\\_low & CI\\_high\\\\\n",
       " <dbl> & <dbl> & <dbl> & <dbl>\\\\\n",
       "\\hline\n",
       "\t 0.05 & 0.95 & 0.06 & 0.04\\\\\n",
       "\\end{tabular}\n"
      ],
      "text/markdown": [
       "\n",
       "A effectsize_difference: 1 × 4\n",
       "\n",
       "| Cohens_d &lt;dbl&gt; | CI &lt;dbl&gt; | CI_low &lt;dbl&gt; | CI_high &lt;dbl&gt; |\n",
       "|---|---|---|---|\n",
       "| 0.05 | 0.95 | 0.06 | 0.04 |\n",
       "\n"
      ],
      "text/plain": [
       "  Cohens_d CI   CI_low CI_high\n",
       "1 0.05     0.95 0.06   0.04   "
      ]
     },
     "metadata": {},
     "output_type": "display_data"
    }
   ],
   "source": [
    "smr0 <- df2 %>%\n",
    "    filter(TYPE %in% c(\"ctrl\")) %>% \n",
    "    cohens_d(\"vb01Prc\",\"CAMP\",.) %>%\n",
    "    round(.,2) %>% abs()\n",
    "smr0"
   ]
  },
  {
   "cell_type": "code",
   "execution_count": null,
   "metadata": {},
   "outputs": [],
   "source": []
  },
  {
   "cell_type": "code",
   "execution_count": null,
   "metadata": {},
   "outputs": [],
   "source": []
  },
  {
   "cell_type": "code",
   "execution_count": null,
   "metadata": {},
   "outputs": [],
   "source": []
  },
  {
   "cell_type": "code",
   "execution_count": 110,
   "metadata": {},
   "outputs": [],
   "source": [
    "#  _____/\\\\\\\\\\\\\\\\\\________/\\\\\\\\\\\\\\\\\\\\\\\\__/\\\\\\\\\\\\\\\\\\\\\\\\\\\\\\__/\\\\\\\\\\_____/\\\\\\________/\\\\\\\\\\\\\\\\\\__/\\\\\\________/\\\\\\_____/\\\\\\____        \n",
    "#   ___/\\\\\\\\\\\\\\\\\\\\\\\\\\____/\\\\\\//////////__\\/\\\\\\///////////__\\/\\\\\\\\\\\\___\\/\\\\\\_____/\\\\\\////////__\\///\\\\\\____/\\\\\\/____/\\\\\\\\\\\\\\__       \n",
    "#    __/\\\\\\/////////\\\\\\__/\\\\\\_____________\\/\\\\\\_____________\\/\\\\\\/\\\\\\__\\/\\\\\\___/\\\\\\/_____________\\///\\\\\\/\\\\\\/_____/\\\\\\\\\\\\\\\\\\_      \n",
    "#     _\\/\\\\\\_______\\/\\\\\\_\\/\\\\\\____/\\\\\\\\\\\\\\_\\/\\\\\\\\\\\\\\\\\\\\\\_____\\/\\\\\\//\\\\\\_\\/\\\\\\__/\\\\\\_________________\\///\\\\\\/______\\//\\\\\\\\\\\\\\__     \n",
    "#      _\\/\\\\\\\\\\\\\\\\\\\\\\\\\\\\\\_\\/\\\\\\___\\/////\\\\\\_\\/\\\\\\///////______\\/\\\\\\\\//\\\\\\\\/\\\\\\_\\/\\\\\\___________________\\/\\\\\\________\\//\\\\\\\\\\___    \n",
    "#       _\\/\\\\\\/////////\\\\\\_\\/\\\\\\_______\\/\\\\\\_\\/\\\\\\_____________\\/\\\\\\_\\//\\\\\\/\\\\\\_\\//\\\\\\__________________\\/\\\\\\_________\\//\\\\\\____   \n",
    "#        _\\/\\\\\\_______\\/\\\\\\_\\/\\\\\\_______\\/\\\\\\_\\/\\\\\\_____________\\/\\\\\\__\\//\\\\\\\\\\\\__\\///\\\\\\________________\\/\\\\\\__________\\///_____  \n",
    "#         _\\/\\\\\\_______\\/\\\\\\_\\//\\\\\\\\\\\\\\\\\\\\\\\\/__\\/\\\\\\\\\\\\\\\\\\\\\\\\\\\\\\_\\/\\\\\\___\\//\\\\\\\\\\____\\////\\\\\\\\\\\\\\\\\\_______\\/\\\\\\___________/\\\\\\____ \n",
    "#          _\\///________\\///___\\////////////____\\///////////////__\\///_____\\/////________\\/////////________\\///___________\\///_____\n"
   ]
  },
  {
   "cell_type": "markdown",
   "metadata": {},
   "source": [
    "## (Significant) Main effect for `CAMP` campaign adherence"
   ]
  },
  {
   "cell_type": "markdown",
   "metadata": {},
   "source": [
    "### AOV"
   ]
  },
  {
   "cell_type": "code",
   "execution_count": 174,
   "metadata": {},
   "outputs": [
    {
     "data": {
      "text/markdown": [
       "$F(1, 681,648) = 1,102.27$, $\\mathit{MSE} = 36.20$, $p < .001$, $\\hat{\\eta}^2_G = .002$"
      ]
     },
     "metadata": {},
     "output_type": "display_data"
    }
   ],
   "source": [
    "display_markdown(a2ag01Prc_APA[[\"full_result\"]][[\"CAMP\"]])"
   ]
  },
  {
   "cell_type": "markdown",
   "metadata": {},
   "source": [
    "### Effect size"
   ]
  },
  {
   "cell_type": "code",
   "execution_count": 114,
   "metadata": {},
   "outputs": [
    {
     "name": "stdout",
     "output_type": "stream",
     "text": [
      "Cohen's d |    1e+02% CI\n",
      "------------------------\n",
      "     0.13 | [0.14, 0.12]\n",
      "\n",
      "\u001b[36m* Cohen's U3: 55.16%\n",
      "* Overlap: 94.83%\n",
      "* Probability of superiority: 53.65%\u001b[39m"
     ]
    }
   ],
   "source": [
    "print(abs(cohens_d(\"ag01Prc\",\"CAMP\", data=df2)), append_CL=TRUE, digits=2)"
   ]
  },
  {
   "cell_type": "code",
   "execution_count": 175,
   "metadata": {
    "scrolled": true
   },
   "outputs": [
    {
     "data": {
      "text/html": [
       "<table>\n",
       "<caption>A effectsize_difference: 1 × 4</caption>\n",
       "<thead>\n",
       "\t<tr><th scope=col>Cohens_d</th><th scope=col>CI</th><th scope=col>CI_low</th><th scope=col>CI_high</th></tr>\n",
       "\t<tr><th scope=col>&lt;dbl&gt;</th><th scope=col>&lt;dbl&gt;</th><th scope=col>&lt;dbl&gt;</th><th scope=col>&lt;dbl&gt;</th></tr>\n",
       "</thead>\n",
       "<tbody>\n",
       "\t<tr><td>0.13</td><td>0.95</td><td>0.14</td><td>0.12</td></tr>\n",
       "</tbody>\n",
       "</table>\n"
      ],
      "text/latex": [
       "A effectsize\\_difference: 1 × 4\n",
       "\\begin{tabular}{llll}\n",
       " Cohens\\_d & CI & CI\\_low & CI\\_high\\\\\n",
       " <dbl> & <dbl> & <dbl> & <dbl>\\\\\n",
       "\\hline\n",
       "\t 0.13 & 0.95 & 0.14 & 0.12\\\\\n",
       "\\end{tabular}\n"
      ],
      "text/markdown": [
       "\n",
       "A effectsize_difference: 1 × 4\n",
       "\n",
       "| Cohens_d &lt;dbl&gt; | CI &lt;dbl&gt; | CI_low &lt;dbl&gt; | CI_high &lt;dbl&gt; |\n",
       "|---|---|---|---|\n",
       "| 0.13 | 0.95 | 0.14 | 0.12 |\n",
       "\n"
      ],
      "text/plain": [
       "  Cohens_d CI   CI_low CI_high\n",
       "1 0.13     0.95 0.14   0.12   "
      ]
     },
     "metadata": {},
     "output_type": "display_data"
    }
   ],
   "source": [
    "smr0 <- df2 %>%\n",
    "    filter(TYPE %in% c(\"orig\",\"ctrl\")) %>% \n",
    "    cohens_d(\"ag01Prc\",\"CAMP\",.) %>%\n",
    "    round(.,2) %>% abs()\n",
    "smr0"
   ]
  },
  {
   "cell_type": "markdown",
   "metadata": {},
   "source": [
    "### `M` and `SE`"
   ]
  },
  {
   "cell_type": "code",
   "execution_count": 176,
   "metadata": {},
   "outputs": [
    {
     "data": {
      "text/html": [
       "<table>\n",
       "<caption>A tibble: 2 × 5</caption>\n",
       "<thead>\n",
       "\t<tr><th scope=col>CAMP</th><th scope=col>N</th><th scope=col>agM</th><th scope=col>agSE</th><th scope=col>agSD</th></tr>\n",
       "\t<tr><th scope=col>&lt;fct&gt;</th><th scope=col>&lt;int&gt;</th><th scope=col>&lt;dbl&gt;</th><th scope=col>&lt;dbl&gt;</th><th scope=col>&lt;dbl&gt;</th></tr>\n",
       "</thead>\n",
       "<tbody>\n",
       "\t<tr><td>metoo    </td><td>613635</td><td>3.72</td><td>0.01</td><td>6.00</td></tr>\n",
       "\t<tr><td>sexstrike</td><td> 68017</td><td>4.51</td><td>0.02</td><td>6.21</td></tr>\n",
       "</tbody>\n",
       "</table>\n"
      ],
      "text/latex": [
       "A tibble: 2 × 5\n",
       "\\begin{tabular}{lllll}\n",
       " CAMP & N & agM & agSE & agSD\\\\\n",
       " <fct> & <int> & <dbl> & <dbl> & <dbl>\\\\\n",
       "\\hline\n",
       "\t metoo     & 613635 & 3.72 & 0.01 & 6.00\\\\\n",
       "\t sexstrike &  68017 & 4.51 & 0.02 & 6.21\\\\\n",
       "\\end{tabular}\n"
      ],
      "text/markdown": [
       "\n",
       "A tibble: 2 × 5\n",
       "\n",
       "| CAMP &lt;fct&gt; | N &lt;int&gt; | agM &lt;dbl&gt; | agSE &lt;dbl&gt; | agSD &lt;dbl&gt; |\n",
       "|---|---|---|---|---|\n",
       "| metoo     | 613635 | 3.72 | 0.01 | 6.00 |\n",
       "| sexstrike |  68017 | 4.51 | 0.02 | 6.21 |\n",
       "\n"
      ],
      "text/plain": [
       "  CAMP      N      agM  agSE agSD\n",
       "1 metoo     613635 3.72 0.01 6.00\n",
       "2 sexstrike  68017 4.51 0.02 6.21"
      ]
     },
     "metadata": {},
     "output_type": "display_data"
    }
   ],
   "source": [
    "digits = 2\n",
    "smr0 <- df2 %>%\n",
    "    group_by(CAMP) %>%\n",
    "    summarise(\n",
    "        N    = n(),\n",
    "        agM  = round(mean(ag01Prc),digits),\n",
    "        agSE = round(sd(ag01Prc)/sqrt(n()),digits),\n",
    "        agSD = round(sd(ag01Prc),digits),        \n",
    "        .groups = \"drop\"\n",
    "    ) \n",
    "smr0"
   ]
  },
  {
   "cell_type": "markdown",
   "metadata": {},
   "source": [
    "## (Significant) Main effect for `TYPE` adherence"
   ]
  },
  {
   "cell_type": "markdown",
   "metadata": {},
   "source": [
    "### AOV"
   ]
  },
  {
   "cell_type": "code",
   "execution_count": 120,
   "metadata": {},
   "outputs": [
    {
     "data": {
      "text/markdown": [
       "$F(1, 681,648) = 5.54$, $\\mathit{MSE} = 36.20$, $p = .019$, $\\hat{\\eta}^2_G = .000$"
      ]
     },
     "metadata": {},
     "output_type": "display_data"
    }
   ],
   "source": [
    "display_markdown(a2ag01Prc_APA[[\"full_result\"]][[\"TYPE\"]])"
   ]
  },
  {
   "cell_type": "markdown",
   "metadata": {},
   "source": [
    "### Effect size"
   ]
  },
  {
   "cell_type": "code",
   "execution_count": 121,
   "metadata": {},
   "outputs": [
    {
     "name": "stdout",
     "output_type": "stream",
     "text": [
      "Cohen's d |    1e+02% CI\n",
      "------------------------\n",
      "     0.08 | [0.08, 0.09]\n",
      "\n",
      "\u001b[36m* Cohen's U3: 53.32%\n",
      "* Overlap: 96.68%\n",
      "* Probability of superiority: 52.35%\u001b[39m"
     ]
    }
   ],
   "source": [
    "print(abs(cohens_d(\"ag01Prc\",\"TYPE\", data=df2)), append_CL=TRUE, digits=2)"
   ]
  },
  {
   "cell_type": "code",
   "execution_count": 122,
   "metadata": {},
   "outputs": [
    {
     "data": {
      "text/html": [
       "<table>\n",
       "<caption>A effectsize_difference: 1 × 4</caption>\n",
       "<thead>\n",
       "\t<tr><th scope=col>Cohens_d</th><th scope=col>CI</th><th scope=col>CI_low</th><th scope=col>CI_high</th></tr>\n",
       "\t<tr><th scope=col>&lt;dbl&gt;</th><th scope=col>&lt;dbl&gt;</th><th scope=col>&lt;dbl&gt;</th><th scope=col>&lt;dbl&gt;</th></tr>\n",
       "</thead>\n",
       "<tbody>\n",
       "\t<tr><td>0.08</td><td>0.95</td><td>0.08</td><td>0.09</td></tr>\n",
       "</tbody>\n",
       "</table>\n"
      ],
      "text/latex": [
       "A effectsize\\_difference: 1 × 4\n",
       "\\begin{tabular}{llll}\n",
       " Cohens\\_d & CI & CI\\_low & CI\\_high\\\\\n",
       " <dbl> & <dbl> & <dbl> & <dbl>\\\\\n",
       "\\hline\n",
       "\t 0.08 & 0.95 & 0.08 & 0.09\\\\\n",
       "\\end{tabular}\n"
      ],
      "text/markdown": [
       "\n",
       "A effectsize_difference: 1 × 4\n",
       "\n",
       "| Cohens_d &lt;dbl&gt; | CI &lt;dbl&gt; | CI_low &lt;dbl&gt; | CI_high &lt;dbl&gt; |\n",
       "|---|---|---|---|\n",
       "| 0.08 | 0.95 | 0.08 | 0.09 |\n",
       "\n"
      ],
      "text/plain": [
       "  Cohens_d CI   CI_low CI_high\n",
       "1 0.08     0.95 0.08   0.09   "
      ]
     },
     "metadata": {},
     "output_type": "display_data"
    }
   ],
   "source": [
    "smr0 <- df2 %>%\n",
    "    filter(TYPE %in% c(\"orig\",\"ctrl\")) %>% \n",
    "    cohens_d(\"ag01Prc\",\"TYPE\",.) %>%\n",
    "    round(.,2)\n",
    "smr0"
   ]
  },
  {
   "cell_type": "markdown",
   "metadata": {},
   "source": [
    "### `M` and `SE`"
   ]
  },
  {
   "cell_type": "code",
   "execution_count": 177,
   "metadata": {},
   "outputs": [
    {
     "data": {
      "text/html": [
       "<table>\n",
       "<caption>A tibble: 2 × 5</caption>\n",
       "<thead>\n",
       "\t<tr><th scope=col>TYPE</th><th scope=col>N</th><th scope=col>agM</th><th scope=col>agSE</th><th scope=col>agSD</th></tr>\n",
       "\t<tr><th scope=col>&lt;fct&gt;</th><th scope=col>&lt;int&gt;</th><th scope=col>&lt;dbl&gt;</th><th scope=col>&lt;dbl&gt;</th><th scope=col>&lt;dbl&gt;</th></tr>\n",
       "</thead>\n",
       "<tbody>\n",
       "\t<tr><td>ctrl</td><td>353731</td><td>4.04</td><td>0.01</td><td>6.63</td></tr>\n",
       "\t<tr><td>orig</td><td>327921</td><td>3.54</td><td>0.01</td><td>5.29</td></tr>\n",
       "</tbody>\n",
       "</table>\n"
      ],
      "text/latex": [
       "A tibble: 2 × 5\n",
       "\\begin{tabular}{lllll}\n",
       " TYPE & N & agM & agSE & agSD\\\\\n",
       " <fct> & <int> & <dbl> & <dbl> & <dbl>\\\\\n",
       "\\hline\n",
       "\t ctrl & 353731 & 4.04 & 0.01 & 6.63\\\\\n",
       "\t orig & 327921 & 3.54 & 0.01 & 5.29\\\\\n",
       "\\end{tabular}\n"
      ],
      "text/markdown": [
       "\n",
       "A tibble: 2 × 5\n",
       "\n",
       "| TYPE &lt;fct&gt; | N &lt;int&gt; | agM &lt;dbl&gt; | agSE &lt;dbl&gt; | agSD &lt;dbl&gt; |\n",
       "|---|---|---|---|---|\n",
       "| ctrl | 353731 | 4.04 | 0.01 | 6.63 |\n",
       "| orig | 327921 | 3.54 | 0.01 | 5.29 |\n",
       "\n"
      ],
      "text/plain": [
       "  TYPE N      agM  agSE agSD\n",
       "1 ctrl 353731 4.04 0.01 6.63\n",
       "2 orig 327921 3.54 0.01 5.29"
      ]
     },
     "metadata": {},
     "output_type": "display_data"
    }
   ],
   "source": [
    "digits = 2\n",
    "smr0 <- df2 %>%\n",
    "    group_by(TYPE) %>%\n",
    "    summarise(\n",
    "        N    = n(),\n",
    "        agM  = round(mean(ag01Prc),digits),\n",
    "        agSE = round(sd(ag01Prc)/sqrt(n()),digits),\n",
    "        agSD = round(sd(ag01Prc),digits),        \n",
    "        .groups = \"drop\"\n",
    "    ) \n",
    "smr0"
   ]
  },
  {
   "cell_type": "markdown",
   "metadata": {},
   "source": [
    "## (Significant) Effect for `CAMP⨯TYPE` "
   ]
  },
  {
   "cell_type": "code",
   "execution_count": 124,
   "metadata": {},
   "outputs": [
    {
     "data": {
      "text/markdown": [
       "$F(1, 681,648) = 506.68$, $\\mathit{MSE} = 36.20$, $p < .001$, $\\hat{\\eta}^2_G = .001$"
      ]
     },
     "metadata": {},
     "output_type": "display_data"
    }
   ],
   "source": [
    "display_markdown(a2ag01Prc_APA[[\"full_result\"]][[\"CAMP_TYPE\"]])"
   ]
  },
  {
   "cell_type": "code",
   "execution_count": 125,
   "metadata": {
    "scrolled": true
   },
   "outputs": [
    {
     "name": "stdout",
     "output_type": "stream",
     "text": [
      "Cohen's d |    1e+02% CI\n",
      "------------------------\n",
      "     0.26 | [0.27, 0.25]\n",
      "\n",
      "\u001b[36m* Cohen's U3: 60.16%\n",
      "* Overlap: 89.76%\n",
      "* Probability of superiority: 57.22%\u001b[39m"
     ]
    }
   ],
   "source": [
    "print(abs(cohens_d(\"ag01Prc\",\"CAMP\", data=df2[df2$TYPE == \"orig\",])), append_CL=TRUE, digits=2)"
   ]
  },
  {
   "cell_type": "code",
   "execution_count": 126,
   "metadata": {},
   "outputs": [
    {
     "data": {
      "text/html": [
       "<table>\n",
       "<caption>A effectsize_difference: 1 × 4</caption>\n",
       "<thead>\n",
       "\t<tr><th scope=col>Cohens_d</th><th scope=col>CI</th><th scope=col>CI_low</th><th scope=col>CI_high</th></tr>\n",
       "\t<tr><th scope=col>&lt;dbl&gt;</th><th scope=col>&lt;dbl&gt;</th><th scope=col>&lt;dbl&gt;</th><th scope=col>&lt;dbl&gt;</th></tr>\n",
       "</thead>\n",
       "<tbody>\n",
       "\t<tr><td>0.26</td><td>0.95</td><td>0.27</td><td>0.25</td></tr>\n",
       "</tbody>\n",
       "</table>\n"
      ],
      "text/latex": [
       "A effectsize\\_difference: 1 × 4\n",
       "\\begin{tabular}{llll}\n",
       " Cohens\\_d & CI & CI\\_low & CI\\_high\\\\\n",
       " <dbl> & <dbl> & <dbl> & <dbl>\\\\\n",
       "\\hline\n",
       "\t 0.26 & 0.95 & 0.27 & 0.25\\\\\n",
       "\\end{tabular}\n"
      ],
      "text/markdown": [
       "\n",
       "A effectsize_difference: 1 × 4\n",
       "\n",
       "| Cohens_d &lt;dbl&gt; | CI &lt;dbl&gt; | CI_low &lt;dbl&gt; | CI_high &lt;dbl&gt; |\n",
       "|---|---|---|---|\n",
       "| 0.26 | 0.95 | 0.27 | 0.25 |\n",
       "\n"
      ],
      "text/plain": [
       "  Cohens_d CI   CI_low CI_high\n",
       "1 0.26     0.95 0.27   0.25   "
      ]
     },
     "metadata": {},
     "output_type": "display_data"
    }
   ],
   "source": [
    "smr0 <- df2 %>%\n",
    "    filter(TYPE %in% c(\"orig\")) %>% \n",
    "    cohens_d(\"ag01Prc\",\"CAMP\",.) %>%\n",
    "    round(.,2) %>% abs()\n",
    "smr0"
   ]
  },
  {
   "cell_type": "markdown",
   "metadata": {},
   "source": [
    "### `M` and `SE` in `orig`"
   ]
  },
  {
   "cell_type": "code",
   "execution_count": 178,
   "metadata": {},
   "outputs": [
    {
     "data": {
      "text/html": [
       "<table>\n",
       "<caption>A tibble: 2 × 5</caption>\n",
       "<thead>\n",
       "\t<tr><th scope=col>CAMP</th><th scope=col>N</th><th scope=col>agM</th><th scope=col>agSE</th><th scope=col>agSD</th></tr>\n",
       "\t<tr><th scope=col>&lt;fct&gt;</th><th scope=col>&lt;int&gt;</th><th scope=col>&lt;dbl&gt;</th><th scope=col>&lt;dbl&gt;</th><th scope=col>&lt;dbl&gt;</th></tr>\n",
       "</thead>\n",
       "<tbody>\n",
       "\t<tr><td>metoo    </td><td>296315</td><td>3.41</td><td>0.01</td><td>5.24</td></tr>\n",
       "\t<tr><td>sexstrike</td><td> 31606</td><td>4.77</td><td>0.03</td><td>5.57</td></tr>\n",
       "</tbody>\n",
       "</table>\n"
      ],
      "text/latex": [
       "A tibble: 2 × 5\n",
       "\\begin{tabular}{lllll}\n",
       " CAMP & N & agM & agSE & agSD\\\\\n",
       " <fct> & <int> & <dbl> & <dbl> & <dbl>\\\\\n",
       "\\hline\n",
       "\t metoo     & 296315 & 3.41 & 0.01 & 5.24\\\\\n",
       "\t sexstrike &  31606 & 4.77 & 0.03 & 5.57\\\\\n",
       "\\end{tabular}\n"
      ],
      "text/markdown": [
       "\n",
       "A tibble: 2 × 5\n",
       "\n",
       "| CAMP &lt;fct&gt; | N &lt;int&gt; | agM &lt;dbl&gt; | agSE &lt;dbl&gt; | agSD &lt;dbl&gt; |\n",
       "|---|---|---|---|---|\n",
       "| metoo     | 296315 | 3.41 | 0.01 | 5.24 |\n",
       "| sexstrike |  31606 | 4.77 | 0.03 | 5.57 |\n",
       "\n"
      ],
      "text/plain": [
       "  CAMP      N      agM  agSE agSD\n",
       "1 metoo     296315 3.41 0.01 5.24\n",
       "2 sexstrike  31606 4.77 0.03 5.57"
      ]
     },
     "metadata": {},
     "output_type": "display_data"
    }
   ],
   "source": [
    "smr0 <- df2 %>%\n",
    "    filter(TYPE %in% c(\"orig\")) %>% \n",
    "    group_by(CAMP) %>%\n",
    "    summarise(\n",
    "        N    = n(),\n",
    "        agM  = round(mean(ag01Prc),2),\n",
    "        agSE = round(sd(ag01Prc)/sqrt(n()),2),\n",
    "        agSD = round(sd(ag01Prc),2),  \n",
    "        .groups = \"drop\"\n",
    "    ) \n",
    "smr0"
   ]
  },
  {
   "cell_type": "code",
   "execution_count": 131,
   "metadata": {
    "scrolled": true
   },
   "outputs": [
    {
     "data": {
      "text/plain": [
       "\n",
       "\t Simultaneous Tests for General Linear Hypotheses\n",
       "\n",
       "Linear Hypotheses:\n",
       "                                     Estimate Std. Error t value Pr(>|t|)    \n",
       "metoo ctrl - sexstrike ctrl == 0     -0.26056    0.03329  -7.826 3.38e-14 ***\n",
       "metoo ctrl - metoo orig == 0          0.60598    0.01537  39.423  < 2e-16 ***\n",
       "metoo ctrl - sexstrike orig == 0     -0.75183    0.03549 -21.184  < 2e-16 ***\n",
       "sexstrike ctrl - metoo orig == 0      0.86654    0.03341  25.933  < 2e-16 ***\n",
       "sexstrike ctrl - sexstrike orig == 0 -0.49126    0.04626 -10.620  < 2e-16 ***\n",
       "metoo orig - sexstrike orig == 0     -1.35781    0.03560 -38.136 3.38e-14 ***\n",
       "---\n",
       "Signif. codes:  0 ‘***’ 0.001 ‘**’ 0.01 ‘*’ 0.05 ‘.’ 0.1 ‘ ’ 1\n",
       "(Adjusted p values reported -- free method)\n"
      ]
     },
     "metadata": {},
     "output_type": "display_data"
    }
   ],
   "source": [
    "summary(as.glht(pairs(a2ag01PrcEm1)),test=TEST)"
   ]
  },
  {
   "cell_type": "code",
   "execution_count": 134,
   "metadata": {
    "scrolled": false
   },
   "outputs": [
    {
     "data": {
      "text/html": [
       "<table>\n",
       "<caption>A apa_results_table: 6 × 5</caption>\n",
       "<thead>\n",
       "\t<tr><th></th><th scope=col>contrast</th><th scope=col>estimate</th><th scope=col>ci</th><th scope=col>statistic</th><th scope=col>p.value</th></tr>\n",
       "\t<tr><th></th><th scope=col>&lt;ppj_lbll&gt;</th><th scope=col>&lt;ppj_lbll&gt;</th><th scope=col>&lt;ppj_lbll&gt;</th><th scope=col>&lt;ppj_lbll&gt;</th><th scope=col>&lt;ppj_lbll&gt;</th></tr>\n",
       "</thead>\n",
       "<tbody>\n",
       "\t<tr><th scope=row>metooctrl_sexstrikectrl</th><td><span style=white-space:pre-wrap>metoo ctrl - sexstrike ctrl    </span></td><td>-0.26</td><td>$[-0.35$, $-0.18]$</td><td>-7.83 </td><td>&lt; .001</td></tr>\n",
       "\t<tr><th scope=row>metooctrl_metooorig</th><td><span style=white-space:pre-wrap>metoo ctrl - metoo orig        </span></td><td>0.61 </td><td><span style=white-space:pre-wrap>$[0.57$, $0.65]$  </span></td><td>39.42 </td><td>&lt; .001</td></tr>\n",
       "\t<tr><th scope=row>metooctrl_sexstrikeorig</th><td><span style=white-space:pre-wrap>metoo ctrl - sexstrike orig    </span></td><td>-0.75</td><td>$[-0.84$, $-0.66]$</td><td>-21.18</td><td>&lt; .001</td></tr>\n",
       "\t<tr><th scope=row>sexstrikectrl_metooorig</th><td><span style=white-space:pre-wrap>sexstrike ctrl - metoo orig    </span></td><td>0.87 </td><td><span style=white-space:pre-wrap>$[0.78$, $0.95]$  </span></td><td>25.93 </td><td>&lt; .001</td></tr>\n",
       "\t<tr><th scope=row>sexstrikectrl_sexstrikeorig</th><td>sexstrike ctrl - sexstrike orig</td><td>-0.49</td><td>$[-0.61$, $-0.37]$</td><td>-10.62</td><td>&lt; .001</td></tr>\n",
       "\t<tr><th scope=row>metooorig_sexstrikeorig</th><td><span style=white-space:pre-wrap>metoo orig - sexstrike orig    </span></td><td>-1.36</td><td>$[-1.45$, $-1.27]$</td><td>-38.14</td><td>&lt; .001</td></tr>\n",
       "</tbody>\n",
       "</table>\n"
      ],
      "text/latex": [
       "A apa\\_results\\_table: 6 × 5\n",
       "\\begin{tabular}{r|lllll}\n",
       "  & contrast & estimate & ci & statistic & p.value\\\\\n",
       "  & <ppj\\_lbll> & <ppj\\_lbll> & <ppj\\_lbll> & <ppj\\_lbll> & <ppj\\_lbll>\\\\\n",
       "\\hline\n",
       "\tmetooctrl\\_sexstrikectrl & metoo ctrl - sexstrike ctrl     & -0.26 & \\${[}-0.35\\$, \\$-0.18{]}\\$ & -7.83  & < .001\\\\\n",
       "\tmetooctrl\\_metooorig & metoo ctrl - metoo orig         & 0.61  & \\${[}0.57\\$, \\$0.65{]}\\$   & 39.42  & < .001\\\\\n",
       "\tmetooctrl\\_sexstrikeorig & metoo ctrl - sexstrike orig     & -0.75 & \\${[}-0.84\\$, \\$-0.66{]}\\$ & -21.18 & < .001\\\\\n",
       "\tsexstrikectrl\\_metooorig & sexstrike ctrl - metoo orig     & 0.87  & \\${[}0.78\\$, \\$0.95{]}\\$   & 25.93  & < .001\\\\\n",
       "\tsexstrikectrl\\_sexstrikeorig & sexstrike ctrl - sexstrike orig & -0.49 & \\${[}-0.61\\$, \\$-0.37{]}\\$ & -10.62 & < .001\\\\\n",
       "\tmetooorig\\_sexstrikeorig & metoo orig - sexstrike orig     & -1.36 & \\${[}-1.45\\$, \\$-1.27{]}\\$ & -38.14 & < .001\\\\\n",
       "\\end{tabular}\n"
      ],
      "text/markdown": [
       "\n",
       "A apa_results_table: 6 × 5\n",
       "\n",
       "| <!--/--> | contrast &lt;ppj_lbll&gt; | estimate &lt;ppj_lbll&gt; | ci &lt;ppj_lbll&gt; | statistic &lt;ppj_lbll&gt; | p.value &lt;ppj_lbll&gt; |\n",
       "|---|---|---|---|---|---|\n",
       "| metooctrl_sexstrikectrl | metoo ctrl - sexstrike ctrl     | -0.26 | $[-0.35$, $-0.18]$ | -7.83  | &lt; .001 |\n",
       "| metooctrl_metooorig | metoo ctrl - metoo orig         | 0.61  | $[0.57$, $0.65]$   | 39.42  | &lt; .001 |\n",
       "| metooctrl_sexstrikeorig | metoo ctrl - sexstrike orig     | -0.75 | $[-0.84$, $-0.66]$ | -21.18 | &lt; .001 |\n",
       "| sexstrikectrl_metooorig | sexstrike ctrl - metoo orig     | 0.87  | $[0.78$, $0.95]$   | 25.93  | &lt; .001 |\n",
       "| sexstrikectrl_sexstrikeorig | sexstrike ctrl - sexstrike orig | -0.49 | $[-0.61$, $-0.37]$ | -10.62 | &lt; .001 |\n",
       "| metooorig_sexstrikeorig | metoo orig - sexstrike orig     | -1.36 | $[-1.45$, $-1.27]$ | -38.14 | &lt; .001 |\n",
       "\n"
      ],
      "text/plain": [
       "                            contrast                        estimate ci                 statistic p.value\n",
       "metooctrl_sexstrikectrl     metoo ctrl - sexstrike ctrl     -0.26    $[-0.35$, $-0.18]$ -7.83     < .001 \n",
       "metooctrl_metooorig         metoo ctrl - metoo orig         0.61     $[0.57$, $0.65]$   39.42     < .001 \n",
       "metooctrl_sexstrikeorig     metoo ctrl - sexstrike orig     -0.75    $[-0.84$, $-0.66]$ -21.18    < .001 \n",
       "sexstrikectrl_metooorig     sexstrike ctrl - metoo orig     0.87     $[0.78$, $0.95]$   25.93     < .001 \n",
       "sexstrikectrl_sexstrikeorig sexstrike ctrl - sexstrike orig -0.49    $[-0.61$, $-0.37]$ -10.62    < .001 \n",
       "metooorig_sexstrikeorig     metoo orig - sexstrike orig     -1.36    $[-1.45$, $-1.27]$ -38.14    < .001 "
      ]
     },
     "metadata": {},
     "output_type": "display_data"
    }
   ],
   "source": [
    "a2ag01PrcEm1_pairs_APA$table"
   ]
  },
  {
   "cell_type": "markdown",
   "metadata": {},
   "source": [
    "##### #metoo_orig VS #sexstrike_orig"
   ]
  },
  {
   "cell_type": "code",
   "execution_count": 136,
   "metadata": {},
   "outputs": [
    {
     "data": {
      "text/html": [
       "<table>\n",
       "<caption>A tibble: 2 × 5</caption>\n",
       "<thead>\n",
       "\t<tr><th scope=col>CAMP</th><th scope=col>N</th><th scope=col>agM</th><th scope=col>agSE</th><th scope=col>agSD</th></tr>\n",
       "\t<tr><th scope=col>&lt;fct&gt;</th><th scope=col>&lt;int&gt;</th><th scope=col>&lt;dbl&gt;</th><th scope=col>&lt;dbl&gt;</th><th scope=col>&lt;dbl&gt;</th></tr>\n",
       "</thead>\n",
       "<tbody>\n",
       "\t<tr><td>metoo    </td><td>296315</td><td>3.41</td><td>0.01</td><td>5.24</td></tr>\n",
       "\t<tr><td>sexstrike</td><td> 31606</td><td>4.77</td><td>0.03</td><td>5.57</td></tr>\n",
       "</tbody>\n",
       "</table>\n"
      ],
      "text/latex": [
       "A tibble: 2 × 5\n",
       "\\begin{tabular}{lllll}\n",
       " CAMP & N & agM & agSE & agSD\\\\\n",
       " <fct> & <int> & <dbl> & <dbl> & <dbl>\\\\\n",
       "\\hline\n",
       "\t metoo     & 296315 & 3.41 & 0.01 & 5.24\\\\\n",
       "\t sexstrike &  31606 & 4.77 & 0.03 & 5.57\\\\\n",
       "\\end{tabular}\n"
      ],
      "text/markdown": [
       "\n",
       "A tibble: 2 × 5\n",
       "\n",
       "| CAMP &lt;fct&gt; | N &lt;int&gt; | agM &lt;dbl&gt; | agSE &lt;dbl&gt; | agSD &lt;dbl&gt; |\n",
       "|---|---|---|---|---|\n",
       "| metoo     | 296315 | 3.41 | 0.01 | 5.24 |\n",
       "| sexstrike |  31606 | 4.77 | 0.03 | 5.57 |\n",
       "\n"
      ],
      "text/plain": [
       "  CAMP      N      agM  agSE agSD\n",
       "1 metoo     296315 3.41 0.01 5.24\n",
       "2 sexstrike  31606 4.77 0.03 5.57"
      ]
     },
     "metadata": {},
     "output_type": "display_data"
    }
   ],
   "source": [
    "smr0 <- df2 %>%\n",
    "    filter(TYPE %in% c(\"orig\")) %>% \n",
    "    group_by(CAMP) %>%\n",
    "    summarise(\n",
    "        N    = n(),\n",
    "        agM  = round(mean(ag01Prc),2),\n",
    "        agSE = round(sd(ag01Prc)/sqrt(n()),2),\n",
    "        agSD = round(sd(ag01Prc),2),  \n",
    "        .groups = \"drop\"\n",
    "    ) \n",
    "smr0"
   ]
  },
  {
   "cell_type": "code",
   "execution_count": 179,
   "metadata": {},
   "outputs": [
    {
     "data": {
      "text/markdown": [
       "$\\Delta M = -1.36$, 95\\% CI $[-1.45$, $-1.27]$, $t(681,648) = -38.14$, $p < .001$"
      ]
     },
     "metadata": {},
     "output_type": "display_data"
    }
   ],
   "source": [
    "display_markdown(a2ag01PrcEm1_pairs_APA[[\"full_result\"]][[\"metooorig_sexstrikeorig\"]])"
   ]
  },
  {
   "cell_type": "code",
   "execution_count": 180,
   "metadata": {},
   "outputs": [
    {
     "data": {
      "text/html": [
       "<table>\n",
       "<caption>A effectsize_difference: 1 × 4</caption>\n",
       "<thead>\n",
       "\t<tr><th scope=col>Cohens_d</th><th scope=col>CI</th><th scope=col>CI_low</th><th scope=col>CI_high</th></tr>\n",
       "\t<tr><th scope=col>&lt;dbl&gt;</th><th scope=col>&lt;dbl&gt;</th><th scope=col>&lt;dbl&gt;</th><th scope=col>&lt;dbl&gt;</th></tr>\n",
       "</thead>\n",
       "<tbody>\n",
       "\t<tr><td>0.26</td><td>0.95</td><td>0.27</td><td>0.25</td></tr>\n",
       "</tbody>\n",
       "</table>\n"
      ],
      "text/latex": [
       "A effectsize\\_difference: 1 × 4\n",
       "\\begin{tabular}{llll}\n",
       " Cohens\\_d & CI & CI\\_low & CI\\_high\\\\\n",
       " <dbl> & <dbl> & <dbl> & <dbl>\\\\\n",
       "\\hline\n",
       "\t 0.26 & 0.95 & 0.27 & 0.25\\\\\n",
       "\\end{tabular}\n"
      ],
      "text/markdown": [
       "\n",
       "A effectsize_difference: 1 × 4\n",
       "\n",
       "| Cohens_d &lt;dbl&gt; | CI &lt;dbl&gt; | CI_low &lt;dbl&gt; | CI_high &lt;dbl&gt; |\n",
       "|---|---|---|---|\n",
       "| 0.26 | 0.95 | 0.27 | 0.25 |\n",
       "\n"
      ],
      "text/plain": [
       "  Cohens_d CI   CI_low CI_high\n",
       "1 0.26     0.95 0.27   0.25   "
      ]
     },
     "metadata": {},
     "output_type": "display_data"
    }
   ],
   "source": [
    "smr0 <- df2 %>%\n",
    "    filter(TYPE %in% c(\"orig\")) %>% \n",
    "    cohens_d(\"ag01Prc\",\"CAMP\",.) %>%\n",
    "    round(.,2) %>% abs()\n",
    "smr0"
   ]
  },
  {
   "cell_type": "markdown",
   "metadata": {},
   "source": [
    "##### #metoo_ctrl VS #sexstrike_ctrl"
   ]
  },
  {
   "cell_type": "code",
   "execution_count": 181,
   "metadata": {},
   "outputs": [
    {
     "data": {
      "text/html": [
       "<table>\n",
       "<caption>A tibble: 2 × 5</caption>\n",
       "<thead>\n",
       "\t<tr><th scope=col>CAMP</th><th scope=col>N</th><th scope=col>agM</th><th scope=col>agSE</th><th scope=col>agSD</th></tr>\n",
       "\t<tr><th scope=col>&lt;fct&gt;</th><th scope=col>&lt;int&gt;</th><th scope=col>&lt;dbl&gt;</th><th scope=col>&lt;dbl&gt;</th><th scope=col>&lt;dbl&gt;</th></tr>\n",
       "</thead>\n",
       "<tbody>\n",
       "\t<tr><td>metoo    </td><td>317320</td><td>4.02</td><td>0.01</td><td>6.62</td></tr>\n",
       "\t<tr><td>sexstrike</td><td> 36411</td><td>4.28</td><td>0.04</td><td>6.70</td></tr>\n",
       "</tbody>\n",
       "</table>\n"
      ],
      "text/latex": [
       "A tibble: 2 × 5\n",
       "\\begin{tabular}{lllll}\n",
       " CAMP & N & agM & agSE & agSD\\\\\n",
       " <fct> & <int> & <dbl> & <dbl> & <dbl>\\\\\n",
       "\\hline\n",
       "\t metoo     & 317320 & 4.02 & 0.01 & 6.62\\\\\n",
       "\t sexstrike &  36411 & 4.28 & 0.04 & 6.70\\\\\n",
       "\\end{tabular}\n"
      ],
      "text/markdown": [
       "\n",
       "A tibble: 2 × 5\n",
       "\n",
       "| CAMP &lt;fct&gt; | N &lt;int&gt; | agM &lt;dbl&gt; | agSE &lt;dbl&gt; | agSD &lt;dbl&gt; |\n",
       "|---|---|---|---|---|\n",
       "| metoo     | 317320 | 4.02 | 0.01 | 6.62 |\n",
       "| sexstrike |  36411 | 4.28 | 0.04 | 6.70 |\n",
       "\n"
      ],
      "text/plain": [
       "  CAMP      N      agM  agSE agSD\n",
       "1 metoo     317320 4.02 0.01 6.62\n",
       "2 sexstrike  36411 4.28 0.04 6.70"
      ]
     },
     "metadata": {},
     "output_type": "display_data"
    }
   ],
   "source": [
    "smr0 <- df2 %>%\n",
    "    filter(TYPE %in% c(\"ctrl\")) %>% \n",
    "    group_by(CAMP) %>%\n",
    "    summarise(\n",
    "        N    = n(),\n",
    "        agM  = round(mean(ag01Prc),2),\n",
    "        agSE = round(sd(ag01Prc)/sqrt(n()),2),\n",
    "        agSD = round(sd(ag01Prc),2),  \n",
    "        .groups = \"drop\"\n",
    "    ) \n",
    "smr0"
   ]
  },
  {
   "cell_type": "code",
   "execution_count": 182,
   "metadata": {},
   "outputs": [
    {
     "data": {
      "text/markdown": [
       "$\\Delta M = -0.26$, 95\\% CI $[-0.35$, $-0.18]$, $t(681,648) = -7.83$, $p < .001$"
      ]
     },
     "metadata": {},
     "output_type": "display_data"
    }
   ],
   "source": [
    "display_markdown(a2ag01PrcEm1_pairs_APA[[\"full_result\"]][[\"metooctrl_sexstrikectrl\"]])"
   ]
  },
  {
   "cell_type": "code",
   "execution_count": 183,
   "metadata": {},
   "outputs": [
    {
     "data": {
      "text/html": [
       "<table>\n",
       "<caption>A effectsize_difference: 1 × 4</caption>\n",
       "<thead>\n",
       "\t<tr><th scope=col>Cohens_d</th><th scope=col>CI</th><th scope=col>CI_low</th><th scope=col>CI_high</th></tr>\n",
       "\t<tr><th scope=col>&lt;dbl&gt;</th><th scope=col>&lt;dbl&gt;</th><th scope=col>&lt;dbl&gt;</th><th scope=col>&lt;dbl&gt;</th></tr>\n",
       "</thead>\n",
       "<tbody>\n",
       "\t<tr><td>0.04</td><td>0.95</td><td>0.05</td><td>0.03</td></tr>\n",
       "</tbody>\n",
       "</table>\n"
      ],
      "text/latex": [
       "A effectsize\\_difference: 1 × 4\n",
       "\\begin{tabular}{llll}\n",
       " Cohens\\_d & CI & CI\\_low & CI\\_high\\\\\n",
       " <dbl> & <dbl> & <dbl> & <dbl>\\\\\n",
       "\\hline\n",
       "\t 0.04 & 0.95 & 0.05 & 0.03\\\\\n",
       "\\end{tabular}\n"
      ],
      "text/markdown": [
       "\n",
       "A effectsize_difference: 1 × 4\n",
       "\n",
       "| Cohens_d &lt;dbl&gt; | CI &lt;dbl&gt; | CI_low &lt;dbl&gt; | CI_high &lt;dbl&gt; |\n",
       "|---|---|---|---|\n",
       "| 0.04 | 0.95 | 0.05 | 0.03 |\n",
       "\n"
      ],
      "text/plain": [
       "  Cohens_d CI   CI_low CI_high\n",
       "1 0.04     0.95 0.05   0.03   "
      ]
     },
     "metadata": {},
     "output_type": "display_data"
    }
   ],
   "source": [
    "smr0 <- df2 %>%\n",
    "    filter(TYPE %in% c(\"ctrl\")) %>% \n",
    "    cohens_d(\"ag01Prc\",\"CAMP\",.) %>%\n",
    "    round(.,2) %>% abs()\n",
    "smr0"
   ]
  },
  {
   "cell_type": "code",
   "execution_count": null,
   "metadata": {},
   "outputs": [],
   "source": []
  },
  {
   "cell_type": "code",
   "execution_count": null,
   "metadata": {},
   "outputs": [],
   "source": []
  },
  {
   "cell_type": "code",
   "execution_count": null,
   "metadata": {},
   "outputs": [],
   "source": []
  },
  {
   "cell_type": "code",
   "execution_count": null,
   "metadata": {},
   "outputs": [],
   "source": []
  },
  {
   "cell_type": "code",
   "execution_count": null,
   "metadata": {},
   "outputs": [],
   "source": []
  },
  {
   "cell_type": "markdown",
   "metadata": {},
   "source": [
    "# Confidence intervals"
   ]
  },
  {
   "cell_type": "markdown",
   "metadata": {},
   "source": [
    "# Estimated marginal means (Least-squares means)"
   ]
  },
  {
   "cell_type": "markdown",
   "metadata": {},
   "source": [
    "## Full model"
   ]
  },
  {
   "cell_type": "code",
   "execution_count": 184,
   "metadata": {},
   "outputs": [
    {
     "data": {
      "text/plain": [
       " CAMP      TYPE emmean     SE     df lower.CL upper.CL\n",
       " metoo     ctrl   4.02 0.0107 681648     4.00     4.04\n",
       " sexstrike ctrl   4.28 0.0315 681648     4.22     4.34\n",
       " metoo     orig   3.41 0.0111 681648     3.39     3.43\n",
       " sexstrike orig   4.77 0.0338 681648     4.70     4.84\n",
       "\n",
       "Confidence level used: 0.95 "
      ]
     },
     "metadata": {},
     "output_type": "display_data"
    }
   ],
   "source": [
    "a2ag01PrcEm1"
   ]
  },
  {
   "cell_type": "code",
   "execution_count": 185,
   "metadata": {},
   "outputs": [
    {
     "data": {
      "text/plain": [
       " contrast                        estimate     SE     df t.ratio p.value\n",
       " metoo ctrl - sexstrike ctrl       -0.261 0.0333 681648  -7.826 <.0001 \n",
       " metoo ctrl - metoo orig            0.606 0.0154 681648  39.423 <.0001 \n",
       " metoo ctrl - sexstrike orig       -0.752 0.0355 681648 -21.184 <.0001 \n",
       " sexstrike ctrl - metoo orig        0.867 0.0334 681648  25.933 <.0001 \n",
       " sexstrike ctrl - sexstrike orig   -0.491 0.0463 681648 -10.620 <.0001 \n",
       " metoo orig - sexstrike orig       -1.358 0.0356 681648 -38.136 <.0001 \n",
       "\n",
       "P value adjustment: tukey method for comparing a family of 4 estimates "
      ]
     },
     "metadata": {},
     "output_type": "display_data"
    }
   ],
   "source": [
    "pairs(a2ag01PrcEm1)"
   ]
  },
  {
   "cell_type": "code",
   "execution_count": 186,
   "metadata": {},
   "outputs": [
    {
     "data": {
      "text/plain": [
       "\n",
       "\t Simultaneous Tests for General Linear Hypotheses\n",
       "\n",
       "Linear Hypotheses:\n",
       "                                     Estimate Std. Error t value Pr(>|t|)    \n",
       "metoo ctrl - sexstrike ctrl == 0     -0.26056    0.03329  -7.826 3.38e-14 ***\n",
       "metoo ctrl - metoo orig == 0          0.60598    0.01537  39.423  < 2e-16 ***\n",
       "metoo ctrl - sexstrike orig == 0     -0.75183    0.03549 -21.184  < 2e-16 ***\n",
       "sexstrike ctrl - metoo orig == 0      0.86654    0.03341  25.933  < 2e-16 ***\n",
       "sexstrike ctrl - sexstrike orig == 0 -0.49126    0.04626 -10.620  < 2e-16 ***\n",
       "metoo orig - sexstrike orig == 0     -1.35781    0.03560 -38.136 3.38e-14 ***\n",
       "---\n",
       "Signif. codes:  0 ‘***’ 0.001 ‘**’ 0.01 ‘*’ 0.05 ‘.’ 0.1 ‘ ’ 1\n",
       "(Adjusted p values reported -- free method)\n"
      ]
     },
     "metadata": {},
     "output_type": "display_data"
    }
   ],
   "source": [
    "summary(as.glht(pairs(a2ag01PrcEm1)),test=TEST)"
   ]
  },
  {
   "cell_type": "markdown",
   "metadata": {},
   "source": [
    "# EXTRAS"
   ]
  },
  {
   "cell_type": "code",
   "execution_count": 194,
   "metadata": {},
   "outputs": [
    {
     "data": {
      "text/markdown": [
       "\n",
       "### full_result\n",
       "\n",
       "- full_result for `metoo_ctrl` is \n",
       "\n",
       "  - $M = 4.02$, 95\\% CI $[4.00$, $4.04]$, $t(681,648) = 376.10$, $p < .001$\n",
       "\n",
       "- full_result for `sexstrike_ctrl` is \n",
       "\n",
       "  - $M = 4.28$, 95\\% CI $[4.22$, $4.34]$, $t(681,648) = 135.66$, $p < .001$\n",
       "\n",
       "- full_result for `metoo_orig` is \n",
       "\n",
       "  - $M = 3.41$, 95\\% CI $[3.39$, $3.43]$, $t(681,648) = 308.61$, $p < .001$\n",
       "\n",
       "- full_result for `sexstrike_orig` is \n",
       "\n",
       "  - $M = 4.77$, 95\\% CI $[4.70$, $4.84]$, $t(681,648) = 140.91$, $p < .001$\n"
      ]
     },
     "metadata": {},
     "output_type": "display_data"
    }
   ],
   "source": [
    "display_markdown(apaMd(a2ag01PrcEm1_APA[\"full_result\"]))"
   ]
  },
  {
   "cell_type": "code",
   "execution_count": 195,
   "metadata": {
    "scrolled": true
   },
   "outputs": [
    {
     "data": {
      "text/html": [
       "<table>\n",
       "<caption>A apa_results_table: 4 × 6</caption>\n",
       "<thead>\n",
       "\t<tr><th></th><th scope=col>TYPE</th><th scope=col>CAMP</th><th scope=col>estimate</th><th scope=col>ci</th><th scope=col>statistic</th><th scope=col>p.value</th></tr>\n",
       "\t<tr><th></th><th scope=col>&lt;chr&gt;</th><th scope=col>&lt;chr&gt;</th><th scope=col>&lt;ppj_lbll&gt;</th><th scope=col>&lt;ppj_lbll&gt;</th><th scope=col>&lt;ppj_lbll&gt;</th><th scope=col>&lt;ppj_lbll&gt;</th></tr>\n",
       "</thead>\n",
       "<tbody>\n",
       "\t<tr><th scope=row>metoo_ctrl</th><td>ctrl</td><td><span style=white-space:pre-wrap>metoo    </span></td><td>4.02</td><td>$[4.00$, $4.04]$</td><td>376.10</td><td>&lt; .001</td></tr>\n",
       "\t<tr><th scope=row>sexstrike_ctrl</th><td><span style=white-space:pre-wrap>    </span></td><td>sexstrike</td><td>4.28</td><td>$[4.22$, $4.34]$</td><td>135.66</td><td>&lt; .001</td></tr>\n",
       "\t<tr><th scope=row>metoo_orig</th><td>orig</td><td><span style=white-space:pre-wrap>metoo    </span></td><td>3.41</td><td>$[3.39$, $3.43]$</td><td>308.61</td><td>&lt; .001</td></tr>\n",
       "\t<tr><th scope=row>sexstrike_orig</th><td><span style=white-space:pre-wrap>    </span></td><td>sexstrike</td><td>4.77</td><td>$[4.70$, $4.84]$</td><td>140.91</td><td>&lt; .001</td></tr>\n",
       "</tbody>\n",
       "</table>\n"
      ],
      "text/latex": [
       "A apa\\_results\\_table: 4 × 6\n",
       "\\begin{tabular}{r|llllll}\n",
       "  & TYPE & CAMP & estimate & ci & statistic & p.value\\\\\n",
       "  & <chr> & <chr> & <ppj\\_lbll> & <ppj\\_lbll> & <ppj\\_lbll> & <ppj\\_lbll>\\\\\n",
       "\\hline\n",
       "\tmetoo\\_ctrl & ctrl & metoo     & 4.02 & \\${[}4.00\\$, \\$4.04{]}\\$ & 376.10 & < .001\\\\\n",
       "\tsexstrike\\_ctrl &      & sexstrike & 4.28 & \\${[}4.22\\$, \\$4.34{]}\\$ & 135.66 & < .001\\\\\n",
       "\tmetoo\\_orig & orig & metoo     & 3.41 & \\${[}3.39\\$, \\$3.43{]}\\$ & 308.61 & < .001\\\\\n",
       "\tsexstrike\\_orig &      & sexstrike & 4.77 & \\${[}4.70\\$, \\$4.84{]}\\$ & 140.91 & < .001\\\\\n",
       "\\end{tabular}\n"
      ],
      "text/markdown": [
       "\n",
       "A apa_results_table: 4 × 6\n",
       "\n",
       "| <!--/--> | TYPE &lt;chr&gt; | CAMP &lt;chr&gt; | estimate &lt;ppj_lbll&gt; | ci &lt;ppj_lbll&gt; | statistic &lt;ppj_lbll&gt; | p.value &lt;ppj_lbll&gt; |\n",
       "|---|---|---|---|---|---|---|\n",
       "| metoo_ctrl | ctrl | metoo     | 4.02 | $[4.00$, $4.04]$ | 376.10 | &lt; .001 |\n",
       "| sexstrike_ctrl | <!----> | sexstrike | 4.28 | $[4.22$, $4.34]$ | 135.66 | &lt; .001 |\n",
       "| metoo_orig | orig | metoo     | 3.41 | $[3.39$, $3.43]$ | 308.61 | &lt; .001 |\n",
       "| sexstrike_orig | <!----> | sexstrike | 4.77 | $[4.70$, $4.84]$ | 140.91 | &lt; .001 |\n",
       "\n"
      ],
      "text/plain": [
       "               TYPE CAMP      estimate ci               statistic p.value\n",
       "metoo_ctrl     ctrl metoo     4.02     $[4.00$, $4.04]$ 376.10    < .001 \n",
       "sexstrike_ctrl      sexstrike 4.28     $[4.22$, $4.34]$ 135.66    < .001 \n",
       "metoo_orig     orig metoo     3.41     $[3.39$, $3.43]$ 308.61    < .001 \n",
       "sexstrike_orig      sexstrike 4.77     $[4.70$, $4.84]$ 140.91    < .001 "
      ]
     },
     "metadata": {},
     "output_type": "display_data"
    }
   ],
   "source": [
    "a2ag01PrcEm1_APA$table"
   ]
  },
  {
   "cell_type": "code",
   "execution_count": 196,
   "metadata": {},
   "outputs": [
    {
     "data": {
      "text/plain": [
       " contrast                        estimate     SE     df t.ratio p.value\n",
       " metoo ctrl - sexstrike ctrl       -0.261 0.0333 681648  -7.826 <.0001 \n",
       " metoo ctrl - metoo orig            0.606 0.0154 681648  39.423 <.0001 \n",
       " metoo ctrl - sexstrike orig       -0.752 0.0355 681648 -21.184 <.0001 \n",
       " sexstrike ctrl - metoo orig        0.867 0.0334 681648  25.933 <.0001 \n",
       " sexstrike ctrl - sexstrike orig   -0.491 0.0463 681648 -10.620 <.0001 \n",
       " metoo orig - sexstrike orig       -1.358 0.0356 681648 -38.136 <.0001 \n",
       "\n",
       "P value adjustment: tukey method for comparing a family of 4 estimates "
      ]
     },
     "metadata": {},
     "output_type": "display_data"
    }
   ],
   "source": [
    "a2ag01PrcEm1_pairs"
   ]
  },
  {
   "cell_type": "code",
   "execution_count": 197,
   "metadata": {
    "scrolled": true
   },
   "outputs": [
    {
     "data": {
      "text/markdown": [
       "\n",
       "### full_result\n",
       "\n",
       "- full_result for `metooctrl_sexstrikectrl` is \n",
       "\n",
       "  - $\\Delta M = -0.26$, 95\\% CI $[-0.35$, $-0.18]$, $t(681,648) = -7.83$, $p < .001$\n",
       "\n",
       "- full_result for `metooctrl_metooorig` is \n",
       "\n",
       "  - $\\Delta M = 0.61$, 95\\% CI $[0.57$, $0.65]$, $t(681,648) = 39.42$, $p < .001$\n",
       "\n",
       "- full_result for `metooctrl_sexstrikeorig` is \n",
       "\n",
       "  - $\\Delta M = -0.75$, 95\\% CI $[-0.84$, $-0.66]$, $t(681,648) = -21.18$, $p < .001$\n",
       "\n",
       "- full_result for `sexstrikectrl_metooorig` is \n",
       "\n",
       "  - $\\Delta M = 0.87$, 95\\% CI $[0.78$, $0.95]$, $t(681,648) = 25.93$, $p < .001$\n",
       "\n",
       "- full_result for `sexstrikectrl_sexstrikeorig` is \n",
       "\n",
       "  - $\\Delta M = -0.49$, 95\\% CI $[-0.61$, $-0.37]$, $t(681,648) = -10.62$, $p < .001$\n",
       "\n",
       "- full_result for `metooorig_sexstrikeorig` is \n",
       "\n",
       "  - $\\Delta M = -1.36$, 95\\% CI $[-1.45$, $-1.27]$, $t(681,648) = -38.14$, $p < .001$\n"
      ]
     },
     "metadata": {},
     "output_type": "display_data"
    }
   ],
   "source": [
    "display_markdown(apaMd(a2ag01PrcEm1_pairs_APA[\"full_result\"]))"
   ]
  },
  {
   "cell_type": "code",
   "execution_count": 198,
   "metadata": {},
   "outputs": [],
   "source": [
    "#                      ___           ___                    ___           ___                   \n",
    "#                     /\\  \\         /\\__\\                  /\\__\\         /\\  \\         _____    \n",
    "#        ___          \\:\\  \\       /:/ _/_                /:/ _/_        \\:\\  \\       /::\\  \\   \n",
    "#       /\\__\\          \\:\\  \\     /:/ /\\__\\              /:/ /\\__\\        \\:\\  \\     /:/\\:\\  \\  \n",
    "#      /:/  /      ___ /::\\  \\   /:/ /:/ _/_            /:/ /:/ _/_   _____\\:\\  \\   /:/  \\:\\__\\ \n",
    "#     /:/__/      /\\  /:/\\:\\__\\ /:/_/:/ /\\__\\          /:/_/:/ /\\__\\ /::::::::\\__\\ /:/__/ \\:|__|\n",
    "#    /::\\  \\      \\:\\/:/  \\/__/ \\:\\/:/ /:/  /          \\:\\/:/ /:/  / \\:\\~~\\~~\\/__/ \\:\\  \\ /:/  /\n",
    "#   /:/\\:\\  \\      \\::/__/       \\::/_/:/  /            \\::/_/:/  /   \\:\\  \\        \\:\\  /:/  / \n",
    "#   \\/__\\:\\  \\      \\:\\  \\        \\:\\/:/  /              \\:\\/:/  /     \\:\\  \\        \\:\\/:/  /  \n",
    "#        \\:\\__\\      \\:\\__\\        \\::/  /                \\::/  /       \\:\\__\\        \\::/  /   \n",
    "#         \\/__/       \\/__/         \\/__/                  \\/__/         \\/__/         \\/__/    \n",
    "#  \n",
    "\n",
    "\n"
   ]
  },
  {
   "cell_type": "markdown",
   "metadata": {},
   "source": [
    "# Handy plots"
   ]
  },
  {
   "cell_type": "markdown",
   "metadata": {},
   "source": [
    "Quote from: https://cran.r-project.org/web/packages/emmeans/vignettes/comparisons.html\n",
    "> The blue bars are confidence intervals for the EMMs, and the red arrows are for the comparisons among them. If an arrow from one mean overlaps an arrow from another group, the difference is not “significant,” based on the adjust setting (which defaults to \"tukey\") and the value of alpha (which defaults to 0.05). See the “xplanations” supplement for details on how these are derived."
   ]
  },
  {
   "cell_type": "code",
   "execution_count": 201,
   "metadata": {},
   "outputs": [
    {
     "data": {
      "image/png": "[encoded data removed]",
      "text/plain": [
       "plot without title"
      ]
     },
     "metadata": {
      "image/png": {
       "height": 240,
       "width": 480
      }
     },
     "output_type": "display_data"
    },
    {
     "data": {
      "image/png": "[encoded data removed]",
      "text/plain": [
       "plot without title"
      ]
     },
     "metadata": {
      "image/png": {
       "height": 240,
       "width": 480
      }
     },
     "output_type": "display_data"
    }
   ],
   "source": [
    "library(repr)\n",
    "options(repr.plot.width=8, repr.plot.height=4)\n",
    "# fig.height = 10\n",
    "# fig.width = 5\n",
    "plot(a1vb01PrcEm1, comparisons=TRUE, xlab=\"% Verb\")+\n",
    "coord_fixed(ratio = 0.4,xlim=c(3.00, 5.50),ylim=NULL,expand=TRUE,clip=\"on\")\n",
    "#+ \n",
    "#  theme(\n",
    "#      plot.margin = margin(.2,.2,.2,.2, \"cm\"),\n",
    "#      plot.background = element_rect(fill = \"darkgrey\")\n",
    "#  )\n",
    "\n",
    "plot(a2ag01PrcEm1, comparisons=TRUE, xlab=\"% Dict\")+\n",
    "coord_fixed(ratio = 0.4,xlim=c(3.00, 5.50),ylim=NULL,expand=TRUE,clip=\"on\")\n"
   ]
  },
  {
   "cell_type": "markdown",
   "metadata": {},
   "source": [
    "## Effect of TYPE (ctrl, orig) conditional on CAMP (#sexstrike, #metoo)"
   ]
  },
  {
   "cell_type": "code",
   "execution_count": 202,
   "metadata": {},
   "outputs": [],
   "source": [
    "a1vb01PrcEm2 <- emmeans(a1vb01Prc, specs<-c(\"TYPE\"), by<-\"CAMP\")\n",
    "a2ag01PrcEm2 <- emmeans(a2ag01Prc, specs<-c(\"TYPE\"), by<-\"CAMP\")"
   ]
  },
  {
   "cell_type": "code",
   "execution_count": 203,
   "metadata": {},
   "outputs": [
    {
     "data": {
      "text/plain": [
       "CAMP = metoo:\n",
       " TYPE emmean      SE     df lower.CL upper.CL\n",
       " ctrl  4.491 0.01031 681648    4.470    4.511\n",
       " orig  4.206 0.01067 681648    4.185    4.227\n",
       "\n",
       "CAMP = sexstrike:\n",
       " TYPE emmean      SE     df lower.CL upper.CL\n",
       " ctrl  4.828 0.03044 681648    4.769    4.888\n",
       " orig  5.105 0.03267 681648    5.041    5.169\n",
       "\n",
       "Confidence level used: 0.95 "
      ]
     },
     "metadata": {},
     "output_type": "display_data"
    }
   ],
   "source": [
    "a1vb01PrcEm2"
   ]
  },
  {
   "cell_type": "code",
   "execution_count": 204,
   "metadata": {},
   "outputs": [
    {
     "data": {
      "text/plain": [
       "CAMP = metoo:\n",
       " TYPE emmean     SE     df lower.CL upper.CL\n",
       " ctrl   4.02 0.0107 681648     4.00     4.04\n",
       " orig   3.41 0.0111 681648     3.39     3.43\n",
       "\n",
       "CAMP = sexstrike:\n",
       " TYPE emmean     SE     df lower.CL upper.CL\n",
       " ctrl   4.28 0.0315 681648     4.22     4.34\n",
       " orig   4.77 0.0338 681648     4.70     4.84\n",
       "\n",
       "Confidence level used: 0.95 "
      ]
     },
     "metadata": {},
     "output_type": "display_data"
    }
   ],
   "source": [
    "a2ag01PrcEm2"
   ]
  },
  {
   "cell_type": "code",
   "execution_count": 205,
   "metadata": {},
   "outputs": [
    {
     "data": {
      "text/plain": [
       "CAMP = metoo:\n",
       " contrast    estimate     SE     df t.ratio p.value\n",
       " ctrl - orig    0.285 0.0148 681648 19.175  <.0001 \n",
       "\n",
       "CAMP = sexstrike:\n",
       " contrast    estimate     SE     df t.ratio p.value\n",
       " ctrl - orig   -0.276 0.0447 681648 -6.192  <.0001 \n"
      ]
     },
     "metadata": {},
     "output_type": "display_data"
    }
   ],
   "source": [
    "pairs(a1vb01PrcEm2)"
   ]
  },
  {
   "cell_type": "code",
   "execution_count": 206,
   "metadata": {},
   "outputs": [
    {
     "data": {
      "text/plain": [
       "CAMP = metoo:\n",
       " contrast    estimate     SE     df t.ratio p.value\n",
       " ctrl - orig    0.606 0.0154 681648  39.423 <.0001 \n",
       "\n",
       "CAMP = sexstrike:\n",
       " contrast    estimate     SE     df t.ratio p.value\n",
       " ctrl - orig   -0.491 0.0463 681648 -10.620 <.0001 \n"
      ]
     },
     "metadata": {},
     "output_type": "display_data"
    }
   ],
   "source": [
    "pairs(a2ag01PrcEm2)"
   ]
  },
  {
   "cell_type": "code",
   "execution_count": 207,
   "metadata": {},
   "outputs": [
    {
     "data": {
      "text/plain": [
       "$`CAMP = metoo`\n",
       "\n",
       "\t Simultaneous Tests for General Linear Hypotheses\n",
       "\n",
       "Linear Hypotheses:\n",
       "                 Estimate Std. Error t value Pr(>|t|)    \n",
       "ctrl - orig == 0  0.28453    0.01484   19.18   <2e-16 ***\n",
       "---\n",
       "Signif. codes:  0 ‘***’ 0.001 ‘**’ 0.01 ‘*’ 0.05 ‘.’ 0.1 ‘ ’ 1\n",
       "(Adjusted p values reported -- free method)\n",
       "\n",
       "\n",
       "$`CAMP = sexstrike`\n",
       "\n",
       "\t Simultaneous Tests for General Linear Hypotheses\n",
       "\n",
       "Linear Hypotheses:\n",
       "                 Estimate Std. Error t value Pr(>|t|)    \n",
       "ctrl - orig == 0 -0.27649    0.04466  -6.192 5.96e-10 ***\n",
       "---\n",
       "Signif. codes:  0 ‘***’ 0.001 ‘**’ 0.01 ‘*’ 0.05 ‘.’ 0.1 ‘ ’ 1\n",
       "(Adjusted p values reported -- free method)\n",
       "\n"
      ]
     },
     "metadata": {},
     "output_type": "display_data"
    }
   ],
   "source": [
    "summary(as.glht(pairs(a1vb01PrcEm2)),test=TEST)"
   ]
  },
  {
   "cell_type": "code",
   "execution_count": 208,
   "metadata": {},
   "outputs": [
    {
     "data": {
      "text/plain": [
       "$`CAMP = metoo`\n",
       "\n",
       "\t Simultaneous Tests for General Linear Hypotheses\n",
       "\n",
       "Linear Hypotheses:\n",
       "                 Estimate Std. Error t value Pr(>|t|)    \n",
       "ctrl - orig == 0  0.60598    0.01537   39.42   <2e-16 ***\n",
       "---\n",
       "Signif. codes:  0 ‘***’ 0.001 ‘**’ 0.01 ‘*’ 0.05 ‘.’ 0.1 ‘ ’ 1\n",
       "(Adjusted p values reported -- free method)\n",
       "\n",
       "\n",
       "$`CAMP = sexstrike`\n",
       "\n",
       "\t Simultaneous Tests for General Linear Hypotheses\n",
       "\n",
       "Linear Hypotheses:\n",
       "                 Estimate Std. Error t value Pr(>|t|)    \n",
       "ctrl - orig == 0 -0.49126    0.04626  -10.62   <2e-16 ***\n",
       "---\n",
       "Signif. codes:  0 ‘***’ 0.001 ‘**’ 0.01 ‘*’ 0.05 ‘.’ 0.1 ‘ ’ 1\n",
       "(Adjusted p values reported -- free method)\n",
       "\n"
      ]
     },
     "metadata": {},
     "output_type": "display_data"
    }
   ],
   "source": [
    "summary(as.glht(pairs(a2ag01PrcEm2)),test=TEST)"
   ]
  },
  {
   "cell_type": "code",
   "execution_count": 289,
   "metadata": {},
   "outputs": [
    {
     "ename": "ERROR",
     "evalue": "Error in paste(CAMP, TYPE, \":\"): object 'CAMP' not found\n",
     "output_type": "error",
     "traceback": [
      "Error in paste(CAMP, TYPE, \":\"): object 'CAMP' not found\nTraceback:\n",
      "1. paste(CAMP, TYPE, \":\")"
     ]
    }
   ],
   "source": [
    "paste(CAMP,TYPE,\":\")"
   ]
  },
  {
   "cell_type": "code",
   "execution_count": 343,
   "metadata": {},
   "outputs": [
    {
     "name": "stderr",
     "output_type": "stream",
     "text": [
      "Warning message:\n",
      "“The labeller API has been updated. Labellers taking `variable` and `value` arguments are now deprecated. See labellers documentation.”\n"
     ]
    },
    {
     "data": {
      "image/png": "[encoded data removed]",
      "text/plain": [
       "plot without title"
      ]
     },
     "metadata": {
      "image/png": {
       "height": 480,
       "width": 600
      }
     },
     "output_type": "display_data"
    }
   ],
   "source": [
    "mLabels <- list(  \"vb01Prc\"     = \"verbs score\"\n",
    "                       , \"ag01Prc\"     = \"agency related dictionary items score\"\n",
    ")\n",
    "\n",
    "mLabeller <- function(variable,value){\n",
    "  return(mLabels[value])\n",
    "}\n",
    "\n",
    "options(repr.plot.width=10, repr.plot.height=8)\n",
    "jt0 <- position_dodge(width=0.0)\n",
    "gg0 <- df2 %>%\n",
    "    gather(Measurement,Value,vb01Prc,ag01Prc) %>%\n",
    "    ggplot(aes(x=reorder(paste(CAMP,TYPE),Value), y=Value, group=Measurement))\n",
    "\n",
    "gg0 <- gg0+stat_summary(position = jt0, geom = \"line\", fun = mean,aes(linetype=Measurement))\n",
    "\n",
    "# gg0 <- gg0+geom_line()\n",
    "gg0 <- gg0+stat_summary(position = jt0, geom = \"point\",    fun.data = mean_cl_normal, size  = 1.0)\n",
    "gg0 <- gg0+stat_summary(position = jt0, geom = \"errorbar\", fun.data = mean_cl_normal, width = 0.2)\n",
    "# Campaign (#metoo, #sesstrike) ⨯ data type\\n(target, control)\n",
    "gg0 <- gg0+scale_x_discrete(name =\"\",\n",
    "                            labels=c(\n",
    "                                \"metoo ctrl\"     = \"#metoo control\"\n",
    "                              , \"metoo orig\"     = \"#metoo target\"\n",
    "                              , \"sexstrike ctrl\" = \"#sexstrike control\"\n",
    "                              , \"sexstrike orig\" = \"#sexstrike target\"\n",
    "                            ))\n",
    "# Measurement\n",
    "gg0 <- gg0+scale_linetype_discrete(name =\"\",\n",
    "                                labels=c(\n",
    "                                    \"vb01Prc\"     = \"verbs score\"\n",
    "                                  , \"ag01Prc\"     = \"agency related dictionary items score\"\n",
    "                            ))\n",
    "\n",
    "\n",
    "# gg0 <- gg0+facet_grid( cols = vars(CAMP))\n",
    "gg0 <- gg0+theme_bw()\n",
    "gg0 <- gg0+theme(legend.position=\"bottom\")\n",
    "gg0 <- gg0+theme(text=element_text(size=22))\n",
    "gg0 <- gg0+theme(text=element_text(family=\"Times\"))\n",
    "gg0 <- gg0+theme(axis.text.x = element_text(angle = 45,vjust = 1, hjust=1))\n",
    "# rows = vars(TYPE)\n",
    "gg0 <- gg0+facet_grid(cols = vars(Measurement),labeller = mLabeller)\n",
    "\n",
    "gg0"
   ]
  },
  {
   "cell_type": "markdown",
   "metadata": {},
   "source": [
    "sample mean and 95% confidence intervals "
   ]
  },
  {
   "cell_type": "code",
   "execution_count": 252,
   "metadata": {},
   "outputs": [
    {
     "data": {
      "image/png": "[encoded data removed]",
      "text/plain": [
       "plot without title"
      ]
     },
     "metadata": {
      "image/png": {
       "height": 240,
       "width": 480
      }
     },
     "output_type": "display_data"
    },
    {
     "data": {
      "image/png": "[encoded data removed]",
      "text/plain": [
       "plot without title"
      ]
     },
     "metadata": {
      "image/png": {
       "height": 240,
       "width": 480
      }
     },
     "output_type": "display_data"
    }
   ],
   "source": [
    "library(repr)\n",
    "options(repr.plot.width=8, repr.plot.height=4)\n",
    "# fig.height = 10\n",
    "# fig.width = 5\n",
    "plot(a1vb01PrcEm1, comparisons=TRUE, xlab=\"% Verb\")+\n",
    "coord_fixed(ratio = 0.4,xlim=c(3.0, 5.5),ylim=NULL,expand=TRUE,clip=\"on\")\n",
    "#+ \n",
    "#  theme(\n",
    "#      plot.margin = margin(.2,.2,.2,.2, \"cm\"),\n",
    "#      plot.background = element_rect(fill = \"darkgrey\")\n",
    "#  )\n",
    "\n",
    "plot(a2ag01PrcEm1, comparisons=TRUE, xlab=\"% Dict\")+\n",
    "coord_fixed(ratio = 0.4,xlim=c(3.0, 5.5),ylim=NULL,expand=TRUE,clip=\"on\")"
   ]
  },
  {
   "cell_type": "code",
   "execution_count": 211,
   "metadata": {},
   "outputs": [
    {
     "data": {
      "image/png": "[encoded data removed]",
      "text/plain": [
       "plot without title"
      ]
     },
     "metadata": {
      "image/png": {
       "height": 240,
       "width": 480
      }
     },
     "output_type": "display_data"
    },
    {
     "data": {
      "image/png": "[encoded data removed]",
      "text/plain": [
       "plot without title"
      ]
     },
     "metadata": {
      "image/png": {
       "height": 240,
       "width": 480
      }
     },
     "output_type": "display_data"
    }
   ],
   "source": [
    "library(repr)\n",
    "options(repr.plot.width=8, repr.plot.height=4)\n",
    "# fig.height = 10\n",
    "# fig.width = 5\n",
    "plot(a1vb01PrcEm2, comparisons=TRUE, xlab=\"% Verb\")+\n",
    "coord_fixed(ratio = 0.4,xlim=c(3.00, 5.50),ylim=NULL,expand=TRUE,clip=\"on\")\n",
    "#+ \n",
    "#  theme(\n",
    "#      plot.margin = margin(.2,.2,.2,.2, \"cm\"),\n",
    "#      plot.background = element_rect(fill = \"darkgrey\")\n",
    "#  )\n",
    "\n",
    "plot(a2ag01PrcEm2, comparisons=TRUE, xlab=\"% Dict\")+\n",
    "coord_fixed(ratio = 0.4,xlim=c(3.00, 5.50),ylim=NULL,expand=TRUE,clip=\"on\")\n"
   ]
  },
  {
   "cell_type": "code",
   "execution_count": null,
   "metadata": {},
   "outputs": [],
   "source": []
  },
  {
   "cell_type": "code",
   "execution_count": null,
   "metadata": {},
   "outputs": [],
   "source": []
  },
  {
   "cell_type": "markdown",
   "metadata": {},
   "source": [
    "# Helpers"
   ]
  },
  {
   "cell_type": "code",
   "execution_count": null,
   "metadata": {},
   "outputs": [],
   "source": [
    "?mixed"
   ]
  },
  {
   "cell_type": "code",
   "execution_count": null,
   "metadata": {},
   "outputs": [],
   "source": [
    "?scale"
   ]
  },
  {
   "cell_type": "code",
   "execution_count": null,
   "metadata": {},
   "outputs": [],
   "source": [
    "?lmer"
   ]
  },
  {
   "cell_type": "code",
   "execution_count": null,
   "metadata": {},
   "outputs": [],
   "source": [
    "?aov_4"
   ]
  },
  {
   "cell_type": "code",
   "execution_count": null,
   "metadata": {},
   "outputs": [],
   "source": [
    "?emmeans"
   ]
  },
  {
   "cell_type": "code",
   "execution_count": null,
   "metadata": {},
   "outputs": [],
   "source": [
    "?coord_fixed"
   ]
  },
  {
   "cell_type": "markdown",
   "metadata": {},
   "source": [
    "# Extras"
   ]
  },
  {
   "cell_type": "code",
   "execution_count": null,
   "metadata": {},
   "outputs": [],
   "source": [
    "df2$retweets <- as.numeric(df2$retweets) # TODO FIXME This should be fixed elsewhere!"
   ]
  },
  {
   "cell_type": "code",
   "execution_count": null,
   "metadata": {
    "scrolled": true
   },
   "outputs": [],
   "source": [
    "df2$ReTw <- cut(df2$retweets,\n",
    "                breaks=c(0, 5, 25, 125, Inf), \n",
    "                right  = FALSE,\n",
    "              # labels=c(\"low\",\"med\",\"high\",\"viral\")\n",
    "               )\n",
    "\n",
    "str(df2)"
   ]
  },
  {
   "cell_type": "markdown",
   "metadata": {},
   "source": [
    "# Playground"
   ]
  },
  {
   "cell_type": "code",
   "execution_count": null,
   "metadata": {},
   "outputs": [],
   "source": [
    "plot_grid(\n",
    "  afex_plot(\n",
    "      a1vb01Prc, \n",
    "      x=\"TYPE\", \n",
    "      trace=\"CAMP\",\n",
    "      error = \"between\", \n",
    "      data_geom = geom_quasirandom, \n",
    "      data_alpha = 0.3) + \n",
    "    coord_cartesian(ylim = c(0, 1)),\n",
    "  afex_plot(\n",
    "      a2ag01Prc, \n",
    "      x=\"TYPE\", \n",
    "      trace=\"CAMP\",\n",
    "      error = \"between\", \n",
    "      data_geom = geom_quasirandom, \n",
    "      data_alpha = 0.3) +\n",
    "    coord_cartesian(ylim = c(0, 1))\n",
    ")"
   ]
  },
  {
   "cell_type": "code",
   "execution_count": null,
   "metadata": {},
   "outputs": [],
   "source": [
    "qqPlot(a1vb01Prc$aov$residuals)"
   ]
  },
  {
   "cell_type": "code",
   "execution_count": null,
   "metadata": {},
   "outputs": [],
   "source": [
    "qqPlot(a2ag01Prc$aov$residuals)"
   ]
  },
  {
   "cell_type": "code",
   "execution_count": null,
   "metadata": {},
   "outputs": [],
   "source": [
    "shapiro.test(a1vb01Prc$aov$residuals)"
   ]
  },
  {
   "cell_type": "code",
   "execution_count": null,
   "metadata": {},
   "outputs": [],
   "source": [
    "shapiro.test(a2ag01Prc$aov$residuals)"
   ]
  },
  {
   "cell_type": "code",
   "execution_count": null,
   "metadata": {},
   "outputs": [],
   "source": [
    "ad.test(a1vb01Prc$aov$residuals)$p.value"
   ]
  },
  {
   "cell_type": "code",
   "execution_count": null,
   "metadata": {},
   "outputs": [],
   "source": [
    "ad.test(a2ag01Prc$aov$residuals)$p.value"
   ]
  },
  {
   "cell_type": "code",
   "execution_count": null,
   "metadata": {},
   "outputs": [],
   "source": [
    "test_levene(a1vb01Prc)"
   ]
  },
  {
   "cell_type": "code",
   "execution_count": null,
   "metadata": {},
   "outputs": [],
   "source": [
    "test_levene(a2ag01Prc)"
   ]
  },
  {
   "cell_type": "code",
   "execution_count": null,
   "metadata": {},
   "outputs": [],
   "source": [
    "library(\"pwr\")"
   ]
  },
  {
   "cell_type": "code",
   "execution_count": null,
   "metadata": {},
   "outputs": [],
   "source": [
    "?pwr.anova.test"
   ]
  },
  {
   "cell_type": "code",
   "execution_count": null,
   "metadata": {},
   "outputs": [],
   "source": [
    "?summary"
   ]
  },
  {
   "cell_type": "code",
   "execution_count": null,
   "metadata": {},
   "outputs": [],
   "source": [
    "convert_ipynb"
   ]
  },
  {
   "cell_type": "code",
   "execution_count": null,
   "metadata": {},
   "outputs": [],
   "source": [
    "?apa_print\n"
   ]
  },
  {
   "cell_type": "code",
   "execution_count": null,
   "metadata": {},
   "outputs": [],
   "source": [
    "methods(\"apa_print\")"
   ]
  },
  {
   "cell_type": "code",
   "execution_count": null,
   "metadata": {},
   "outputs": [],
   "source": []
  }
 ],
 "metadata": {
  "kernelspec": {
   "display_name": "R",
   "language": "R",
   "name": "ir"
  },
  "language_info": {
   "codemirror_mode": "r",
   "file_extension": ".r",
   "mimetype": "text/x-r-source",
   "name": "R",
   "pygments_lexer": "r",
   "version": "3.6.3"
  }
 },
 "nbformat": 4,
 "nbformat_minor": 4
}
