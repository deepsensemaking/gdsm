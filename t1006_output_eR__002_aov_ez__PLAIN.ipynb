{
 "cells": [
  {
   "cell_type": "markdown",
   "metadata": {},
   "source": [
    "# Useful links"
   ]
  },
  {
   "cell_type": "markdown",
   "metadata": {},
   "source": [
    "- [ ] https://cran.r-project.org/web/packages/afex/vignettes/introduction-mixed-models.pdf\n",
    "- [ ] https://cran.r-project.org/web/packages/afex/afex.pdf\n",
    "- [ ] https://cran.r-project.org/web/packages/afex/index.html\n",
    "- [ ] https://cran.r-project.org/web/packages/afex/vignettes/afex_analysing_accuracy_data.html\n",
    "- [ ] https://cran.r-project.org/web/packages/afex/vignettes/afex_anova_example.html\n",
    "- [ ] https://cran.r-project.org/web/packages/afex/vignettes/afex_mixed_example.html\n",
    "- [ ] https://cran.r-project.org/web/packages/emmeans/vignettes/comparisons.html\n",
    "- [ ] https://cran.r-project.org/web/packages/emmeans/vignettes/messy-data.html\n",
    "- [ ] https://cran.r-project.org/web/packages/emmeans/vignettes/interactions.html\n",
    "- [ ] https://cran.r-project.org/web/packages/emmeans/vignettes/basics.html\n",
    "- [ ] https://cran.r-project.org/web/packages/afex/vignettes/afex_mixed_example.html"
   ]
  },
  {
   "cell_type": "markdown",
   "metadata": {},
   "source": [
    "- [ ] https://osf.io/nfwx7/"
   ]
  },
  {
   "cell_type": "markdown",
   "metadata": {},
   "source": [
    "- [ ] https://stats.stackexchange.com/questions/13166/rs-lmer-cheat-sheet"
   ]
  },
  {
   "cell_type": "markdown",
   "metadata": {},
   "source": [
    "# Setup"
   ]
  },
  {
   "cell_type": "markdown",
   "metadata": {},
   "source": [
    "## Imports"
   ]
  },
  {
   "cell_type": "code",
   "execution_count": 16,
   "metadata": {},
   "outputs": [],
   "source": [
    "library(\"dplyr\")\n",
    "library(\"tidyr\")\n",
    "library(\"afex\")     # provides mixed() and attaches lme4 automatically.\n",
    "library(\"emmeans\")  # follow-up tests.\n",
    "library(\"multcomp\") # advanced control for multiple testing/Type 1 errors.\n",
    "library(\"ggplot2\")"
   ]
  },
  {
   "cell_type": "code",
   "execution_count": 17,
   "metadata": {},
   "outputs": [],
   "source": [
    "library(\"car\")\n",
    "require(\"lattice\")\n",
    "require(\"ez\")"
   ]
  },
  {
   "cell_type": "markdown",
   "metadata": {},
   "source": [
    "## Settings"
   ]
  },
  {
   "cell_type": "code",
   "execution_count": 18,
   "metadata": {},
   "outputs": [],
   "source": [
    "theme_set(theme_bw(base_size = 15) +\n",
    "            theme(legend.position=\"bottom\",\n",
    "                  panel.grid.major.x = element_blank()))"
   ]
  },
  {
   "cell_type": "code",
   "execution_count": 19,
   "metadata": {},
   "outputs": [],
   "source": [
    "options(width=120)"
   ]
  },
  {
   "cell_type": "markdown",
   "metadata": {},
   "source": [
    "# Create output directory"
   ]
  },
  {
   "cell_type": "code",
   "execution_count": 20,
   "metadata": {},
   "outputs": [],
   "source": [
    "dir.create(\"data/t1007\",showWarnings = FALSE,recursive = TRUE)"
   ]
  },
  {
   "cell_type": "markdown",
   "metadata": {},
   "source": [
    "## Handy functions"
   ]
  },
  {
   "cell_type": "markdown",
   "metadata": {},
   "source": [
    "### Function for logging information BEFORE execution"
   ]
  },
  {
   "cell_type": "code",
   "execution_count": 21,
   "metadata": {},
   "outputs": [],
   "source": [
    "logging0 <- function(ifName,infoStr=\"\"){\n",
    "    t0 <- Sys.time()\n",
    "    s0 <- gsub(\"\\\\s\",\"_\",t0)\n",
    "    s1 <- gsub(\"^.\",\"\",tempfile(\"\",\"\",\"\"))\n",
    "    s2 <- gsub(\"/t1006/\",\"/t1007/\",ifName)\n",
    "    ofName <- paste(paste(s2,\"\",s0,\"\",s1,infoStr,\"_nrow\",nrow(df3),sep=\"_\"),\".RData\",sep=\"\")\n",
    "    lfName = paste(ofName ,\".LOG.txt\" ,sep=\"\" ,collapse = \"\")\n",
    "    log_msg <- toString(paste(\n",
    "        paste(\"logs0\" ,toString(lfName)     ,sep=\": \" ,collapse = \"\")\n",
    "      , paste(\"time0\" ,toString(Sys.time()) ,sep=\": \" ,collapse = \"\")\n",
    "      , paste(\"nrows\" ,toString(nrow(df3))  ,sep=\": \" ,collapse = \"\")\n",
    "      , paste(\"ncols\" ,toString(ncol(df3))  ,sep=\": \" ,collapse = \"\")\n",
    "      , paste(\"vList\" ,toString(ls())       ,sep=\": \" ,collapse = \"\")\n",
    "      , paste(\"oSave\" ,toString(ofName)     ,sep=\": \" ,collapse = \"\")        \n",
    "      , \"\\n\"\n",
    "      , sep=\"\\n\"))\n",
    "    cat(log_msg)\n",
    "    write(paste(log_msg) ,file=lfName ,append=TRUE)\n",
    "    return(list(\"ofName\"=ofName,\"lfName\"=lfName,\"t0\"=t0))\n",
    "}"
   ]
  },
  {
   "cell_type": "markdown",
   "metadata": {},
   "source": [
    "### Function for logging information AFTER execution"
   ]
  },
  {
   "cell_type": "code",
   "execution_count": 22,
   "metadata": {},
   "outputs": [],
   "source": [
    "logging1 <- function(lfName,t0){\n",
    "    t1 <- Sys.time()\n",
    "    d1 <- t1-t0\n",
    "    log_msg <- toString(paste(\n",
    "        paste(\"time1\" ,toString(Sys.time()) ,sep=\": \" ,collapse = \"\")\n",
    "      , paste(\"diff1\" ,capture.output(d1)   ,sep=\": \" ,collapse = \"\")\n",
    "      , \"\\n\"\n",
    "      , sep=\"\\n\"))\n",
    "    cat(log_msg)\n",
    "    write(paste(log_msg) ,file=lfName ,append=TRUE)\n",
    "    return(list(\"d1\" = d1))\n",
    "}"
   ]
  },
  {
   "cell_type": "markdown",
   "metadata": {},
   "source": [
    "# Load data"
   ]
  },
  {
   "cell_type": "markdown",
   "metadata": {},
   "source": [
    "Depending on how much data you want to include select a file to be loaded (either by executing relevant cell or by clicking ↑ or ↓ above to move cells up or down, the last executed cell containing `ifName` defines the file to be loaded)."
   ]
  },
  {
   "cell_type": "code",
   "execution_count": 23,
   "metadata": {},
   "outputs": [],
   "source": [
    "ifName=\"data/t1006/bigDF__df1.RData\" # 752554 obs"
   ]
  },
  {
   "cell_type": "code",
   "execution_count": 24,
   "metadata": {},
   "outputs": [],
   "source": [
    "load(file=ifName)"
   ]
  },
  {
   "cell_type": "markdown",
   "metadata": {},
   "source": [
    "## Select less"
   ]
  },
  {
   "cell_type": "code",
   "execution_count": 26,
   "metadata": {},
   "outputs": [
    {
     "ename": "ERROR",
     "evalue": "Error in select(df1, LBL): unused argument (LBL)\n",
     "output_type": "error",
     "traceback": [
      "Error in select(df1, LBL): unused argument (LBL)\nTraceback:\n"
     ]
    }
   ],
   "source": [
    "df2 <- select(\n",
    "    df1\n",
    "  , LBL\n",
    "  , wordCnt\n",
    "  , vb01Cnt\n",
    "  , nn01Cnt\n",
    "  , ag01Cnt\n",
    "  , ag02Cnt\n",
    "  , vb01Prc\n",
    "  , nn01Prc\n",
    "  , ag01Prc\n",
    "  , ag02Prc\n",
    "  , ID\n",
    ")"
   ]
  },
  {
   "cell_type": "markdown",
   "metadata": {},
   "source": [
    "## Split label"
   ]
  },
  {
   "cell_type": "code",
   "execution_count": null,
   "metadata": {},
   "outputs": [],
   "source": []
  },
  {
   "cell_type": "markdown",
   "metadata": {},
   "source": [
    "# Quick look at data"
   ]
  },
  {
   "cell_type": "code",
   "execution_count": 15,
   "metadata": {},
   "outputs": [
    {
     "name": "stdout",
     "output_type": "stream",
     "text": [
      "'data.frame':\t752554 obs. of  28 variables:\n",
      " $ LBL              : Factor w/ 4 levels \"metoo_ctrl\",\"metoo_orig\",..: 1 1 1 1 1 1 1 1 1 1 ...\n",
      " $ wordCnt          : num  11 7 11 27 30 26 8 12 12 23 ...\n",
      " $ vb01Cnt          : num  0 0 0 2 0 0 1 0 1 0 ...\n",
      " $ nn01Cnt          : num  1 2 0 2 3 4 1 4 1 4 ...\n",
      " $ ag01Cnt          : num  0 0 0 0 1 1 0 0 1 2 ...\n",
      " $ ag02Cnt          : num  0 0 0 0 1 0 0 0 1 0 ...\n",
      " $ vb01Prc          : num  0 0 0 0.0741 0 ...\n",
      " $ nn01Prc          : num  0.0909 0.2857 0 0.0741 0.1 ...\n",
      " $ ag01Prc          : num  0 0 0 0 0.0333 ...\n",
      " $ ag02Prc          : num  0 0 0 0 0.0333 ...\n",
      " $ ID               : chr  \"919714354467045376\" \"919714354479722496\" \"919714354500653056\" \"919714354542600192\" ...\n",
      " $ tweet_url        : chr  \"/IamJonesy3/status/919714354467045376\" \"/CCmee_/status/919714354479722496\" \"/SarahJaneVlogs/status/919714354500653057\" \"/queentyreen/status/919714354542600195\" ...\n",
      " $ user_id          : chr  \"588400632\" \"242582835\" \"29298715\" \"3290716455\" ...\n",
      " $ username         : chr  \"Kevin Jones\" \"CC\" \"Sarah Jane Allen\" \"spliff 🍓\" ...\n",
      " $ screen_name      : chr  \"IamJonesy3\" \"CCmee_\" \"SarahJaneVlogs\" \"queentyreen\" ...\n",
      " $ text             : chr  \"Not the same as having it in Fenway, but still great!\" \"Looking forward to this three day week\" \"I don't like how calm it is out right now\" \"Whenever someone says they're her fav I roll my eyes there's so many other great pornstars she just happens to \"| __truncated__ ...\n",
      " $ twitTokCFD_VB_lst: chr  \"[]\" \"[]\" \"[]\" \"['roll', 'be']\" ...\n",
      " $ twitTokCFD_NN_lst: chr  \"['fenway']\" \"['day', 'week']\" \"[]\" \"['someone', 'fav']\" ...\n",
      " $ hashtags         : chr  \"[]\" \"[]\" \"[]\" \"[]\" ...\n",
      " $ is_replied       : logi  TRUE FALSE FALSE TRUE FALSE TRUE ...\n",
      " $ is_reply_to      : logi  TRUE FALSE FALSE TRUE FALSE FALSE ...\n",
      " $ likes            : num  1 0 1 0 0 38 0 0 1 1 ...\n",
      " $ parent_tweet_id  : chr  \"919272132848312320\" NA NA \"919648304752939008\" ...\n",
      " $ replies          : num  1 0 0 1 0 5 0 0 0 0 ...\n",
      " $ reply_to_users   : chr  \"[{'screen_name': 'IamJonesy3', 'user_id': '588400632'}, {'screen_name': 'crepecreationSC', 'user_id': '90774588\"| __truncated__ \"[]\" \"[]\" \"[{'screen_name': 'velvet_fxwn', 'user_id': '805921927420379137'}]\" ...\n",
      " $ retweets         : chr  \"0\" \"0\" \"0\" \"0\" ...\n",
      " $ timestamp        : chr  \"2017-10-15 23:59:24\" \"2017-10-15 23:59:24\" \"2017-10-15 23:59:24\" \"2017-10-15 23:59:24\" ...\n",
      " $ date             : Date, format: \"2017-10-15\" \"2017-10-15\" \"2017-10-15\" \"2017-10-15\" ...\n"
     ]
    }
   ],
   "source": [
    "str(df1)"
   ]
  },
  {
   "cell_type": "code",
   "execution_count": null,
   "metadata": {},
   "outputs": [],
   "source": [
    "summary(df2)"
   ]
  },
  {
   "cell_type": "code",
   "execution_count": null,
   "metadata": {},
   "outputs": [],
   "source": [
    "df2 %>%\n",
    "    group_by(CAMP,TYPE) %>%\n",
    "    summarise(n = n(), .groups = \"drop\") "
   ]
  },
  {
   "cell_type": "markdown",
   "metadata": {},
   "source": [
    "# Model definition"
   ]
  },
  {
   "cell_type": "markdown",
   "metadata": {},
   "source": [
    "| variable/factor type        | variable name | symbol |\n",
    "|:----------------------------|:--------------|--------|\n",
    "| observation unit (tweet_id) | ID            | u1     |\n",
    "| outcome (dependent)         | MEAS_VALUE    | d1     |\n",
    "| between tweet               | CAMP          | b1     |\n",
    "| between tweet               | TYPE          | b2     |\n",
    "| within tweet                | MEAS_LEVEL    | w1     |"
   ]
  },
  {
   "cell_type": "markdown",
   "metadata": {},
   "source": [
    "## Formula 0"
   ]
  },
  {
   "cell_type": "code",
   "execution_count": null,
   "metadata": {},
   "outputs": [],
   "source": [
    "# by-ID random intercepts and by-ID random slopes for MEAS_LEVEL\n",
    "FORMULA <- MEAS_VALUE~CAMP*TYPE*MEAS_LEVEL+(MEAS_LEVEL||ID)"
   ]
  },
  {
   "cell_type": "code",
   "execution_count": null,
   "metadata": {},
   "outputs": [],
   "source": [
    "# by-ID random intercepts\n",
    "FORMULA <- MEAS_VALUE~CAMP*TYPE*MEAS_LEVEL+(1|ID) "
   ]
  },
  {
   "cell_type": "code",
   "execution_count": null,
   "metadata": {},
   "outputs": [],
   "source": [
    "CONTROL <- lmerControl(optCtrl=list(maxfun=1e7))"
   ]
  },
  {
   "cell_type": "code",
   "execution_count": null,
   "metadata": {},
   "outputs": [],
   "source": [
    "CONTROL <- lmerControl(optCtrl=list(maxfun=1e6))"
   ]
  },
  {
   "cell_type": "code",
   "execution_count": null,
   "metadata": {},
   "outputs": [],
   "source": [
    "METHOD <- \"LRT\" # calculates p-vals via the likelihood ratio tests (use if random factors have > 50 levels)"
   ]
  },
  {
   "cell_type": "code",
   "execution_count": null,
   "metadata": {},
   "outputs": [],
   "source": [
    "METHOD <- \"KR\"  # Kenward-Roger approximation for degrees of freedom"
   ]
  },
  {
   "cell_type": "code",
   "execution_count": null,
   "metadata": {},
   "outputs": [],
   "source": [
    "METHOD <- \"S\"   # Satterthwaite approximation for degrees of freedom"
   ]
  },
  {
   "cell_type": "code",
   "execution_count": null,
   "metadata": {},
   "outputs": [],
   "source": [
    "log0 <- logging0(ifName,infoStr=\"_AFEX_MIXED_formula0\")\n",
    "m0.0 <- mixed(\n",
    "    formula   = FORMULA,\n",
    "    data      = df3,\n",
    "    control   = CONTROL,\n",
    "    method    = METHOD,\n",
    "    expand_re = TRUE\n",
    ")\n",
    "save(m0.0,file=log0$ofName)\n",
    "log1 <- logging1(log0$lfName,log0$t0)"
   ]
  },
  {
   "cell_type": "code",
   "execution_count": null,
   "metadata": {},
   "outputs": [],
   "source": [
    "m0.0"
   ]
  },
  {
   "cell_type": "markdown",
   "metadata": {},
   "source": [
    "## Formula 1"
   ]
  },
  {
   "cell_type": "code",
   "execution_count": null,
   "metadata": {},
   "outputs": [],
   "source": [
    "# by-ID random intercepts and by-ID random slopes for MEAS_LEVEL\n",
    "FORMULA <- MEAS_VALUE~CAMP*TYPE*MEAS_LEVEL+(MEAS_LEVEL||ID)\n",
    "\n",
    "\n",
    "# TODO: FIXME: CHECK THIS OUT !!!\n",
    "CONTROL <- lmerControl(optCtrl=list(maxfun=1e9))"
   ]
  },
  {
   "cell_type": "code",
   "execution_count": null,
   "metadata": {},
   "outputs": [],
   "source": [
    "log0 <- logging0(ifName,infoStr=\"_AFEX_MIXED_formula1\")\n",
    "m0.1 <- mixed(\n",
    "    formula   = FORMULA,\n",
    "    data      = df3,\n",
    "    control   = CONTROL,\n",
    "    method    = METHOD,\n",
    "    expand_re = TRUE\n",
    ")\n",
    "save(m0.1,file=log0$ofName)\n",
    "log1 <- logging1(log0$lfName,log0$t0)"
   ]
  },
  {
   "cell_type": "code",
   "execution_count": null,
   "metadata": {},
   "outputs": [],
   "source": [
    "m0.1"
   ]
  },
  {
   "cell_type": "markdown",
   "metadata": {},
   "source": [
    "# Quick look at models"
   ]
  },
  {
   "cell_type": "code",
   "execution_count": null,
   "metadata": {},
   "outputs": [],
   "source": [
    "m0.0"
   ]
  },
  {
   "cell_type": "code",
   "execution_count": null,
   "metadata": {},
   "outputs": [],
   "source": [
    "m0.1"
   ]
  },
  {
   "cell_type": "markdown",
   "metadata": {},
   "source": [
    "## Select model for further inspection"
   ]
  },
  {
   "cell_type": "code",
   "execution_count": null,
   "metadata": {},
   "outputs": [],
   "source": [
    "m0 <- m0.1"
   ]
  },
  {
   "cell_type": "code",
   "execution_count": null,
   "metadata": {},
   "outputs": [],
   "source": [
    "m0 <- m0.0"
   ]
  },
  {
   "cell_type": "code",
   "execution_count": null,
   "metadata": {},
   "outputs": [],
   "source": [
    "summary(m0)$varcor"
   ]
  },
  {
   "cell_type": "code",
   "execution_count": null,
   "metadata": {},
   "outputs": [],
   "source": [
    "m3.0 <- emmeans(m0, c(\"CAMP\", \"TYPE\", \"MEAS_LEVEL\"))\n",
    "m3.0"
   ]
  },
  {
   "cell_type": "code",
   "execution_count": null,
   "metadata": {},
   "outputs": [],
   "source": [
    "pairs(m3.0)"
   ]
  },
  {
   "cell_type": "code",
   "execution_count": null,
   "metadata": {},
   "outputs": [],
   "source": [
    "summary(as.glht(pairs(m3.0)), test=adjusted(\"free\"))"
   ]
  },
  {
   "cell_type": "code",
   "execution_count": null,
   "metadata": {},
   "outputs": [],
   "source": [
    "m2.0 <- emmeans(m0,c(\"CAMP\",\"TYPE\"))\n",
    "m2.0\n",
    "pairs(m2.0)\n",
    "summary(as.glht(pairs(m2.0)),test=adjusted(\"free\"))\n"
   ]
  },
  {
   "cell_type": "code",
   "execution_count": null,
   "metadata": {},
   "outputs": [],
   "source": []
  },
  {
   "cell_type": "markdown",
   "metadata": {},
   "source": [
    "# Helpers"
   ]
  },
  {
   "cell_type": "code",
   "execution_count": null,
   "metadata": {},
   "outputs": [],
   "source": [
    "?mixed"
   ]
  }
 ],
 "metadata": {
  "kernelspec": {
   "display_name": "R",
   "language": "R",
   "name": "ir"
  },
  "language_info": {
   "codemirror_mode": "r",
   "file_extension": ".r",
   "mimetype": "text/x-r-source",
   "name": "R",
   "pygments_lexer": "r",
   "version": "3.6.3"
  }
 },
 "nbformat": 4,
 "nbformat_minor": 4
}
