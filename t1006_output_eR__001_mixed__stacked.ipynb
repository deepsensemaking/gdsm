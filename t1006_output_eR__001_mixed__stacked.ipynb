{
 "cells": [
  {
   "cell_type": "markdown",
   "metadata": {},
   "source": [
    "# Useful links"
   ]
  },
  {
   "cell_type": "markdown",
   "metadata": {},
   "source": [
    "- [ ] https://cran.r-project.org/web/packages/afex/vignettes/introduction-mixed-models.pdf\n",
    "- [ ] https://cran.r-project.org/web/packages/afex/afex.pdf\n",
    "- [ ] https://cran.r-project.org/web/packages/afex/index.html\n",
    "- [ ] https://cran.r-project.org/web/packages/afex/vignettes/afex_analysing_accuracy_data.html\n",
    "- [ ] https://cran.r-project.org/web/packages/afex/vignettes/afex_anova_example.html\n",
    "- [ ] https://cran.r-project.org/web/packages/afex/vignettes/afex_mixed_example.html\n",
    "- [ ] https://cran.r-project.org/web/packages/emmeans/vignettes/comparisons.html\n",
    "- [ ] https://cran.r-project.org/web/packages/emmeans/vignettes/messy-data.html\n",
    "- [ ] https://cran.r-project.org/web/packages/emmeans/vignettes/interactions.html\n",
    "- [ ] https://cran.r-project.org/web/packages/emmeans/vignettes/basics.html\n",
    "- [ ] https://cran.r-project.org/web/packages/afex/vignettes/afex_mixed_example.html"
   ]
  },
  {
   "cell_type": "markdown",
   "metadata": {},
   "source": [
    "- [ ] https://osf.io/nfwx7/"
   ]
  },
  {
   "cell_type": "markdown",
   "metadata": {},
   "source": [
    "- [ ] https://stats.stackexchange.com/questions/13166/rs-lmer-cheat-sheet"
   ]
  },
  {
   "cell_type": "markdown",
   "metadata": {},
   "source": [
    "# Setup"
   ]
  },
  {
   "cell_type": "markdown",
   "metadata": {},
   "source": [
    "## Imports"
   ]
  },
  {
   "cell_type": "code",
   "execution_count": 1,
   "metadata": {},
   "outputs": [
    {
     "name": "stderr",
     "output_type": "stream",
     "text": [
      "\n",
      "Attaching package: ‘dplyr’\n",
      "\n",
      "\n",
      "The following objects are masked from ‘package:stats’:\n",
      "\n",
      "    filter, lag\n",
      "\n",
      "\n",
      "The following objects are masked from ‘package:base’:\n",
      "\n",
      "    intersect, setdiff, setequal, union\n",
      "\n",
      "\n",
      "Loading required package: lme4\n",
      "\n",
      "Loading required package: Matrix\n",
      "\n",
      "\n",
      "Attaching package: ‘Matrix’\n",
      "\n",
      "\n",
      "The following objects are masked from ‘package:tidyr’:\n",
      "\n",
      "    expand, pack, unpack\n",
      "\n",
      "\n",
      "Registered S3 methods overwritten by 'car':\n",
      "  method                          from\n",
      "  influence.merMod                lme4\n",
      "  cooks.distance.influence.merMod lme4\n",
      "  dfbeta.influence.merMod         lme4\n",
      "  dfbetas.influence.merMod        lme4\n",
      "\n",
      "************\n",
      "Welcome to afex. For support visit: http://afex.singmann.science/\n",
      "\n",
      "- Functions for ANOVAs: aov_car(), aov_ez(), and aov_4()\n",
      "- Methods for calculating p-values with mixed(): 'KR', 'S', 'LRT', and 'PB'\n",
      "- 'afex_aov' and 'mixed' objects can be passed to emmeans() for follow-up tests\n",
      "- NEWS: library('emmeans') now needs to be called explicitly!\n",
      "- Get and set global package options with: afex_options()\n",
      "- Set orthogonal sum-to-zero contrasts globally: set_sum_contrasts()\n",
      "- For example analyses see: browseVignettes(\"afex\")\n",
      "************\n",
      "\n",
      "\n",
      "Attaching package: ‘afex’\n",
      "\n",
      "\n",
      "The following object is masked from ‘package:lme4’:\n",
      "\n",
      "    lmer\n",
      "\n",
      "\n",
      "Loading required package: mvtnorm\n",
      "\n",
      "Loading required package: survival\n",
      "\n",
      "Loading required package: TH.data\n",
      "\n",
      "Loading required package: MASS\n",
      "\n",
      "\n",
      "Attaching package: ‘MASS’\n",
      "\n",
      "\n",
      "The following object is masked from ‘package:dplyr’:\n",
      "\n",
      "    select\n",
      "\n",
      "\n",
      "\n",
      "Attaching package: ‘TH.data’\n",
      "\n",
      "\n",
      "The following object is masked from ‘package:MASS’:\n",
      "\n",
      "    geyser\n",
      "\n",
      "\n"
     ]
    }
   ],
   "source": [
    "library(\"dplyr\")\n",
    "library(\"tidyr\")\n",
    "library(\"afex\")     # provides mixed() and attaches lme4 automatically.\n",
    "library(\"emmeans\")  # follow-up tests.\n",
    "library(\"multcomp\") # advanced control for multiple testing/Type 1 errors.\n",
    "library(\"ggplot2\")"
   ]
  },
  {
   "cell_type": "code",
   "execution_count": 2,
   "metadata": {},
   "outputs": [
    {
     "name": "stderr",
     "output_type": "stream",
     "text": [
      "Loading required package: carData\n",
      "\n",
      "\n",
      "Attaching package: ‘car’\n",
      "\n",
      "\n",
      "The following object is masked from ‘package:dplyr’:\n",
      "\n",
      "    recode\n",
      "\n",
      "\n",
      "Loading required package: lattice\n",
      "\n",
      "Loading required package: ez\n",
      "\n"
     ]
    }
   ],
   "source": [
    "library(\"car\")\n",
    "require(\"lattice\")\n",
    "require(\"ez\")"
   ]
  },
  {
   "cell_type": "markdown",
   "metadata": {},
   "source": [
    "## Settings"
   ]
  },
  {
   "cell_type": "code",
   "execution_count": 3,
   "metadata": {},
   "outputs": [],
   "source": [
    "theme_set(theme_bw(base_size = 15) +\n",
    "            theme(legend.position=\"bottom\",\n",
    "                  panel.grid.major.x = element_blank()))"
   ]
  },
  {
   "cell_type": "code",
   "execution_count": 4,
   "metadata": {},
   "outputs": [],
   "source": [
    "options(width=120)"
   ]
  },
  {
   "cell_type": "markdown",
   "metadata": {},
   "source": [
    "# Create output directory"
   ]
  },
  {
   "cell_type": "code",
   "execution_count": 5,
   "metadata": {},
   "outputs": [],
   "source": [
    "dir.create(\"data/t1007\",showWarnings = FALSE,recursive = TRUE)"
   ]
  },
  {
   "cell_type": "markdown",
   "metadata": {},
   "source": [
    "## Handy functions"
   ]
  },
  {
   "cell_type": "markdown",
   "metadata": {},
   "source": [
    "### Function for logging information BEFORE execution"
   ]
  },
  {
   "cell_type": "code",
   "execution_count": 6,
   "metadata": {},
   "outputs": [],
   "source": [
    "logging0 <- function(ifName,infoStr=\"\"){\n",
    "    t0 <- Sys.time()\n",
    "    s0 <- gsub(\"\\\\s\",\"_\",t0)\n",
    "    s1 <- gsub(\"^.\",\"\",tempfile(\"\",\"\",\"\"))\n",
    "    s2 <- gsub(\"/t1006/\",\"/t1007/\",ifName)\n",
    "    ofName <- paste(paste(s2,\"\",s0,\"\",s1,infoStr,\"_nrow\",nrow(df3),sep=\"_\"),\".RData\",sep=\"\")\n",
    "    lfName = paste(ofName ,\".LOG.txt\" ,sep=\"\" ,collapse = \"\")\n",
    "    log_msg <- toString(paste(\n",
    "        paste(\"logs0\" ,toString(lfName)     ,sep=\": \" ,collapse = \"\")\n",
    "      , paste(\"time0\" ,toString(Sys.time()) ,sep=\": \" ,collapse = \"\")\n",
    "      , paste(\"nrows\" ,toString(nrow(df3))  ,sep=\": \" ,collapse = \"\")\n",
    "      , paste(\"ncols\" ,toString(ncol(df3))  ,sep=\": \" ,collapse = \"\")\n",
    "      , paste(\"vList\" ,toString(ls())       ,sep=\": \" ,collapse = \"\")\n",
    "      , paste(\"oSave\" ,toString(ofName)     ,sep=\": \" ,collapse = \"\")        \n",
    "      , \"\\n\"\n",
    "      , sep=\"\\n\"))\n",
    "    cat(log_msg)\n",
    "    write(paste(log_msg) ,file=lfName ,append=TRUE)\n",
    "    return(list(\"ofName\"=ofName,\"lfName\"=lfName,\"t0\"=t0))\n",
    "}"
   ]
  },
  {
   "cell_type": "markdown",
   "metadata": {},
   "source": [
    "### Function for logging information AFTER execution"
   ]
  },
  {
   "cell_type": "code",
   "execution_count": 7,
   "metadata": {},
   "outputs": [],
   "source": [
    "logging1 <- function(lfName,t0){\n",
    "    t1 <- Sys.time()\n",
    "    d1 <- t1-t0\n",
    "    log_msg <- toString(paste(\n",
    "        paste(\"time1\" ,toString(Sys.time()) ,sep=\": \" ,collapse = \"\")\n",
    "      , paste(\"diff1\" ,capture.output(d1)   ,sep=\": \" ,collapse = \"\")\n",
    "      , \"\\n\"\n",
    "      , sep=\"\\n\"))\n",
    "    cat(log_msg)\n",
    "    write(paste(log_msg) ,file=lfName ,append=TRUE)\n",
    "    return(list(\"d1\" = d1))\n",
    "}"
   ]
  },
  {
   "cell_type": "markdown",
   "metadata": {},
   "source": [
    "# Load data"
   ]
  },
  {
   "cell_type": "markdown",
   "metadata": {},
   "source": [
    "Depending on how much data you want to include select a file to be loaded (either by executing relevant cell or by clicking ↑ or ↓ above to move cells up or down, the last executed cell containing `ifName` defines the file to be loaded)."
   ]
  },
  {
   "cell_type": "code",
   "execution_count": 19,
   "metadata": {},
   "outputs": [],
   "source": [
    "ifName=\"data/t1006/bigDF__df3_subsamp_e3x3p0.RData\" #    3000"
   ]
  },
  {
   "cell_type": "code",
   "execution_count": 20,
   "metadata": {},
   "outputs": [],
   "source": [
    "ifName=\"data/t1006/bigDF__df3_subsamp_e3x6p0.RData\" #    6000"
   ]
  },
  {
   "cell_type": "code",
   "execution_count": 21,
   "metadata": {},
   "outputs": [],
   "source": [
    "ifName=\"data/t1006/bigDF__df3_subsamp_e3x8p0.RData\" #    8000"
   ]
  },
  {
   "cell_type": "code",
   "execution_count": 22,
   "metadata": {},
   "outputs": [],
   "source": [
    "ifName=\"data/t1006/bigDF__df3_subsamp_e2x1p0.RData\" #     100"
   ]
  },
  {
   "cell_type": "code",
   "execution_count": 23,
   "metadata": {},
   "outputs": [],
   "source": [
    "ifName=\"data/t1006/bigDF__df3_subsamp_e3x1p0.RData\" #    1000"
   ]
  },
  {
   "cell_type": "code",
   "execution_count": 24,
   "metadata": {},
   "outputs": [],
   "source": [
    "ifName=\"data/t1006/bigDF__df3_subsamp_e3x2p0.RData\" #    2000"
   ]
  },
  {
   "cell_type": "code",
   "execution_count": 25,
   "metadata": {},
   "outputs": [],
   "source": [
    "ifName=\"data/t1006/bigDF__df3_subsamp_e3x4p0.RData\" #    4000"
   ]
  },
  {
   "cell_type": "code",
   "execution_count": 26,
   "metadata": {},
   "outputs": [],
   "source": [
    "ifName=\"data/t1006/bigDF__df3_subsamp_e2x5p0.RData\" #     500"
   ]
  },
  {
   "cell_type": "code",
   "execution_count": 27,
   "metadata": {},
   "outputs": [],
   "source": [
    "ifName=\"data/t1006/bigDF__df3_subsamp_e4x1p0.RData\" #   10000"
   ]
  },
  {
   "cell_type": "code",
   "execution_count": 28,
   "metadata": {},
   "outputs": [],
   "source": [
    "ifName=\"data/t1006/bigDF__df3_fullset_e6x1p5.RData\" # 1505108"
   ]
  },
  {
   "cell_type": "code",
   "execution_count": 33,
   "metadata": {},
   "outputs": [],
   "source": [
    "load(file=ifName)"
   ]
  },
  {
   "cell_type": "markdown",
   "metadata": {},
   "source": [
    "# Quick look at data"
   ]
  },
  {
   "cell_type": "code",
   "execution_count": 40,
   "metadata": {},
   "outputs": [
    {
     "name": "stdout",
     "output_type": "stream",
     "text": [
      "'data.frame':\t752554 obs. of  28 variables:\n",
      " $ LBL              : Factor w/ 4 levels \"metoo_ctrl\",\"metoo_orig\",..: 1 1 1 1 1 1 1 1 1 1 ...\n",
      " $ wordCnt          : num  11 7 11 27 30 26 8 12 12 23 ...\n",
      " $ vb01Cnt          : num  0 0 0 2 0 0 1 0 1 0 ...\n",
      " $ nn01Cnt          : num  1 2 0 2 3 4 1 4 1 4 ...\n",
      " $ ag01Cnt          : num  0 0 0 0 1 1 0 0 1 2 ...\n",
      " $ ag02Cnt          : num  0 0 0 0 1 0 0 0 1 0 ...\n",
      " $ vb01Prc          : num  0 0 0 0.0741 0 ...\n",
      " $ nn01Prc          : num  0.0909 0.2857 0 0.0741 0.1 ...\n",
      " $ ag01Prc          : num  0 0 0 0 0.0333 ...\n",
      " $ ag02Prc          : num  0 0 0 0 0.0333 ...\n",
      " $ ID               : chr  \"919714354467045376\" \"919714354479722496\" \"919714354500653056\" \"919714354542600192\" ...\n",
      " $ tweet_url        : chr  \"/IamJonesy3/status/919714354467045376\" \"/CCmee_/status/919714354479722496\" \"/SarahJaneVlogs/status/919714354500653057\" \"/queentyreen/status/919714354542600195\" ...\n",
      " $ user_id          : chr  \"588400632\" \"242582835\" \"29298715\" \"3290716455\" ...\n",
      " $ username         : chr  \"Kevin Jones\" \"CC\" \"Sarah Jane Allen\" \"spliff 🍓\" ...\n",
      " $ screen_name      : chr  \"IamJonesy3\" \"CCmee_\" \"SarahJaneVlogs\" \"queentyreen\" ...\n",
      " $ text             : chr  \"Not the same as having it in Fenway, but still great!\" \"Looking forward to this three day week\" \"I don't like how calm it is out right now\" \"Whenever someone says they're her fav I roll my eyes there's so many other great pornstars she just happens to \"| __truncated__ ...\n",
      " $ twitTokCFD_VB_lst: chr  \"[]\" \"[]\" \"[]\" \"['roll', 'be']\" ...\n",
      " $ twitTokCFD_NN_lst: chr  \"['fenway']\" \"['day', 'week']\" \"[]\" \"['someone', 'fav']\" ...\n",
      " $ hashtags         : chr  \"[]\" \"[]\" \"[]\" \"[]\" ...\n",
      " $ is_replied       : logi  TRUE FALSE FALSE TRUE FALSE TRUE ...\n",
      " $ is_reply_to      : logi  TRUE FALSE FALSE TRUE FALSE FALSE ...\n",
      " $ likes            : num  1 0 1 0 0 38 0 0 1 1 ...\n",
      " $ parent_tweet_id  : chr  \"919272132848312320\" NA NA \"919648304752939008\" ...\n",
      " $ replies          : num  1 0 0 1 0 5 0 0 0 0 ...\n",
      " $ reply_to_users   : chr  \"[{'screen_name': 'IamJonesy3', 'user_id': '588400632'}, {'screen_name': 'crepecreationSC', 'user_id': '90774588\"| __truncated__ \"[]\" \"[]\" \"[{'screen_name': 'velvet_fxwn', 'user_id': '805921927420379137'}]\" ...\n",
      " $ retweets         : chr  \"0\" \"0\" \"0\" \"0\" ...\n",
      " $ timestamp        : chr  \"2017-10-15 23:59:24\" \"2017-10-15 23:59:24\" \"2017-10-15 23:59:24\" \"2017-10-15 23:59:24\" ...\n",
      " $ date             : Date, format: \"2017-10-15\" \"2017-10-15\" \"2017-10-15\" \"2017-10-15\" ...\n"
     ]
    }
   ],
   "source": [
    "str(df3)"
   ]
  },
  {
   "cell_type": "code",
   "execution_count": 41,
   "metadata": {},
   "outputs": [
    {
     "data": {
      "text/plain": [
       "             LBL            wordCnt          vb01Cnt           nn01Cnt          ag01Cnt           ag02Cnt      \n",
       " metoo_ctrl    :369527   Min.   :  1.00   Min.   : 0.0000   Min.   : 0.000   Min.   : 0.0000   Min.   :0.0000  \n",
       " metoo_orig    :306511   1st Qu.:  9.00   1st Qu.: 0.0000   1st Qu.: 2.000   1st Qu.: 0.0000   1st Qu.:0.0000  \n",
       " sexstrike_ctrl: 44449   Median : 17.00   Median : 0.0000   Median : 3.000   Median : 0.0000   Median :0.0000  \n",
       " sexstrike_orig: 32067   Mean   : 16.96   Mean   : 0.7442   Mean   : 3.498   Mean   : 0.6333   Mean   :0.2349  \n",
       "                         3rd Qu.: 24.00   3rd Qu.: 1.0000   3rd Qu.: 5.000   3rd Qu.: 1.0000   3rd Qu.:0.0000  \n",
       "                         Max.   :106.00   Max.   :17.0000   Max.   :43.000   Max.   :21.0000   Max.   :7.0000  \n",
       "    vb01Prc           nn01Prc          ag01Prc           ag02Prc             ID             tweet_url        \n",
       " Min.   :0.00000   Min.   :0.0000   Min.   :0.00000   Min.   :0.00000   Length:752554      Length:752554     \n",
       " 1st Qu.:0.00000   1st Qu.:0.1250   1st Qu.:0.00000   1st Qu.:0.00000   Class :character   Class :character  \n",
       " Median :0.00000   Median :0.2000   Median :0.00000   Median :0.00000   Mode  :character   Mode  :character  \n",
       " Mean   :0.04473   Mean   :0.2271   Mean   :0.03838   Mean   :0.01431                                        \n",
       " 3rd Qu.:0.07143   3rd Qu.:0.2917   3rd Qu.:0.05882   3rd Qu.:0.00000                                        \n",
       " Max.   :1.00000   Max.   :3.0000   Max.   :1.00000   Max.   :1.00000                                        \n",
       "   user_id            username         screen_name            text           twitTokCFD_VB_lst  twitTokCFD_NN_lst \n",
       " Length:752554      Length:752554      Length:752554      Length:752554      Length:752554      Length:752554     \n",
       " Class :character   Class :character   Class :character   Class :character   Class :character   Class :character  \n",
       " Mode  :character   Mode  :character   Mode  :character   Mode  :character   Mode  :character   Mode  :character  \n",
       "                                                                                                                  \n",
       "                                                                                                                  \n",
       "                                                                                                                  \n",
       "   hashtags         is_replied      is_reply_to         likes           parent_tweet_id       replies        \n",
       " Length:752554      Mode :logical   Mode :logical   Min.   :     0.00   Length:752554      Min.   :    0.00  \n",
       " Class :character   FALSE:607054    FALSE:560283    1st Qu.:     0.00   Class :character   1st Qu.:    0.00  \n",
       " Mode  :character   TRUE :145500    TRUE :192271    Median :     0.00   Mode  :character   Median :    0.00  \n",
       "                                                    Mean   :     6.49                      Mean   :    0.54  \n",
       "                                                    3rd Qu.:     1.00                      3rd Qu.:    0.00  \n",
       "                                                    Max.   :145072.00                      Max.   :43943.00  \n",
       " reply_to_users       retweets          timestamp              date           \n",
       " Length:752554      Length:752554      Length:752554      Min.   :2017-10-15  \n",
       " Class :character   Class :character   Class :character   1st Qu.:2017-10-16  \n",
       " Mode  :character   Mode  :character   Mode  :character   Median :2017-10-17  \n",
       "                                                          Mean   :2017-12-15  \n",
       "                                                          3rd Qu.:2017-10-21  \n",
       "                                                          Max.   :2020-03-19  "
      ]
     },
     "metadata": {},
     "output_type": "display_data"
    }
   ],
   "source": [
    "summary(df3)"
   ]
  },
  {
   "cell_type": "code",
   "execution_count": 43,
   "metadata": {},
   "outputs": [
    {
     "ename": "ERROR",
     "evalue": "Error: Must group by variables found in `.data`.\n* Column `CAMP` is not found.\n* Column `TYPE` is not found.\n",
     "output_type": "error",
     "traceback": [
      "Error: Must group by variables found in `.data`.\n* Column `CAMP` is not found.\n* Column `TYPE` is not found.\nTraceback:\n",
      "1. df3 %>% group_by(CAMP, TYPE) %>% summarise(n = n(), .groups = \"drop\")",
      "2. withVisible(eval(quote(`_fseq`(`_lhs`)), env, env))",
      "3. eval(quote(`_fseq`(`_lhs`)), env, env)",
      "4. eval(quote(`_fseq`(`_lhs`)), env, env)",
      "5. `_fseq`(`_lhs`)",
      "6. freduce(value, `_function_list`)",
      "7. function_list[[i]](value)",
      "8. group_by(., CAMP, TYPE)",
      "9. group_by.data.frame(., CAMP, TYPE)",
      "10. group_by_prepare(.data, ..., .add = .add)",
      "11. abort(c(\"Must group by variables found in `.data`.\", glue(\"Column `{unknown}` is not found.\")))",
      "12. signal_abort(cnd)"
     ]
    }
   ],
   "source": [
    "df3 %>%\n",
    "    group_by(CAMP,TYPE) %>%\n",
    "    summarise(n = n(), .groups = \"drop\") "
   ]
  },
  {
   "cell_type": "markdown",
   "metadata": {},
   "source": [
    "# Model definition"
   ]
  },
  {
   "cell_type": "markdown",
   "metadata": {},
   "source": [
    "| variable/factor type        | variable name | symbol |\n",
    "|:----------------------------|:--------------|--------|\n",
    "| observation unit (tweet_id) | ID            | u1     |\n",
    "| outcome (dependent)         | MEAS_VALUE    | d1     |\n",
    "| between tweet               | CAMP          | b1     |\n",
    "| between tweet               | TYPE          | b2     |\n",
    "| within tweet                | MEAS_LEVEL    | w1     |"
   ]
  },
  {
   "cell_type": "markdown",
   "metadata": {},
   "source": [
    "## Formula 0"
   ]
  },
  {
   "cell_type": "code",
   "execution_count": 22,
   "metadata": {},
   "outputs": [],
   "source": [
    "# by-ID random intercepts and by-ID random slopes for MEAS_LEVEL\n",
    "FORMULA <- MEAS_VALUE~CAMP*TYPE*MEAS_LEVEL+(MEAS_LEVEL||ID)"
   ]
  },
  {
   "cell_type": "code",
   "execution_count": 23,
   "metadata": {},
   "outputs": [],
   "source": [
    "# by-ID random intercepts\n",
    "FORMULA <- MEAS_VALUE~CAMP*TYPE*MEAS_LEVEL+(1|ID) "
   ]
  },
  {
   "cell_type": "code",
   "execution_count": 1,
   "metadata": {},
   "outputs": [],
   "source": [
    "# CONTROL <- lmerControl(\n",
    "#     check.nobs.vs.nlev  <- \"ignore\",\n",
    "#     check.nobs.vs.rankZ <- \"ignore\",\n",
    "#     check.nobs.vs.nRE   <- \"ignore\"\n",
    "# )"
   ]
  },
  {
   "cell_type": "code",
   "execution_count": 24,
   "metadata": {},
   "outputs": [],
   "source": [
    "CONTROL <- lmerControl(optCtrl=list(maxfun=1e7))"
   ]
  },
  {
   "cell_type": "code",
   "execution_count": 25,
   "metadata": {},
   "outputs": [],
   "source": [
    "CONTROL <- lmerControl(optCtrl=list(maxfun=1e6))"
   ]
  },
  {
   "cell_type": "code",
   "execution_count": 26,
   "metadata": {},
   "outputs": [],
   "source": [
    "METHOD <- \"LRT\" # calculates p-vals via the likelihood ratio tests (use if random factors have > 50 levels)"
   ]
  },
  {
   "cell_type": "code",
   "execution_count": 27,
   "metadata": {},
   "outputs": [],
   "source": [
    "METHOD <- \"KR\"  # Kenward-Roger approximation for degrees of freedom"
   ]
  },
  {
   "cell_type": "code",
   "execution_count": 28,
   "metadata": {},
   "outputs": [],
   "source": [
    "METHOD <- \"S\"   # Satterthwaite approximation for degrees of freedom"
   ]
  },
  {
   "cell_type": "code",
   "execution_count": 29,
   "metadata": {},
   "outputs": [
    {
     "name": "stdout",
     "output_type": "stream",
     "text": [
      "logs0: data/t1007/bigDF__df3_fullset_e6x1p5.RData__2020-09-30_15:01:13__275382c4207__AFEX_MIXED_formula0__nrow_1505108.RData.LOG.txt\n",
      "time0: 2020-09-30 15:01:13\n",
      "nrows: 1505108\n",
      "ncols: 5\n",
      "vList: ifName, infoStr, lfName, ofName, s0, s1, s2, t0\n",
      "oSave: data/t1007/bigDF__df3_fullset_e6x1p5.RData__2020-09-30_15:01:13__275382c4207__AFEX_MIXED_formula0__nrow_1505108.RData\n",
      "\n"
     ]
    },
    {
     "name": "stderr",
     "output_type": "stream",
     "text": [
      "Contrasts set to contr.sum for the following variables: CAMP, TYPE, MEAS_LEVEL, ID\n",
      "\n"
     ]
    },
    {
     "name": "stdout",
     "output_type": "stream",
     "text": [
      "Fitting one lmer() model. [DONE]\n",
      "Calculating p-values. [DONE]\n",
      "time1: 2020-09-30 15:03:34\n",
      "diff1: Time difference of 2.343031 mins\n",
      "\n"
     ]
    }
   ],
   "source": [
    "log0 <- logging0(ifName,infoStr=\"_AFEX_MIXED_formula0\")\n",
    "m0.0 <- mixed(\n",
    "    formula   = FORMULA,\n",
    "    data      = df3,\n",
    "    control   = CONTROL,\n",
    "    method    = METHOD,\n",
    "    expand_re = TRUE\n",
    ")\n",
    "save(m0.0,file=log0$ofName)\n",
    "log1 <- logging1(log0$lfName,log0$t0)"
   ]
  },
  {
   "cell_type": "code",
   "execution_count": 30,
   "metadata": {},
   "outputs": [
    {
     "data": {
      "text/plain": [
       "Mixed Model Anova Table (Type 3 tests, S-method)\n",
       "\n",
       "Model: MEAS_VALUE ~ CAMP * TYPE * MEAS_LEVEL + (1 | ID)\n",
       "Data: df3\n",
       "                Effect           df           F p.value\n",
       "1                 CAMP 1, 752550.48 1231.90 ***   <.001\n",
       "2                 TYPE 1, 752550.48   70.57 ***   <.001\n",
       "3           MEAS_LEVEL 1, 752549.90 1208.29 ***   <.001\n",
       "4            CAMP:TYPE 1, 752550.48  359.91 ***   <.001\n",
       "5      CAMP:MEAS_LEVEL 1, 752549.90   37.90 ***   <.001\n",
       "6      TYPE:MEAS_LEVEL 1, 752549.90        1.25    .263\n",
       "7 CAMP:TYPE:MEAS_LEVEL 1, 752549.90   54.89 ***   <.001\n",
       "---\n",
       "Signif. codes:  0 ‘***’ 0.001 ‘**’ 0.01 ‘*’ 0.05 ‘+’ 0.1 ‘ ’ 1"
      ]
     },
     "metadata": {},
     "output_type": "display_data"
    }
   ],
   "source": [
    "m0.0"
   ]
  },
  {
   "cell_type": "markdown",
   "metadata": {},
   "source": [
    "## Formula 1"
   ]
  },
  {
   "cell_type": "code",
   "execution_count": 34,
   "metadata": {},
   "outputs": [],
   "source": [
    "# by-ID random intercepts and by-ID random slopes for MEAS_LEVEL\n",
    "FORMULA <- MEAS_VALUE~CAMP*TYPE*MEAS_LEVEL+(MEAS_LEVEL||ID)\n",
    "\n",
    "\n",
    "# TODO: FIXME: CHECK THIS OUT !!!\n",
    "CONTROL <- lmerControl(optCtrl=list(maxfun=1e9))"
   ]
  },
  {
   "cell_type": "code",
   "execution_count": 33,
   "metadata": {},
   "outputs": [
    {
     "name": "stdout",
     "output_type": "stream",
     "text": [
      "logs0: data/t1007/bigDF__df3_fullset_e6x1p5.RData__2020-09-30_15:05:31__27523a8a6bb__AFEX_MIXED_formula1__nrow_1505108.RData.LOG.txt\n",
      "time0: 2020-09-30 15:05:31\n",
      "nrows: 1505108\n",
      "ncols: 5\n",
      "vList: ifName, infoStr, lfName, ofName, s0, s1, s2, t0\n",
      "oSave: data/t1007/bigDF__df3_fullset_e6x1p5.RData__2020-09-30_15:05:31__27523a8a6bb__AFEX_MIXED_formula1__nrow_1505108.RData\n",
      "\n"
     ]
    },
    {
     "name": "stderr",
     "output_type": "stream",
     "text": [
      "Contrasts set to contr.sum for the following variables: CAMP, TYPE, MEAS_LEVEL, ID\n",
      "\n"
     ]
    },
    {
     "name": "stdout",
     "output_type": "stream",
     "text": [
      "Fitting one lmer() model. "
     ]
    },
    {
     "name": "stderr",
     "output_type": "stream",
     "text": [
      "Warning message in checkConv(attr(opt, \"derivs\"), opt$par, ctrl = control$checkConv, :\n",
      "“Model failed to converge with max|grad| = 0.00236551 (tol = 0.002, component 1)”\n"
     ]
    },
    {
     "name": "stdout",
     "output_type": "stream",
     "text": [
      "[DONE]\n",
      "Calculating p-values. [DONE]\n",
      "time1: 2020-09-30 15:09:05\n",
      "diff1: Time difference of 3.555083 mins\n",
      "\n"
     ]
    }
   ],
   "source": [
    "log0 <- logging0(ifName,infoStr=\"_AFEX_MIXED_formula1\")\n",
    "m0.1 <- mixed(\n",
    "    formula   = FORMULA,\n",
    "    data      = df3,\n",
    "    control   = CONTROL,\n",
    "    method    = METHOD,\n",
    "    expand_re = TRUE\n",
    ")\n",
    "save(m0.1,file=log0$ofName)\n",
    "log1 <- logging1(log0$lfName,log0$t0)"
   ]
  },
  {
   "cell_type": "code",
   "execution_count": 33,
   "metadata": {},
   "outputs": [
    {
     "name": "stderr",
     "output_type": "stream",
     "text": [
      "Warning message:\n",
      "“lme4 reported (at least) the following warnings for 'full':\n",
      "  * Model failed to converge with max|grad| = 0.00236551 (tol = 0.002, component 1)”\n"
     ]
    },
    {
     "data": {
      "text/plain": [
       "Mixed Model Anova Table (Type 3 tests, S-method)\n",
       "\n",
       "Model: MEAS_VALUE ~ CAMP * TYPE * MEAS_LEVEL + (MEAS_LEVEL || ID)\n",
       "Data: df3\n",
       "                Effect           df           F p.value\n",
       "1                 CAMP 1, 752550.58 1231.90 ***   <.001\n",
       "2                 TYPE 1, 752550.58   70.57 ***   <.001\n",
       "3           MEAS_LEVEL 1, 752549.55 1208.29 ***   <.001\n",
       "4            CAMP:TYPE 1, 752550.58  359.91 ***   <.001\n",
       "5      CAMP:MEAS_LEVEL 1, 752549.55   37.90 ***   <.001\n",
       "6      TYPE:MEAS_LEVEL 1, 752549.55        1.25    .263\n",
       "7 CAMP:TYPE:MEAS_LEVEL 1, 752549.55   54.89 ***   <.001\n",
       "---\n",
       "Signif. codes:  0 ‘***’ 0.001 ‘**’ 0.01 ‘*’ 0.05 ‘+’ 0.1 ‘ ’ 1"
      ]
     },
     "metadata": {},
     "output_type": "display_data"
    }
   ],
   "source": [
    "m0.1"
   ]
  },
  {
   "cell_type": "markdown",
   "metadata": {},
   "source": [
    "# Quick look at models"
   ]
  },
  {
   "cell_type": "code",
   "execution_count": 34,
   "metadata": {},
   "outputs": [
    {
     "data": {
      "text/plain": [
       "Mixed Model Anova Table (Type 3 tests, S-method)\n",
       "\n",
       "Model: MEAS_VALUE ~ CAMP * TYPE * MEAS_LEVEL + (1 | ID)\n",
       "Data: df3\n",
       "                Effect           df           F p.value\n",
       "1                 CAMP 1, 752550.48 1231.90 ***   <.001\n",
       "2                 TYPE 1, 752550.48   70.57 ***   <.001\n",
       "3           MEAS_LEVEL 1, 752549.90 1208.29 ***   <.001\n",
       "4            CAMP:TYPE 1, 752550.48  359.91 ***   <.001\n",
       "5      CAMP:MEAS_LEVEL 1, 752549.90   37.90 ***   <.001\n",
       "6      TYPE:MEAS_LEVEL 1, 752549.90        1.25    .263\n",
       "7 CAMP:TYPE:MEAS_LEVEL 1, 752549.90   54.89 ***   <.001\n",
       "---\n",
       "Signif. codes:  0 ‘***’ 0.001 ‘**’ 0.01 ‘*’ 0.05 ‘+’ 0.1 ‘ ’ 1"
      ]
     },
     "metadata": {},
     "output_type": "display_data"
    }
   ],
   "source": [
    "m0.0"
   ]
  },
  {
   "cell_type": "code",
   "execution_count": 35,
   "metadata": {},
   "outputs": [
    {
     "name": "stderr",
     "output_type": "stream",
     "text": [
      "Warning message:\n",
      "“lme4 reported (at least) the following warnings for 'full':\n",
      "  * Model failed to converge with max|grad| = 0.00236551 (tol = 0.002, component 1)”\n"
     ]
    },
    {
     "data": {
      "text/plain": [
       "Mixed Model Anova Table (Type 3 tests, S-method)\n",
       "\n",
       "Model: MEAS_VALUE ~ CAMP * TYPE * MEAS_LEVEL + (MEAS_LEVEL || ID)\n",
       "Data: df3\n",
       "                Effect           df           F p.value\n",
       "1                 CAMP 1, 752550.58 1231.90 ***   <.001\n",
       "2                 TYPE 1, 752550.58   70.57 ***   <.001\n",
       "3           MEAS_LEVEL 1, 752549.55 1208.29 ***   <.001\n",
       "4            CAMP:TYPE 1, 752550.58  359.91 ***   <.001\n",
       "5      CAMP:MEAS_LEVEL 1, 752549.55   37.90 ***   <.001\n",
       "6      TYPE:MEAS_LEVEL 1, 752549.55        1.25    .263\n",
       "7 CAMP:TYPE:MEAS_LEVEL 1, 752549.55   54.89 ***   <.001\n",
       "---\n",
       "Signif. codes:  0 ‘***’ 0.001 ‘**’ 0.01 ‘*’ 0.05 ‘+’ 0.1 ‘ ’ 1"
      ]
     },
     "metadata": {},
     "output_type": "display_data"
    }
   ],
   "source": [
    "m0.1"
   ]
  },
  {
   "cell_type": "markdown",
   "metadata": {},
   "source": [
    "## Select model for further inspection"
   ]
  },
  {
   "cell_type": "code",
   "execution_count": 36,
   "metadata": {},
   "outputs": [],
   "source": [
    "m0 <- m0.1"
   ]
  },
  {
   "cell_type": "code",
   "execution_count": 37,
   "metadata": {},
   "outputs": [],
   "source": [
    "m0 <- m0.0"
   ]
  },
  {
   "cell_type": "code",
   "execution_count": 38,
   "metadata": {},
   "outputs": [
    {
     "data": {
      "text/plain": [
       " Groups   Name        Std.Dev.\n",
       " ID       (Intercept) 0.035764\n",
       " Residual             0.059575"
      ]
     },
     "metadata": {},
     "output_type": "display_data"
    }
   ],
   "source": [
    "summary(m0)$varcor"
   ]
  },
  {
   "cell_type": "code",
   "execution_count": 39,
   "metadata": {},
   "outputs": [
    {
     "name": "stderr",
     "output_type": "stream",
     "text": [
      "Note: D.f. calculations have been disabled because the number of observations exceeds 3000.\n",
      "To enable adjustments, add the argument 'pbkrtest.limit = 1505108' (or larger)\n",
      "[or, globally, 'set emm_options(pbkrtest.limit = 1505108)' or larger];\n",
      "but be warned that this may result in large computation time and memory use.\n",
      "\n",
      "Note: D.f. calculations have been disabled because the number of observations exceeds 3000.\n",
      "To enable adjustments, add the argument 'lmerTest.limit = 1505108' (or larger)\n",
      "[or, globally, 'set emm_options(lmerTest.limit = 1505108)' or larger];\n",
      "but be warned that this may result in large computation time and memory use.\n",
      "\n"
     ]
    },
    {
     "data": {
      "text/plain": [
       " CAMP      TYPE MEAS_LEVEL  emmean        SE  df asymp.LCL asymp.UCL\n",
       " metoo     ctrl vb01Prc    0.04612 0.0001143 Inf   0.04590   0.04635\n",
       " sexstrike ctrl vb01Prc    0.04977 0.0003296 Inf   0.04912   0.05041\n",
       " metoo     orig vb01Prc    0.04167 0.0001255 Inf   0.04142   0.04191\n",
       " sexstrike orig vb01Prc    0.05100 0.0003880 Inf   0.05024   0.05176\n",
       " metoo     ctrl ag01Prc    0.04085 0.0001143 Inf   0.04063   0.04108\n",
       " sexstrike ctrl ag01Prc    0.04409 0.0003296 Inf   0.04344   0.04474\n",
       " metoo     orig ag01Prc    0.03362 0.0001255 Inf   0.03338   0.03387\n",
       " sexstrike orig ag01Prc    0.04737 0.0003880 Inf   0.04661   0.04813\n",
       "\n",
       "Degrees-of-freedom method: asymptotic \n",
       "Confidence level used: 0.95 "
      ]
     },
     "metadata": {},
     "output_type": "display_data"
    }
   ],
   "source": [
    "m3.0 <- emmeans(m0, c(\"CAMP\", \"TYPE\", \"MEAS_LEVEL\"))\n",
    "m3.0"
   ]
  },
  {
   "cell_type": "code",
   "execution_count": 40,
   "metadata": {},
   "outputs": [
    {
     "data": {
      "text/plain": [
       " contrast                                         estimate       SE  df z.ratio p.value\n",
       " metoo ctrl vb01Prc - sexstrike ctrl vb01Prc     -0.003645 0.000349 Inf -10.450 <.0001 \n",
       " metoo ctrl vb01Prc - metoo orig vb01Prc          0.004454 0.000170 Inf  26.237 <.0001 \n",
       " metoo ctrl vb01Prc - sexstrike orig vb01Prc     -0.004878 0.000405 Inf -12.058 <.0001 \n",
       " metoo ctrl vb01Prc - metoo ctrl ag01Prc          0.005269 0.000139 Inf  38.017 <.0001 \n",
       " metoo ctrl vb01Prc - sexstrike ctrl ag01Prc      0.002031 0.000349 Inf   5.823 <.0001 \n",
       " metoo ctrl vb01Prc - metoo orig ag01Prc          0.012497 0.000170 Inf  73.618 <.0001 \n",
       " metoo ctrl vb01Prc - sexstrike orig ag01Prc     -0.001248 0.000405 Inf  -3.084 0.0427 \n",
       " sexstrike ctrl vb01Prc - metoo orig vb01Prc      0.008099 0.000353 Inf  22.965 <.0001 \n",
       " sexstrike ctrl vb01Prc - sexstrike orig vb01Prc -0.001232 0.000509 Inf  -2.421 0.2310 \n",
       " sexstrike ctrl vb01Prc - metoo ctrl ag01Prc      0.008914 0.000349 Inf  25.554 <.0001 \n",
       " sexstrike ctrl vb01Prc - sexstrike ctrl ag01Prc  0.005677 0.000400 Inf  14.205 <.0001 \n",
       " sexstrike ctrl vb01Prc - metoo orig ag01Prc      0.016143 0.000353 Inf  45.772 <.0001 \n",
       " sexstrike ctrl vb01Prc - sexstrike orig ag01Prc  0.002398 0.000509 Inf   4.709 0.0001 \n",
       " metoo orig vb01Prc - sexstrike orig vb01Prc     -0.009332 0.000408 Inf -22.882 <.0001 \n",
       " metoo orig vb01Prc - metoo ctrl ag01Prc          0.000815 0.000170 Inf   4.801 <.0001 \n",
       " metoo orig vb01Prc - sexstrike ctrl ag01Prc     -0.002423 0.000353 Inf  -6.870 <.0001 \n",
       " metoo orig vb01Prc - metoo orig ag01Prc          0.008043 0.000152 Inf  52.854 <.0001 \n",
       " metoo orig vb01Prc - sexstrike orig ag01Prc     -0.005702 0.000408 Inf -13.981 <.0001 \n",
       " sexstrike orig vb01Prc - metoo ctrl ag01Prc      0.010147 0.000405 Inf  25.084 <.0001 \n",
       " sexstrike orig vb01Prc - sexstrike ctrl ag01Prc  0.006909 0.000509 Inf  13.571 <.0001 \n",
       " sexstrike orig vb01Prc - metoo orig ag01Prc      0.017375 0.000408 Inf  42.604 <.0001 \n",
       " sexstrike orig vb01Prc - sexstrike orig ag01Prc  0.003630 0.000470 Inf   7.716 <.0001 \n",
       " metoo ctrl ag01Prc - sexstrike ctrl ag01Prc     -0.003238 0.000349 Inf  -9.281 <.0001 \n",
       " metoo ctrl ag01Prc - metoo orig ag01Prc          0.007228 0.000170 Inf  42.580 <.0001 \n",
       " metoo ctrl ag01Prc - sexstrike orig ag01Prc     -0.006517 0.000405 Inf -16.110 <.0001 \n",
       " sexstrike ctrl ag01Prc - metoo orig ag01Prc      0.010466 0.000353 Inf  29.677 <.0001 \n",
       " sexstrike ctrl ag01Prc - sexstrike orig ag01Prc -0.003279 0.000509 Inf  -6.441 <.0001 \n",
       " metoo orig ag01Prc - sexstrike orig ag01Prc     -0.013745 0.000408 Inf -33.703 <.0001 \n",
       "\n",
       "Degrees-of-freedom method: asymptotic \n",
       "P value adjustment: tukey method for comparing a family of 8 estimates "
      ]
     },
     "metadata": {},
     "output_type": "display_data"
    }
   ],
   "source": [
    "pairs(m3.0)"
   ]
  },
  {
   "cell_type": "code",
   "execution_count": 41,
   "metadata": {},
   "outputs": [
    {
     "name": "stderr",
     "output_type": "stream",
     "text": [
      "Warning message in tmp$pfunction(\"adjusted\", ...):\n",
      "“Completion with error > abseps”\n",
      "Warning message in tmp$pfunction(\"adjusted\", ...):\n",
      "“Completion with error > abseps”\n",
      "Warning message in tmp$pfunction(\"adjusted\", ...):\n",
      "“Completion with error > abseps”\n",
      "Warning message in tmp$pfunction(\"adjusted\", ...):\n",
      "“Completion with error > abseps”\n",
      "Warning message in tmp$pfunction(\"adjusted\", ...):\n",
      "“Completion with error > abseps”\n",
      "Warning message in tmp$pfunction(\"adjusted\", ...):\n",
      "“Completion with error > abseps”\n",
      "Warning message in tmp$pfunction(\"adjusted\", ...):\n",
      "“Completion with error > abseps”\n",
      "Warning message in tmp$pfunction(\"adjusted\", ...):\n",
      "“Completion with error > abseps”\n",
      "Warning message in tmp$pfunction(\"adjusted\", ...):\n",
      "“Completion with error > abseps”\n",
      "Warning message in tmp$pfunction(\"adjusted\", ...):\n",
      "“Completion with error > abseps”\n",
      "Warning message in tmp$pfunction(\"adjusted\", ...):\n",
      "“Completion with error > abseps”\n",
      "Warning message in tmp$pfunction(\"adjusted\", ...):\n",
      "“Completion with error > abseps”\n",
      "Warning message in tmp$pfunction(\"adjusted\", ...):\n",
      "“Completion with error > abseps”\n",
      "Warning message in tmp$pfunction(\"adjusted\", ...):\n",
      "“Completion with error > abseps”\n"
     ]
    },
    {
     "data": {
      "text/plain": [
       "\n",
       "\t Simultaneous Tests for General Linear Hypotheses\n",
       "\n",
       "Linear Hypotheses:\n",
       "                                                       Estimate Std. Error z value Pr(>|z|)    \n",
       "metoo ctrl vb01Prc - sexstrike ctrl vb01Prc == 0     -0.0036452  0.0003488 -10.450  < 2e-16 ***\n",
       "metoo ctrl vb01Prc - metoo orig vb01Prc == 0          0.0044540  0.0001698  26.237  < 2e-16 ***\n",
       "metoo ctrl vb01Prc - sexstrike orig vb01Prc == 0     -0.0048777  0.0004045 -12.058  < 2e-16 ***\n",
       "metoo ctrl vb01Prc - metoo ctrl ag01Prc == 0          0.0052691  0.0001386  38.017  < 2e-16 ***\n",
       "metoo ctrl vb01Prc - sexstrike ctrl ag01Prc == 0      0.0020313  0.0003488   5.823 1.94e-08 ***\n",
       "metoo ctrl vb01Prc - metoo orig ag01Prc == 0          0.0124974  0.0001698  73.618  < 2e-16 ***\n",
       "metoo ctrl vb01Prc - sexstrike orig ag01Prc == 0     -0.0012476  0.0004045  -3.084  0.00407 ** \n",
       "sexstrike ctrl vb01Prc - metoo orig vb01Prc == 0      0.0080992  0.0003527  22.965  < 2e-16 ***\n",
       "sexstrike ctrl vb01Prc - sexstrike orig vb01Prc == 0 -0.0012325  0.0005091  -2.421  0.01548 *  \n",
       "sexstrike ctrl vb01Prc - metoo ctrl ag01Prc == 0      0.0089143  0.0003488  25.554  < 2e-16 ***\n",
       "sexstrike ctrl vb01Prc - sexstrike ctrl ag01Prc == 0  0.0056766  0.0003996  14.205  < 2e-16 ***\n",
       "sexstrike ctrl vb01Prc - metoo orig ag01Prc == 0      0.0161427  0.0003527  45.772  < 2e-16 ***\n",
       "sexstrike ctrl vb01Prc - sexstrike orig ag01Prc == 0  0.0023976  0.0005091   4.709 4.93e-06 ***\n",
       "metoo orig vb01Prc - sexstrike orig vb01Prc == 0     -0.0093317  0.0004078 -22.882  < 2e-16 ***\n",
       "metoo orig vb01Prc - metoo ctrl ag01Prc == 0          0.0008151  0.0001698   4.801 4.36e-06 ***\n",
       "metoo orig vb01Prc - sexstrike ctrl ag01Prc == 0     -0.0024227  0.0003527  -6.870 2.12e-11 ***\n",
       "metoo orig vb01Prc - metoo orig ag01Prc == 0          0.0080434  0.0001522  52.854  < 2e-16 ***\n",
       "metoo orig vb01Prc - sexstrike orig ag01Prc == 0     -0.0057016  0.0004078 -13.981  < 2e-16 ***\n",
       "sexstrike orig vb01Prc - metoo ctrl ag01Prc == 0      0.0101468  0.0004045  25.084  < 2e-16 ***\n",
       "sexstrike orig vb01Prc - sexstrike ctrl ag01Prc == 0  0.0069090  0.0005091  13.571  < 2e-16 ***\n",
       "sexstrike orig vb01Prc - metoo orig ag01Prc == 0      0.0173751  0.0004078  42.604  < 2e-16 ***\n",
       "sexstrike orig vb01Prc - sexstrike orig ag01Prc == 0  0.0036301  0.0004705   7.716 4.80e-14 ***\n",
       "metoo ctrl ag01Prc - sexstrike ctrl ag01Prc == 0     -0.0032378  0.0003488  -9.281  < 2e-16 ***\n",
       "metoo ctrl ag01Prc - metoo orig ag01Prc == 0          0.0072283  0.0001698  42.580  < 2e-16 ***\n",
       "metoo ctrl ag01Prc - sexstrike orig ag01Prc == 0     -0.0065167  0.0004045 -16.110  < 2e-16 ***\n",
       "sexstrike ctrl ag01Prc - metoo orig ag01Prc == 0      0.0104661  0.0003527  29.677  < 2e-16 ***\n",
       "sexstrike ctrl ag01Prc - sexstrike orig ag01Prc == 0 -0.0032789  0.0005091  -6.441 5.18e-10 ***\n",
       "metoo orig ag01Prc - sexstrike orig ag01Prc == 0     -0.0137450  0.0004078 -33.703  < 2e-16 ***\n",
       "---\n",
       "Signif. codes:  0 ‘***’ 0.001 ‘**’ 0.01 ‘*’ 0.05 ‘.’ 0.1 ‘ ’ 1\n",
       "(Adjusted p values reported -- free method)\n"
      ]
     },
     "metadata": {},
     "output_type": "display_data"
    }
   ],
   "source": [
    "summary(as.glht(pairs(m3.0)), test=adjusted(\"free\"))"
   ]
  },
  {
   "cell_type": "code",
   "execution_count": 42,
   "metadata": {},
   "outputs": [
    {
     "name": "stderr",
     "output_type": "stream",
     "text": [
      "Note: D.f. calculations have been disabled because the number of observations exceeds 3000.\n",
      "To enable adjustments, add the argument 'pbkrtest.limit = 1505108' (or larger)\n",
      "[or, globally, 'set emm_options(pbkrtest.limit = 1505108)' or larger];\n",
      "but be warned that this may result in large computation time and memory use.\n",
      "\n",
      "Note: D.f. calculations have been disabled because the number of observations exceeds 3000.\n",
      "To enable adjustments, add the argument 'lmerTest.limit = 1505108' (or larger)\n",
      "[or, globally, 'set emm_options(lmerTest.limit = 1505108)' or larger];\n",
      "but be warned that this may result in large computation time and memory use.\n",
      "\n",
      "NOTE: Results may be misleading due to involvement in interactions\n",
      "\n"
     ]
    },
    {
     "data": {
      "text/plain": [
       " CAMP      TYPE  emmean        SE  df asymp.LCL asymp.UCL\n",
       " metoo     ctrl 0.04349 9.091e-05 Inf   0.04331   0.04367\n",
       " sexstrike ctrl 0.04693 2.621e-04 Inf   0.04642   0.04744\n",
       " metoo     orig 0.03765 9.981e-05 Inf   0.03745   0.03784\n",
       " sexstrike orig 0.04918 3.086e-04 Inf   0.04858   0.04979\n",
       "\n",
       "Results are averaged over the levels of: MEAS_LEVEL \n",
       "Degrees-of-freedom method: asymptotic \n",
       "Confidence level used: 0.95 "
      ]
     },
     "metadata": {},
     "output_type": "display_data"
    },
    {
     "data": {
      "text/plain": [
       " contrast                        estimate       SE  df z.ratio p.value\n",
       " metoo ctrl - sexstrike ctrl     -0.00344 0.000277 Inf -12.405 <.0001 \n",
       " metoo ctrl - metoo orig          0.00584 0.000135 Inf  43.266 <.0001 \n",
       " metoo ctrl - sexstrike orig     -0.00570 0.000322 Inf -17.710 <.0001 \n",
       " sexstrike ctrl - metoo orig      0.00928 0.000280 Inf  33.097 <.0001 \n",
       " sexstrike ctrl - sexstrike orig -0.00226 0.000405 Inf  -5.571 <.0001 \n",
       " metoo orig - sexstrike orig     -0.01154 0.000324 Inf -35.576 <.0001 \n",
       "\n",
       "Results are averaged over the levels of: MEAS_LEVEL \n",
       "Degrees-of-freedom method: asymptotic \n",
       "P value adjustment: tukey method for comparing a family of 4 estimates "
      ]
     },
     "metadata": {},
     "output_type": "display_data"
    },
    {
     "data": {
      "text/plain": [
       "\n",
       "\t Simultaneous Tests for General Linear Hypotheses\n",
       "\n",
       "Linear Hypotheses:\n",
       "                                       Estimate Std. Error z value Pr(>|z|)    \n",
       "metoo ctrl - sexstrike ctrl == 0     -0.0034415  0.0002774 -12.405  < 2e-16 ***\n",
       "metoo ctrl - metoo orig == 0          0.0058412  0.0001350  43.266  < 2e-16 ***\n",
       "metoo ctrl - sexstrike orig == 0     -0.0056972  0.0003217 -17.710  < 2e-16 ***\n",
       "sexstrike ctrl - metoo orig == 0      0.0092827  0.0002805  33.097  < 2e-16 ***\n",
       "sexstrike ctrl - sexstrike orig == 0 -0.0022557  0.0004049  -5.571 2.53e-08 ***\n",
       "metoo orig - sexstrike orig == 0     -0.0115384  0.0003243 -35.576  < 2e-16 ***\n",
       "---\n",
       "Signif. codes:  0 ‘***’ 0.001 ‘**’ 0.01 ‘*’ 0.05 ‘.’ 0.1 ‘ ’ 1\n",
       "(Adjusted p values reported -- free method)\n"
      ]
     },
     "metadata": {},
     "output_type": "display_data"
    }
   ],
   "source": [
    "m2.0 <- emmeans(m0,c(\"CAMP\",\"TYPE\"))\n",
    "m2.0\n",
    "pairs(m2.0)\n",
    "summary(as.glht(pairs(m2.0)),test=adjusted(\"free\"))\n"
   ]
  },
  {
   "cell_type": "code",
   "execution_count": null,
   "metadata": {},
   "outputs": [],
   "source": []
  },
  {
   "cell_type": "markdown",
   "metadata": {},
   "source": [
    "# Helpers"
   ]
  },
  {
   "cell_type": "code",
   "execution_count": 43,
   "metadata": {},
   "outputs": [],
   "source": [
    "?mixed"
   ]
  }
 ],
 "metadata": {
  "kernelspec": {
   "display_name": "R",
   "language": "R",
   "name": "ir"
  },
  "language_info": {
   "codemirror_mode": "r",
   "file_extension": ".r",
   "mimetype": "text/x-r-source",
   "name": "R",
   "pygments_lexer": "r",
   "version": "3.6.3"
  }
 },
 "nbformat": 4,
 "nbformat_minor": 4
}
