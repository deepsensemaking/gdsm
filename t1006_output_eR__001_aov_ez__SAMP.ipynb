{
 "cells": [
  {
   "cell_type": "markdown",
   "metadata": {},
   "source": [
    "# Links"
   ]
  },
  {
   "cell_type": "markdown",
   "metadata": {},
   "source": [
    "- [ ] https://cran.r-project.org/web/packages/afex/vignettes/introduction-mixed-models.pdf\n",
    "- [ ] https://cran.r-project.org/web/packages/afex/afex.pdf\n",
    "- [ ] https://cran.r-project.org/web/packages/afex/index.html\n",
    "- [ ] https://cran.r-project.org/web/packages/afex/vignettes/afex_analysing_accuracy_data.html\n",
    "- [ ] https://cran.r-project.org/web/packages/afex/vignettes/afex_anova_example.html\n",
    "- [ ] https://cran.r-project.org/web/packages/afex/vignettes/afex_mixed_example.html\n",
    "- [ ] https://cran.r-project.org/web/packages/emmeans/vignettes/comparisons.html\n",
    "- [ ] https://cran.r-project.org/web/packages/emmeans/vignettes/messy-data.html\n",
    "- [ ] https://cran.r-project.org/web/packages/emmeans/vignettes/interactions.html\n",
    "- [ ] https://cran.r-project.org/web/packages/emmeans/vignettes/basics.html\n",
    "- [ ] https://cran.r-project.org/web/packages/afex/vignettes/afex_mixed_example.html\n"
   ]
  },
  {
   "cell_type": "markdown",
   "metadata": {},
   "source": [
    "# Setup"
   ]
  },
  {
   "cell_type": "markdown",
   "metadata": {},
   "source": [
    "## Imports"
   ]
  },
  {
   "cell_type": "code",
   "execution_count": 2,
   "metadata": {},
   "outputs": [],
   "source": [
    "library(\"afex\")     # needed for mixed() and attaches lme4 automatically.\n",
    "library(\"emmeans\")  # emmeans is needed for follow-up tests\n",
    "library(\"multcomp\") # for advanced control for multiple testing/Type 1 errors.\n",
    "library(\"ggplot2\")  # for plots"
   ]
  },
  {
   "cell_type": "code",
   "execution_count": null,
   "metadata": {},
   "outputs": [],
   "source": [
    "library(\"car\")\n",
    "library(\"dplyr\")\n",
    "library(\"tidyr\")\n",
    "require(\"lattice\")\n",
    "require(\"ggplot2\")\n",
    "require(\"ez\")"
   ]
  },
  {
   "cell_type": "markdown",
   "metadata": {},
   "source": [
    "## Settings"
   ]
  },
  {
   "cell_type": "code",
   "execution_count": 3,
   "metadata": {},
   "outputs": [],
   "source": [
    "theme_set(theme_bw(base_size = 15) +\n",
    "            theme(legend.position=\"bottom\",\n",
    "                  panel.grid.major.x = element_blank()))"
   ]
  },
  {
   "cell_type": "code",
   "execution_count": 4,
   "metadata": {},
   "outputs": [],
   "source": [
    "options(width=120)"
   ]
  },
  {
   "cell_type": "markdown",
   "metadata": {},
   "source": [
    "## Handy functions"
   ]
  },
  {
   "cell_type": "markdown",
   "metadata": {},
   "source": [
    "### Logging information BEFORE execution"
   ]
  },
  {
   "cell_type": "code",
   "execution_count": 23,
   "metadata": {},
   "outputs": [],
   "source": [
    "logging0 <- function(ifName,infoStr=\"\"){\n",
    "    t0 <- Sys.time()\n",
    "    s0 <- gsub(\"\\\\s\",\"_\",t0)\n",
    "    s1 <- gsub(\"^.\",\"\",tempfile(\"\",\"\",\"\"))\n",
    "    s2 <- gsub(\"/t1006/\",\"/t1007/\",ifName)\n",
    "    ofName <- paste(paste(s2,\"\",s0,\"\",s1,infoStr,\"_nrow\",nrow(df3),sep=\"_\"),\".RData\",sep=\"\")\n",
    "    lfName = paste(ofName ,\".LOG.txt\" ,sep=\"\" ,collapse = \"\")\n",
    "    log_msg <- toString(paste(\n",
    "        paste(\"logs0\" ,toString(lfName)     ,sep=\": \" ,collapse = \"\")\n",
    "      , paste(\"time0\" ,toString(Sys.time()) ,sep=\": \" ,collapse = \"\")\n",
    "      , paste(\"nrows\" ,toString(nrow(df3))  ,sep=\": \" ,collapse = \"\")\n",
    "      , paste(\"ncols\" ,toString(ncol(df3))  ,sep=\": \" ,collapse = \"\")\n",
    "      , paste(\"vList\" ,toString(ls())       ,sep=\": \" ,collapse = \"\")\n",
    "      , paste(\"oSave\" ,toString(ofName)     ,sep=\": \" ,collapse = \"\")        \n",
    "      , \"\\n\"\n",
    "      , sep=\"\\n\"))\n",
    "    cat(log_msg)\n",
    "    write(paste(log_msg) ,file=lfName ,append=TRUE)\n",
    "    return(list(\"ofName\"=ofName,\"lfName\"=lfName,\"t0\"=t0))\n",
    "}"
   ]
  },
  {
   "cell_type": "markdown",
   "metadata": {},
   "source": [
    "### Logging information AFTER execution"
   ]
  },
  {
   "cell_type": "code",
   "execution_count": 25,
   "metadata": {},
   "outputs": [],
   "source": [
    "logging1 <- function(lfName,t0){\n",
    "    t1 <- Sys.time()\n",
    "    d1 <- t1-t0\n",
    "    log_msg <- toString(paste(\n",
    "        paste(\"time1\" ,toString(Sys.time()) ,sep=\": \" ,collapse = \"\")\n",
    "      , paste(\"diff1\" ,capture.output(d1)   ,sep=\": \" ,collapse = \"\")\n",
    "      , \"\\n\"\n",
    "      , sep=\"\\n\"))\n",
    "    cat(log_msg)\n",
    "    write(paste(log_msg) ,file=lfName ,append=TRUE)\n",
    "    return(list(\"d1\" = d1))\n",
    "}"
   ]
  },
  {
   "cell_type": "markdown",
   "metadata": {},
   "source": [
    "# Data Load"
   ]
  },
  {
   "cell_type": "markdown",
   "metadata": {},
   "source": [
    "Select one of the files (by moving lines around) depending on how much data you want to include in the execution (terminal line containing `ifName` defines the file to be loaded)."
   ]
  },
  {
   "cell_type": "code",
   "execution_count": null,
   "metadata": {},
   "outputs": [],
   "source": [
    "ifName=\"data/t1006/bigDF__df3_subsamp_e3x3p0.RData\""
   ]
  },
  {
   "cell_type": "code",
   "execution_count": null,
   "metadata": {},
   "outputs": [],
   "source": [
    "ifName=\"data/t1006/bigDF__df3_subsamp_e3x6p0.RData\""
   ]
  },
  {
   "cell_type": "code",
   "execution_count": null,
   "metadata": {},
   "outputs": [],
   "source": [
    "ifName=\"data/t1006/bigDF__df3_subsamp_e3x8p0.RData\""
   ]
  },
  {
   "cell_type": "code",
   "execution_count": null,
   "metadata": {},
   "outputs": [],
   "source": [
    "ifName=\"data/t1006/bigDF__df3_subsamp_e2x1p0.RData\""
   ]
  },
  {
   "cell_type": "code",
   "execution_count": null,
   "metadata": {},
   "outputs": [],
   "source": [
    "ifName=\"data/t1006/bigDF__df3_subsamp_e3x1p0.RData\""
   ]
  },
  {
   "cell_type": "code",
   "execution_count": null,
   "metadata": {},
   "outputs": [],
   "source": [
    "ifName=\"data/t1006/bigDF__df3_subsamp_e3x2p0.RData\""
   ]
  },
  {
   "cell_type": "code",
   "execution_count": null,
   "metadata": {},
   "outputs": [],
   "source": [
    "ifName=\"data/t1006/bigDF__df3_subsamp_e3x4p0.RData\""
   ]
  },
  {
   "cell_type": "code",
   "execution_count": null,
   "metadata": {},
   "outputs": [],
   "source": [
    "ifName=\"data/t1006/bigDF__df3_fullset_e6x1p5.RData\""
   ]
  },
  {
   "cell_type": "code",
   "execution_count": null,
   "metadata": {},
   "outputs": [],
   "source": [
    "ifName=\"data/t1006/bigDF__df3_subsamp_e2x5p0.RData\""
   ]
  },
  {
   "cell_type": "code",
   "execution_count": null,
   "metadata": {},
   "outputs": [],
   "source": [
    "ifName=\"data/t1006/bigDF__df3_subsamp_e4x1p0.RData\""
   ]
  },
  {
   "cell_type": "code",
   "execution_count": null,
   "metadata": {},
   "outputs": [],
   "source": [
    "ifName=\"data/t1006/bigDF__df3_fullset_e6x1p5.RData\""
   ]
  },
  {
   "cell_type": "code",
   "execution_count": 37,
   "metadata": {},
   "outputs": [],
   "source": [
    "load(file=ifName)"
   ]
  },
  {
   "cell_type": "code",
   "execution_count": 38,
   "metadata": {},
   "outputs": [
    {
     "name": "stdout",
     "output_type": "stream",
     "text": [
      "'data.frame':\t1505108 obs. of  5 variables:\n",
      " $ CAMP      : Factor w/ 2 levels \"metoo\",\"sexstrike\": 1 1 1 1 1 1 1 1 1 1 ...\n",
      " $ TYPE      : Factor w/ 2 levels \"ctrl\",\"orig\": 2 2 2 2 2 2 2 2 2 2 ...\n",
      " $ ID        : chr  \"919365304114929664\" \"919365304114929664\" \"919366579497734144\" \"919366579497734144\" ...\n",
      " $ MEAS_LEVEL: Factor w/ 2 levels \"vb01Prc\",\"ag01Prc\": 1 2 1 2 1 2 1 2 1 2 ...\n",
      " $ MEAS_VALUE: num  0 0 0 0 0.0526 ...\n"
     ]
    }
   ],
   "source": [
    "str(df3)"
   ]
  },
  {
   "cell_type": "code",
   "execution_count": 39,
   "metadata": {},
   "outputs": [
    {
     "data": {
      "text/plain": [
       "        CAMP           TYPE             ID              MEAS_LEVEL       MEAS_VALUE     \n",
       " metoo    :1352076   ctrl:827952   Length:1505108     vb01Prc:752554   Min.   :0.00000  \n",
       " sexstrike: 153032   orig:677156   Class :character   ag01Prc:752554   1st Qu.:0.00000  \n",
       "                                   Mode  :character                    Median :0.00000  \n",
       "                                                                       Mean   :0.04155  \n",
       "                                                                       3rd Qu.:0.06667  \n",
       "                                                                       Max.   :1.00000  "
      ]
     },
     "metadata": {},
     "output_type": "display_data"
    }
   ],
   "source": [
    "summary(df3)"
   ]
  },
  {
   "cell_type": "markdown",
   "metadata": {},
   "source": [
    "# Model definition"
   ]
  },
  {
   "cell_type": "markdown",
   "metadata": {},
   "source": [
    "| variable/factor type        | variable name | symbol |\n",
    "|:----------------------------|:--------------|--------|\n",
    "| observation unit (tweet_id) | ID            | u1     |\n",
    "| outcome (dependent)         | MEAS_VALUE    | d1     |\n",
    "| between tweet               | CAMP          | b1     |\n",
    "| between tweet               | TYPE          | b2     |\n",
    "| within tweet                | MEAS_LEVEL    | w1     |"
   ]
  },
  {
   "cell_type": "code",
   "execution_count": null,
   "metadata": {},
   "outputs": [],
   "source": [
    "FORMULA <- MEAS_VALUE~CAMP*TYPE*MEAS_LEVEL+(MEAS_LEVEL||ID)"
   ]
  },
  {
   "cell_type": "code",
   "execution_count": 40,
   "metadata": {},
   "outputs": [],
   "source": [
    "FORMULA <- MEAS_VALUE~CAMP*TYPE*MEAS_LEVEL+(1|ID)"
   ]
  },
  {
   "cell_type": "code",
   "execution_count": null,
   "metadata": {},
   "outputs": [],
   "source": [
    "CONTROL <- lmerControl(optCtrl=list(maxfun=1e7))"
   ]
  },
  {
   "cell_type": "code",
   "execution_count": 41,
   "metadata": {},
   "outputs": [],
   "source": [
    "CONTROL <- lmerControl(optCtrl=list(maxfun=1e6))"
   ]
  },
  {
   "cell_type": "code",
   "execution_count": null,
   "metadata": {},
   "outputs": [],
   "source": [
    "METHOD <- \"LRT\" # calculates p-vals via the likelihood ratio tests (use if random factors have > 50 levels)"
   ]
  },
  {
   "cell_type": "code",
   "execution_count": null,
   "metadata": {},
   "outputs": [],
   "source": [
    "METHOD <- \"KR\"  # Kenward-Roger approximation for degrees of freedom"
   ]
  },
  {
   "cell_type": "code",
   "execution_count": 52,
   "metadata": {},
   "outputs": [],
   "source": [
    "METHOD <- \"S\"   # Satterthwaite approximation for degrees of freedom"
   ]
  },
  {
   "cell_type": "code",
   "execution_count": 43,
   "metadata": {},
   "outputs": [
    {
     "name": "stdout",
     "output_type": "stream",
     "text": [
      "logs0: data/t1007/bigDF__df3_fullset_e6x1p5.RData__2020-09-30_01:52:47__e953dd3b8f1__AFEX_MIXED_formula0__nrow_1505108.RData.LOG.txt\n",
      "time0: 2020-09-30 01:52:47\n",
      "nrows: 1505108\n",
      "ncols: 5\n",
      "vList: ifName, infoStr, lfName, ofName, s0, s1, s2, t0\n",
      "oSave: data/t1007/bigDF__df3_fullset_e6x1p5.RData__2020-09-30_01:52:47__e953dd3b8f1__AFEX_MIXED_formula0__nrow_1505108.RData\n",
      "\n"
     ]
    },
    {
     "name": "stderr",
     "output_type": "stream",
     "text": [
      "Contrasts set to contr.sum for the following variables: CAMP, TYPE, MEAS_LEVEL, ID\n",
      "\n"
     ]
    },
    {
     "name": "stdout",
     "output_type": "stream",
     "text": [
      "Fitting one lmer() model. [DONE]\n",
      "Calculating p-values. [DONE]\n",
      "time1: 2020-09-30 01:55:06\n",
      "diff1: Time difference of 2.304855 mins\n",
      "\n"
     ]
    }
   ],
   "source": [
    "log0 <- logging0(ifName,infoStr=\"_AFEX_MIXED_formula0\")\n",
    "m0.0 <- mixed(\n",
    "    formula   = FORMULA,\n",
    "    data      = df3,\n",
    "    control   = CONTROL,\n",
    "    method    = METHOD,\n",
    "    expand_re = TRUE\n",
    ")\n",
    "save(m0.0,file=log0$ofName)\n",
    "log1 <- logging1(log0$lfName,log0$t0)"
   ]
  },
  {
   "cell_type": "code",
   "execution_count": 44,
   "metadata": {},
   "outputs": [
    {
     "data": {
      "text/plain": [
       "Mixed Model Anova Table (Type 3 tests, S-method)\n",
       "\n",
       "Model: MEAS_VALUE ~ CAMP * TYPE * MEAS_LEVEL + (1 | ID)\n",
       "Data: df3\n",
       "                Effect           df           F p.value\n",
       "1                 CAMP 1, 752550.48 1231.90 ***   <.001\n",
       "2                 TYPE 1, 752550.48   70.57 ***   <.001\n",
       "3           MEAS_LEVEL 1, 752549.90 1208.29 ***   <.001\n",
       "4            CAMP:TYPE 1, 752550.48  359.91 ***   <.001\n",
       "5      CAMP:MEAS_LEVEL 1, 752549.90   37.90 ***   <.001\n",
       "6      TYPE:MEAS_LEVEL 1, 752549.90        1.25    .263\n",
       "7 CAMP:TYPE:MEAS_LEVEL 1, 752549.90   54.89 ***   <.001\n",
       "---\n",
       "Signif. codes:  0 ‘***’ 0.001 ‘**’ 0.01 ‘*’ 0.05 ‘+’ 0.1 ‘ ’ 1"
      ]
     },
     "metadata": {},
     "output_type": "display_data"
    }
   ],
   "source": [
    "m0.0"
   ]
  },
  {
   "cell_type": "markdown",
   "metadata": {},
   "source": [
    "# Inspect"
   ]
  },
  {
   "cell_type": "code",
   "execution_count": 61,
   "metadata": {},
   "outputs": [
    {
     "data": {
      "text/plain": [
       "Mixed Model Anova Table (Type 3 tests, S-method)\n",
       "\n",
       "Model: MEAS_VALUE ~ CAMP * TYPE * MEAS_LEVEL + (1 | ID)\n",
       "Data: df3\n",
       "                Effect           df           F p.value\n",
       "1                 CAMP 1, 752550.48 1231.90 ***   <.001\n",
       "2                 TYPE 1, 752550.48   70.57 ***   <.001\n",
       "3           MEAS_LEVEL 1, 752549.90 1208.29 ***   <.001\n",
       "4            CAMP:TYPE 1, 752550.48  359.91 ***   <.001\n",
       "5      CAMP:MEAS_LEVEL 1, 752549.90   37.90 ***   <.001\n",
       "6      TYPE:MEAS_LEVEL 1, 752549.90        1.25    .263\n",
       "7 CAMP:TYPE:MEAS_LEVEL 1, 752549.90   54.89 ***   <.001\n",
       "---\n",
       "Signif. codes:  0 ‘***’ 0.001 ‘**’ 0.01 ‘*’ 0.05 ‘+’ 0.1 ‘ ’ 1"
      ]
     },
     "metadata": {},
     "output_type": "display_data"
    }
   ],
   "source": [
    "m0 <- m0.0\n",
    "m0"
   ]
  },
  {
   "cell_type": "code",
   "execution_count": 54,
   "metadata": {},
   "outputs": [
    {
     "name": "stderr",
     "output_type": "stream",
     "text": [
      "Warning message:\n",
      "“lme4 reported (at least) the following warnings for 'full':\n",
      "  * Model failed to converge with max|grad| = 0.00236551 (tol = 0.002, component 1)”\n"
     ]
    },
    {
     "data": {
      "text/plain": [
       "Mixed Model Anova Table (Type 3 tests, S-method)\n",
       "\n",
       "Model: MEAS_VALUE ~ CAMP * TYPE * MEAS_LEVEL + (MEAS_LEVEL || ID)\n",
       "Data: df3\n",
       "                Effect           df           F p.value\n",
       "1                 CAMP 1, 752550.58 1231.90 ***   <.001\n",
       "2                 TYPE 1, 752550.58   70.57 ***   <.001\n",
       "3           MEAS_LEVEL 1, 752549.55 1208.29 ***   <.001\n",
       "4            CAMP:TYPE 1, 752550.58  359.91 ***   <.001\n",
       "5      CAMP:MEAS_LEVEL 1, 752549.55   37.90 ***   <.001\n",
       "6      TYPE:MEAS_LEVEL 1, 752549.55        1.25    .263\n",
       "7 CAMP:TYPE:MEAS_LEVEL 1, 752549.55   54.89 ***   <.001\n",
       "---\n",
       "Signif. codes:  0 ‘***’ 0.001 ‘**’ 0.01 ‘*’ 0.05 ‘+’ 0.1 ‘ ’ 1"
      ]
     },
     "metadata": {},
     "output_type": "display_data"
    }
   ],
   "source": [
    "m0 <- m0.1\n",
    "m0"
   ]
  },
  {
   "cell_type": "code",
   "execution_count": 62,
   "metadata": {},
   "outputs": [
    {
     "data": {
      "text/plain": [
       " Groups   Name        Std.Dev.\n",
       " ID       (Intercept) 0.035764\n",
       " Residual             0.059575"
      ]
     },
     "metadata": {},
     "output_type": "display_data"
    }
   ],
   "source": [
    "summary(m0)$varcor"
   ]
  },
  {
   "cell_type": "code",
   "execution_count": 63,
   "metadata": {},
   "outputs": [
    {
     "name": "stderr",
     "output_type": "stream",
     "text": [
      "Note: D.f. calculations have been disabled because the number of observations exceeds 3000.\n",
      "To enable adjustments, add the argument 'pbkrtest.limit = 1505108' (or larger)\n",
      "[or, globally, 'set emm_options(pbkrtest.limit = 1505108)' or larger];\n",
      "but be warned that this may result in large computation time and memory use.\n",
      "\n",
      "Note: D.f. calculations have been disabled because the number of observations exceeds 3000.\n",
      "To enable adjustments, add the argument 'lmerTest.limit = 1505108' (or larger)\n",
      "[or, globally, 'set emm_options(lmerTest.limit = 1505108)' or larger];\n",
      "but be warned that this may result in large computation time and memory use.\n",
      "\n"
     ]
    },
    {
     "data": {
      "text/plain": [
       " CAMP      TYPE MEAS_LEVEL  emmean        SE  df asymp.LCL asymp.UCL\n",
       " metoo     ctrl vb01Prc    0.04612 0.0001143 Inf   0.04590   0.04635\n",
       " sexstrike ctrl vb01Prc    0.04977 0.0003296 Inf   0.04912   0.05041\n",
       " metoo     orig vb01Prc    0.04167 0.0001255 Inf   0.04142   0.04191\n",
       " sexstrike orig vb01Prc    0.05100 0.0003880 Inf   0.05024   0.05176\n",
       " metoo     ctrl ag01Prc    0.04085 0.0001143 Inf   0.04063   0.04108\n",
       " sexstrike ctrl ag01Prc    0.04409 0.0003296 Inf   0.04344   0.04474\n",
       " metoo     orig ag01Prc    0.03362 0.0001255 Inf   0.03338   0.03387\n",
       " sexstrike orig ag01Prc    0.04737 0.0003880 Inf   0.04661   0.04813\n",
       "\n",
       "Degrees-of-freedom method: asymptotic \n",
       "Confidence level used: 0.95 "
      ]
     },
     "metadata": {},
     "output_type": "display_data"
    }
   ],
   "source": [
    "m3.0 <- emmeans(m0, c(\"CAMP\", \"TYPE\", \"MEAS_LEVEL\"))\n",
    "m3.0"
   ]
  },
  {
   "cell_type": "code",
   "execution_count": 64,
   "metadata": {},
   "outputs": [
    {
     "data": {
      "text/plain": [
       " contrast                                         estimate       SE  df z.ratio p.value\n",
       " metoo ctrl vb01Prc - sexstrike ctrl vb01Prc     -0.003645 0.000349 Inf -10.450 <.0001 \n",
       " metoo ctrl vb01Prc - metoo orig vb01Prc          0.004454 0.000170 Inf  26.237 <.0001 \n",
       " metoo ctrl vb01Prc - sexstrike orig vb01Prc     -0.004878 0.000405 Inf -12.058 <.0001 \n",
       " metoo ctrl vb01Prc - metoo ctrl ag01Prc          0.005269 0.000139 Inf  38.017 <.0001 \n",
       " metoo ctrl vb01Prc - sexstrike ctrl ag01Prc      0.002031 0.000349 Inf   5.823 <.0001 \n",
       " metoo ctrl vb01Prc - metoo orig ag01Prc          0.012497 0.000170 Inf  73.618 <.0001 \n",
       " metoo ctrl vb01Prc - sexstrike orig ag01Prc     -0.001248 0.000405 Inf  -3.084 0.0427 \n",
       " sexstrike ctrl vb01Prc - metoo orig vb01Prc      0.008099 0.000353 Inf  22.965 <.0001 \n",
       " sexstrike ctrl vb01Prc - sexstrike orig vb01Prc -0.001232 0.000509 Inf  -2.421 0.2310 \n",
       " sexstrike ctrl vb01Prc - metoo ctrl ag01Prc      0.008914 0.000349 Inf  25.554 <.0001 \n",
       " sexstrike ctrl vb01Prc - sexstrike ctrl ag01Prc  0.005677 0.000400 Inf  14.205 <.0001 \n",
       " sexstrike ctrl vb01Prc - metoo orig ag01Prc      0.016143 0.000353 Inf  45.772 <.0001 \n",
       " sexstrike ctrl vb01Prc - sexstrike orig ag01Prc  0.002398 0.000509 Inf   4.709 0.0001 \n",
       " metoo orig vb01Prc - sexstrike orig vb01Prc     -0.009332 0.000408 Inf -22.882 <.0001 \n",
       " metoo orig vb01Prc - metoo ctrl ag01Prc          0.000815 0.000170 Inf   4.801 <.0001 \n",
       " metoo orig vb01Prc - sexstrike ctrl ag01Prc     -0.002423 0.000353 Inf  -6.870 <.0001 \n",
       " metoo orig vb01Prc - metoo orig ag01Prc          0.008043 0.000152 Inf  52.854 <.0001 \n",
       " metoo orig vb01Prc - sexstrike orig ag01Prc     -0.005702 0.000408 Inf -13.981 <.0001 \n",
       " sexstrike orig vb01Prc - metoo ctrl ag01Prc      0.010147 0.000405 Inf  25.084 <.0001 \n",
       " sexstrike orig vb01Prc - sexstrike ctrl ag01Prc  0.006909 0.000509 Inf  13.571 <.0001 \n",
       " sexstrike orig vb01Prc - metoo orig ag01Prc      0.017375 0.000408 Inf  42.604 <.0001 \n",
       " sexstrike orig vb01Prc - sexstrike orig ag01Prc  0.003630 0.000470 Inf   7.716 <.0001 \n",
       " metoo ctrl ag01Prc - sexstrike ctrl ag01Prc     -0.003238 0.000349 Inf  -9.281 <.0001 \n",
       " metoo ctrl ag01Prc - metoo orig ag01Prc          0.007228 0.000170 Inf  42.580 <.0001 \n",
       " metoo ctrl ag01Prc - sexstrike orig ag01Prc     -0.006517 0.000405 Inf -16.110 <.0001 \n",
       " sexstrike ctrl ag01Prc - metoo orig ag01Prc      0.010466 0.000353 Inf  29.677 <.0001 \n",
       " sexstrike ctrl ag01Prc - sexstrike orig ag01Prc -0.003279 0.000509 Inf  -6.441 <.0001 \n",
       " metoo orig ag01Prc - sexstrike orig ag01Prc     -0.013745 0.000408 Inf -33.703 <.0001 \n",
       "\n",
       "Degrees-of-freedom method: asymptotic \n",
       "P value adjustment: tukey method for comparing a family of 8 estimates "
      ]
     },
     "metadata": {},
     "output_type": "display_data"
    }
   ],
   "source": [
    "pairs(m3.0)"
   ]
  },
  {
   "cell_type": "code",
   "execution_count": 65,
   "metadata": {},
   "outputs": [
    {
     "name": "stderr",
     "output_type": "stream",
     "text": [
      "Warning message in tmp$pfunction(\"adjusted\", ...):\n",
      "“Completion with error > abseps”\n",
      "Warning message in tmp$pfunction(\"adjusted\", ...):\n",
      "“Completion with error > abseps”\n",
      "Warning message in tmp$pfunction(\"adjusted\", ...):\n",
      "“Completion with error > abseps”\n",
      "Warning message in tmp$pfunction(\"adjusted\", ...):\n",
      "“Completion with error > abseps”\n",
      "Warning message in tmp$pfunction(\"adjusted\", ...):\n",
      "“Completion with error > abseps”\n",
      "Warning message in tmp$pfunction(\"adjusted\", ...):\n",
      "“Completion with error > abseps”\n",
      "Warning message in tmp$pfunction(\"adjusted\", ...):\n",
      "“Completion with error > abseps”\n",
      "Warning message in tmp$pfunction(\"adjusted\", ...):\n",
      "“Completion with error > abseps”\n",
      "Warning message in tmp$pfunction(\"adjusted\", ...):\n",
      "“Completion with error > abseps”\n",
      "Warning message in tmp$pfunction(\"adjusted\", ...):\n",
      "“Completion with error > abseps”\n",
      "Warning message in tmp$pfunction(\"adjusted\", ...):\n",
      "“Completion with error > abseps”\n",
      "Warning message in tmp$pfunction(\"adjusted\", ...):\n",
      "“Completion with error > abseps”\n",
      "Warning message in tmp$pfunction(\"adjusted\", ...):\n",
      "“Completion with error > abseps”\n",
      "Warning message in tmp$pfunction(\"adjusted\", ...):\n",
      "“Completion with error > abseps”\n",
      "Warning message in tmp$pfunction(\"adjusted\", ...):\n",
      "“Completion with error > abseps”\n",
      "Warning message in tmp$pfunction(\"adjusted\", ...):\n",
      "“Completion with error > abseps”\n"
     ]
    },
    {
     "data": {
      "text/plain": [
       "\n",
       "\t Simultaneous Tests for General Linear Hypotheses\n",
       "\n",
       "Linear Hypotheses:\n",
       "                                                       Estimate Std. Error z value Pr(>|z|)    \n",
       "metoo ctrl vb01Prc - sexstrike ctrl vb01Prc == 0     -0.0036452  0.0003488 -10.450  < 2e-16 ***\n",
       "metoo ctrl vb01Prc - metoo orig vb01Prc == 0          0.0044540  0.0001698  26.237  < 2e-16 ***\n",
       "metoo ctrl vb01Prc - sexstrike orig vb01Prc == 0     -0.0048777  0.0004045 -12.058  < 2e-16 ***\n",
       "metoo ctrl vb01Prc - metoo ctrl ag01Prc == 0          0.0052691  0.0001386  38.017  < 2e-16 ***\n",
       "metoo ctrl vb01Prc - sexstrike ctrl ag01Prc == 0      0.0020313  0.0003488   5.823 2.11e-08 ***\n",
       "metoo ctrl vb01Prc - metoo orig ag01Prc == 0          0.0124974  0.0001698  73.618  < 2e-16 ***\n",
       "metoo ctrl vb01Prc - sexstrike orig ag01Prc == 0     -0.0012476  0.0004045  -3.084  0.00407 ** \n",
       "sexstrike ctrl vb01Prc - metoo orig vb01Prc == 0      0.0080992  0.0003527  22.965  < 2e-16 ***\n",
       "sexstrike ctrl vb01Prc - sexstrike orig vb01Prc == 0 -0.0012325  0.0005091  -2.421  0.01548 *  \n",
       "sexstrike ctrl vb01Prc - metoo ctrl ag01Prc == 0      0.0089143  0.0003488  25.554  < 2e-16 ***\n",
       "sexstrike ctrl vb01Prc - sexstrike ctrl ag01Prc == 0  0.0056766  0.0003996  14.205  < 2e-16 ***\n",
       "sexstrike ctrl vb01Prc - metoo orig ag01Prc == 0      0.0161427  0.0003527  45.772  < 2e-16 ***\n",
       "sexstrike ctrl vb01Prc - sexstrike orig ag01Prc == 0  0.0023976  0.0005091   4.709 9.35e-06 ***\n",
       "metoo orig vb01Prc - sexstrike orig vb01Prc == 0     -0.0093317  0.0004078 -22.882  < 2e-16 ***\n",
       "metoo orig vb01Prc - metoo ctrl ag01Prc == 0          0.0008151  0.0001698   4.801 4.32e-06 ***\n",
       "metoo orig vb01Prc - sexstrike ctrl ag01Prc == 0     -0.0024227  0.0003527  -6.870 2.06e-11 ***\n",
       "metoo orig vb01Prc - metoo orig ag01Prc == 0          0.0080434  0.0001522  52.854  < 2e-16 ***\n",
       "metoo orig vb01Prc - sexstrike orig ag01Prc == 0     -0.0057016  0.0004078 -13.981  < 2e-16 ***\n",
       "sexstrike orig vb01Prc - metoo ctrl ag01Prc == 0      0.0101468  0.0004045  25.084  < 2e-16 ***\n",
       "sexstrike orig vb01Prc - sexstrike ctrl ag01Prc == 0  0.0069090  0.0005091  13.571  < 2e-16 ***\n",
       "sexstrike orig vb01Prc - metoo orig ag01Prc == 0      0.0173751  0.0004078  42.604  < 2e-16 ***\n",
       "sexstrike orig vb01Prc - sexstrike orig ag01Prc == 0  0.0036301  0.0004705   7.716 4.43e-14 ***\n",
       "metoo ctrl ag01Prc - sexstrike ctrl ag01Prc == 0     -0.0032378  0.0003488  -9.281  < 2e-16 ***\n",
       "metoo ctrl ag01Prc - metoo orig ag01Prc == 0          0.0072283  0.0001698  42.580  < 2e-16 ***\n",
       "metoo ctrl ag01Prc - sexstrike orig ag01Prc == 0     -0.0065167  0.0004045 -16.110  < 2e-16 ***\n",
       "sexstrike ctrl ag01Prc - metoo orig ag01Prc == 0      0.0104661  0.0003527  29.677  < 2e-16 ***\n",
       "sexstrike ctrl ag01Prc - sexstrike orig ag01Prc == 0 -0.0032789  0.0005091  -6.441 1.05e-09 ***\n",
       "metoo orig ag01Prc - sexstrike orig ag01Prc == 0     -0.0137450  0.0004078 -33.703  < 2e-16 ***\n",
       "---\n",
       "Signif. codes:  0 ‘***’ 0.001 ‘**’ 0.01 ‘*’ 0.05 ‘.’ 0.1 ‘ ’ 1\n",
       "(Adjusted p values reported -- free method)\n"
      ]
     },
     "metadata": {},
     "output_type": "display_data"
    }
   ],
   "source": [
    "summary(as.glht(pairs(m3.0)), test=adjusted(\"free\"))"
   ]
  },
  {
   "cell_type": "code",
   "execution_count": 66,
   "metadata": {},
   "outputs": [
    {
     "name": "stderr",
     "output_type": "stream",
     "text": [
      "Note: D.f. calculations have been disabled because the number of observations exceeds 3000.\n",
      "To enable adjustments, add the argument 'pbkrtest.limit = 1505108' (or larger)\n",
      "[or, globally, 'set emm_options(pbkrtest.limit = 1505108)' or larger];\n",
      "but be warned that this may result in large computation time and memory use.\n",
      "\n",
      "Note: D.f. calculations have been disabled because the number of observations exceeds 3000.\n",
      "To enable adjustments, add the argument 'lmerTest.limit = 1505108' (or larger)\n",
      "[or, globally, 'set emm_options(lmerTest.limit = 1505108)' or larger];\n",
      "but be warned that this may result in large computation time and memory use.\n",
      "\n",
      "NOTE: Results may be misleading due to involvement in interactions\n",
      "\n"
     ]
    },
    {
     "data": {
      "text/plain": [
       " CAMP      TYPE  emmean        SE  df asymp.LCL asymp.UCL\n",
       " metoo     ctrl 0.04349 9.091e-05 Inf   0.04331   0.04367\n",
       " sexstrike ctrl 0.04693 2.621e-04 Inf   0.04642   0.04744\n",
       " metoo     orig 0.03765 9.981e-05 Inf   0.03745   0.03784\n",
       " sexstrike orig 0.04918 3.086e-04 Inf   0.04858   0.04979\n",
       "\n",
       "Results are averaged over the levels of: MEAS_LEVEL \n",
       "Degrees-of-freedom method: asymptotic \n",
       "Confidence level used: 0.95 "
      ]
     },
     "metadata": {},
     "output_type": "display_data"
    },
    {
     "data": {
      "text/plain": [
       " contrast                        estimate       SE  df z.ratio p.value\n",
       " metoo ctrl - sexstrike ctrl     -0.00344 0.000277 Inf -12.405 <.0001 \n",
       " metoo ctrl - metoo orig          0.00584 0.000135 Inf  43.266 <.0001 \n",
       " metoo ctrl - sexstrike orig     -0.00570 0.000322 Inf -17.710 <.0001 \n",
       " sexstrike ctrl - metoo orig      0.00928 0.000280 Inf  33.097 <.0001 \n",
       " sexstrike ctrl - sexstrike orig -0.00226 0.000405 Inf  -5.571 <.0001 \n",
       " metoo orig - sexstrike orig     -0.01154 0.000324 Inf -35.576 <.0001 \n",
       "\n",
       "Results are averaged over the levels of: MEAS_LEVEL \n",
       "Degrees-of-freedom method: asymptotic \n",
       "P value adjustment: tukey method for comparing a family of 4 estimates "
      ]
     },
     "metadata": {},
     "output_type": "display_data"
    },
    {
     "data": {
      "text/plain": [
       "\n",
       "\t Simultaneous Tests for General Linear Hypotheses\n",
       "\n",
       "Linear Hypotheses:\n",
       "                                       Estimate Std. Error z value Pr(>|z|)    \n",
       "metoo ctrl - sexstrike ctrl == 0     -0.0034415  0.0002774 -12.405  < 2e-16 ***\n",
       "metoo ctrl - metoo orig == 0          0.0058412  0.0001350  43.266  < 2e-16 ***\n",
       "metoo ctrl - sexstrike orig == 0     -0.0056972  0.0003217 -17.710  < 2e-16 ***\n",
       "sexstrike ctrl - metoo orig == 0      0.0092827  0.0002805  33.097  < 2e-16 ***\n",
       "sexstrike ctrl - sexstrike orig == 0 -0.0022557  0.0004049  -5.571 2.53e-08 ***\n",
       "metoo orig - sexstrike orig == 0     -0.0115384  0.0003243 -35.576  < 2e-16 ***\n",
       "---\n",
       "Signif. codes:  0 ‘***’ 0.001 ‘**’ 0.01 ‘*’ 0.05 ‘.’ 0.1 ‘ ’ 1\n",
       "(Adjusted p values reported -- free method)\n"
      ]
     },
     "metadata": {},
     "output_type": "display_data"
    }
   ],
   "source": [
    "m2.0 <- emmeans(m0,c(\"CAMP\",\"TYPE\"))\n",
    "m2.0\n",
    "pairs(m2.0)\n",
    "summary(as.glht(pairs(m2.0)),test=adjusted(\"free\"))\n"
   ]
  },
  {
   "cell_type": "markdown",
   "metadata": {},
   "source": [
    "# Experimantal stuff"
   ]
  },
  {
   "cell_type": "markdown",
   "metadata": {},
   "source": [
    "## Formula 1"
   ]
  },
  {
   "cell_type": "code",
   "execution_count": 45,
   "metadata": {},
   "outputs": [],
   "source": [
    "FORMULA <- MEAS_VALUE~CAMP*TYPE*MEAS_LEVEL+(MEAS_LEVEL||ID)"
   ]
  },
  {
   "cell_type": "code",
   "execution_count": 46,
   "metadata": {},
   "outputs": [
    {
     "name": "stdout",
     "output_type": "stream",
     "text": [
      "logs0: data/t1007/bigDF__df3_fullset_e6x1p5.RData__2020-09-30_01:55:06__e9570bb90ec__AFEX_MIXED_formula1__nrow_1505108.RData.LOG.txt\n",
      "time0: 2020-09-30 01:55:06\n",
      "nrows: 1505108\n",
      "ncols: 5\n",
      "vList: ifName, infoStr, lfName, ofName, s0, s1, s2, t0\n",
      "oSave: data/t1007/bigDF__df3_fullset_e6x1p5.RData__2020-09-30_01:55:06__e9570bb90ec__AFEX_MIXED_formula1__nrow_1505108.RData\n",
      "\n"
     ]
    },
    {
     "name": "stderr",
     "output_type": "stream",
     "text": [
      "Contrasts set to contr.sum for the following variables: CAMP, TYPE, MEAS_LEVEL, ID\n",
      "\n"
     ]
    },
    {
     "name": "stdout",
     "output_type": "stream",
     "text": [
      "Fitting one lmer() model. "
     ]
    },
    {
     "name": "stderr",
     "output_type": "stream",
     "text": [
      "Warning message in checkConv(attr(opt, \"derivs\"), opt$par, ctrl = control$checkConv, :\n",
      "“Model failed to converge with max|grad| = 0.00236551 (tol = 0.002, component 1)”\n"
     ]
    },
    {
     "name": "stdout",
     "output_type": "stream",
     "text": [
      "[DONE]\n",
      "Calculating p-values. [DONE]\n",
      "time1: 2020-09-30 01:58:42\n",
      "diff1: Time difference of 3.595648 mins\n",
      "\n"
     ]
    }
   ],
   "source": [
    "log0 <- logging0(ifName,infoStr=\"_AFEX_MIXED_formula1\")\n",
    "m0.1 <- mixed(\n",
    "    formula   = FORMULA,\n",
    "    data      = df3,\n",
    "    control   = CONTROL,\n",
    "    method    = METHOD,\n",
    "    expand_re = TRUE\n",
    ")\n",
    "save(m0.1,file=log0$ofName)\n",
    "log1 <- logging1(log0$lfName,log0$t0)"
   ]
  },
  {
   "cell_type": "code",
   "execution_count": 47,
   "metadata": {},
   "outputs": [
    {
     "name": "stderr",
     "output_type": "stream",
     "text": [
      "Warning message:\n",
      "“lme4 reported (at least) the following warnings for 'full':\n",
      "  * Model failed to converge with max|grad| = 0.00236551 (tol = 0.002, component 1)”\n"
     ]
    },
    {
     "data": {
      "text/plain": [
       "Mixed Model Anova Table (Type 3 tests, S-method)\n",
       "\n",
       "Model: MEAS_VALUE ~ CAMP * TYPE * MEAS_LEVEL + (MEAS_LEVEL || ID)\n",
       "Data: df3\n",
       "                Effect           df           F p.value\n",
       "1                 CAMP 1, 752550.58 1231.90 ***   <.001\n",
       "2                 TYPE 1, 752550.58   70.57 ***   <.001\n",
       "3           MEAS_LEVEL 1, 752549.55 1208.29 ***   <.001\n",
       "4            CAMP:TYPE 1, 752550.58  359.91 ***   <.001\n",
       "5      CAMP:MEAS_LEVEL 1, 752549.55   37.90 ***   <.001\n",
       "6      TYPE:MEAS_LEVEL 1, 752549.55        1.25    .263\n",
       "7 CAMP:TYPE:MEAS_LEVEL 1, 752549.55   54.89 ***   <.001\n",
       "---\n",
       "Signif. codes:  0 ‘***’ 0.001 ‘**’ 0.01 ‘*’ 0.05 ‘+’ 0.1 ‘ ’ 1"
      ]
     },
     "metadata": {},
     "output_type": "display_data"
    }
   ],
   "source": [
    "m0.1"
   ]
  },
  {
   "cell_type": "code",
   "execution_count": null,
   "metadata": {},
   "outputs": [],
   "source": []
  },
  {
   "cell_type": "markdown",
   "metadata": {},
   "source": [
    "# Helpers"
   ]
  },
  {
   "cell_type": "code",
   "execution_count": null,
   "metadata": {},
   "outputs": [],
   "source": [
    "?mixed"
   ]
  }
 ],
 "metadata": {
  "kernelspec": {
   "display_name": "R",
   "language": "R",
   "name": "ir"
  },
  "language_info": {
   "codemirror_mode": "r",
   "file_extension": ".r",
   "mimetype": "text/x-r-source",
   "name": "R",
   "pygments_lexer": "r",
   "version": "3.6.3"
  }
 },
 "nbformat": 4,
 "nbformat_minor": 4
}
